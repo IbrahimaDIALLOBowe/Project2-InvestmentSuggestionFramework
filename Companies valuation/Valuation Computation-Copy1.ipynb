{
 "cells": [
  {
   "cell_type": "code",
   "execution_count": 5,
   "metadata": {
    "colab": {
     "base_uri": "https://localhost:8080/"
    },
    "id": "Td8mN2cD64Op",
    "outputId": "5a7ddf68-2563-4752-e1e5-c7d227665426"
   },
   "outputs": [
    {
     "name": "stdout",
     "output_type": "stream",
     "text": [
      "['AAPL', 'MSFT', 'MSF.BR', 'TSM', 'NVDA', 'INCO.BR', 'INTC', 'ASML', 'ADBE', 'CRM', 'CIS.BR', 'CSCO', 'ASML.AS', 'ORCL', 'SHOP.TO', 'AVGO', 'QCOM', 'ACN', 'TXN', 'SAP', 'SHOP', 'SNE', 'IBMA.BR', 'IBM', 'AMD', 'SQ', 'INTU', 'NOW']\n"
     ]
    }
   ],
   "source": [
    "import requests \n",
    "import pandas as pd\n",
    "\n",
    "import requests\n",
    "\n",
    "demo= '31853220bc5708a36155ca7f0481a5e0'\n",
    "\n",
    "companies = requests.get(f'https://fmpcloud.io/api/v3/stock-screener?sector=technology&marketCapMoreThan=100000000000&limit=100&apikey={demo}')\n",
    "companies = companies.json()\n",
    "technological_companies = []\n",
    "\n",
    "for item in companies:\n",
    "  technological_companies.append(item['symbol'])\n",
    "\n",
    "print(technological_companies)"
   ]
  },
  {
   "cell_type": "code",
   "execution_count": null,
   "metadata": {
    "id": "gDibpT3UABWD"
   },
   "outputs": [],
   "source": []
  },
  {
   "cell_type": "code",
   "execution_count": 6,
   "metadata": {
    "colab": {
     "base_uri": "https://localhost:8080/"
    },
    "id": "SqnG9SuKi2WV",
    "outputId": "49e44e75-9e4f-4e87-bdc4-760228dbaa2a"
   },
   "outputs": [
    {
     "name": "stdout",
     "output_type": "stream",
     "text": [
      "{'AAPL': {'revenue': 274515000000, 'Gross_Profit_ratio': 0.382332477278109, 'price_to_sales': 7.9922556606505255, 'Market_Capit': 2193994062683.479}, 'MSFT': {'revenue': 143015000000, 'Gross_Profit_ratio': 0.6778100199279796, 'price_to_sales': 11.355508192693074, 'Market_Capit': 1624008004178}, 'TSM': {'revenue': 1069988800000, 'Gross_Profit_ratio': 0.46047388533412686, 'price_to_sales': 0.6069711318830889, 'Market_Capit': 649452313038.228}, 'NVDA': {'revenue': 10918000000, 'Gross_Profit_ratio': 0.619894, 'price_to_sales': 29.49275353819381, 'Market_Capit': 322001883130}, 'INTC': {'revenue': 71965000000, 'Gross_Profit_ratio': 0.5855624261793928, 'price_to_sales': 3.4156746826651845, 'Market_Capit': 245809028538}, 'ADBE': {'revenue': 12868000000, 'Gross_Profit_ratio': 0.8661796705004663, 'price_to_sales': 17.26521554981349, 'Market_Capit': 222168793695}, 'CRM': {'revenue': 17098000000, 'Gross_Profit_ratio': 0.752310211720669, 'price_to_sales': 11.705372503275237, 'Market_Capit': 200138459061}, 'CSCO': {'revenue': 49301000000, 'Gross_Profit_ratio': 0.642644, 'price_to_sales': 3.9089280136305553, 'Market_Capit': 192714060000}, 'ASML.AS': {'revenue': 11820000000, 'Gross_Profit_ratio': 0.44668358714043993, 'price_to_sales': 15.45755689637902, 'Market_Capit': 182708322515.2}, 'ORCL': {'revenue': 39068000000, 'Gross_Profit_ratio': 0.7968158083341865, 'price_to_sales': 4.913239912281151, 'Market_Capit': 191950456893}, 'AVGO': {'revenue': 23888000000, 'Gross_Profit_ratio': 0.5658070997990623, 'price_to_sales': 7.876285270093771, 'Market_Capit': 188148702532}, 'QCOM': {'revenue': 23531000000, 'Gross_Profit_ratio': 0.606689048489227, 'price_to_sales': 7.603820723471167, 'Market_Capit': 178925505444.00003}, 'ACN': {'revenue': 44327039000, 'Gross_Profit_ratio': 0.315296, 'price_to_sales': 3.7072527965221442, 'Market_Capit': 164331539294.29614}, 'TXN': {'revenue': 14383000000, 'Gross_Profit_ratio': 0.6371410693179448, 'price_to_sales': 10.928006108461378, 'Market_Capit': 157177511858}, 'SAP': {'revenue': 27553000000, 'Gross_Profit_ratio': 0.6968025260407216, 'price_to_sales': 5.353319057815845, 'Market_Capit': 147500000000}, 'SHOP': {'revenue': 1578173000, 'Gross_Profit_ratio': 0.548509574045431, 'price_to_sales': 92.63964704680026, 'Market_Capit': 146201389698.78992}, 'SNE': {'revenue': 8665687000000, 'Gross_Profit_ratio': 0.2772418389909536, 'price_to_sales': 0.014716045386694328, 'Market_Capit': 127524643198.88701}, 'IBM': {'revenue': 77147000000, 'Gross_Profit_ratio': 0.47296719250262487, 'price_to_sales': 1.493309475452059, 'Market_Capit': 115204346102.7}, 'AMD': {'revenue': 6731000000, 'Gross_Profit_ratio': 0.426088, 'price_to_sales': 16.079879478977862, 'Market_Capit': 108233668773}, 'SQ': {'revenue': 4713500000, 'Gross_Profit_ratio': 0.4009090909090909, 'price_to_sales': 23.582839662671052, 'Market_Capit': 111157714750}, 'INTU': {'revenue': 7679000000, 'Gross_Profit_ratio': 0.8205495507227504, 'price_to_sales': 12.803444804010939, 'Market_Capit': 98317652650}, 'NOW': {'revenue': 3460437000, 'Gross_Profit_ratio': 0.769784856652498, 'price_to_sales': 29.96965683195793, 'Market_Capit': 103708109378.61}}\n"
     ]
    }
   ],
   "source": [
    "pricetosales = {}\n",
    "for item in technological_companies:\n",
    "    try:\n",
    "      #annual income statement since we need anual sales\n",
    "      IS = requests.get(f'https://fmpcloud.io/api/v3/income-statement/{item}?apikey={demo}')\n",
    "      IS = IS.json()\n",
    "      #print(IS)\n",
    "      Revenue = IS[0]['revenue']\n",
    "      grossprofitratip = IS[0]['grossProfitRatio']\n",
    "      #most recent market capitliazation\n",
    "      MarketCapit = requests.get(f'https://fmpcloud.io/api/v3/market-capitalization/{item}?apikey={demo}')\n",
    "      MarketCapit = MarketCapit.json()\n",
    "      MarketCapit = MarketCapit[0]['marketCap']\n",
    "\n",
    "      #Price to sales\n",
    "      p_to_sales = MarketCapit/Revenue\n",
    "\n",
    "      pricetosales[item] = {}\n",
    "      pricetosales[item]['revenue'] = Revenue\n",
    "      pricetosales[item]['Gross_Profit_ratio'] = grossprofitratip\n",
    "      pricetosales[item]['price_to_sales'] = p_to_sales\n",
    "      pricetosales[item]['Market_Capit'] = MarketCapit\n",
    "    except:\n",
    "      pass\n",
    "print(pricetosales)"
   ]
  },
  {
   "cell_type": "code",
   "execution_count": 7,
   "metadata": {},
   "outputs": [],
   "source": [
    "#Converting Japanese Yen (JPY) equals to US Dollar \n",
    "pricetosales[\"SNE\"][\"revenue\"]=pricetosales[\"SNE\"][\"revenue\"]/100"
   ]
  },
  {
   "cell_type": "code",
   "execution_count": 8,
   "metadata": {},
   "outputs": [
    {
     "data": {
      "text/plain": [
       "{'revenue': 86656870000.0,\n",
       " 'Gross_Profit_ratio': 0.2772418389909536,\n",
       " 'price_to_sales': 0.014716045386694328,\n",
       " 'Market_Capit': 127524643198.88701}"
      ]
     },
     "execution_count": 8,
     "metadata": {},
     "output_type": "execute_result"
    }
   ],
   "source": [
    "pricetosales[\"SNE\"]"
   ]
  },
  {
   "cell_type": "code",
   "execution_count": 9,
   "metadata": {},
   "outputs": [],
   "source": [
    "#Converting New Taiwan dollar (twd) US Dollar\n",
    "pricetosales[\"TSM\"][\"revenue\"]=pricetosales[\"TSM\"][\"revenue\"]/28"
   ]
  },
  {
   "cell_type": "code",
   "execution_count": 10,
   "metadata": {},
   "outputs": [
    {
     "data": {
      "text/plain": [
       "{'revenue': 38213885714.28571,\n",
       " 'Gross_Profit_ratio': 0.46047388533412686,\n",
       " 'price_to_sales': 0.6069711318830889,\n",
       " 'Market_Capit': 649452313038.228}"
      ]
     },
     "execution_count": 10,
     "metadata": {},
     "output_type": "execute_result"
    }
   ],
   "source": [
    "pricetosales[\"TSM\"]"
   ]
  },
  {
   "cell_type": "code",
   "execution_count": 11,
   "metadata": {},
   "outputs": [],
   "source": [
    "#IS"
   ]
  },
  {
   "cell_type": "code",
   "execution_count": 12,
   "metadata": {
    "id": "e1BOZwfM-scA"
   },
   "outputs": [],
   "source": [
    "price_to_sales_df = pd.DataFrame.from_dict(pricetosales, orient='index')\n"
   ]
  },
  {
   "cell_type": "code",
   "execution_count": 13,
   "metadata": {
    "id": "0NL6QtJb-vZZ"
   },
   "outputs": [],
   "source": [
    "price_to_sales_df['ps_average_sector'] = price_to_sales_df['price_to_sales'].mean()\n",
    "price_to_sales_df['pscompany_vs_averagesector'] = price_to_sales_df['price_to_sales'] - price_to_sales_df['ps_average_sector']\n",
    "price_to_sales_df['price_as_per_average_industryPS'] = price_to_sales_df['ps_average_sector'] * price_to_sales_df['revenue']\n",
    "price_to_sales_df['price_difference'] = price_to_sales_df['price_as_per_average_industryPS'] - price_to_sales_df['Market_Capit']"
   ]
  },
  {
   "cell_type": "code",
   "execution_count": 14,
   "metadata": {
    "colab": {
     "base_uri": "https://localhost:8080/",
     "height": 782
    },
    "id": "A5qqvbyl-2Ra",
    "outputId": "4674c919-6a66-4dc5-9361-f2f0cab33411"
   },
   "outputs": [
    {
     "data": {
      "text/html": [
       "<div>\n",
       "<style scoped>\n",
       "    .dataframe tbody tr th:only-of-type {\n",
       "        vertical-align: middle;\n",
       "    }\n",
       "\n",
       "    .dataframe tbody tr th {\n",
       "        vertical-align: top;\n",
       "    }\n",
       "\n",
       "    .dataframe thead th {\n",
       "        text-align: right;\n",
       "    }\n",
       "</style>\n",
       "<table border=\"1\" class=\"dataframe\">\n",
       "  <thead>\n",
       "    <tr style=\"text-align: right;\">\n",
       "      <th></th>\n",
       "      <th>revenue</th>\n",
       "      <th>Gross_Profit_ratio</th>\n",
       "      <th>price_to_sales</th>\n",
       "      <th>Market_Capit</th>\n",
       "      <th>ps_average_sector</th>\n",
       "      <th>pscompany_vs_averagesector</th>\n",
       "      <th>price_as_per_average_industryPS</th>\n",
       "      <th>price_difference</th>\n",
       "    </tr>\n",
       "  </thead>\n",
       "  <tbody>\n",
       "    <tr>\n",
       "      <th>AAPL</th>\n",
       "      <td>2.745150e+11</td>\n",
       "      <td>0.382332</td>\n",
       "      <td>7.992256</td>\n",
       "      <td>2.193994e+12</td>\n",
       "      <td>14.462075</td>\n",
       "      <td>-6.469819</td>\n",
       "      <td>3.970057e+12</td>\n",
       "      <td>1.776062e+12</td>\n",
       "    </tr>\n",
       "    <tr>\n",
       "      <th>MSFT</th>\n",
       "      <td>1.430150e+11</td>\n",
       "      <td>0.677810</td>\n",
       "      <td>11.355508</td>\n",
       "      <td>1.624008e+12</td>\n",
       "      <td>14.462075</td>\n",
       "      <td>-3.106567</td>\n",
       "      <td>2.068294e+12</td>\n",
       "      <td>4.442857e+11</td>\n",
       "    </tr>\n",
       "    <tr>\n",
       "      <th>TSM</th>\n",
       "      <td>3.821389e+10</td>\n",
       "      <td>0.460474</td>\n",
       "      <td>0.606971</td>\n",
       "      <td>6.494523e+11</td>\n",
       "      <td>14.462075</td>\n",
       "      <td>-13.855104</td>\n",
       "      <td>5.526521e+11</td>\n",
       "      <td>-9.680023e+10</td>\n",
       "    </tr>\n",
       "    <tr>\n",
       "      <th>NVDA</th>\n",
       "      <td>1.091800e+10</td>\n",
       "      <td>0.619894</td>\n",
       "      <td>29.492754</td>\n",
       "      <td>3.220019e+11</td>\n",
       "      <td>14.462075</td>\n",
       "      <td>15.030678</td>\n",
       "      <td>1.578969e+11</td>\n",
       "      <td>-1.641049e+11</td>\n",
       "    </tr>\n",
       "    <tr>\n",
       "      <th>INTC</th>\n",
       "      <td>7.196500e+10</td>\n",
       "      <td>0.585562</td>\n",
       "      <td>3.415675</td>\n",
       "      <td>2.458090e+11</td>\n",
       "      <td>14.462075</td>\n",
       "      <td>-11.046400</td>\n",
       "      <td>1.040763e+12</td>\n",
       "      <td>7.949542e+11</td>\n",
       "    </tr>\n",
       "    <tr>\n",
       "      <th>ADBE</th>\n",
       "      <td>1.286800e+10</td>\n",
       "      <td>0.866180</td>\n",
       "      <td>17.265216</td>\n",
       "      <td>2.221688e+11</td>\n",
       "      <td>14.462075</td>\n",
       "      <td>2.803140</td>\n",
       "      <td>1.860980e+11</td>\n",
       "      <td>-3.607081e+10</td>\n",
       "    </tr>\n",
       "    <tr>\n",
       "      <th>CRM</th>\n",
       "      <td>1.709800e+10</td>\n",
       "      <td>0.752310</td>\n",
       "      <td>11.705373</td>\n",
       "      <td>2.001385e+11</td>\n",
       "      <td>14.462075</td>\n",
       "      <td>-2.756703</td>\n",
       "      <td>2.472726e+11</td>\n",
       "      <td>4.713410e+10</td>\n",
       "    </tr>\n",
       "    <tr>\n",
       "      <th>CSCO</th>\n",
       "      <td>4.930100e+10</td>\n",
       "      <td>0.642644</td>\n",
       "      <td>3.908928</td>\n",
       "      <td>1.927141e+11</td>\n",
       "      <td>14.462075</td>\n",
       "      <td>-10.553147</td>\n",
       "      <td>7.129948e+11</td>\n",
       "      <td>5.202807e+11</td>\n",
       "    </tr>\n",
       "    <tr>\n",
       "      <th>ASML.AS</th>\n",
       "      <td>1.182000e+10</td>\n",
       "      <td>0.446684</td>\n",
       "      <td>15.457557</td>\n",
       "      <td>1.827083e+11</td>\n",
       "      <td>14.462075</td>\n",
       "      <td>0.995482</td>\n",
       "      <td>1.709417e+11</td>\n",
       "      <td>-1.176659e+10</td>\n",
       "    </tr>\n",
       "    <tr>\n",
       "      <th>ORCL</th>\n",
       "      <td>3.906800e+10</td>\n",
       "      <td>0.796816</td>\n",
       "      <td>4.913240</td>\n",
       "      <td>1.919505e+11</td>\n",
       "      <td>14.462075</td>\n",
       "      <td>-9.548835</td>\n",
       "      <td>5.650044e+11</td>\n",
       "      <td>3.730539e+11</td>\n",
       "    </tr>\n",
       "    <tr>\n",
       "      <th>AVGO</th>\n",
       "      <td>2.388800e+10</td>\n",
       "      <td>0.565807</td>\n",
       "      <td>7.876285</td>\n",
       "      <td>1.881487e+11</td>\n",
       "      <td>14.462075</td>\n",
       "      <td>-6.585790</td>\n",
       "      <td>3.454701e+11</td>\n",
       "      <td>1.573213e+11</td>\n",
       "    </tr>\n",
       "    <tr>\n",
       "      <th>QCOM</th>\n",
       "      <td>2.353100e+10</td>\n",
       "      <td>0.606689</td>\n",
       "      <td>7.603821</td>\n",
       "      <td>1.789255e+11</td>\n",
       "      <td>14.462075</td>\n",
       "      <td>-6.858254</td>\n",
       "      <td>3.403071e+11</td>\n",
       "      <td>1.613816e+11</td>\n",
       "    </tr>\n",
       "    <tr>\n",
       "      <th>ACN</th>\n",
       "      <td>4.432704e+10</td>\n",
       "      <td>0.315296</td>\n",
       "      <td>3.707253</td>\n",
       "      <td>1.643315e+11</td>\n",
       "      <td>14.462075</td>\n",
       "      <td>-10.754822</td>\n",
       "      <td>6.410610e+11</td>\n",
       "      <td>4.767294e+11</td>\n",
       "    </tr>\n",
       "    <tr>\n",
       "      <th>TXN</th>\n",
       "      <td>1.438300e+10</td>\n",
       "      <td>0.637141</td>\n",
       "      <td>10.928006</td>\n",
       "      <td>1.571775e+11</td>\n",
       "      <td>14.462075</td>\n",
       "      <td>-3.534069</td>\n",
       "      <td>2.080080e+11</td>\n",
       "      <td>5.083052e+10</td>\n",
       "    </tr>\n",
       "    <tr>\n",
       "      <th>SAP</th>\n",
       "      <td>2.755300e+10</td>\n",
       "      <td>0.696803</td>\n",
       "      <td>5.353319</td>\n",
       "      <td>1.475000e+11</td>\n",
       "      <td>14.462075</td>\n",
       "      <td>-9.108756</td>\n",
       "      <td>3.984736e+11</td>\n",
       "      <td>2.509736e+11</td>\n",
       "    </tr>\n",
       "    <tr>\n",
       "      <th>SHOP</th>\n",
       "      <td>1.578173e+09</td>\n",
       "      <td>0.548510</td>\n",
       "      <td>92.639647</td>\n",
       "      <td>1.462014e+11</td>\n",
       "      <td>14.462075</td>\n",
       "      <td>78.177572</td>\n",
       "      <td>2.282366e+10</td>\n",
       "      <td>-1.233777e+11</td>\n",
       "    </tr>\n",
       "    <tr>\n",
       "      <th>SNE</th>\n",
       "      <td>8.665687e+10</td>\n",
       "      <td>0.277242</td>\n",
       "      <td>0.014716</td>\n",
       "      <td>1.275246e+11</td>\n",
       "      <td>14.462075</td>\n",
       "      <td>-14.447359</td>\n",
       "      <td>1.253238e+12</td>\n",
       "      <td>1.125714e+12</td>\n",
       "    </tr>\n",
       "    <tr>\n",
       "      <th>IBM</th>\n",
       "      <td>7.714700e+10</td>\n",
       "      <td>0.472967</td>\n",
       "      <td>1.493309</td>\n",
       "      <td>1.152043e+11</td>\n",
       "      <td>14.462075</td>\n",
       "      <td>-12.968766</td>\n",
       "      <td>1.115706e+12</td>\n",
       "      <td>1.000501e+12</td>\n",
       "    </tr>\n",
       "    <tr>\n",
       "      <th>AMD</th>\n",
       "      <td>6.731000e+09</td>\n",
       "      <td>0.426088</td>\n",
       "      <td>16.079879</td>\n",
       "      <td>1.082337e+11</td>\n",
       "      <td>14.462075</td>\n",
       "      <td>1.617804</td>\n",
       "      <td>9.734423e+10</td>\n",
       "      <td>-1.088944e+10</td>\n",
       "    </tr>\n",
       "    <tr>\n",
       "      <th>SQ</th>\n",
       "      <td>4.713500e+09</td>\n",
       "      <td>0.400909</td>\n",
       "      <td>23.582840</td>\n",
       "      <td>1.111577e+11</td>\n",
       "      <td>14.462075</td>\n",
       "      <td>9.120765</td>\n",
       "      <td>6.816699e+10</td>\n",
       "      <td>-4.299072e+10</td>\n",
       "    </tr>\n",
       "    <tr>\n",
       "      <th>INTU</th>\n",
       "      <td>7.679000e+09</td>\n",
       "      <td>0.820550</td>\n",
       "      <td>12.803445</td>\n",
       "      <td>9.831765e+10</td>\n",
       "      <td>14.462075</td>\n",
       "      <td>-1.658630</td>\n",
       "      <td>1.110543e+11</td>\n",
       "      <td>1.273662e+10</td>\n",
       "    </tr>\n",
       "    <tr>\n",
       "      <th>NOW</th>\n",
       "      <td>3.460437e+09</td>\n",
       "      <td>0.769785</td>\n",
       "      <td>29.969657</td>\n",
       "      <td>1.037081e+11</td>\n",
       "      <td>14.462075</td>\n",
       "      <td>15.507582</td>\n",
       "      <td>5.004510e+10</td>\n",
       "      <td>-5.366301e+10</td>\n",
       "    </tr>\n",
       "  </tbody>\n",
       "</table>\n",
       "</div>"
      ],
      "text/plain": [
       "              revenue  Gross_Profit_ratio  price_to_sales  Market_Capit  \\\n",
       "AAPL     2.745150e+11            0.382332        7.992256  2.193994e+12   \n",
       "MSFT     1.430150e+11            0.677810       11.355508  1.624008e+12   \n",
       "TSM      3.821389e+10            0.460474        0.606971  6.494523e+11   \n",
       "NVDA     1.091800e+10            0.619894       29.492754  3.220019e+11   \n",
       "INTC     7.196500e+10            0.585562        3.415675  2.458090e+11   \n",
       "ADBE     1.286800e+10            0.866180       17.265216  2.221688e+11   \n",
       "CRM      1.709800e+10            0.752310       11.705373  2.001385e+11   \n",
       "CSCO     4.930100e+10            0.642644        3.908928  1.927141e+11   \n",
       "ASML.AS  1.182000e+10            0.446684       15.457557  1.827083e+11   \n",
       "ORCL     3.906800e+10            0.796816        4.913240  1.919505e+11   \n",
       "AVGO     2.388800e+10            0.565807        7.876285  1.881487e+11   \n",
       "QCOM     2.353100e+10            0.606689        7.603821  1.789255e+11   \n",
       "ACN      4.432704e+10            0.315296        3.707253  1.643315e+11   \n",
       "TXN      1.438300e+10            0.637141       10.928006  1.571775e+11   \n",
       "SAP      2.755300e+10            0.696803        5.353319  1.475000e+11   \n",
       "SHOP     1.578173e+09            0.548510       92.639647  1.462014e+11   \n",
       "SNE      8.665687e+10            0.277242        0.014716  1.275246e+11   \n",
       "IBM      7.714700e+10            0.472967        1.493309  1.152043e+11   \n",
       "AMD      6.731000e+09            0.426088       16.079879  1.082337e+11   \n",
       "SQ       4.713500e+09            0.400909       23.582840  1.111577e+11   \n",
       "INTU     7.679000e+09            0.820550       12.803445  9.831765e+10   \n",
       "NOW      3.460437e+09            0.769785       29.969657  1.037081e+11   \n",
       "\n",
       "         ps_average_sector  pscompany_vs_averagesector  \\\n",
       "AAPL             14.462075                   -6.469819   \n",
       "MSFT             14.462075                   -3.106567   \n",
       "TSM              14.462075                  -13.855104   \n",
       "NVDA             14.462075                   15.030678   \n",
       "INTC             14.462075                  -11.046400   \n",
       "ADBE             14.462075                    2.803140   \n",
       "CRM              14.462075                   -2.756703   \n",
       "CSCO             14.462075                  -10.553147   \n",
       "ASML.AS          14.462075                    0.995482   \n",
       "ORCL             14.462075                   -9.548835   \n",
       "AVGO             14.462075                   -6.585790   \n",
       "QCOM             14.462075                   -6.858254   \n",
       "ACN              14.462075                  -10.754822   \n",
       "TXN              14.462075                   -3.534069   \n",
       "SAP              14.462075                   -9.108756   \n",
       "SHOP             14.462075                   78.177572   \n",
       "SNE              14.462075                  -14.447359   \n",
       "IBM              14.462075                  -12.968766   \n",
       "AMD              14.462075                    1.617804   \n",
       "SQ               14.462075                    9.120765   \n",
       "INTU             14.462075                   -1.658630   \n",
       "NOW              14.462075                   15.507582   \n",
       "\n",
       "         price_as_per_average_industryPS  price_difference  \n",
       "AAPL                        3.970057e+12      1.776062e+12  \n",
       "MSFT                        2.068294e+12      4.442857e+11  \n",
       "TSM                         5.526521e+11     -9.680023e+10  \n",
       "NVDA                        1.578969e+11     -1.641049e+11  \n",
       "INTC                        1.040763e+12      7.949542e+11  \n",
       "ADBE                        1.860980e+11     -3.607081e+10  \n",
       "CRM                         2.472726e+11      4.713410e+10  \n",
       "CSCO                        7.129948e+11      5.202807e+11  \n",
       "ASML.AS                     1.709417e+11     -1.176659e+10  \n",
       "ORCL                        5.650044e+11      3.730539e+11  \n",
       "AVGO                        3.454701e+11      1.573213e+11  \n",
       "QCOM                        3.403071e+11      1.613816e+11  \n",
       "ACN                         6.410610e+11      4.767294e+11  \n",
       "TXN                         2.080080e+11      5.083052e+10  \n",
       "SAP                         3.984736e+11      2.509736e+11  \n",
       "SHOP                        2.282366e+10     -1.233777e+11  \n",
       "SNE                         1.253238e+12      1.125714e+12  \n",
       "IBM                         1.115706e+12      1.000501e+12  \n",
       "AMD                         9.734423e+10     -1.088944e+10  \n",
       "SQ                          6.816699e+10     -4.299072e+10  \n",
       "INTU                        1.110543e+11      1.273662e+10  \n",
       "NOW                         5.004510e+10     -5.366301e+10  "
      ]
     },
     "execution_count": 14,
     "metadata": {},
     "output_type": "execute_result"
    }
   ],
   "source": [
    "price_to_sales_df"
   ]
  },
  {
   "cell_type": "code",
   "execution_count": 15,
   "metadata": {},
   "outputs": [
    {
     "data": {
      "text/plain": [
       "<AxesSubplot:>"
      ]
     },
     "execution_count": 15,
     "metadata": {},
     "output_type": "execute_result"
    },
    {
     "data": {
      "image/png": "[encoded data removed]",
      "text/plain": [
       "<Figure size 432x288 with 1 Axes>"
      ]
     },
     "metadata": {
      "needs_background": "light"
     },
     "output_type": "display_data"
    }
   ],
   "source": [
    "price_to_sales_df.revenue.plot(rot=45, xticks=[0, 1, 2, 3, 4, 5, 6, 7, 8, 9, 10, 11, 12, 13, 14, 15, 16, 17, 18, 19, 20, 21, 22,])\n"
   ]
  },
  {
   "cell_type": "code",
   "execution_count": 16,
   "metadata": {},
   "outputs": [
    {
     "data": {
      "text/plain": [
       "['AAPL',\n",
       " 'MSFT',\n",
       " 'TSM',\n",
       " 'NVDA',\n",
       " 'INTC',\n",
       " 'ADBE',\n",
       " 'CRM',\n",
       " 'CSCO',\n",
       " 'ASML.AS',\n",
       " 'ORCL',\n",
       " 'AVGO',\n",
       " 'QCOM',\n",
       " 'ACN',\n",
       " 'TXN',\n",
       " 'SAP',\n",
       " 'SHOP',\n",
       " 'SNE',\n",
       " 'IBM',\n",
       " 'AMD',\n",
       " 'SQ',\n",
       " 'INTU',\n",
       " 'NOW']"
      ]
     },
     "execution_count": 16,
     "metadata": {},
     "output_type": "execute_result"
    }
   ],
   "source": [
    "price_to_sales_df.index.tolist()"
   ]
  },
  {
   "cell_type": "code",
   "execution_count": null,
   "metadata": {},
   "outputs": [],
   "source": []
  }
 ],
 "metadata": {
  "colab": {
   "name": "Company_valuation.ipynb",
   "provenance": []
  },
  "kernelspec": {
   "display_name": "Python [conda env:pyvizenv] *",
   "language": "python",
   "name": "conda-env-pyvizenv-py"
  },
  "language_info": {
   "codemirror_mode": {
    "name": "ipython",
    "version": 3
   },
   "file_extension": ".py",
   "mimetype": "text/x-python",
   "name": "python",
   "nbconvert_exporter": "python",
   "pygments_lexer": "ipython3",
   "version": "3.8.5"
  }
 },
 "nbformat": 4,
 "nbformat_minor": 4
}
