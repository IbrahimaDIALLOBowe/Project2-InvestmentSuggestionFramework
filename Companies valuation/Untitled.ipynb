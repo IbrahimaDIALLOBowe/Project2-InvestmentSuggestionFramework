{
 "cells": [
  {
   "cell_type": "markdown",
   "metadata": {},
   "source": [
    "## Companies valuation (valuation computation, balance sheet driven)(math)"
   ]
  },
  {
   "cell_type": "code",
   "execution_count": 1,
   "metadata": {},
   "outputs": [
    {
     "name": "stdout",
     "output_type": "stream",
     "text": [
      "Requirement already satisfied: yahoofinance in c:\\users\\idial\\anaconda3\\envs\\pyvizenv\\lib\\site-packages (0.0.2)\n",
      "Requirement already satisfied: beautifulsoup4>=4.6.3 in c:\\users\\idial\\anaconda3\\envs\\pyvizenv\\lib\\site-packages (from yahoofinance) (4.9.3)\n",
      "Requirement already satisfied: pandas>=0.23.4 in c:\\users\\idial\\anaconda3\\envs\\pyvizenv\\lib\\site-packages (from yahoofinance) (1.1.5)\n",
      "Requirement already satisfied: requests>=2.20.1 in c:\\users\\idial\\anaconda3\\envs\\pyvizenv\\lib\\site-packages (from yahoofinance) (2.25.0)\n",
      "Requirement already satisfied: soupsieve>1.2 in c:\\users\\idial\\anaconda3\\envs\\pyvizenv\\lib\\site-packages (from beautifulsoup4>=4.6.3->yahoofinance) (2.1)\n",
      "Requirement already satisfied: python-dateutil>=2.7.3 in c:\\users\\idial\\appdata\\roaming\\python\\python38\\site-packages (from pandas>=0.23.4->yahoofinance) (2.8.1)\n",
      "Requirement already satisfied: pytz>=2017.2 in c:\\users\\idial\\anaconda3\\envs\\pyvizenv\\lib\\site-packages (from pandas>=0.23.4->yahoofinance) (2020.4)\n",
      "Requirement already satisfied: numpy>=1.15.4 in c:\\users\\idial\\anaconda3\\envs\\pyvizenv\\lib\\site-packages (from pandas>=0.23.4->yahoofinance) (1.19.2)\n",
      "Requirement already satisfied: six>=1.5 in c:\\users\\idial\\appdata\\roaming\\python\\python38\\site-packages (from python-dateutil>=2.7.3->pandas>=0.23.4->yahoofinance) (1.15.0)\n",
      "Requirement already satisfied: idna<3,>=2.5 in c:\\users\\idial\\anaconda3\\envs\\pyvizenv\\lib\\site-packages (from requests>=2.20.1->yahoofinance) (2.10)\n",
      "Requirement already satisfied: chardet<4,>=3.0.2 in c:\\users\\idial\\anaconda3\\envs\\pyvizenv\\lib\\site-packages (from requests>=2.20.1->yahoofinance) (3.0.4)\n",
      "Requirement already satisfied: certifi>=2017.4.17 in c:\\users\\idial\\anaconda3\\envs\\pyvizenv\\lib\\site-packages (from requests>=2.20.1->yahoofinance) (2020.12.5)\n",
      "Requirement already satisfied: urllib3<1.27,>=1.21.1 in c:\\users\\idial\\anaconda3\\envs\\pyvizenv\\lib\\site-packages (from requests>=2.20.1->yahoofinance) (1.25.11)\n"
     ]
    }
   ],
   "source": [
    "! pip install yahoofinance"
   ]
  },
  {
   "cell_type": "code",
   "execution_count": 2,
   "metadata": {},
   "outputs": [
    {
     "name": "stdout",
     "output_type": "stream",
     "text": [
      "<yahoofinance.historicaldata.HistoricalPrices object at 0x00000242A98611C0>\n"
     ]
    }
   ],
   "source": [
    "print(req)"
   ]
  },
  {
   "cell_type": "code",
   "execution_count": 3,
   "metadata": {},
   "outputs": [],
   "source": [
    "from yahoofinance import HistoricalPrices\n",
    "req = HistoricalPrices('AAPL','2019-01-01','2019-12-12')"
   ]
  },
  {
   "cell_type": "markdown",
   "metadata": {},
   "source": [
    "### For Each of the stocks I should have a BalanceSheetQuarterly"
   ]
  },
  {
   "cell_type": "code",
   "execution_count": 4,
   "metadata": {},
   "outputs": [],
   "source": [
    "from yahoofinance import BalanceSheetQuarterly"
   ]
  },
  {
   "cell_type": "code",
   "execution_count": 5,
   "metadata": {},
   "outputs": [
    {
     "ename": "TypeError",
     "evalue": "'NoneType' object is not subscriptable",
     "output_type": "error",
     "traceback": [
      "\u001b[1;31m---------------------------------------------------------------------------\u001b[0m",
      "\u001b[1;31mTypeError\u001b[0m                                 Traceback (most recent call last)",
      "\u001b[1;32m<ipython-input-5-239d1801c9a0>\u001b[0m in \u001b[0;36m<module>\u001b[1;34m\u001b[0m\n\u001b[1;32m----> 1\u001b[1;33m \u001b[0mreq\u001b[0m \u001b[1;33m=\u001b[0m \u001b[0mBalanceSheetQuarterly\u001b[0m\u001b[1;33m(\u001b[0m\u001b[1;34m'AAPL'\u001b[0m\u001b[1;33m)\u001b[0m\u001b[1;33m\u001b[0m\u001b[1;33m\u001b[0m\u001b[0m\n\u001b[0m",
      "\u001b[1;32m~\\anaconda3\\envs\\pyvizenv\\lib\\site-packages\\yahoofinance\\balancesheet.py\u001b[0m in \u001b[0;36m__init__\u001b[1;34m(self, stock, locale)\u001b[0m\n\u001b[0;32m     78\u001b[0m         \u001b[0msuper\u001b[0m\u001b[1;33m(\u001b[0m\u001b[1;33m)\u001b[0m\u001b[1;33m.\u001b[0m\u001b[0m__init__\u001b[0m\u001b[1;33m(\u001b[0m\u001b[0mlocale\u001b[0m\u001b[1;33m)\u001b[0m\u001b[1;33m\u001b[0m\u001b[1;33m\u001b[0m\u001b[0m\n\u001b[0;32m     79\u001b[0m         \u001b[0murl\u001b[0m \u001b[1;33m=\u001b[0m \u001b[0mself\u001b[0m\u001b[1;33m.\u001b[0m\u001b[0m_base_url\u001b[0m \u001b[1;33m+\u001b[0m \u001b[1;34m'/{}/financials'\u001b[0m\u001b[1;33m.\u001b[0m\u001b[0mformat\u001b[0m\u001b[1;33m(\u001b[0m\u001b[0mstock\u001b[0m\u001b[1;33m)\u001b[0m\u001b[1;33m\u001b[0m\u001b[1;33m\u001b[0m\u001b[0m\n\u001b[1;32m---> 80\u001b[1;33m         \u001b[0mfin_data\u001b[0m \u001b[1;33m=\u001b[0m \u001b[0mself\u001b[0m\u001b[1;33m.\u001b[0m\u001b[0m_fetch_quote_summary\u001b[0m\u001b[1;33m(\u001b[0m\u001b[0murl\u001b[0m\u001b[1;33m)\u001b[0m\u001b[1;33m\u001b[0m\u001b[1;33m\u001b[0m\u001b[0m\n\u001b[0m\u001b[0;32m     81\u001b[0m \u001b[1;33m\u001b[0m\u001b[0m\n\u001b[0;32m     82\u001b[0m         \u001b[0mself\u001b[0m\u001b[1;33m.\u001b[0m\u001b[0mBalanceSheet\u001b[0m \u001b[1;33m=\u001b[0m \u001b[0mself\u001b[0m\u001b[1;33m.\u001b[0m\u001b[0m_extract_BalanceSheet\u001b[0m\u001b[1;33m(\u001b[0m\u001b[0mfin_data\u001b[0m\u001b[1;33m)\u001b[0m\u001b[1;33m\u001b[0m\u001b[1;33m\u001b[0m\u001b[0m\n",
      "\u001b[1;32m~\\anaconda3\\envs\\pyvizenv\\lib\\site-packages\\yahoofinance\\interfaces.py\u001b[0m in \u001b[0;36m_fetch_quote_summary\u001b[1;34m(url)\u001b[0m\n\u001b[0;32m     52\u001b[0m \u001b[1;33m\u001b[0m\u001b[0m\n\u001b[0;32m     53\u001b[0m         \u001b[0msoup_script\u001b[0m \u001b[1;33m=\u001b[0m \u001b[0msoup\u001b[0m\u001b[1;33m.\u001b[0m\u001b[0mfind\u001b[0m\u001b[1;33m(\u001b[0m\u001b[1;34m\"script\"\u001b[0m\u001b[1;33m,\u001b[0m\u001b[0mtext\u001b[0m\u001b[1;33m=\u001b[0m\u001b[0mre\u001b[0m\u001b[1;33m.\u001b[0m\u001b[0mcompile\u001b[0m\u001b[1;33m(\u001b[0m\u001b[1;34m\"root.App.main\"\u001b[0m\u001b[1;33m)\u001b[0m\u001b[1;33m)\u001b[0m\u001b[1;33m.\u001b[0m\u001b[0mtext\u001b[0m\u001b[1;33m\u001b[0m\u001b[1;33m\u001b[0m\u001b[0m\n\u001b[1;32m---> 54\u001b[1;33m         \u001b[0mjson_script\u001b[0m \u001b[1;33m=\u001b[0m \u001b[0mjson\u001b[0m\u001b[1;33m.\u001b[0m\u001b[0mloads\u001b[0m\u001b[1;33m(\u001b[0m\u001b[0mre\u001b[0m\u001b[1;33m.\u001b[0m\u001b[0msearch\u001b[0m\u001b[1;33m(\u001b[0m\u001b[1;34mr\"root.App.main\\s+=\\s+(\\{.*\\})\"\u001b[0m\u001b[1;33m,\u001b[0m\u001b[0msoup_script\u001b[0m\u001b[1;33m)\u001b[0m\u001b[1;33m[\u001b[0m\u001b[1;36m1\u001b[0m\u001b[1;33m]\u001b[0m\u001b[1;33m)\u001b[0m\u001b[1;33m\u001b[0m\u001b[1;33m\u001b[0m\u001b[0m\n\u001b[0m\u001b[0;32m     55\u001b[0m         \u001b[1;31m# return json_script\u001b[0m\u001b[1;33m\u001b[0m\u001b[1;33m\u001b[0m\u001b[1;33m\u001b[0m\u001b[0m\n\u001b[0;32m     56\u001b[0m         \u001b[1;32mreturn\u001b[0m \u001b[0mjson_script\u001b[0m\u001b[1;33m[\u001b[0m\u001b[1;34m'context'\u001b[0m\u001b[1;33m]\u001b[0m\u001b[1;33m[\u001b[0m\u001b[1;34m'dispatcher'\u001b[0m\u001b[1;33m]\u001b[0m\u001b[1;33m[\u001b[0m\u001b[1;34m'stores'\u001b[0m\u001b[1;33m]\u001b[0m\u001b[1;33m[\u001b[0m\u001b[1;34m'QuoteSummaryStore'\u001b[0m\u001b[1;33m]\u001b[0m\u001b[1;33m\u001b[0m\u001b[1;33m\u001b[0m\u001b[0m\n",
      "\u001b[1;31mTypeError\u001b[0m: 'NoneType' object is not subscriptable"
     ]
    }
   ],
   "source": [
    "req = BalanceSheetQuarterly('AAPL')"
   ]
  },
  {
   "cell_type": "code",
   "execution_count": null,
   "metadata": {},
   "outputs": [],
   "source": [
    "## We can do all of the stocks in her.\n",
    "\n",
    "tsldf_tesla = tesla.to_dfs(data_format='raw')\n",
    "#or \n",
    "#tsl.to_csv(path=None, sep=', ', data_format='raw', csv_dialect='excel')"
   ]
  },
  {
   "cell_type": "code",
   "execution_count": null,
   "metadata": {},
   "outputs": [],
   "source": []
  },
  {
   "cell_type": "markdown",
   "metadata": {},
   "source": [
    "### Company Valuation base on the balance sheet"
   ]
  },
  {
   "cell_type": "code",
   "execution_count": null,
   "metadata": {},
   "outputs": [],
   "source": [
    "df_tesla [company valution = df_tesla(total assets or  assets)- df_tesla(intangible assets or intangible) - df_tesla(liabilities)]"
   ]
  }
 ],
 "metadata": {
  "kernelspec": {
   "display_name": "Python [conda env:pyvizenv] *",
   "language": "python",
   "name": "conda-env-pyvizenv-py"
  },
  "language_info": {
   "codemirror_mode": {
    "name": "ipython",
    "version": 3
   },
   "file_extension": ".py",
   "mimetype": "text/x-python",
   "name": "python",
   "nbconvert_exporter": "python",
   "pygments_lexer": "ipython3",
   "version": "3.8.5"
  }
 },
 "nbformat": 4,
 "nbformat_minor": 4
}
