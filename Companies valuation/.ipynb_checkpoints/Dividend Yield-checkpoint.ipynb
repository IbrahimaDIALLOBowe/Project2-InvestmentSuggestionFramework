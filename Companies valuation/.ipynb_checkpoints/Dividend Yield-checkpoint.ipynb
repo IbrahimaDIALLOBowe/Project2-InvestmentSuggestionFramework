{
 "cells": [
  {
   "cell_type": "markdown",
   "id": "assumed-florist",
   "metadata": {},
   "source": [
    "## Dividend Yield"
   ]
  },
  {
   "cell_type": "code",
   "execution_count": 75,
   "id": "palestinian-extent",
   "metadata": {},
   "outputs": [],
   "source": [
    "import requests\n",
    "\n",
    "demo = '31853220bc5708a36155ca7f0481a5e0'\n",
    "\n",
    "#tickers = requests.get(f'https://fmpcloud.io/api/v3/symbol/available-nasdaq?apikey={demo}')\n",
    "\n",
    "#tickers = tickers.json()\n",
    "#symbols = []\n",
    "#for ticker in tickers:\n",
    "#    symbols.append(ticker['symbol'])\n",
    "    \n",
    "#print(symbols)\n",
    "symbols = [\"SNDX\", \"AAPL\", \"TSLA\"]"
   ]
  },
  {
   "cell_type": "code",
   "execution_count": 76,
   "id": "suffering-supply",
   "metadata": {},
   "outputs": [],
   "source": [
    "#tickers"
   ]
  },
  {
   "cell_type": "code",
   "execution_count": 77,
   "id": "responsible-resource",
   "metadata": {},
   "outputs": [
    {
     "name": "stdout",
     "output_type": "stream",
     "text": [
      "{'SNDX': {'Dividend_Yield': 0.0, 'latest_Price': 22.91, 'latest_Dividend': 0.0, 'market_Capit_in_M': 1105.08211, 'company_Name': 'Syndax Pharmaceuticals Inc', 'exchange': 'Nasdaq Global Select'}, 'AAPL': {'Dividend_Yield': 0.006775179707510534, 'latest_Price': 121.03, 'latest_Dividend': 0.82, 'market_Capit_in_M': 2031863.73, 'company_Name': 'Apple Inc', 'exchange': 'Nasdaq Global Select'}, 'TSLA': {'Dividend_Yield': 0.0, 'latest_Price': 693.73, 'latest_Dividend': 0.0, 'market_Capit_in_M': 665879.51, 'company_Name': 'Tesla Inc', 'exchange': 'Nasdaq Global Select'}}\n"
     ]
    }
   ],
   "source": [
    "DivYield = {}\n",
    "for company in symbols:\n",
    "  try:\n",
    "    companydata = requests.get(f'https://fmpcloud.io/api/v3/profile/{company}?apikey={demo}')\n",
    "    companydata = companydata.json()\n",
    "    latest_Annual_Dividend = companydata[0]['lastDiv']\n",
    "    price = companydata[0]['price']\n",
    "    market_Capitalization = companydata[0]['mktCap']\n",
    "    name = companydata[0]['companyName']\n",
    "    exchange = companydata[0]['exchange']\n",
    "\n",
    "    dividend_Yield= latest_Annual_Dividend/price\n",
    "    DivYield[company] = {}\n",
    "    DivYield[company]['Dividend_Yield'] = dividend_Yield\n",
    "    DivYield[company]['latest_Price'] = price\n",
    "    DivYield[company]['latest_Dividend'] = latest_Annual_Dividend\n",
    "    DivYield[company]['market_Capit_in_M'] = market_Capitalization/1000000\n",
    "    DivYield[company]['company_Name'] = name\n",
    "    DivYield[company]['exchange'] = exchange\n",
    "  except:\n",
    "    pass\n",
    "print(DivYield)"
   ]
  },
  {
   "cell_type": "code",
   "execution_count": 78,
   "id": "gross-exercise",
   "metadata": {},
   "outputs": [
    {
     "data": {
      "text/html": [
       "<div>\n",
       "<style scoped>\n",
       "    .dataframe tbody tr th:only-of-type {\n",
       "        vertical-align: middle;\n",
       "    }\n",
       "\n",
       "    .dataframe tbody tr th {\n",
       "        vertical-align: top;\n",
       "    }\n",
       "\n",
       "    .dataframe thead th {\n",
       "        text-align: right;\n",
       "    }\n",
       "</style>\n",
       "<table border=\"1\" class=\"dataframe\">\n",
       "  <thead>\n",
       "    <tr style=\"text-align: right;\">\n",
       "      <th></th>\n",
       "      <th>Dividend_Yield</th>\n",
       "      <th>latest_Price</th>\n",
       "      <th>latest_Dividend</th>\n",
       "      <th>market_Capit_in_M</th>\n",
       "      <th>company_Name</th>\n",
       "      <th>exchange</th>\n",
       "    </tr>\n",
       "  </thead>\n",
       "  <tbody>\n",
       "    <tr>\n",
       "      <th>AAPL</th>\n",
       "      <td>0.006775</td>\n",
       "      <td>121.03</td>\n",
       "      <td>0.82</td>\n",
       "      <td>2.031864e+06</td>\n",
       "      <td>Apple Inc</td>\n",
       "      <td>Nasdaq Global Select</td>\n",
       "    </tr>\n",
       "    <tr>\n",
       "      <th>SNDX</th>\n",
       "      <td>0.000000</td>\n",
       "      <td>22.91</td>\n",
       "      <td>0.00</td>\n",
       "      <td>1.105082e+03</td>\n",
       "      <td>Syndax Pharmaceuticals Inc</td>\n",
       "      <td>Nasdaq Global Select</td>\n",
       "    </tr>\n",
       "    <tr>\n",
       "      <th>TSLA</th>\n",
       "      <td>0.000000</td>\n",
       "      <td>693.73</td>\n",
       "      <td>0.00</td>\n",
       "      <td>6.658795e+05</td>\n",
       "      <td>Tesla Inc</td>\n",
       "      <td>Nasdaq Global Select</td>\n",
       "    </tr>\n",
       "  </tbody>\n",
       "</table>\n",
       "</div>"
      ],
      "text/plain": [
       "      Dividend_Yield  latest_Price  latest_Dividend  market_Capit_in_M  \\\n",
       "AAPL        0.006775        121.03             0.82       2.031864e+06   \n",
       "SNDX        0.000000         22.91             0.00       1.105082e+03   \n",
       "TSLA        0.000000        693.73             0.00       6.658795e+05   \n",
       "\n",
       "                    company_Name              exchange  \n",
       "AAPL                   Apple Inc  Nasdaq Global Select  \n",
       "SNDX  Syndax Pharmaceuticals Inc  Nasdaq Global Select  \n",
       "TSLA                   Tesla Inc  Nasdaq Global Select  "
      ]
     },
     "execution_count": 78,
     "metadata": {},
     "output_type": "execute_result"
    }
   ],
   "source": [
    "import pandas as pd\n",
    "DivYield_dataframe = pd.DataFrame.from_dict(DivYield, orient='index')\n",
    "\n",
    "DivYield_dataframe = DivYield_dataframe.sort_values(['Dividend_Yield'], ascending=[False])\n",
    "DivYield_dataframe"
   ]
  },
  {
   "cell_type": "code",
   "execution_count": null,
   "id": "engaged-twenty",
   "metadata": {},
   "outputs": [],
   "source": []
  },
  {
   "cell_type": "code",
   "execution_count": 82,
   "id": "occupational-repository",
   "metadata": {},
   "outputs": [],
   "source": [
    "import pandas as pd\n",
    "import requests\n",
    "demo = '31853220bc5708a36155ca7f0481a5e0'\n",
    "def cost_of_equity(stock):\n",
    "    IS = requests.get(f'https://financialmodelingprep.com/api/v3/financials/income-statement/{stock}?apikey={demo}')\n",
    "    IS = IS.json()\n",
    "    dividend = IS['financials']\n",
    "    Dtoday = float(dividend[0]['Dividend per Share'])\n",
    "    \n",
    "    #get dividend growht from previous 3 year dividends\n",
    "    Div_2y = float(IS['financials'][1]['Dividend per Share'])\n",
    "    Div_3y = float(IS['financials'][2]['Dividend per Share'])\n",
    "    Div_4y = float(IS['financials'][3]['Dividend per Share'])\n",
    "    if(Div_4y != 0):\n",
    "        dividend_growth = ( Div_2y - Div_4y)/Div_4y\n",
    "    else: dividend_growth = 0\n",
    "    print(IS)\n",
    "    \n",
    " #what if we reduce the dividend growth\n",
    "    dividend_growth_lower = dividend_growth / 2\n",
    "    ke_lower_growth = (Dtoday*(1+dividend_growth_lower)/price) + dividend_growth_lower\n",
    "    print(ke_lower_growth)\n",
    "    \n",
    "    #price of the stock\n",
    "    #ccompany_info = requests.get(f\"https://financialmodelingprep.com/api/v3/company/profile/{stock}?apikey={demo}\")\n",
    "    #ccompany_info = ccompany_info.json()\n",
    "    #price =  float(ccompany_info['profile']['price'])\n",
    "    \n",
    "    #calculate cost of equity\n",
    "    ke = (Dtoday*(1+dividend_growth)/price) + dividend_growth\n",
    "    print(ke)\n",
    "    return ke\n",
    "#IS, ke = cost_of_equity('AAPL')"
   ]
  },
  {
   "cell_type": "code",
   "execution_count": 83,
   "id": "disturbed-cutting",
   "metadata": {},
   "outputs": [
    {
     "name": "stdout",
     "output_type": "stream",
     "text": [
      "{'symbol': 'AAPL', 'financials': [{'date': '2020-09-26', 'Revenue': '274515000000.0', 'Revenue Growth': '0.0551208037698', 'Cost of Revenue': '169559000000.0', 'Gross Profit': '104956000000.0', 'R&D Expenses': '18752000000.0', 'SG&A Expense': '19916000000.0', 'Operating Expenses': '38668000000.0', 'Operating Income': '66288000000.0', 'Interest Expense': '0.0', 'Earnings before Tax': '67091000000.0', 'Income Tax Expense': '9680000000.0', 'Net Income - Non-Controlling int': '0.0', 'Net Income - Discontinued ops': '0.0', 'Net Income': '57411000000.0', 'Preferred Dividends': '0.0', 'Net Income Com': '57411000000.0', 'EPS': '3.31', 'EPS Diluted': '3.28', 'Weighted Average Shs Out': '17352119000.0', 'Weighted Average Shs Out (Dil)': '17528214000.0', 'Dividend per Share': '0.803333414346', 'Gross Margin': '0.382332477278109', 'EBITDA Margin': '0.281747809773601', 'EBIT Margin': '0.300289471658', 'Profit Margin': '0.209136112780722', 'Free Cash Flow margin': '0.332348797492', 'EBITDA': '77344000000.0', 'EBIT': '66288000000.0', 'Consolidated Income': '57411000000.0', 'Earnings Before Tax Margin': '0.244398302460703', 'Net Profit Margin': '0.209136112780722'}, {'date': '2019-09-28', 'Revenue': '260174000000.0', 'Revenue Growth': '-0.0204107758053', 'Cost of Revenue': '161782000000.0', 'Gross Profit': '98392000000.0', 'R&D Expenses': '16217000000.0', 'SG&A Expense': '18245000000.0', 'Operating Expenses': '34462000000.0', 'Operating Income': '63930000000.0', 'Interest Expense': '3576000000.0', 'Earnings before Tax': '65737000000.0', 'Income Tax Expense': '10481000000.0', 'Net Income - Non-Controlling int': '0.0', 'Net Income - Discontinued ops': '0.0', 'Net Income': '55256000000.0', 'Preferred Dividends': '0.0', 'Net Income Com': '55256000000.0', 'EPS': '2.97145', 'EPS Diluted': '2.97145', 'Weighted Average Shs Out': '18595652000.0', 'Weighted Average Shs Out (Dil)': '18595652000.0', 'Dividend per Share': '3.03705403822', 'Gross Margin': '0.378178', 'EBITDA Margin': '0.314636', 'EBIT Margin': '0.245720171885', 'Profit Margin': '0.212381', 'Free Cash Flow margin': '0.226371582095', 'EBITDA': '81860000000.0', 'EBIT': '63930000000.0', 'Consolidated Income': '55256000000.0', 'Earnings Before Tax Margin': '0.252666', 'Net Profit Margin': '0.212381'}, {'date': '2018-09-29', 'Revenue': '265595000000.0', 'Revenue Growth': '0.158619576503', 'Cost of Revenue': '163756000000.0', 'Gross Profit': '101839000000.0', 'R&D Expenses': '14236000000.0', 'SG&A Expense': '16705000000.0', 'Operating Expenses': '30941000000.0', 'Operating Income': '70898000000.0', 'Interest Expense': '3240000000.0', 'Earnings before Tax': '72903000000.0', 'Income Tax Expense': '11872000000.0', 'Net Income - Non-Controlling int': '0.0', 'Net Income - Discontinued ops': '0.0', 'Net Income': '59531000000.0', 'Preferred Dividends': '0.0', 'Net Income Com': '59531000000.0', 'EPS': '2.97649', 'EPS Diluted': '2.97649', 'Weighted Average Shs Out': '20000436000.0', 'Weighted Average Shs Out (Dil)': '20000436000.0', 'Dividend per Share': '2.74234021698', 'Gross Margin': '0.383437', 'EBITDA Margin': '0.322092', 'EBIT Margin': '0.266940266195', 'Profit Margin': '0.224142', 'Free Cash Flow margin': '0.24142397259', 'EBITDA': '85546000000.0', 'EBIT': '70898000000.0', 'Consolidated Income': '59531000000.0', 'Earnings Before Tax Margin': '0.274489', 'Net Profit Margin': '0.224142'}, {'date': '2017-09-30', 'Revenue': '229234000000.0', 'Revenue Growth': '0.063045181994', 'Cost of Revenue': '141048000000.0', 'Gross Profit': '88186000000.0', 'R&D Expenses': '11581000000.0', 'SG&A Expense': '15261000000.0', 'Operating Expenses': '26842000000.0', 'Operating Income': '61344000000.0', 'Interest Expense': '2323000000.0', 'Earnings before Tax': '64089000000.0', 'Income Tax Expense': '15738000000.0', 'Net Income - Non-Controlling int': '0.0', 'Net Income - Discontinued ops': '0.0', 'Net Income': '48351000000.0', 'Preferred Dividends': '0.0', 'Net Income Com': '48351000000.0', 'EPS': '2.3175', 'EPS Diluted': '2.3025', 'Weighted Average Shs Out': '20868968000.0', 'Weighted Average Shs Out (Dil)': '21006768000.0', 'Dividend per Share': '2.43140686849', 'Gross Margin': '0.384698604918991', 'EBITDA Margin': '0.334021131245801', 'EBIT Margin': '0.267604282087', 'Profit Margin': '0.210924208450753', 'Free Cash Flow margin': '0.223121351981', 'EBITDA': '76569000000.0', 'EBIT': '61344000000.0', 'Consolidated Income': '48351000000.0', 'Earnings Before Tax Margin': '0.27957894553164', 'Net Profit Margin': '0.210924208450753'}, {'date': '2016-09-24', 'Revenue': '215639000000.0', 'Revenue Growth': '-0.077342061913', 'Cost of Revenue': '131376000000.0', 'Gross Profit': '84263000000.0', 'R&D Expenses': '10045000000.0', 'SG&A Expense': '14194000000.0', 'Operating Expenses': '24239000000.0', 'Operating Income': '60024000000.0', 'Interest Expense': '1456000000.0', 'Earnings before Tax': '61372000000.0', 'Income Tax Expense': '15685000000.0', 'Net Income - Non-Controlling int': '0.0', 'Net Income - Discontinued ops': '0.0', 'Net Income': '45687000000.0', 'Preferred Dividends': '0.0', 'Net Income Com': '45687000000.0', 'EPS': '2.07658', 'EPS Diluted': '2.07658', 'Weighted Average Shs Out': '22001124000.0', 'Weighted Average Shs Out (Dil)': '22001124000.0', 'Dividend per Share': '2.20897805039', 'Gross Margin': '0.39076', 'EBITDA Margin': '0.340073', 'EBIT Margin': '0.278354101067', 'Profit Margin': '0.211868', 'Free Cash Flow margin': '0.246198507691', 'EBITDA': '73333000000.0', 'EBIT': '60024000000.0', 'Consolidated Income': '45687000000.0', 'Earnings Before Tax Margin': '0.284605', 'Net Profit Margin': '0.211868'}, {'date': '2015-09-26', 'Revenue': '233715000000.0', 'Revenue Growth': '0.278563418037', 'Cost of Revenue': '140089000000.0', 'Gross Profit': '93626000000.0', 'R&D Expenses': '8067000000.0', 'SG&A Expense': '14329000000.0', 'Operating Expenses': '22396000000.0', 'Operating Income': '71230000000.0', 'Interest Expense': '733000000.0', 'Earnings before Tax': '72515000000.0', 'Income Tax Expense': '19121000000.0', 'Net Income - Non-Controlling int': '0.0', 'Net Income - Discontinued ops': '0.0', 'Net Income': '53394000000.0', 'Preferred Dividends': '0.0', 'Net Income Com': '53394000000.0', 'EPS': '2.30422', 'EPS Diluted': '2.30422', 'Weighted Average Shs Out': '23172276000.0', 'Weighted Average Shs Out (Dil)': '23172276000.0', 'Dividend per Share': '1.99566067658', 'Gross Margin': '0.400599', 'EBITDA Margin': '0.361573', 'EBIT Margin': '0.304772907173', 'Profit Margin': '0.228458', 'Free Cash Flow margin': '0.299591382667', 'EBITDA': '84505000000.0', 'EBIT': '71230000000.0', 'Consolidated Income': '53394000000.0', 'Earnings Before Tax Margin': '0.310271', 'Net Profit Margin': '0.228458'}, {'date': '2014-09-27', 'Revenue': '182795000000.0', 'Revenue Growth': '0.0695395237259', 'Cost of Revenue': '112258000000.0', 'Gross Profit': '70537000000.0', 'R&D Expenses': '6041000000.0', 'SG&A Expense': '11993000000.0', 'Operating Expenses': '18034000000.0', 'Operating Income': '52503000000.0', 'Interest Expense': '384000000.0', 'Earnings before Tax': '53483000000.0', 'Income Tax Expense': '13973000000.0', 'Net Income - Non-Controlling int': '0.0', 'Net Income - Discontinued ops': '0.0', 'Net Income': '39510000000.0', 'Preferred Dividends': '0.0', 'Net Income Com': '39510000000.0', 'EPS': '1.61318', 'EPS Diluted': '1.61318', 'Weighted Average Shs Out': '24492000000.0', 'Weighted Average Shs Out (Dil)': '24492000000.0', 'Dividend per Share': '1.817183144', 'Gross Margin': '0.38588', 'EBITDA Margin': '0.338155', 'EBIT Margin': '0.287223392325', 'Profit Margin': '0.216144', 'Free Cash Flow margin': '0.274307284116', 'EBITDA': '61813000000.0', 'EBIT': '52503000000.0', 'Consolidated Income': '39510000000.0', 'Earnings Before Tax Margin': '0.292585', 'Net Profit Margin': '0.216144'}, {'date': '2013-09-28', 'Revenue': '170910000000.0', 'Revenue Growth': '0.092020855164', 'Cost of Revenue': '106606000000.0', 'Gross Profit': '64304000000.0', 'R&D Expenses': '4475000000.0', 'SG&A Expense': '10830000000.0', 'Operating Expenses': '15305000000.0', 'Operating Income': '48999000000.0', 'Interest Expense': '136000000.0', 'Earnings before Tax': '50155000000.0', 'Income Tax Expense': '13118000000.0', 'Net Income - Non-Controlling int': '0.0', 'Net Income - Discontinued ops': '0.0', 'Net Income': '37037000000.0', 'Preferred Dividends': '0.0', 'Net Income Com': '37037000000.0', 'EPS': '1.41969', 'EPS Diluted': '1.41969', 'Weighted Average Shs Out': '26088000000.0', 'Weighted Average Shs Out (Dil)': '26088000000.0', 'Dividend per Share': '11.338876116', 'Gross Margin': '0.376245', 'EBITDA Margin': '0.33379', 'EBIT Margin': '0.286694751624', 'Profit Margin': '0.216705', 'Free Cash Flow margin': '0.266227839214', 'EBITDA': '57048000000.0', 'EBIT': '48999000000.0', 'Consolidated Income': '37037000000.0', 'Earnings Before Tax Margin': '0.293459', 'Net Profit Margin': '0.216705'}, {'date': '2012-09-29', 'Revenue': '156508000000.0', 'Revenue Growth': '0.445814741938', 'Cost of Revenue': '87846000000.0', 'Gross Profit': '68662000000.0', 'R&D Expenses': '3381000000.0', 'SG&A Expense': '10040000000.0', 'Operating Expenses': '13421000000.0', 'Operating Income': '55241000000.0', 'Interest Expense': '1088000000.0', 'Earnings before Tax': '55763000000.0', 'Income Tax Expense': '14030000000.0', 'Net Income - Non-Controlling int': '0.0', 'Net Income - Discontinued ops': '0.0', 'Net Income': '41733000000.0', 'Preferred Dividends': '0.0', 'Net Income Com': '41733000000.0', 'EPS': '1.57673', 'EPS Diluted': '1.57673', 'Weighted Average Shs Out': '26468000000.0', 'Weighted Average Shs Out (Dil)': '26468000000.0', 'Dividend per Share': '2.63181556135', 'Gross Margin': '0.438712', 'EBITDA Margin': '0.384185', 'EBIT Margin': '0.35295959312', 'Profit Margin': '0.266651', 'Free Cash Flow margin': '0.271941370409', 'EBITDA': '60128000000.0', 'EBIT': '55241000000.0', 'Consolidated Income': '41733000000.0', 'Earnings Before Tax Margin': '0.356295', 'Net Profit Margin': '0.266651'}, {'date': '2011-09-24', 'Revenue': '108249000000.0', 'Revenue Growth': '0.659624377156', 'Cost of Revenue': '64431000000.0', 'Gross Profit': '43818000000.0', 'R&D Expenses': '2429000000.0', 'SG&A Expense': '7599000000.0', 'Operating Expenses': '10028000000.0', 'Operating Income': '33790000000.0', 'Interest Expense': '519000000.0', 'Earnings before Tax': '34205000000.0', 'Income Tax Expense': '8283000000.0', 'Net Income - Non-Controlling int': '0.0', 'Net Income - Discontinued ops': '0.0', 'Net Income': '25922000000.0', 'Preferred Dividends': '0.0', 'Net Income Com': '25922000000.0', 'EPS': '0.98833', 'EPS Diluted': '0.98833', 'Weighted Average Shs Out': '26228000000.0', 'Weighted Average Shs Out (Dil)': '26228000000.0', 'Dividend per Share': '0.0', 'Gross Margin': '0.404789', 'EBITDA Margin': '0.337537', 'EBIT Margin': '0.312150689614', 'Profit Margin': '0.239466', 'Free Cash Flow margin': '0.307337712127', 'EBITDA': '36538000000.0', 'EBIT': '33790000000.0', 'Consolidated Income': '25922000000.0', 'Earnings Before Tax Margin': '0.315984', 'Net Profit Margin': '0.239466'}, {'date': '2010-09-25', 'Revenue': '65225000000.0', 'Revenue Growth': '0.520219088684', 'Cost of Revenue': '3954100000.0', 'Gross Profit': '25684000000.0', 'R&D Expenses': '1782000000.0', 'SG&A Expense': '5517000000.0', 'Operating Expenses': '7299000000.0', 'Operating Income': '18385000000.0', 'Interest Expense': '311000000.0', 'Earnings before Tax': '18540000000.0', 'Income Tax Expense': '4527000000.0', 'Net Income - Non-Controlling int': '0.0', 'Net Income - Discontinued ops': '0.0', 'Net Income': '14013000000.0', 'Preferred Dividends': '0.0', 'Net Income Com': '14013000000.0', 'EPS': '0.54121', 'EPS Diluted': '0.54121', 'Weighted Average Shs Out': '25892000000.0', 'Weighted Average Shs Out (Dil)': '25892000000.0', 'Dividend per Share': '0.0', 'Gross Margin': '0.393775', 'EBITDA Margin': '0.30476', 'EBIT Margin': '0.281870448448', 'Profit Margin': '0.214841', 'Free Cash Flow margin': '0.254350325795', 'EBITDA': '19878000000.0', 'EBIT': '18385000000.0', 'Consolidated Income': '14013000000.0', 'Earnings Before Tax Margin': '0.284247', 'Net Profit Margin': '0.214841'}, {'date': '2009-09-26', 'Revenue': '42905000000.0', 'Revenue Growth': '0.1444', 'Cost of Revenue': '25683000000.0', 'Gross Profit': '17222000000.0', 'R&D Expenses': '1333000000.0', 'SG&A Expense': '4149000000.0', 'Operating Expenses': '5482000000.0', 'Operating Income': '11740000000.0', 'Interest Expense': '407000000.0', 'Earnings before Tax': '12066000000.0', 'Income Tax Expense': '3831000000.0', 'Net Income - Non-Controlling int': '0.0', 'Net Income - Discontinued ops': '0.0', 'Net Income': '8235000000.0', 'Preferred Dividends': '0.0', 'Net Income Com': '8235000000.0', 'EPS': '0.32426', 'EPS Diluted': '0.32426', 'Weighted Average Shs Out': '25396000000.0', 'Weighted Average Shs Out (Dil)': '25396000000.0', 'Dividend per Share': '0.0', 'Gross Margin': '0.401398', 'EBITDA Margin': '0.30782', 'EBIT Margin': '0.2812', 'Profit Margin': '0.191936', 'Free Cash Flow margin': '0.2085', 'EBITDA': '13207000000.0', 'EBIT': '12066000000.0', 'Consolidated Income': '8235000000.0', 'Earnings Before Tax Margin': '0.281226', 'Net Profit Margin': '0.191936'}]}\n",
      "0.12584886731234746\n",
      "0.2505397431664244\n",
      "{'symbol': 'SNDX', 'financials': [{'date': '2019-12-31', 'Revenue': '1517000.0', 'Revenue Growth': '0.0', 'Cost of Revenue': '0.0', 'Gross Profit': '1517000.0', 'R&D Expenses': '42994000.0', 'SG&A Expense': '16062000.0', 'Operating Expenses': '59056000.0', 'Operating Income': '-57539000.0', 'Interest Expense': '1571000.0', 'Earnings before Tax': '-56047000.0', 'Income Tax Expense': '0.0', 'Net Income - Non-Controlling int': '0.0', 'Net Income - Discontinued ops': '0.0', 'Net Income': '-56047000.0', 'Preferred Dividends': '0.0', 'Net Income Com': '-56047000.0', 'EPS': '-1.83816', 'EPS Diluted': '-1.83816', 'Weighted Average Shs Out': '30490783000.0', 'Weighted Average Shs Out (Dil)': '30490783000.0', 'Dividend per Share': '0.0', 'Gross Margin': '1.0', 'EBITDA Margin': '-35.849703', 'EBIT Margin': '-37.9294660514', 'Profit Margin': '-36.945946', 'Free Cash Flow margin': '-33.3632168754', 'EBITDA': '-54384000.0', 'EBIT': '-57539000.0', 'Consolidated Income': '-56047000.0', 'Earnings Before Tax Margin': '-36.945946', 'Net Profit Margin': '-36.945946'}, {'date': '2018-12-31', 'Revenue': '1517000.0', 'Revenue Growth': '-0.280360531309', 'Cost of Revenue': '0.0', 'Gross Profit': '1517000.0', 'R&D Expenses': '60106000.0', 'SG&A Expense': '17287000.0', 'Operating Expenses': '77393000.0', 'Operating Income': '-75876000.0', 'Interest Expense': '1942000.0', 'Earnings before Tax': '-73961000.0', 'Income Tax Expense': '0.0', 'Net Income - Non-Controlling int': '0.0', 'Net Income - Discontinued ops': '0.0', 'Net Income': '-73961000.0', 'Preferred Dividends': '0.0', 'Net Income Com': '-73961000.0', 'EPS': '-2.91512', 'EPS Diluted': '-2.91512', 'Weighted Average Shs Out': '24888738000.0', 'Weighted Average Shs Out (Dil)': '24888738000.0', 'Dividend per Share': '0.0', 'Gross Margin': '1.0', 'EBITDA Margin': '-47.423204', 'EBIT Margin': '-50.0171390903', 'Profit Margin': '-48.754779', 'Free Cash Flow margin': '-45.2986156889', 'EBITDA': '-71941000.0', 'EBIT': '-75876000.0', 'Consolidated Income': '-73961000.0', 'Earnings Before Tax Margin': '-48.754779', 'Net Profit Margin': '-48.754779'}, {'date': '2017-12-31', 'Revenue': '2108000.0', 'Revenue Growth': '0.727868852459', 'Cost of Revenue': '0.0', 'Gross Profit': '2108000.0', 'R&D Expenses': '48201000.0', 'SG&A Expense': '15861000.0', 'Operating Expenses': '64062000.0', 'Operating Income': '-61954000.0', 'Interest Expense': '1421000.0', 'Earnings before Tax': '-60802000.0', 'Income Tax Expense': '0.0', 'Net Income - Non-Controlling int': '0.0', 'Net Income - Discontinued ops': '0.0', 'Net Income': '-60802000.0', 'Preferred Dividends': '0.0', 'Net Income Com': '-60802000.0', 'EPS': '-2.89572', 'EPS Diluted': '-2.89572', 'Weighted Average Shs Out': '20047596.0', 'Weighted Average Shs Out (Dil)': '20047596.0', 'Dividend per Share': '0.0', 'Gross Margin': '1.0', 'EBITDA Margin': '-28.133302', 'EBIT Margin': '-29.389943074', 'Profit Margin': '-28.843454', 'Free Cash Flow margin': '-22.5118595825', 'EBITDA': '-59305000.0', 'EBIT': '-61954000.0', 'Consolidated Income': '-60802000.0', 'Earnings Before Tax Margin': '-28.843454', 'Net Profit Margin': '-28.843454'}, {'date': '2016-12-31', 'Revenue': '1220000.0', 'Revenue Growth': '0.945773524721', 'Cost of Revenue': '0.0', 'Gross Profit': '1220000.0', 'R&D Expenses': '31665000.0', 'SG&A Expense': '13321000.0', 'Operating Expenses': '44986000.0', 'Operating Income': '-43766000.0', 'Interest Expense': '956000.0', 'Earnings before Tax': '-44472000.0', 'Income Tax Expense': '0.0', 'Net Income - Non-Controlling int': '0.0', 'Net Income - Discontinued ops': '0.0', 'Net Income': '-44472000.0', 'Preferred Dividends': '0.0', 'Net Income Com': '-44472000.0', 'EPS': '-3.04192', 'EPS Diluted': '-3.04192', 'Weighted Average Shs Out': '13419919000.0', 'Weighted Average Shs Out (Dil)': '13419919000.0', 'Dividend per Share': '0.0', 'Gross Margin': '1.0', 'EBITDA Margin': '-35.595902', 'EBIT Margin': '-35.8737704918', 'Profit Margin': '-36.452459', 'Free Cash Flow margin': '-29.031147541', 'EBITDA': '-43427000.0', 'EBIT': '-43766000.0', 'Consolidated Income': '-44472000.0', 'Earnings Before Tax Margin': '-36.452459', 'Net Profit Margin': '-36.452459'}, {'date': '2015-12-31', 'Revenue': '627000.0', 'Revenue Growth': '1', 'Cost of Revenue': '0.0', 'Gross Profit': '627000.0', 'R&D Expenses': '9549000.0', 'SG&A Expense': '11591000.0', 'Operating Expenses': '21140000.0', 'Operating Income': '-20513000.0', 'Interest Expense': '1414000.0', 'Earnings before Tax': '-103845000.0', 'Income Tax Expense': '0.0', 'Net Income - Non-Controlling int': '79726000.0', 'Net Income - Discontinued ops': '0.0', 'Net Income': '-103845000.0', 'Preferred Dividends': '0.0', 'Net Income Com': '-103845000.0', 'EPS': '-1519.27', 'EPS Diluted': '-1519.27', 'Weighted Average Shs Out': '17373000.0', 'Weighted Average Shs Out (Dil)': '68352.0', 'Dividend per Share': '0.0', 'Gross Margin': '1.0', 'EBITDA Margin': '-163.333', 'EBIT Margin': '-163.3668', 'Profit Margin': '-165.622', 'Free Cash Flow margin': '-3.9506', 'EBITDA': '-102410000.0', 'EBIT': '-102431000.0', 'Consolidated Income': '-24119000.0', 'Earnings Before Tax Margin': '-165.622', 'Net Profit Margin': '-165.622'}, {'date': '2014-12-31', 'Revenue': '0.0', 'Revenue Growth': '', 'Cost of Revenue': '0.0', 'Gross Profit': '0.0', 'R&D Expenses': '10175000.0', 'SG&A Expense': '11157000.0', 'Operating Expenses': '21332000.0', 'Operating Income': '-21332000.0', 'Interest Expense': '289000.0', 'Earnings before Tax': '-26357000.0', 'Income Tax Expense': '0.0', 'Net Income - Non-Controlling int': '6529000.0', 'Net Income - Discontinued ops': '0.0', 'Net Income': '-26357000.0', 'Preferred Dividends': '0.0', 'Net Income Com': '-26357000.0', 'EPS': '-453.02', 'EPS Diluted': '-453.02', 'Weighted Average Shs Out': '', 'Weighted Average Shs Out (Dil)': '58181.0', 'Dividend per Share': '0.0', 'Gross Margin': '0.0', 'EBITDA Margin': '', 'EBIT Margin': '0.0', 'Profit Margin': '', 'Free Cash Flow margin': '0.0', 'EBITDA': '-26053000.0', 'EBIT': '-26068000.0', 'Consolidated Income': '-19828000.0', 'Earnings Before Tax Margin': '0.0', 'Net Profit Margin': '0.0'}]}\n",
      "0.0\n",
      "0.0\n",
      "{'symbol': 'TSLA', 'financials': [{'date': '2019-12-31', 'Revenue': '24578000000.0', 'Revenue Growth': '0.145225901843', 'Cost of Revenue': '20509000000.0', 'Gross Profit': '4069000000.0', 'R&D Expenses': '1343000000.0', 'SG&A Expense': '2646000000.0', 'Operating Expenses': '4138000000.0', 'Operating Income': '-69000000.0', 'Interest Expense': '685000000.0', 'Earnings before Tax': '-665000000.0', 'Income Tax Expense': '110000000.0', 'Net Income - Non-Controlling int': '0.0', 'Net Income - Discontinued ops': '0.0', 'Net Income': '-862000000.0', 'Preferred Dividends': '0.0', 'Net Income Com': '-862000000.0', 'EPS': '-0.97401', 'EPS Diluted': '-0.97401', 'Weighted Average Shs Out': '177000000.0', 'Weighted Average Shs Out (Dil)': '177000000.0', 'Dividend per Share': '0.0', 'Gross Margin': '0.165554560989503', 'EBITDA Margin': '0.084913', 'EBIT Margin': '-0.00280738872162', 'Profit Margin': '-0.035072', 'Free Cash Flow margin': '0.0438603629262', 'EBITDA': '2087000000.0', 'EBIT': '-69000000.0', 'Consolidated Income': '-862000000.0', 'Earnings Before Tax Margin': '-0.027057', 'Net Profit Margin': '-0.035072'}, {'date': '2018-12-31', 'Revenue': '21461268000.0', 'Revenue Growth': '0.825131597735', 'Cost of Revenue': '17419247000.0', 'Gross Profit': '4042021000.0', 'R&D Expenses': '1460370000.0', 'SG&A Expense': '2834491000.0', 'Operating Expenses': '4430094000.0', 'Operating Income': '-388073000.0', 'Interest Expense': '663071000.0', 'Earnings before Tax': '-1004745000.0', 'Income Tax Expense': '57837000.0', 'Net Income - Non-Controlling int': '0.0', 'Net Income - Discontinued ops': '0.0', 'Net Income': '-976091000.0', 'Preferred Dividends': '0.0', 'Net Income Com': '-976091000.0', 'EPS': '-1.14481', 'EPS Diluted': '-1.14481', 'Weighted Average Shs Out': '170525000.0', 'Weighted Average Shs Out (Dil)': '170525000.0', 'Dividend per Share': '0.0', 'Gross Margin': '0.188340269549777', 'EBITDA Margin': '0.07669', 'EBIT Margin': '-0.0180824823585', 'Profit Margin': '-0.045482', 'Free Cash Flow margin': '-0.000136152253446', 'EBITDA': '1645867000.0', 'EBIT': '-388073000.0', 'Consolidated Income': '-976091000.0', 'Earnings Before Tax Margin': '-0.046817', 'Net Profit Margin': '-0.045482'}, {'date': '2017-12-31', 'Revenue': '11758751000.0', 'Revenue Growth': '0.679789895391', 'Cost of Revenue': '9536264000.0', 'Gross Profit': '2222487000.0', 'R&D Expenses': '1378073000.0', 'SG&A Expense': '2476500000.0', 'Operating Expenses': '3854573000.0', 'Operating Income': '-1632086000.0', 'Interest Expense': '471259000.0', 'Earnings before Tax': '-2209032000.0', 'Income Tax Expense': '-691100000.0', 'Net Income - Non-Controlling int': '0.0', 'Net Income - Discontinued ops': '0.0', 'Net Income': '-1961400000.0', 'Preferred Dividends': '0.0', 'Net Income Com': '-1961400000.0', 'EPS': '-2.36658', 'EPS Diluted': '-2.36658', 'Weighted Average Shs Out': '165758000.0', 'Weighted Average Shs Out (Dil)': '165758000.0', 'Dividend per Share': '0.0', 'Gross Margin': '0.189007063760428', 'EBITDA Margin': '-0.046369', 'EBIT Margin': '-0.138797564469', 'Profit Margin': '-0.166803', 'Free Cash Flow margin': '-0.295564384347', 'EBITDA': '-545238000.0', 'EBIT': '-1632086000.0', 'Consolidated Income': '-1961400000.0', 'Earnings Before Tax Margin': '-0.187863', 'Net Profit Margin': '-0.166803'}, {'date': '2016-12-31', 'Revenue': '7000132000.0', 'Revenue Growth': '0.730125740696', 'Cost of Revenue': '5400875000.0', 'Gross Profit': '1599257000.0', 'R&D Expenses': '834408000.0', 'SG&A Expense': '1432189000.0', 'Operating Expenses': '2266597000.0', 'Operating Income': '-667340000.0', 'Interest Expense': '198810000.0', 'Earnings before Tax': '-746348000.0', 'Income Tax Expense': '26698000.0', 'Net Income - Non-Controlling int': '0.0', 'Net Income - Discontinued ops': '0.0', 'Net Income': '-674914000.0', 'Preferred Dividends': '0.0', 'Net Income Com': '-674914000.0', 'EPS': '-0.936', 'EPS Diluted': '-0.936', 'Weighted Average Shs Out': '144212000.0', 'Weighted Average Shs Out (Dil)': '144212000.0', 'Dividend per Share': '0.0', 'Gross Margin': '0.228460977592994', 'EBITDA Margin': '0.071098', 'EBIT Margin': '-0.0953324880159', 'Profit Margin': '-0.096414', 'Free Cash Flow margin': '-0.200657787596', 'EBITDA': '497693000.0', 'EBIT': '-667340000.0', 'Consolidated Income': '-674914000.0', 'Earnings Before Tax Margin': '-0.106619', 'Net Profit Margin': '-0.096414'}, {'date': '2015-12-31', 'Revenue': '4046025000.0', 'Revenue Growth': '0.265173545966', 'Cost of Revenue': '3122522000.0', 'Gross Profit': '923503000.0', 'R&D Expenses': '717900000.0', 'SG&A Expense': '922232000.0', 'Operating Expenses': '1640132000.0', 'Operating Income': '-716629000.0', 'Interest Expense': '118851000.0', 'Earnings before Tax': '-875624000.0', 'Income Tax Expense': '13039000.0', 'Net Income - Non-Controlling int': '0.0', 'Net Income - Discontinued ops': '0.0', 'Net Income': '-888663000.0', 'Preferred Dividends': '0.0', 'Net Income Com': '-888663000.0', 'EPS': '-1.38635', 'EPS Diluted': '-1.38635', 'Weighted Average Shs Out': '128202000.0', 'Weighted Average Shs Out (Dil)': '128202000.0', 'Dividend per Share': '0.0', 'Gross Margin': '0.228249454711723', 'EBITDA Margin': '-0.082595', 'EBIT Margin': '-0.177119271384', 'Profit Margin': '-0.219639', 'Free Cash Flow margin': '-0.533696405732', 'EBITDA': '-334183000.0', 'EBIT': '-716629000.0', 'Consolidated Income': '-888663000.0', 'Earnings Before Tax Margin': '-0.216416', 'Net Profit Margin': '-0.219639'}, {'date': '2014-12-31', 'Revenue': '3198000000.0', 'Revenue Growth': '0.588673621461', 'Cost of Revenue': '2317000000.0', 'Gross Profit': '881000000.0', 'R&D Expenses': '465000000.0', 'SG&A Expense': '604000000.0', 'Operating Expenses': '1068000000.0', 'Operating Income': '-187000000.0', 'Interest Expense': '100886000.0', 'Earnings before Tax': '-285000000.0', 'Income Tax Expense': '9000000.0', 'Net Income - Non-Controlling int': '0.0', 'Net Income - Discontinued ops': '0.0', 'Net Income': '-294000000.0', 'Preferred Dividends': '0.0', 'Net Income Com': '-294000000.0', 'EPS': '-2.352', 'EPS Diluted': '-2.352', 'Weighted Average Shs Out': '124539343.0', 'Weighted Average Shs Out (Dil)': '124539343.0', 'Dividend per Share': '0.0', 'Gross Margin': '0.275484677923702', 'EBITDA Margin': '0.014942', 'EBIT Margin': '-0.0583703002417', 'Profit Margin': '-0.091932', 'Free Cash Flow margin': '-0.321171877052', 'EBITDA': '47786000.0', 'EBIT': '-186689000.0', 'Consolidated Income': '-294040000.0', 'Earnings Before Tax Margin': '-0.089118', 'Net Profit Margin': '-0.091932'}, {'date': '2013-12-31', 'Revenue': '2013000000.0', 'Revenue Growth': '3.87409200969', 'Cost of Revenue': '1557000000.0', 'Gross Profit': '456000000.0', 'R&D Expenses': '232000000.0', 'SG&A Expense': '286000000.0', 'Operating Expenses': '518000000.0', 'Operating Income': '-61000000.0', 'Interest Expense': '32934000.0', 'Earnings before Tax': '-71000000.0', 'Income Tax Expense': '3000000.0', 'Net Income - Non-Controlling int': '0.0', 'Net Income - Discontinued ops': '0.0', 'Net Income': '-74000000.0', 'Preferred Dividends': '0.0', 'Net Income Com': '-74000000.0', 'EPS': '-0.62185', 'EPS Diluted': '-0.62185', 'Weighted Average Shs Out': '119421414.0', 'Weighted Average Shs Out (Dil)': '119421414.0', 'Dividend per Share': '0.0', 'Gross Margin': '0.226527570789866', 'EBITDA Margin': '0.033797', 'EBIT Margin': '-0.0304361170819', 'Profit Margin': '-0.036761', 'Free Cash Flow margin': '-0.00309412087235', 'EBITDA': '68034000.0', 'EBIT': '-61283000.0', 'Consolidated Income': '-74014000.0', 'Earnings Before Tax Margin': '-0.035271', 'Net Profit Margin': '-0.036761'}, {'date': '2012-12-31', 'Revenue': '413000000.0', 'Revenue Growth': '1.02450980392', 'Cost of Revenue': '383000000.0', 'Gross Profit': '30000000.0', 'R&D Expenses': '274000000.0', 'SG&A Expense': '150000000.0', 'Operating Expenses': '425000000.0', 'Operating Income': '-394000000.0', 'Interest Expense': '254000.0', 'Earnings before Tax': '-396000000.0', 'Income Tax Expense': '136000.0', 'Net Income - Non-Controlling int': '0.0', 'Net Income - Discontinued ops': '0.0', 'Net Income': '-396000000.0', 'Preferred Dividends': '0.0', 'Net Income Com': '-396000000.0', 'EPS': '-3.70093', 'EPS Diluted': '-3.70093', 'Weighted Average Shs Out': '107349188.0', 'Weighted Average Shs Out (Dil)': '107349188.0', 'Dividend per Share': '0.0', 'Gross Margin': '0.0726392251815981', 'EBITDA Margin': '-0.888489', 'EBIT Margin': '-0.954088990843', 'Profit Margin': '-0.958838', 'Free Cash Flow margin': '-1.22275054688', 'EBITDA': '-366946000.0', 'EBIT': '-394283000.0', 'Consolidated Income': '-396213000.0', 'Earnings Before Tax Margin': '-0.958838', 'Net Profit Margin': '-0.958838'}, {'date': '2011-12-31', 'Revenue': '204000000.0', 'Revenue Growth': '0.74358974359', 'Cost of Revenue': '143000000.0', 'Gross Profit': '61000000.0', 'R&D Expenses': '209000000.0', 'SG&A Expense': '104000000.0', 'Operating Expenses': '313000000.0', 'Operating Income': '-251000000.0', 'Interest Expense': '43000.0', 'Earnings before Tax': '-254000000.0', 'Income Tax Expense': '489000.0', 'Net Income - Non-Controlling int': '0.0', 'Net Income - Discontinued ops': '0.0', 'Net Income': '-254000000.0', 'Preferred Dividends': '0.0', 'Net Income Com': '-254000000.0', 'EPS': '-2.54', 'EPS Diluted': '-2.54', 'Weighted Average Shs Out': '100388815.0', 'Weighted Average Shs Out (Dil)': '100388815.0', 'Dividend per Share': '0.0', 'Gross Margin': '0.299019607843137', 'EBITDA Margin': '-1.162044', 'EBIT Margin': '-1.23132362589', 'Profit Margin': '-1.245098', 'Free Cash Flow margin': '-1.5288726119', 'EBITDA': '-237057000.0', 'EBIT': '-251488000.0', 'Consolidated Income': '-254411000.0', 'Earnings Before Tax Margin': '-1.245098', 'Net Profit Margin': '-1.245098'}, {'date': '2010-12-31', 'Revenue': '117000000.0', 'Revenue Growth': '0.0451747764487', 'Cost of Revenue': '85000000.0', 'Gross Profit': '32000000.0', 'R&D Expenses': '93000000.0', 'SG&A Expense': '85000000.0', 'Operating Expenses': '179000000.0', 'Operating Income': '-147000000.0', 'Interest Expense': '992000.0', 'Earnings before Tax': '-154000000.0', 'Income Tax Expense': '173000.0', 'Net Income - Non-Controlling int': '0.0', 'Net Income - Discontinued ops': '0.0', 'Net Income': '-154000000.0', 'Preferred Dividends': '0.0', 'Net Income Com': '-154000000.0', 'EPS': '-3.01961', 'EPS Diluted': '-3.01961', 'Weighted Average Shs Out': '50718302.0', 'Weighted Average Shs Out (Dil)': '50718302.0', 'Dividend per Share': '0.0', 'Gross Margin': '0.273504273504274', 'EBITDA Margin': '-1.217162', 'EBIT Margin': '-1.312', 'Profit Margin': '-1.316239', 'Free Cash Flow margin': '-1.9978', 'EBITDA': '-142408000.0', 'EBIT': '-153163000.0', 'Consolidated Income': '-154328000.0', 'Earnings Before Tax Margin': '-1.316239', 'Net Profit Margin': '-1.316239'}, {'date': '2009-12-31', 'Revenue': '111943000.0', 'Revenue Growth': '6.5935', 'Cost of Revenue': '102408000.0', 'Gross Profit': '9535000.0', 'R&D Expenses': '19282000.0', 'SG&A Expense': '42150000.0', 'Operating Expenses': '61432000.0', 'Operating Income': '-51897000.0', 'Interest Expense': '2531000.0', 'Earnings before Tax': '-55714000.0', 'Income Tax Expense': '26000.0', 'Net Income - Non-Controlling int': '0.0', 'Net Income - Discontinued ops': '0.0', 'Net Income': '-55740000.0', 'Preferred Dividends': '0.0', 'Net Income Com': '-55740000.0', 'EPS': '-7.94', 'EPS Diluted': '-7.94', 'Weighted Average Shs Out': '93197938.0', 'Weighted Average Shs Out (Dil)': '7021963.0', 'Dividend per Share': '0.0', 'Gross Margin': '0.0852', 'EBITDA Margin': '-0.413', 'EBIT Margin': '-0.4751', 'Profit Margin': '-0.498', 'Free Cash Flow margin': '-0.8282', 'EBITDA': '-46243000.0', 'EBIT': '-53183000.0', 'Consolidated Income': '-55740000.0', 'Earnings Before Tax Margin': '-0.4977', 'Net Profit Margin': '-0.4979'}]}\n",
      "0.0\n",
      "0.0\n"
     ]
    }
   ],
   "source": [
    "DivYield_dataframe['symbol'] = DivYield_dataframe.index\n",
    "DivYield_dataframe['cost_of_equity'] = DivYield_dataframe['symbol'].apply(lambda x: cost_of_equity(x))"
   ]
  },
  {
   "cell_type": "code",
   "execution_count": 81,
   "id": "illegal-novel",
   "metadata": {},
   "outputs": [
    {
     "data": {
      "text/html": [
       "<div>\n",
       "<style scoped>\n",
       "    .dataframe tbody tr th:only-of-type {\n",
       "        vertical-align: middle;\n",
       "    }\n",
       "\n",
       "    .dataframe tbody tr th {\n",
       "        vertical-align: top;\n",
       "    }\n",
       "\n",
       "    .dataframe thead th {\n",
       "        text-align: right;\n",
       "    }\n",
       "</style>\n",
       "<table border=\"1\" class=\"dataframe\">\n",
       "  <thead>\n",
       "    <tr style=\"text-align: right;\">\n",
       "      <th></th>\n",
       "      <th>Dividend_Yield</th>\n",
       "      <th>latest_Price</th>\n",
       "      <th>latest_Dividend</th>\n",
       "      <th>market_Capit_in_M</th>\n",
       "      <th>company_Name</th>\n",
       "      <th>exchange</th>\n",
       "      <th>symbol</th>\n",
       "      <th>cost_of_equity</th>\n",
       "    </tr>\n",
       "  </thead>\n",
       "  <tbody>\n",
       "    <tr>\n",
       "      <th>AAPL</th>\n",
       "      <td>0.006775</td>\n",
       "      <td>121.03</td>\n",
       "      <td>0.82</td>\n",
       "      <td>2.031864e+06</td>\n",
       "      <td>Apple Inc</td>\n",
       "      <td>Nasdaq Global Select</td>\n",
       "      <td>AAPL</td>\n",
       "      <td>0.25054</td>\n",
       "    </tr>\n",
       "    <tr>\n",
       "      <th>SNDX</th>\n",
       "      <td>0.000000</td>\n",
       "      <td>22.91</td>\n",
       "      <td>0.00</td>\n",
       "      <td>1.105082e+03</td>\n",
       "      <td>Syndax Pharmaceuticals Inc</td>\n",
       "      <td>Nasdaq Global Select</td>\n",
       "      <td>SNDX</td>\n",
       "      <td>0.00000</td>\n",
       "    </tr>\n",
       "    <tr>\n",
       "      <th>TSLA</th>\n",
       "      <td>0.000000</td>\n",
       "      <td>693.73</td>\n",
       "      <td>0.00</td>\n",
       "      <td>6.658795e+05</td>\n",
       "      <td>Tesla Inc</td>\n",
       "      <td>Nasdaq Global Select</td>\n",
       "      <td>TSLA</td>\n",
       "      <td>0.00000</td>\n",
       "    </tr>\n",
       "  </tbody>\n",
       "</table>\n",
       "</div>"
      ],
      "text/plain": [
       "      Dividend_Yield  latest_Price  latest_Dividend  market_Capit_in_M  \\\n",
       "AAPL        0.006775        121.03             0.82       2.031864e+06   \n",
       "SNDX        0.000000         22.91             0.00       1.105082e+03   \n",
       "TSLA        0.000000        693.73             0.00       6.658795e+05   \n",
       "\n",
       "                    company_Name              exchange symbol  cost_of_equity  \n",
       "AAPL                   Apple Inc  Nasdaq Global Select   AAPL         0.25054  \n",
       "SNDX  Syndax Pharmaceuticals Inc  Nasdaq Global Select   SNDX         0.00000  \n",
       "TSLA                   Tesla Inc  Nasdaq Global Select   TSLA         0.00000  "
      ]
     },
     "execution_count": 81,
     "metadata": {},
     "output_type": "execute_result"
    }
   ],
   "source": [
    "DivYield_dataframe"
   ]
  },
  {
   "cell_type": "code",
   "execution_count": null,
   "id": "friendly-contamination",
   "metadata": {},
   "outputs": [],
   "source": []
  }
 ],
 "metadata": {
  "kernelspec": {
   "display_name": "Python [conda env:pyvizenv] *",
   "language": "python",
   "name": "conda-env-pyvizenv-py"
  },
  "language_info": {
   "codemirror_mode": {
    "name": "ipython",
    "version": 3
   },
   "file_extension": ".py",
   "mimetype": "text/x-python",
   "name": "python",
   "nbconvert_exporter": "python",
   "pygments_lexer": "ipython3",
   "version": "3.8.5"
  }
 },
 "nbformat": 4,
 "nbformat_minor": 5
}
