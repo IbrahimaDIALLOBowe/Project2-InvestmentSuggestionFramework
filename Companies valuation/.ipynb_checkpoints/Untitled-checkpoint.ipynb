{
 "cells": [
  {
   "cell_type": "markdown",
   "metadata": {},
   "source": [
    "## Companies valuation (valuation computation, balance sheet driven)(math)"
   ]
  },
  {
   "cell_type": "code",
   "execution_count": null,
   "metadata": {},
   "outputs": [],
   "source": [
    "from yahoofinance import HistoricalPrices\n",
    ">>> req = HistoricalPrices('AAPL')\n",
    "Object<HistoricalPrices>"
   ]
  },
  {
   "cell_type": "markdown",
   "metadata": {},
   "source": [
    "### For Each of the stocks I should have a BalanceSheetQuarterly"
   ]
  },
  {
   "cell_type": "code",
   "execution_count": null,
   "metadata": {},
   "outputs": [],
   "source": [
    " from yahoofinance import BalanceSheetQuarterly\n",
    ">>> TESTLA = BalanceSheetQuarterly('tsl')\n",
    "Object<BalanceSheetQuarterly>"
   ]
  },
  {
   "cell_type": "code",
   "execution_count": null,
   "metadata": {},
   "outputs": [],
   "source": [
    "## We can do all of the stocks in her.\n",
    "\n",
    "tsldf_tesla = tesla.to_dfs(data_format='raw')\n",
    "#or \n",
    "#tsl.to_csv(path=None, sep=', ', data_format='raw', csv_dialect='excel')"
   ]
  },
  {
   "cell_type": "markdown",
   "metadata": {},
   "source": [
    "### Company Valuation base on the balance sheet"
   ]
  },
  {
   "cell_type": "code",
   "execution_count": null,
   "metadata": {},
   "outputs": [],
   "source": [
    "df_tesla [company valution = df_tesla(total assets or  assets)- df_tesla(intangible assets or intangible) - df_tesla(liabilities)]"
   ]
  }
 ],
 "metadata": {
  "kernelspec": {
   "display_name": "Python [conda env:pyvizenv] *",
   "language": "python",
   "name": "conda-env-pyvizenv-py"
  },
  "language_info": {
   "codemirror_mode": {
    "name": "ipython",
    "version": 3
   },
   "file_extension": ".py",
   "mimetype": "text/x-python",
   "name": "python",
   "nbconvert_exporter": "python",
   "pygments_lexer": "ipython3",
   "version": "3.8.5"
  }
 },
 "nbformat": 4,
 "nbformat_minor": 4
}
