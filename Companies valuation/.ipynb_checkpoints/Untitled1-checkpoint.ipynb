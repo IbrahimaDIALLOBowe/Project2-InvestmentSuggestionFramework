{
 "cells": [
  {
   "cell_type": "code",
   "execution_count": null,
   "metadata": {},
   "outputs": [],
   "source": []
  },
  {
   "cell_type": "code",
   "execution_count": null,
   "metadata": {},
   "outputs": [],
   "source": [
    "import yfinance as yf\n",
    "import matplotlib.pyplot as plt\n",
    "import math\n",
    "import numpy as np\n",
    "import pandas as pd\n",
    "from pandas.plotting import register_matplotlib_converters\n",
    "register_matplotlib_converters()\n",
    "from scipy.stats import norm\n"
   ]
  },
  {
   "cell_type": "code",
   "execution_count": null,
   "metadata": {},
   "outputs": [],
   "source": [
    "pandas_type = \"pandas.core.frame.DataFrame\""
   ]
  },
  {
   "cell_type": "code",
   "execution_count": null,
   "metadata": {},
   "outputs": [],
   "source": [
    "def download_stock_data(ticker: str) -> (str, pandas_type):\n",
    "    \"\"\"\n",
    "    Downloads and reshapes stock data based on the yfinance library.\n",
    "    \"\"\"\n",
    "    stock_data = yf.download(ticker)\n",
    "    columns_to_remove = [col for col in stock_data.columns if col != \"Adj Close\"] #lists all column not 'Adj Close'\n",
    "    stock = stock_data.drop(columns = columns_to_remove)\n",
    "    stock = stock[-260:] #260 is the expected number of business days in 1 year (conventional time frame to compute VaR)\n",
    "    return ticker, stock"
   ]
  },
  {
   "cell_type": "code",
   "execution_count": null,
   "metadata": {},
   "outputs": [],
   "source": [
    "def calculate_stock_return(ticker: str, stock: pandas_type) -> (str, pandas_type):\n",
    "    \"\"\"\n",
    "    Calculates daily returns over the chosen timeframe.\n",
    "    Plots stock returns.\n",
    "    \"\"\"\n",
    "    stock = stock[1:].values / stock[:-1] - 1 #computes stock returns\n",
    "    stock.dropna() #drops all NAs\n",
    "    \n",
    "    #plots\n",
    "    fig = plt.figure(figsize=(20,10))\n",
    "    ax = fig.add_subplot(111)\n",
    "    ax.plot(stock, linewidth = 2)\n",
    "    ax.set_xlabel('Time', fontsize=18)\n",
    "    ax.set_ylabel('% Return', fontsize=18)\n",
    "    ax.set_title(\"Return Time Series\", size=25, weight = \"bold\")\n",
    "    ax.grid(linestyle='-', linewidth='0.5', color='red')\n",
    "    \n",
    "    return ticker, stock"
   ]
  },
  {
   "cell_type": "code",
   "execution_count": null,
   "metadata": {},
   "outputs": [],
   "source": [
    "def standard_deviation(stock: pandas_type) -> pandas_type:\n",
    "    \"\"\"\n",
    "    Calculates standard deviation of stock over the chosen timeframe.\n",
    "    \"\"\"\n",
    "    mean = stock.mean()\n",
    "    stock = (stock - mean)**2\n",
    "    \n",
    "    return math.sqrt(stock.mean())"
   ]
  },
  {
   "cell_type": "code",
   "execution_count": null,
   "metadata": {},
   "outputs": [],
   "source": [
    "def show_distribution(ticker: str, stock: pandas_type) -> None:\n",
    "    \"\"\"\n",
    "    Plots the distribution of returns of the stock over the chosen timeframe.\n",
    "    \"\"\"\n",
    "    normal_dist = np.random.normal(0, standard_deviation(stock), len(stock))\n",
    "    \n",
    "    #plots\n",
    "    fig = plt.figure(figsize=(20,10))\n",
    "    fig = plt.hist(normal_dist, bins=30, density=True, alpha=0.5,\n",
    "                   histtype='stepfilled', color='red', edgecolor = 'gray', \n",
    "                   label = \"Normal Distribution\")\n",
    "    fig = plt.hist(stock.transpose(), bins=30, density=True, alpha=0.5,\n",
    "                   histtype='stepfilled', color='steelblue', edgecolor = 'gray', \n",
    "                   label = ticker + \" Return\")\n",
    "    fig = plt.xlabel('% Return', fontsize=18)\n",
    "    fig = plt.ylabel('Nb of Times', fontsize=18)\n",
    "    fig = plt.title('Return Distribution', fontsize=25, weight = \"bold\")\n",
    "    fig = plt.legend(fontsize=18)\n",
    "    \n",
    "    return None"
   ]
  },
  {
   "cell_type": "markdown",
   "metadata": {},
   "source": [
    "### Calculating the VaR of Stocks name [Stocks name]"
   ]
  },
  {
   "cell_type": "code",
   "execution_count": null,
   "metadata": {},
   "outputs": [],
   "source": [
    "def value_at_risk(alpha: float, ticker: str, stock: pandas_type, quantile: bool = True) -> float:\n",
    "    \"\"\"\n",
    "    Calculates value-at-risk over the chosen timeframe.\n",
    "    \"\"\"\n",
    "    ticker_value = yf.Ticker(ticker)\n",
    "    value = ticker_value.info[\"bid\"]\n",
    "    \n",
    "    if quantile == True:\n",
    "        \n",
    "        percentage = stock.quantile(alpha)\n",
    "        value *= percentage[0]\n",
    "        value = np.around(value, 2)\n",
    "        percentage = round(percentage[0] * 100, 2)\n",
    "        print(f\"Based on quantile:\\n The value-at-risk of one stock of company \" + \n",
    "              f\"{ticker} is {value} in {ticker_value.info['currency']} \" +\n",
    "              f\"or {percentage}% of current value ${ticker_value.info['bid']} (as at today).\")\n",
    "        \n",
    "        return stock.quantile(alpha)\n",
    "    \n",
    "    else:\n",
    "        \n",
    "        alpha = norm.ppf(1 - alpha, stock.mean(), standard_deviation(stock))\n",
    "        value -= value * (alpha + 1)\n",
    "        value = np.around(value, 2)\n",
    "        alpha = np.around(alpha * 100, 2)\n",
    "        print(f\"Based on normal distribution:\\n The value-at-risk of one stock of company \" + \n",
    "              f\"{ticker} is {value[0]} in {ticker_value.info['currency']} \" +\n",
    "              f\"or -{alpha[0]}% of current value ${ticker_value.info['bid']} (as at today).\")\n",
    "        \n",
    "        return value"
   ]
  },
  {
   "cell_type": "markdown",
   "metadata": {},
   "source": [
    "** Mathematically, the potential future exposure is an estimate of the (100-⍺)% one-tailed historic simulation VaR with a [x] days holding period (e.g. VaR 10 99%). The application of the holding value is multiplying the 1-year VaR by:\n",
    "\n",
    "With 260 the number of business days in one year."
   ]
  },
  {
   "cell_type": "code",
   "execution_count": null,
   "metadata": {},
   "outputs": [],
   "source": [
    "stock = download_stock_data(\"tsl for example\")\n",
    "stock = calculate_stock_return(stock[0],stock[1])"
   ]
  },
  {
   "cell_type": "code",
   "execution_count": null,
   "metadata": {},
   "outputs": [],
   "source": [
    "show_distribution(stock[0],stock[1])"
   ]
  },
  {
   "cell_type": "code",
   "execution_count": null,
   "metadata": {},
   "outputs": [],
   "source": [
    "alpha = 0.05\n",
    "VaR95_actual_percentile = value_at_risk(alpha, stock[0], stock[1], True)\n",
    "VaR95_actual_percentile = value_at_risk(alpha, stock[0], stock[1], False)"
   ]
  },
  {
   "cell_type": "code",
   "execution_count": null,
   "metadata": {},
   "outputs": [],
   "source": [
    "## Comments TODO\n",
    "Based on quantile:\n"
   ]
  },
  {
   "cell_type": "code",
   "execution_count": null,
   "metadata": {},
   "outputs": [],
   "source": [
    "# verification\n",
    "var_95 = np.percentile(stock[1], 5)\n",
    "print(round(var_95*100,2))"
   ]
  },
  {
   "cell_type": "code",
   "execution_count": null,
   "metadata": {},
   "outputs": [],
   "source": [
    "alpha = 0.01\n",
    "VaR99_actual_percentile = value_at_risk(alpha, stock[0], stock[1], True)\n",
    "VaR99_actual_percentile = value_at_risk(alpha, stock[0], stock[1], False)"
   ]
  },
  {
   "cell_type": "code",
   "execution_count": null,
   "metadata": {},
   "outputs": [],
   "source": [
    "# Comments TODO"
   ]
  },
  {
   "cell_type": "code",
   "execution_count": null,
   "metadata": {},
   "outputs": [],
   "source": [
    "# verification\n",
    "var_99 = np.percentile(stock[1], 1)\n",
    "print(round(var_99*100,2))"
   ]
  },
  {
   "cell_type": "code",
   "execution_count": null,
   "metadata": {},
   "outputs": [],
   "source": [
    "## Calculating the Expected Shortfall of Stocks name"
   ]
  },
  {
   "cell_type": "code",
   "execution_count": null,
   "metadata": {},
   "outputs": [],
   "source": [
    "\n",
    "def expected_shortfall(alpha: float, ticker: str, stock: pandas_type, quantile: bool = True) -> float:\n",
    "    \"\"\"\n",
    "    Calculates expected shortfall over the chosen timeframe.\n",
    "    \"\"\"\n",
    "    ticker_value = yf.Ticker(ticker)\n",
    "    value = ticker_value.info[\"bid\"]\n",
    "    percentage = value_at_risk(alpha, ticker, stock, quantile)\n",
    "    \n",
    "    if quantile == True:\n",
    "        \n",
    "        stock = stock[stock <= percentage]\n",
    "        value *= stock.mean()\n",
    "        print(f\"Based on quantile:\\n The expected shortfall of one stock of company \" + \n",
    "              f\"{ticker} is {round(value[0],2)} in {ticker_value.info['currency']} \" +\n",
    "              f\"or {round(stock.mean()[0]*100,2)}% of current value ${ticker_value.info['bid']} (as at today).\")\n",
    "        \n",
    "        return stock.mean()\n",
    "    \n",
    "    else:\n",
    "        \n",
    "        percentage = norm.ppf(1 - alpha, stock.mean(), standard_deviation(stock))\n",
    "        stock = stock[stock <= -percentage]\n",
    "        percentabge = (value * stock.mean())/ value\n",
    "        value *= stock.mean()\n",
    "        value = np.around(value, 2)\n",
    "        percentage = np.around(percentage * 100, 2)\n",
    "        \n",
    "        print(f\"Based on normal distribution:\\n The expected shortfall of one stock of company \" + \n",
    "              f\"{ticker} is {value[0]} in {ticker_value.info['currency']} \" +\n",
    "              f\"or {percentage[0]}% of current value ${ticker_value.info['bid']} (as at today).\")\n",
    "        return value"
   ]
  },
  {
   "cell_type": "code",
   "execution_count": null,
   "metadata": {},
   "outputs": [],
   "source": [
    "alpha = 0.05\n",
    "CVaR95_actual_percentile = expected_shortfall(alpha, stock[0], stock[1], True)\n",
    "CVaR95_actual_percentile = expected_shortfall(alpha, stock[0], stock[1], False)"
   ]
  },
  {
   "cell_type": "code",
   "execution_count": null,
   "metadata": {},
   "outputs": [],
   "source": [
    "## Comments"
   ]
  },
  {
   "cell_type": "code",
   "execution_count": null,
   "metadata": {},
   "outputs": [],
   "source": [
    "#verification\n",
    "stock_return = stock[1]\n",
    "var_95 = np.percentile(stock_return, 5)\n",
    "cvar_95 = stock_return[stock_return <= var_95].mean()\n",
    "print(round(cvar_95[0]*100, 2))"
   ]
  },
  {
   "cell_type": "code",
   "execution_count": null,
   "metadata": {},
   "outputs": [],
   "source": [
    "alpha = 0.01\n",
    "CVaR99_actual_percentile = expected_shortfall(alpha, stock[0], stock[1], True)\n",
    "CVaR99_actual_percentile = expected_shortfall(alpha, stock[0], stock[1], False)"
   ]
  },
  {
   "cell_type": "code",
   "execution_count": null,
   "metadata": {},
   "outputs": [],
   "source": [
    "## Comments"
   ]
  }
 ],
 "metadata": {
  "kernelspec": {
   "display_name": "Python [conda env:pyvizenv] *",
   "language": "python",
   "name": "conda-env-pyvizenv-py"
  },
  "language_info": {
   "codemirror_mode": {
    "name": "ipython",
    "version": 3
   },
   "file_extension": ".py",
   "mimetype": "text/x-python",
   "name": "python",
   "nbconvert_exporter": "python",
   "pygments_lexer": "ipython3",
   "version": "3.8.5"
  }
 },
 "nbformat": 4,
 "nbformat_minor": 4
}
