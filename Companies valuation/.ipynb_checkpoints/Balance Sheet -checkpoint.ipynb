{
 "cells": [
  {
   "cell_type": "code",
   "execution_count": 98,
   "id": "minute-nashville",
   "metadata": {},
   "outputs": [
    {
     "name": "stdout",
     "output_type": "stream",
     "text": [
      "[{'date': '2020-09-26', 'symbol': 'AAPL', 'period': 'FY', 'liabilitiesandstockholdersequity': '323888000000.000000', 'liabilities': '258549000000.000000', 'liabilitiescurrent': '105392000000.000000', 'commonstocksharesauthorized': 50400000000.0, 'cashandcashequivalentsatcarryingvalue': 38016000000.0, 'retainedearningsaccumulateddeficit': 14966000000.0, 'liabilitiesnoncurrent': '153157000000.000000', 'propertyplantandequipmentnet': 36766000000.0, 'commonstocksincludingadditionalpaidincapital': 50779000000.0, 'commercialpaper': 5000000000.0, 'longtermdebtcurrent': 8773000000.0, 'commonstocksharesoutstanding': 16976763000.0, 'otherliabilitiesnoncurrent': 54490000000.0, 'marketablesecuritiescurrent': 52927000000.0, 'otherliabilitiescurrent': 42684000000.0, 'assetscurrent': '143713000000.000000', 'longtermdebtnoncurrent': 98667000000.0, 'contractwithcustomerliabilitycurrent': 6643000000.0, 'nontradereceivablescurrent': 21325000000.0, 'commonstocksharesissued': 16976763000.0, 'stockholdersequity': 65339000000.0, 'accountsreceivablenetcurrent': 16120000000.0, 'accountspayablecurrent': 42296000000.0, 'assets': '323888000000.000000', 'assetsnoncurrent': '180175000000.000000', 'otherassetscurrent': 11264000000.0, 'otherassetsnoncurrent': 42522000000.0, 'inventorynet': 4061000000.0, 'marketablesecuritiesnoncurrent': '100887000000.000000', 'accumulatedothercomprehensiveincomelossnetoftax': -406000000.0}, {'date': '2019-09-28', 'symbol': 'AAPL', 'period': 'FY', 'liabilitiesandstockholdersequity': '338516000000.000000', 'liabilities': '248028000000.000000', 'liabilitiescurrent': '105718000000.000000', 'commonstocksharesauthorized': 12600000000.0, 'cashandcashequivalentsatcarryingvalue': 48844000000.0, 'retainedearningsaccumulateddeficit': 45898000000.0, 'liabilitiesnoncurrent': '142310000000.000000', 'propertyplantandequipmentnet': 37378000000.0, 'commonstocksincludingadditionalpaidincapital': 45174000000.0, 'commercialpaper': 6000000000.0, 'longtermdebtcurrent': 10260000000.0, 'commonstocksharesoutstanding': 4443236000.0, 'otherliabilitiesnoncurrent': 50503000000.0, 'marketablesecuritiescurrent': 51713000000.0, 'otherliabilitiescurrent': 37720000000.0, 'assetscurrent': '162819000000.000000', 'longtermdebtnoncurrent': 91807000000.0, 'contractwithcustomerliabilitycurrent': 5522000000.0, 'nontradereceivablescurrent': 22878000000.0, 'commonstocksharesissued': 4443236000.0, 'stockholdersequity': 90488000000.0, 'accountsreceivablenetcurrent': 22926000000.0, 'accountspayablecurrent': 46236000000.0, 'assets': '338516000000.000000', 'assetsnoncurrent': '175697000000.000000', 'otherassetscurrent': 12352000000.0, 'otherassetsnoncurrent': 32978000000.0, 'inventorynet': 4106000000.0, 'marketablesecuritiesnoncurrent': '105341000000.000000', 'accumulatedothercomprehensiveincomelossnetoftax': -584000000.0}, {'date': '2018-09-29', 'symbol': 'AAPL', 'period': 'FY', 'liabilitiesandstockholdersequity': '365725000000.000000', 'deferredrevenuecurrent': 7543000000.0, 'liabilities': '258578000000.000000', 'liabilitiescurrent': '116866000000.000000', 'commonstocksharesauthorized': 12600000000.0, 'cashandcashequivalentsatcarryingvalue': 25913000000.0, 'retainedearningsaccumulateddeficit': 70400000000.0, 'liabilitiesnoncurrent': '141712000000.000000', 'propertyplantandequipmentnet': 41304000000.0, 'commonstocksincludingadditionalpaidincapital': 40201000000.0, 'commercialpaper': 11964000000.0, 'availableforsalesecuritiescurrent': 40388000000.0, 'longtermdebtcurrent': 8784000000.0, 'commonstocksharesoutstanding': 4754986000.0, 'otherliabilitiesnoncurrent': 45180000000.0, 'otherliabilitiescurrent': 32687000000.0, 'assetscurrent': '131339000000.000000', 'longtermdebtnoncurrent': 93735000000.0, 'deferredrevenuenoncurrent': 2797000000.0, 'nontradereceivablescurrent': 25809000000.0, 'commonstocksharesissued': 4754986000.0, 'stockholdersequity': '107147000000.000000', 'accountsreceivablenetcurrent': 23186000000.0, 'accountspayablecurrent': 55888000000.0, 'assets': '365725000000.000000', 'assetsnoncurrent': '234386000000.000000', 'otherassetscurrent': 12087000000.0, 'availableforsalesecuritiesnoncurrent': '170799000000.000000', 'otherassetsnoncurrent': 22283000000.0, 'inventorynet': 3956000000.0, 'accumulatedothercomprehensiveincomelossnetoftax': -3454000000.0}, {'date': '2017-09-30', 'symbol': 'AAPL', 'period': 'FY', 'liabilitiesandstockholdersequity': '375319000000.000000', 'deferredrevenuecurrent': 7548000000.0, 'liabilities': '241272000000.000000', 'liabilitiescurrent': '100814000000.000000', 'commonstocksharesauthorized': 12600000000.0, 'cashandcashequivalentsatcarryingvalue': 20289000000.0, 'retainedearningsaccumulateddeficit': 98330000000.0, 'propertyplantandequipmentnet': 33783000000.0, 'commonstocksincludingadditionalpaidincapital': 35867000000.0, 'commercialpaper': 11977000000.0, 'availableforsalesecuritiescurrent': 53892000000.0, 'accruedliabilitiescurrent': 25744000000.0, 'longtermdebtcurrent': 6496000000.0, 'commonstocksharesoutstanding': 5126201000.0, 'otherliabilitiesnoncurrent': 40415000000.0, 'assetscurrent': '128645000000.000000', 'longtermdebtnoncurrent': 97207000000.0, 'intangibleassetsnetexcludinggoodwill': 2298000000.0, 'deferredrevenuenoncurrent': 2836000000.0, 'nontradereceivablescurrent': 17799000000.0, 'commonstocksharesissued': 5126201000.0, 'stockholdersequity': '134047000000.000000', 'accountsreceivablenetcurrent': 17874000000.0, 'accountspayablecurrent': 49049000000.0, 'allowancefordoubtfulaccountsreceivablecurrent': 58000000.0, 'assets': '375319000000.000000', 'goodwill': 5717000000.0, 'otherassetscurrent': 13936000000.0, 'availableforsalesecuritiesnoncurrent': '194714000000.000000', 'otherassetsnoncurrent': 10162000000.0, 'inventorynet': 4855000000.0, 'accumulatedothercomprehensiveincomelossnetoftax': -150000000.0}, {'date': '2016-09-24', 'symbol': 'AAPL', 'period': 'FY', 'liabilitiesandstockholdersequity': '321686000000.000000', 'deferredrevenuecurrent': 8080000000.0, 'liabilities': '193437000000.000000', 'liabilitiescurrent': 79006000000.0, 'commonstocksharesauthorized': 12600000000.0, 'cashandcashequivalentsatcarryingvalue': 20484000000.0, 'retainedearningsaccumulateddeficit': 96364000000.0, 'propertyplantandequipmentnet': 27010000000.0, 'commonstocksincludingadditionalpaidincapital': 31251000000.0, 'commercialpaper': 8105000000.0, 'availableforsalesecuritiescurrent': 46671000000.0, 'accruedliabilitiescurrent': 22027000000.0, 'longtermdebtcurrent': 3500000000.0, 'commonstocksharesoutstanding': 5336166000.0, 'otherliabilitiesnoncurrent': 36074000000.0, 'assetscurrent': '106869000000.000000', 'longtermdebtnoncurrent': 75427000000.0, 'intangibleassetsnetexcludinggoodwill': 3206000000.0, 'deferredrevenuenoncurrent': 2930000000.0, 'nontradereceivablescurrent': 13545000000.0, 'commonstocksharesissued': 5336166000.0, 'stockholdersequity': '128249000000.000000', 'accountsreceivablenetcurrent': 15754000000.0, 'accountspayablecurrent': 37294000000.0, 'allowancefordoubtfulaccountsreceivablecurrent': 53000000.0, 'assets': '321686000000.000000', 'goodwill': 5414000000.0, 'otherassetscurrent': 8283000000.0, 'availableforsalesecuritiesnoncurrent': '170430000000.000000', 'otherassetsnoncurrent': 8757000000.0, 'inventorynet': 2132000000.0, 'accumulatedothercomprehensiveincomelossnetoftax': 634000000.0}, {'date': '2015-09-26', 'symbol': 'AAPL', 'period': 'FY', 'liabilitiesandstockholdersequity': '290479000000.000000', 'deferredrevenuecurrent': 8940000000.0, 'liabilities': '171124000000.000000', 'liabilitiescurrent': 80610000000.0, 'commonstocksharesauthorized': 12600000000.0, 'cashandcashequivalentsatcarryingvalue': 21120000000.0, 'retainedearningsaccumulateddeficit': 92284000000.0, 'propertyplantandequipmentnet': 22471000000.0, 'commonstocksincludingadditionalpaidincapital': 27416000000.0, 'commercialpaper': 8499000000.0, 'availableforsalesecuritiescurrent': 20481000000.0, 'accruedliabilitiescurrent': 25181000000.0, 'longtermdebtcurrent': 2500000000.0, 'commonstocksharesoutstanding': 5578753000.0, 'deferredtaxassetsliabilitiesnetcurrent': 5546000000.0, 'otherliabilitiesnoncurrent': 33427000000.0, 'assetscurrent': 89378000000.0, 'longtermdebtnoncurrent': 53463000000.0, 'intangibleassetsnetexcludinggoodwill': 3893000000.0, 'deferredrevenuenoncurrent': 3624000000.0, 'nontradereceivablescurrent': 13494000000.0, 'commonstocksharesissued': 5578753000.0, 'stockholdersequity': '119355000000.000000', 'accountsreceivablenetcurrent': 16849000000.0, 'accountspayablecurrent': 35490000000.0, 'allowancefordoubtfulaccountsreceivablecurrent': 82000000.0, 'assets': '290479000000.000000', 'goodwill': 5116000000.0, 'otherassetscurrent': 9539000000.0, 'availableforsalesecuritiesnoncurrent': '164065000000.000000', 'otherassetsnoncurrent': 5556000000.0, 'inventorynet': 2349000000.0, 'accumulatedothercomprehensiveincomelossnetoftax': -345000000.0}, {'date': '2014-09-27', 'symbol': 'AAPL', 'period': 'FY', 'liabilitiesandstockholdersequity': '231839000000.000000', 'deferredrevenuecurrent': 8491000000.0, 'longtermdebt': 28987000000.0, 'liabilities': '120292000000.000000', 'liabilitiescurrent': 63448000000.0, 'commonstocksharesauthorized': 12600000000.0, 'cashandcashequivalentsatcarryingvalue': 13844000000.0, 'retainedearningsaccumulateddeficit': 87152000000.0, 'propertyplantandequipmentnet': 20624000000.0, 'commonstocksincludingadditionalpaidincapital': 23313000000.0, 'commercialpaper': 6308000000.0, 'availableforsalesecuritiescurrent': 11233000000.0, 'accruedliabilitiescurrent': 18453000000.0, 'deferredtaxassetsnetcurrent': 4318000000.0, 'commonstocksharesoutstanding': 5866161000.0, 'otherliabilitiesnoncurrent': 24826000000.0, 'assetscurrent': 68531000000.0, 'intangibleassetsnetexcludinggoodwill': 4142000000.0, 'deferredrevenuenoncurrent': 3031000000.0, 'nontradereceivablescurrent': 9759000000.0, 'commonstocksharesissued': 5866161000.0, 'stockholdersequity': '111547000000.000000', 'accountsreceivablenetcurrent': 17460000000.0, 'accountspayablecurrent': 30196000000.0, 'allowancefordoubtfulaccountsreceivablecurrent': 86000000.0, 'assets': '231839000000.000000', 'goodwill': 4616000000.0, 'otherassetscurrent': 9806000000.0, 'availableforsalesecuritiesnoncurrent': '130162000000.000000', 'otherassetsnoncurrent': 3764000000.0, 'inventorynet': 2111000000.0, 'accumulatedothercomprehensiveincomelossnetoftax': 1082000000.0}, {'date': '2013-09-28', 'symbol': 'AAPL', 'period': 'FY', 'liabilitiesandstockholdersequity': '207000000000.000000', 'deferredrevenuecurrent': 7435000000.0, 'longtermdebt': 16960000000.0, 'liabilities': 83451000000.0, 'liabilitiescurrent': 43658000000.0, 'commonstocksharesauthorized': 1800000000.0, 'cashandcashequivalentsatcarryingvalue': 14259000000.0, 'retainedearningsaccumulateddeficit': '104256000000.000000', 'commonstockvalue': 19764000000.0, 'propertyplantandequipmentnet': 16597000000.0, 'commonstocksharesissued': 899213000.0, 'availableforsalesecuritiescurrent': 26287000000.0, 'accruedliabilitiescurrent': 13856000000.0, 'deferredtaxassetsnetcurrent': 3453000000.0, 'commonstocksharesoutstanding': 899213000.0, 'otherliabilitiesnoncurrent': 20208000000.0, 'assetscurrent': 73286000000.0, 'intangibleassetsnetexcludinggoodwill': 4179000000.0, 'deferredrevenuenoncurrent': 2625000000.0, 'nontradereceivablescurrent': 7539000000.0, 'stockholdersequity': '123549000000.000000', 'accountsreceivablenetcurrent': 13102000000.0, 'accountspayablecurrent': 22367000000.0, 'allowancefordoubtfulaccountsreceivablecurrent': 99000000.0, 'assets': '207000000000.000000', 'goodwill': 1577000000.0, 'otherassetscurrent': 6882000000.0, 'availableforsalesecuritiesnoncurrent': '106215000000.000000', 'otherassetsnoncurrent': 5146000000.0, 'inventorynet': 1764000000.0, 'accumulatedothercomprehensiveincomelossnetoftax': -471000000.0}, {'date': '2012-09-29', 'symbol': 'AAPL', 'period': 'FY', 'liabilitiesandstockholdersequity': '176064000000.000000', 'deferredrevenuecurrent': 5953000000.0, 'liabilities': 57854000000.0, 'liabilitiescurrent': 38542000000.0, 'commonstocksharesauthorized': 1800000000.0, 'cashandcashequivalentsatcarryingvalue': 10746000000.0, 'retainedearningsaccumulateddeficit': '101289000000.000000', 'commonstockvalue': 16422000000.0, 'propertyplantandequipmentnet': 15452000000.0, 'commonstocksharesissued': 939208000.0, 'availableforsalesecuritiescurrent': 18383000000.0, 'accruedliabilitiescurrent': 11414000000.0, 'deferredtaxassetsnetcurrent': 2583000000.0, 'commonstocksharesoutstanding': 939208000.0, 'otherliabilitiesnoncurrent': 16664000000.0, 'assetscurrent': 57653000000.0, 'intangibleassetsnetexcludinggoodwill': 4224000000.0, 'deferredrevenuenoncurrent': 2648000000.0, 'nontradereceivablescurrent': 7762000000.0, 'stockholdersequity': '118210000000.000000', 'accountsreceivablenetcurrent': 10930000000.0, 'accountspayablecurrent': 21175000000.0, 'allowancefordoubtfulaccountsreceivablecurrent': 98000000.0, 'assets': '176064000000.000000', 'goodwill': 1135000000.0, 'otherassetscurrent': 6458000000.0, 'availableforsalesecuritiesnoncurrent': 92122000000.0, 'otherassetsnoncurrent': 5478000000.0, 'inventorynet': 791000000.0, 'accumulatedothercomprehensiveincomelossnetoftax': 499000000.0}, {'date': '2011-09-24', 'symbol': 'AAPL', 'period': 'FY', 'liabilitiesandstockholdersequity': '116371000000.000000', 'deferredrevenuecurrent': 4091000000.0, 'liabilities': 39756000000.0, 'liabilitiescurrent': 27970000000.0, 'commonstocksharesauthorized': 1800000000.0, 'cashandcashequivalentsatcarryingvalue': 9815000000.0, 'retainedearningsaccumulateddeficit': 62841000000.0, 'commonstockvalue': 13331000000.0, 'commonstocksharesissued': 929277000.0, 'availableforsalesecuritiescurrent': 16137000000.0, 'accruedliabilitiescurrent': 9247000000.0, 'deferredtaxassetsnetcurrent': 2014000000.0, 'commonstocksharesoutstanding': 929277000.0, 'otherliabilitiesnoncurrent': 10100000000.0, 'assetscurrent': 44988000000.0, 'intangibleassetsnetexcludinggoodwill': 3536000000.0, 'deferredrevenuenoncurrent': 1686000000.0, 'nontradereceivablescurrent': 6348000000.0, 'stockholdersequity': 76615000000.0, 'accountsreceivablenetcurrent': 5369000000.0, 'accountspayablecurrent': 14632000000.0, 'allowancefordoubtfulaccountsreceivablecurrent': 53000000.0, 'assets': '116371000000.000000', 'goodwill': 896000000.0, 'otherassetscurrent': 4529000000.0, 'availableforsalesecuritiesnoncurrent': 55618000000.0, 'otherassetsnoncurrent': 3556000000.0, 'inventorynet': 776000000.0, 'propertyplantandequipmentandcapitalizedsoftwarenet': 7777000000.0, 'accumulatedothercomprehensiveincomelossnetoftax': 443000000.0}]\n",
      "[{'date': '2020-06-30', 'symbol': 'MSFT', 'period': 'FY', 'liabilitiesandstockholdersequity': '301311000000.000000', 'liabilities': '183007000000.000000', 'liabilitiescurrent': 72310000000.0, 'commonstocksharesauthorized': 24000000000.0, 'cashcashequivalentsandshortterminvestments': '136527000000.000000', 'retainedearningsaccumulateddeficit': 34566000000.0, 'propertyplantandequipmentnet': 44151000000.0, 'commonstocksincludingadditionalpaidincapital': 80552000000.0, 'operatingleaserightofuseasset': 8753000000.0, 'finitelivedintangibleassetsnet': 7038000000.0, 'longtermdebtcurrent': 3749000000.0, 'employeerelatedliabilitiescurrent': 7874000000.0, 'commonstocksharesoutstanding': 7571000000.0, 'otherliabilitiesnoncurrent': 10632000000.0, 'shortterminvestments': '122951000000.000000', 'otherliabilitiescurrent': 10027000000.0, 'assetscurrent': '181915000000.000000', 'accumulateddepreciationdepletionandamortizationpropertyplantandequipment': 43197000000.0, 'operatingleaseliabilitynoncurrent': 7671000000.0, 'contractwithcustomerliabilitynoncurrent': 3180000000.0, 'longtermdebtnoncurrent': 59578000000.0, 'contractwithcustomerliabilitycurrent': 36000000000.0, 'stockholdersequity': '118304000000.000000', 'inventorynet': 1895000000.0, 'accountsreceivablenetcurrent': 32011000000.0, 'accountspayablecurrent': 12530000000.0, 'allowancefordoubtfulaccountsreceivablecurrent': 788000000.0, 'assets': '301311000000.000000', 'goodwill': 43351000000.0, 'cashandcashequivalentsatcarryingvalue': 13576000000.0, 'deferredincometaxliabilitiesnet': 204000000.0, 'longterminvestments': 2965000000.0, 'accruedincometaxesnoncurrent': 29432000000.0, 'otherassetscurrent': 11482000000.0, 'otherassetsnoncurrent': 13138000000.0, 'accruedincometaxescurrent': 2130000000.0, 'accumulatedothercomprehensiveincomelossnetoftax': 3186000000.0}, {'date': '2019-06-30', 'symbol': 'MSFT', 'period': 'FY', 'liabilitiesandstockholdersequity': '286556000000.000000', 'liabilities': '184226000000.000000', 'liabilitiescurrent': 69420000000.0, 'commonstocksharesauthorized': 24000000000.0, 'cashandcashequivalentsatcarryingvalue': 11356000000.0, 'retainedearningsaccumulateddeficit': 24150000000.0, 'propertyplantandequipmentnet': 36477000000.0, 'commonstocksincludingadditionalpaidincapital': 78520000000.0, 'operatingleaserightofuseasset': 7379000000.0, 'finitelivedintangibleassetsnet': 7750000000.0, 'longtermdebtcurrent': 5516000000.0, 'employeerelatedliabilitiescurrent': 6830000000.0, 'commonstocksharesoutstanding': 7643000000.0, 'otherliabilitiesnoncurrent': 7581000000.0, 'otherliabilitiescurrent': 9351000000.0, 'assetscurrent': '175552000000.000000', 'accumulateddepreciationdepletionandamortizationpropertyplantandequipment': 35330000000.0, 'deferredtaxliabilitiesnoncurrent': 233000000.0, 'operatingleaseliabilitynoncurrent': 6188000000.0, 'contractwithcustomerliabilitynoncurrent': 4530000000.0, 'longtermdebtnoncurrent': 66662000000.0, 'contractwithcustomerliabilitycurrent': 32676000000.0, 'stockholdersequity': '102330000000.000000', 'accruedincometaxescurrent': 5665000000.0, 'accountsreceivablenetcurrent': 29524000000.0, 'accountspayablecurrent': 9382000000.0, 'allowancefordoubtfulaccountsreceivablecurrent': 411000000.0, 'assets': '286556000000.000000', 'goodwill': 42026000000.0, 'accruedincometaxesnoncurrent': 29612000000.0, 'otherassetscurrent': 10146000000.0, 'otherassetsnoncurrent': 14723000000.0, 'inventorynet': 2063000000.0, 'accumulatedothercomprehensiveincomelossnetoftax': -340000000.0}, {'date': '2018-06-30', 'symbol': 'MSFT', 'period': 'FY', 'liabilities': '176130000000.000000', 'liabilitiesandstockholdersequity': '258848000000.000000', 'liabilitiescurrent': 58488000000.0, 'commonstocksharesauthorized': 24000000000.0, 'cashandcashequivalentsatcarryingvalue': 11946000000.0, 'retainedearningsaccumulateddeficit': 13682000000.0, 'propertyplantandequipmentnet': 29460000000.0, 'commonstocksincludingadditionalpaidincapital': 71223000000.0, 'operatingleaserightofuseasset': 6686000000.0, 'availableforsalesecuritiescurrent': '121822000000.000000', 'finitelivedintangibleassetsnet': 8053000000.0, 'longtermdebtcurrent': 3998000000.0, 'employeerelatedliabilitiescurrent': 6103000000.0, 'commonstocksharesoutstanding': 7677000000.0, 'otherliabilitiesnoncurrent': 5211000000.0, 'shorttermborrowings': 0.0, 'otherliabilitiescurrent': 8744000000.0, 'assetscurrent': '169662000000.000000', 'accumulateddepreciationdepletionandamortizationpropertyplantandequipment': 29223000000.0, 'deferredtaxliabilitiesnoncurrent': 541000000.0, 'operatingleaseliabilitynoncurrent': 5568000000.0, 'contractwithcustomerliabilitynoncurrent': 3815000000.0, 'longtermdebtnoncurrent': 72242000000.0, 'contractwithcustomerliabilitycurrent': 28905000000.0, 'stockholdersequity': 82718000000.0, 'inventorynet': 2662000000.0, 'accountsreceivablenetcurrent': 26481000000.0, 'accountspayablecurrent': 8617000000.0, 'allowancefordoubtfulaccountsreceivablecurrent': 377000000.0, 'assets': '258848000000.000000', 'goodwill': 35683000000.0, 'accruedincometaxesnoncurrent': 30265000000.0, 'otherassetscurrent': 6751000000.0, 'otherassetsnoncurrent': 7442000000.0, 'accruedincometaxescurrent': 2121000000.0, 'accumulatedothercomprehensiveincomelossnetoftax': -2187000000.0}, {'date': '2017-06-30', 'symbol': 'MSFT', 'period': 'FY', 'liabilities': '168692000000.000000', 'deferredrevenuecurrent': 34102000000.0, 'depositsreceivedforsecuritiesloanedatcarryingvalue': 97000000.0, 'liabilitiesandstockholdersequity': '241086000000.000000', 'liabilitiescurrent': 64527000000.0, 'commonstocksharesauthorized': 24000000000.0, 'cashandcashequivalentsatcarryingvalue': 7663000000.0, 'retainedearningsaccumulateddeficit': 2648000000.0, 'propertyplantandequipmentnet': 23734000000.0, 'commonstocksincludingadditionalpaidincapital': 69315000000.0, 'availableforsalesecuritiescurrent': '125318000000.000000', 'finitelivedintangibleassetsnet': 10106000000.0, 'longtermdebtcurrent': 1049000000.0, 'employeerelatedliabilitiescurrent': 5819000000.0, 'commonstocksharesoutstanding': 7708000000.0, 'otherliabilitiesnoncurrent': 17184000000.0, 'shorttermborrowings': 9072000000.0, 'securitiesloaned': 3694000000.0, 'otherliabilitiescurrent': 6280000000.0, 'assetscurrent': '159851000000.000000', 'accumulateddepreciationdepletionandamortizationpropertyplantandequipment': 24179000000.0, 'deferredtaxliabilitiesnoncurrent': 531000000.0, 'longtermdebtnoncurrent': 76073000000.0, 'deferredrevenuenoncurrent': 10377000000.0, 'stockholdersequity': 72394000000.0, 'inventorynet': 2181000000.0, 'accountsreceivablenetcurrent': 19792000000.0, 'accountspayablecurrent': 7390000000.0, 'allowancefordoubtfulaccountsreceivablecurrent': 405000000.0, 'assets': '241086000000.000000', 'goodwill': 35122000000.0, 'otherassetscurrent': 4897000000.0, 'otherassetsnoncurrent': 6250000000.0, 'accruedincometaxescurrent': 718000000.0, 'accumulatedothercomprehensiveincomelossnetoftax': 431000000.0}, {'date': '2016-06-30', 'symbol': 'MSFT', 'period': 'FY', 'liabilities': '121697000000.000000', 'deferredrevenuecurrent': 27468000000.0, 'depositsreceivedforsecuritiesloanedatcarryingvalue': 294000000.0, 'liabilitiesandstockholdersequity': '193694000000.000000', 'liabilitiescurrent': 59357000000.0, 'commonstocksharesauthorized': 24000000000.0, 'cashandcashequivalentsatcarryingvalue': 6510000000.0, 'retainedearningsaccumulateddeficit': 2282000000.0, 'propertyplantandequipmentnet': 18356000000.0, 'commonstocksincludingadditionalpaidincapital': 68178000000.0, 'availableforsalesecuritiescurrent': '106730000000.000000', 'finitelivedintangibleassetsnet': 3733000000.0, 'longtermdebtcurrent': 0.0, 'employeerelatedliabilitiescurrent': 5264000000.0, 'commonstocksharesoutstanding': 7808000000.0, 'otherliabilitiesnoncurrent': 13640000000.0, 'shorttermborrowings': 12904000000.0, 'securitiesloaned': 204000000.0, 'otherliabilitiescurrent': 5949000000.0, 'assetscurrent': '139660000000.000000', 'accumulateddepreciationdepletionandamortizationpropertyplantandequipment': 19800000000.0, 'deferredtaxliabilitiesnoncurrent': 1476000000.0, 'longtermdebtnoncurrent': 40783000000.0, 'deferredrevenuenoncurrent': 6441000000.0, 'stockholdersequity': 71997000000.0, 'inventorynet': 2251000000.0, 'accountsreceivablenetcurrent': 18277000000.0, 'accountspayablecurrent': 6898000000.0, 'allowancefordoubtfulaccountsreceivablecurrent': 426000000.0, 'assets': '193694000000.000000', 'goodwill': 17872000000.0, 'otherassetscurrent': 5892000000.0, 'otherassetsnoncurrent': 3642000000.0, 'accruedincometaxescurrent': 580000000.0, 'accumulatedothercomprehensiveincomelossnetoftax': 1537000000.0}]\n",
      "[{'date': '2020-01-26', 'symbol': 'NVDA', 'period': 'FY', 'liabilitiesandstockholdersequity': 17315000000.0, 'additionalpaidincapital': 7045000000.0, 'treasurystockvalue': 9814000000.0, 'accountspayablecurrent': 687000000.0, 'longtermdebt': 1991000000.0, 'prepaidexpenseandotherassetscurrent': 157000000.0, 'liabilities': 5111000000.0, 'liabilitiescurrent': 1784000000.0, 'commonstocksharesauthorized': 2000000000.0, 'treasurystockshares': 342000000.0, 'cashandcashequivalentsatcarryingvalue': 10896000000.0, 'retainedearningsaccumulateddeficit': 14971000000.0, 'intangibleassetsnetexcludinggoodwill': 49000000.0, 'commonstockvalue': 1000000.0, 'accruedliabilitiescurrent': 1097000000.0, 'propertyplantandequipmentnet': 1674000000.0, 'commonstocksharesissued': 955000000.0, 'operatingleaserightofuseasset': 618000000.0, 'marketablesecuritiescurrent': 1000000.0, 'preferredstockparorstatedvaluepershare': 0.001, 'preferredstocksharesauthorized': 2000000.0, 'commonstocksharesoutstanding': 612000000.0, 'otherliabilitiesnoncurrent': 775000000.0, 'assetscurrent': 13690000000.0, 'preferredstockvalueoutstanding': 0.0, 'operatingleaseliabilitynoncurrent': 561000000.0, 'stockholdersequity': 12204000000.0, 'accountsreceivablenetcurrent': 1657000000.0, 'assets': 17315000000.0, 'goodwill': 618000000.0, 'commonstockparorstatedvaluepershare': 0.001, 'deferredtaxassetsgrossnoncurrent': 548000000.0, 'otherassetsnoncurrent': 118000000.0, 'inventorynet': 979000000.0, 'preferredstocksharesissued': 0.0, 'accumulatedothercomprehensiveincomelossnetoftax': 1000000.0}, {'date': '2019-01-27', 'symbol': 'NVDA', 'period': 'FY', 'liabilitiesandstockholdersequity': 13292000000.0, 'additionalpaidincapital': 6051000000.0, 'treasurystockvalue': 9263000000.0, 'accountspayablecurrent': 511000000.0, 'longtermdebt': 1988000000.0, 'prepaidexpenseandotherassetscurrent': 136000000.0, 'liabilities': 3950000000.0, 'liabilitiescurrent': 1329000000.0, 'commonstocksharesauthorized': 2000000000.0, 'treasurystockshares': 339000000.0, 'cashandcashequivalentsatcarryingvalue': 782000000.0, 'retainedearningsaccumulateddeficit': 12565000000.0, 'intangibleassetsnetexcludinggoodwill': 45000000.0, 'commonstockvalue': 1000000.0, 'accruedliabilitiescurrent': 818000000.0, 'propertyplantandequipmentnet': 1404000000.0, 'commonstocksharesissued': 945000000.0, 'marketablesecuritiescurrent': 6640000000.0, 'preferredstockparorstatedvaluepershare': 0.001, 'preferredstocksharesauthorized': 2000000.0, 'commonstocksharesoutstanding': 606000000.0, 'otherliabilitiesnoncurrent': 633000000.0, 'assetscurrent': 10557000000.0, 'preferredstockvalueoutstanding': 0.0, 'stockholdersequity': 9342000000.0, 'accountsreceivablenetcurrent': 1424000000.0, 'assets': 13292000000.0, 'goodwill': 618000000.0, 'commonstockparorstatedvaluepershare': 0.001, 'convertibledebtcurrent': 0.0, 'otherassetsnoncurrent': 668000000.0, 'inventorynet': 1575000000.0, 'preferredstocksharesissued': 0.0, 'accumulatedothercomprehensiveincomelossnetoftax': -12000000.0}, {'date': '2018-01-28', 'symbol': 'NVDA', 'period': 'FY', 'liabilitiesandstockholdersequity': 11241000000.0, 'additionalpaidincapital': 5351000000.0, 'treasurystockvalue': 6650000000.0, 'accountspayablecurrent': 596000000.0, 'longtermdebt': 1985000000.0, 'prepaidexpenseandotherassetscurrent': 86000000.0, 'liabilities': 3770000000.0, 'liabilitiescurrent': 1153000000.0, 'commonstocksharesauthorized': 2000000000.0, 'treasurystockshares': 326000000.0, 'cashandcashequivalentsatcarryingvalue': 4002000000.0, 'retainedearningsaccumulateddeficit': 8787000000.0, 'intangibleassetsnetexcludinggoodwill': 52000000.0, 'commonstockvalue': 1000000.0, 'accruedliabilitiescurrent': 542000000.0, 'propertyplantandequipmentnet': 997000000.0, 'commonstocksharesissued': 932000000.0, 'marketablesecuritiescurrent': 3106000000.0, 'preferredstockparorstatedvaluepershare': 0.001, 'preferredstocksharesauthorized': 2000000.0, 'commonstocksharesoutstanding': 606000000.0, 'otherliabilitiesnoncurrent': 632000000.0, 'assetscurrent': 9255000000.0, 'preferredstockvalueoutstanding': 0.0, 'stockholdersequity': 7471000000.0, 'accountsreceivablenetcurrent': 1265000000.0, 'preferredstocksharesissued': 0.0, 'allowancefordoubtfulaccountsreceivablecurrent': 13000000.0, 'assets': 11241000000.0, 'goodwill': 618000000.0, 'commonstockparorstatedvaluepershare': 0.001, 'convertibledebtcurrent': 15000000.0, 'otherassetsnoncurrent': 319000000.0, 'inventorynet': 796000000.0, 'temporaryequityvalueexcludingadditionalpaidincapital': 0.0, 'accumulatedothercomprehensiveincomelossnetoftax': -18000000.0}, {'date': '2017-01-29', 'symbol': 'NVDA', 'period': 'FY', 'liabilitiesandstockholdersequity': 9841000000.0, 'additionalpaidincapital': 4708000000.0, 'treasurystockvalue': 5039000000.0, 'accountspayablecurrent': 485000000.0, 'longtermdebt': 1983000000.0, 'prepaidexpenseandotherassetscurrent': 118000000.0, 'liabilities': 4048000000.0, 'liabilitiescurrent': 1788000000.0, 'commonstocksharesauthorized': 2000000000.0, 'treasurystockshares': 283000000.0, 'cashandcashequivalentsatcarryingvalue': 1766000000.0, 'retainedearningsaccumulateddeficit': 6108000000.0, 'intangibleassetsnetexcludinggoodwill': 104000000.0, 'commonstockvalue': 1000000.0, 'accruedliabilitiescurrent': 507000000.0, 'propertyplantandequipmentnet': 521000000.0, 'commonstocksharesissued': 868000000.0, 'marketablesecuritiescurrent': 5032000000.0, 'preferredstockparorstatedvaluepershare': 0.001, 'preferredstocksharesauthorized': 2000000.0, 'commonstocksharesoutstanding': 585000000.0, 'otherliabilitiesnoncurrent': 271000000.0, 'assetscurrent': 8536000000.0, 'preferredstockvalueoutstanding': 0.0, 'stockholdersequity': 5762000000.0, 'capitalleaseobligationsnoncurrent': 6000000.0, 'accountsreceivablenetcurrent': 826000000.0, 'preferredstocksharesissued': 0.0, 'allowancefordoubtfulaccountsreceivablecurrent': 13000000.0, 'assets': 9841000000.0, 'goodwill': 618000000.0, 'commonstockparorstatedvaluepershare': 0.001, 'convertibledebtcurrent': 796000000.0, 'otherassetsnoncurrent': 62000000.0, 'inventorynet': 794000000.0, 'temporaryequityvalueexcludingadditionalpaidincapital': 31000000.0, 'accumulatedothercomprehensiveincomelossnetoftax': -16000000.0}, {'date': '2016-01-31', 'symbol': 'NVDA', 'period': 'FY', 'liabilitiesandstockholdersequity': 7370000000.0, 'additionalpaidincapital': 4170000000.0, 'treasurystockvalue': 4048000000.0, 'accountspayablecurrent': 296000000.0, 'prepaidexpenseandotherassetscurrent': 93000000.0, 'liabilities': 2814000000.0, 'liabilitiescurrent': 2351000000.0, 'commonstocksharesauthorized': 2000000000.0, 'treasurystockshares': 242000000.0, 'cashandcashequivalentsatcarryingvalue': 596000000.0, 'retainedearningsaccumulateddeficit': 4350000000.0, 'intangibleassetsnetexcludinggoodwill': 166000000.0, 'commonstockvalue': 1000000.0, 'accruedliabilitiescurrent': 642000000.0, 'propertyplantandequipmentnet': 466000000.0, 'commonstocksharesissued': 780000000.0, 'marketablesecuritiescurrent': 4441000000.0, 'preferredstockparorstatedvaluepershare': 0.001, 'deferredtaxassetsnetcurrent': 0.0, 'preferredstocksharesauthorized': 2000000.0, 'commonstocksharesoutstanding': 539000000.0, 'otherliabilitiesnoncurrent': 453000000.0, 'assetscurrent': 6053000000.0, 'preferredstockvalueoutstanding': 0.0, 'convertibledebtnoncurrent': 0.0, 'stockholdersequity': 4469000000.0, 'capitalleaseobligationsnoncurrent': 10000000.0, 'accountsreceivablenetcurrent': 505000000.0, 'preferredstocksharesissued': 0.0, 'allowancefordoubtfulaccountsreceivablecurrent': 11000000.0, 'assets': 7370000000.0, 'goodwill': 618000000.0, 'commonstockparorstatedvaluepershare': 0.001, 'convertibledebtcurrent': 1410000000.0, 'otherassetsnoncurrent': 67000000.0, 'inventorynet': 418000000.0, 'temporaryequityvalueexcludingadditionalpaidincapital': 87000000.0, 'accumulatedothercomprehensiveincomelossnetoftax': -4000000.0}]\n",
      "[{'date': '2019-12-28', 'symbol': 'INTC', 'period': 'FY', 'liabilitiesandstockholdersequity': '136524000000.000000', 'commonstockparorstatedvaluepershare': 0.001, 'liabilitiescurrent': 22310000000.0, 'commonstocksharesauthorized': 10000000000.0, 'retainedearningsaccumulateddeficit': 53523000000.0, 'intangibleassetsnetexcludinggoodwill': 10827000000.0, 'cashcashequivalentsrestrictedcashandrestrictedcashequivalents': 4194000000.0, 'preferredstockvalue': 0.0, 'propertyplantandequipmentnet': 55386000000.0, 'commonstocksincludingadditionalpaidincapital': 25261000000.0, 'commonstocksharesissued': 4290000000.0, 'availableforsalesecuritiesequitysecuritiesnoncurrent': 3967000000.0, 'preferredstockparorstatedvaluepershare': 0.001, 'preferredstocksharesauthorized': 50000000.0, 'employeerelatedliabilitiescurrent': 3853000000.0, 'commonstocksharesoutstanding': 4290000000.0, 'otherliabilitiesnoncurrent': 2916000000.0, 'otherliabilitiescurrent': 10636000000.0, 'assetscurrent': 31239000000.0, 'deferredtaxliabilitiesnoncurrent': 2044000000.0, 'contractwithcustomerliabilitynoncurrent': 1368000000.0, 'longtermdebtnoncurrent': 25308000000.0, 'availableforsalesecuritiesdebtsecuritiesnoncurrent': 3276000000.0, 'stockholdersequity': 77504000000.0, 'temporaryequitycarryingamountattributabletoparent': 155000000.0, 'accountsreceivablenetcurrent': 7659000000.0, 'accountspayablecurrent': 4128000000.0, 'allowancefordoubtfulaccountsreceivablecurrent': 33000000.0, 'assets': '136524000000.000000', 'goodwill': 26276000000.0, 'availableforsalesecuritiesdebtsecuritiescurrent': 1082000000.0, 'debtcurrent': 3693000000.0, 'accruedincometaxesnoncurrent': 4900000000.0, 'otherassetscurrent': 1713000000.0, 'tradingsecurities': 7847000000.0, 'otherassetsnoncurrent': 5553000000.0, 'inventorynet': 8744000000.0, 'preferredstocksharesissued': 0.0, 'accumulatedothercomprehensiveincomelossnetoftax': -1280000000.0}, {'date': '2018-12-29', 'symbol': 'INTC', 'period': 'FY', 'liabilitiesandstockholdersequity': '127963000000.000000', 'commonstockparorstatedvaluepershare': 0.001, 'liabilitiescurrent': 16626000000.0, 'commonstocksharesauthorized': 10000000000.0, 'cashandcashequivalentsatcarryingvalue': 3019000000.0, 'retainedearningsaccumulateddeficit': 50172000000.0, 'intangibleassetsnetexcludinggoodwill': 11836000000.0, 'preferredstockvalue': 0.0, 'propertyplantandequipmentnet': 48976000000.0, 'commonstocksincludingadditionalpaidincapital': 25365000000.0, 'commonstocksharesissued': 4516000000.0, 'availableforsalesecuritiesequitysecuritiesnoncurrent': 6042000000.0, 'preferredstockparorstatedvaluepershare': 0.001, 'preferredstocksharesauthorized': 50000000.0, 'employeerelatedliabilitiescurrent': 3622000000.0, 'commonstocksharesoutstanding': 4516000000.0, 'otherliabilitiesnoncurrent': 2646000000.0, 'otherliabilitiescurrent': 7919000000.0, 'assetscurrent': 28787000000.0, 'deferredtaxliabilitiesnoncurrent': 1665000000.0, 'contractwithcustomerliabilitynoncurrent': 2049000000.0, 'longtermdebtnoncurrent': 25098000000.0, 'contractwithcustomerliabilitycurrent': 0.0, 'availableforsalesecuritiesdebtsecuritiesnoncurrent': 3388000000.0, 'stockholdersequity': 74563000000.0, 'temporaryequitycarryingamountattributabletoparent': 419000000.0, 'accountsreceivablenetcurrent': 6722000000.0, 'accountspayablecurrent': 3824000000.0, 'allowancefordoubtfulaccountsreceivablecurrent': 33000000.0, 'assets': '127963000000.000000', 'goodwill': 24513000000.0, 'availableforsalesecuritiesdebtsecuritiescurrent': 2788000000.0, 'debtcurrent': 1261000000.0, 'accruedincometaxesnoncurrent': 4900000000.0, 'otherassetscurrent': 3162000000.0, 'tradingsecurities': 5843000000.0, 'otherassetsnoncurrent': 4421000000.0, 'inventorynet': 7253000000.0, 'preferredstocksharesissued': 0.0, 'accumulatedothercomprehensiveincomelossnetoftax': -974000000.0}, {'date': '2017-12-30', 'symbol': 'INTC', 'period': 'FY', 'liabilitiesandstockholdersequity': '123249000000.000000', 'deferredrevenuecurrent': 1656000000.0, 'liabilitiesofdisposalgroupincludingdiscontinuedoperationcurrent': 0.0, 'commonstockparorstatedvaluepershare': 0.001, 'liabilitiescurrent': 17421000000.0, 'commonstocksharesauthorized': 10000000000.0, 'cashandcashequivalentsatcarryingvalue': 3433000000.0, 'retainedearningsaccumulateddeficit': 42083000000.0, 'intangibleassetsnetexcludinggoodwill': 12745000000.0, 'preferredstockvalue': 0.0, 'propertyplantandequipmentnet': 41109000000.0, 'commonstocksincludingadditionalpaidincapital': 26074000000.0, 'commonstocksharesissued': 4687000000.0, 'availableforsalesecuritiesequitysecuritiesnoncurrent': 4192000000.0, 'preferredstockparorstatedvaluepershare': 0.001, 'preferredstocksharesauthorized': 50000000.0, 'employeerelatedliabilitiescurrent': 3526000000.0, 'commonstocksharesoutstanding': 4687000000.0, 'otherliabilitiesnoncurrent': 7860000000.0, 'otherliabilitiescurrent': 7535000000.0, 'assetscurrent': 29500000000.0, 'deferredtaxliabilitiesnoncurrent': 3046000000.0, 'longtermdebtnoncurrent': 25037000000.0, 'availableforsalesecuritiesdebtsecuritiesnoncurrent': 3712000000.0, 'stockholdersequity': 69019000000.0, 'temporaryequitycarryingamountattributabletoparent': 866000000.0, 'accountsreceivablenetcurrent': 5607000000.0, 'accountspayablecurrent': 2928000000.0, 'allowancefordoubtfulaccountsreceivablecurrent': 25000000.0, 'assets': '123249000000.000000', 'goodwill': 24389000000.0, 'availableforsalesecuritiesdebtsecuritiescurrent': 1814000000.0, 'assetsofdisposalgroupincludingdiscontinuedoperationcurrent': 0.0, 'debtcurrent': 1776000000.0, 'otherassetscurrent': 2908000000.0, 'tradingsecurities': 8755000000.0, 'otherassetsnoncurrent': 7602000000.0, 'inventorynet': 6983000000.0, 'preferredstocksharesissued': 0.0, 'accumulatedothercomprehensiveincomelossnetoftax': 862000000.0}, {'date': '2016-12-31', 'symbol': 'INTC', 'period': 'FY', 'liabilitiesandstockholdersequity': '113327000000.000000', 'deferredrevenuecurrent': 1718000000.0, 'liabilitiesofdisposalgroupincludingdiscontinuedoperationcurrent': 1920000000.0, 'commonstockparorstatedvaluepershare': 0.001, 'liabilitiescurrent': 20302000000.0, 'commonstocksharesauthorized': 10000000000.0, 'cashandcashequivalentsatcarryingvalue': 5560000000.0, 'accruedadvertisingcurrent': 810000000.0, 'retainedearningsaccumulateddeficit': 40747000000.0, 'intangibleassetsnetexcludinggoodwill': 9494000000.0, 'preferredstockvalue': 0.0, 'propertyplantandequipmentnet': 36171000000.0, 'commonstocksincludingadditionalpaidincapital': 25373000000.0, 'commonstocksharesissued': 4730000000.0, 'availableforsalesecuritiesequitysecuritiesnoncurrent': 6180000000.0, 'preferredstockparorstatedvaluepershare': 0.001, 'preferredstocksharesauthorized': 50000000.0, 'employeerelatedliabilitiescurrent': 3465000000.0, 'commonstocksharesoutstanding': 4730000000.0, 'otherliabilitiesnoncurrent': 3538000000.0, 'otherliabilitiescurrent': 5280000000.0, 'assetscurrent': 35508000000.0, 'deferredtaxliabilitiesnoncurrent': 1730000000.0, 'longtermdebtnoncurrent': 20649000000.0, 'availableforsalesecuritiesdebtsecuritiesnoncurrent': 4716000000.0, 'stockholdersequity': 66226000000.0, 'temporaryequitycarryingamountattributabletoparent': 882000000.0, 'accountsreceivablenetcurrent': 4690000000.0, 'accountspayablecurrent': 2475000000.0, 'allowancefordoubtfulaccountsreceivablecurrent': 37000000.0, 'assets': '113327000000.000000', 'goodwill': 14099000000.0, 'availableforsalesecuritiesdebtsecuritiescurrent': 3225000000.0, 'assetsofdisposalgroupincludingdiscontinuedoperationcurrent': 5210000000.0, 'debtcurrent': 4634000000.0, 'otherassetscurrent': 2956000000.0, 'tradingsecurities': 8314000000.0, 'otherassetsnoncurrent': 7159000000.0, 'inventorynet': 5553000000.0, 'preferredstocksharesissued': 0.0, 'accumulatedothercomprehensiveincomelossnetoftax': 106000000.0}, {'date': '2015-12-26', 'symbol': 'INTC', 'period': 'FY', 'liabilitiesandstockholdersequity': '103065000000.000000', 'deferredrevenuecurrent': 2188000000.0, 'commonstockparorstatedvaluepershare': 0.001, 'liabilitiescurrent': 15667000000.0, 'commonstocksharesauthorized': 10000000000.0, 'cashandcashequivalentsatcarryingvalue': 15308000000.0, 'accruedadvertisingcurrent': 960000000.0, 'retainedearningsaccumulateddeficit': 37614000000.0, 'intangibleassetsnetexcludinggoodwill': 3933000000.0, 'preferredstockvalue': 0.0, 'propertyplantandequipmentnet': 31858000000.0, 'commonstocksincludingadditionalpaidincapital': 23411000000.0, 'commonstocksharesissued': 4725000000.0, 'availableforsalesecuritiesequitysecuritiesnoncurrent': 5960000000.0, 'preferredstockparorstatedvaluepershare': 0.001, 'deferredtaxassetsnetcurrent': 2036000000.0, 'preferredstocksharesauthorized': 50000000.0, 'employeerelatedliabilitiescurrent': 3138000000.0, 'commonstocksharesoutstanding': 4725000000.0, 'otherliabilitiesnoncurrent': 2841000000.0, 'otherliabilitiescurrent': 4684000000.0, 'assetscurrent': 40356000000.0, 'deferredtaxliabilitiesnoncurrent': 2539000000.0, 'longtermdebtnoncurrent': 20036000000.0, 'availableforsalesecuritiesdebtsecuritiesnoncurrent': 1891000000.0, 'stockholdersequity': 61085000000.0, 'temporaryequitycarryingamountattributabletoparent': 897000000.0, 'accountsreceivablenetcurrent': 4787000000.0, 'accountspayablecurrent': 2063000000.0, 'allowancefordoubtfulaccountsreceivablecurrent': 40000000.0, 'assets': '103065000000.000000', 'goodwill': 11332000000.0, 'availableforsalesecuritiesdebtsecuritiescurrent': 2682000000.0, 'debtcurrent': 2634000000.0, 'otherassetscurrent': 3053000000.0, 'tradingsecurities': 7323000000.0, 'otherassetsnoncurrent': 7735000000.0, 'inventorynet': 5167000000.0, 'preferredstocksharesissued': 0.0, 'accumulatedothercomprehensiveincomelossnetoftax': 60000000.0}]\n",
      "[{'date': '2020-11-27', 'symbol': 'ADBE', 'period': 'FY', 'liabilities': 11020000000.0, 'additionalpaidincapital': 7357000000.0, 'treasurystockvalue': 13546000000.0, 'preferredstocksharesissued': 0.0, 'prepaidexpenseandotherassetscurrent': 756000000.0, 'accruedliabilitiescurrent': 1422000000.0, 'liabilitiesandstockholdersequity': 24284000000.0, 'liabilitiescurrent': 5512000000.0, 'commonstocksharesauthorized': 900000000.0, 'treasurystockshares': 122000000.0, 'cashandcashequivalentsatcarryingvalue': 4478000000.0, 'retainedearningsaccumulateddeficit': 19611000000.0, 'commonstockvalue': 0.0, 'preferredstockvalue': 0.0, 'propertyplantandequipmentnet': 1517000000.0, 'commonstocksharesissued': 601000000.0, 'operatingleaserightofuseasset': 487000000.0, 'finitelivedintangibleassetsnet': 1359000000.0, 'preferredstockparorstatedvaluepershare': 0.0001, 'preferredstocksharesauthorized': 2000000.0, 'commonstocksharesoutstanding': 479000000.0, 'deferredincometaxassetsnet': 1370000000.0, 'otherliabilitiesnoncurrent': 223000000.0, 'shortterminvestments': 1514000000.0, 'debtcurrent': 0.0, 'assetscurrent': 8146000000.0, 'operatingleaseliabilitynoncurrent': 499000000.0, 'contractwithcustomerliabilitynoncurrent': 130000000.0, 'contractwithcustomerliabilitycurrent': 3629000000.0, 'treasurystockcommonshares': 122000000.0, 'stockholdersequity': 13264000000.0, 'accountsreceivablenetcurrent': 1400000000.0, 'longtermdebtandcapitalleaseobligations': 4117000000.0, 'operatingleaseliabilitycurrent': 92000000.0, 'allowancefordoubtfulaccountsreceivablecurrent': 21000000.0, 'assets': 24284000000.0, 'goodwill': 10742000000.0, 'commonstockparorstatedvaluepershare': 0.0001, 'deferredincometaxliabilitiesnet': 10000000.0, 'accruedincometaxesnoncurrent': 529000000.0, 'otherassetsnoncurrent': 663000000.0, 'accruedincometaxescurrent': 63000000.0, 'accountspayablecurrent': 306000000.0, 'accumulatedothercomprehensiveincomelossnetoftax': -158000000.0}, {'date': '2019-11-29', 'symbol': 'ADBE', 'period': 'FY', 'liabilitiesandstockholdersequity': 20762400000.0, 'additionalpaidincapital': 6504800000.0, 'deferredrevenuecurrent': 3377986000.0, 'accountspayablecurrent': 209499000.0, 'prepaidexpenseandotherassetscurrent': 783140000.0, 'accruedliabilitiescurrent': 1398548000.0, 'liabilities': 10232245000.0, 'liabilitiescurrent': 8190938000.0, 'commonstocksharesauthorized': 900000000.0, 'treasurystockshares': 118495000.0, 'cashandcashequivalentsatcarryingvalue': 2650221000.0, 'retainedearningsaccumulateddeficit': 14828562000.0, 'treasurystockvalue': 10615234000.0, 'commonstockvalue': 61000.0, 'preferredstockvalue': 0.0, 'propertyplantandequipmentnet': 1293015000.0, 'commonstocksharesissued': 600834000.0, 'finitelivedintangibleassetsnet': 1720565000.0, 'preferredstockparorstatedvaluepershare': 0.0001, 'preferredstocksharesauthorized': 2000000.0, 'commonstocksharesoutstanding': 482339000.0, 'otherliabilitiesnoncurrent': 173056000.0, 'shortterminvestments': 1526755000.0, 'debtcurrent': 3149343000.0, 'assetscurrent': 6494925000.0, 'deferredrevenuenoncurrent': 122727000.0, 'stockholdersequity': 10530155000.0, 'accountsreceivablenetcurrent': 1530000000.0, 'longtermdebtandcapitalleaseobligations': 988924000.0, 'allowancefordoubtfulaccountsreceivablecurrent': 9650000.0, 'assets': 20762400000.0, 'goodwill': 10691199000.0, 'commonstockparorstatedvaluepershare': 0.0001, 'deferredincometaxliabilitiesnet': 140498000.0, 'accruedincometaxesnoncurrent': 616102000.0, 'otherassetsnoncurrent': 562696000.0, 'accruedincometaxescurrent': 55562000.0, 'preferredstocksharesissued': 0.0, 'accumulatedothercomprehensiveincomelossnetoftax': -188034000.0}, {'date': '2018-11-30', 'symbol': 'ADBE', 'period': 'FY', 'liabilities': 9406568000.0, 'additionalpaidincapital': 5685337000.0, 'treasurystockvalue': 7990751000.0, 'accountspayablecurrent': 186258000.0, 'prepaidexpenseandotherassetscurrent': 312499000.0, 'liabilitiesandstockholdersequity': 18768682000.0, 'liabilitiescurrent': 4301126000.0, 'commonstocksharesauthorized': 900000000.0, 'treasurystockshares': 113171000.0, 'cashandcashequivalentsatcarryingvalue': 1642775000.0, 'retainedearningsaccumulateddeficit': 11815597000.0, 'deferredrevenuecurrent': 2915974000.0, 'commonstockvalue': 61000.0, 'preferredstockvalue': 0.0, 'propertyplantandequipmentnet': 1075072000.0, 'commonstocksharesissued': 600834000.0, 'accruedliabilitiescurrent': 1163185000.0, 'preferredstockparorstatedvaluepershare': 0.0001, 'preferredstocksharesauthorized': 2000000.0, 'commonstocksharesoutstanding': 487663000.0, 'assets': 18768682000.0, 'otherliabilitiesnoncurrent': 152209000.0, 'shortterminvestments': 1586187000.0, 'assetscurrent': 4857039000.0, 'deferredrevenuenoncurrent': 137630000.0, 'stockholdersequity': 9362114000.0, 'accountsreceivablenetcurrent': 1315578000.0, 'longtermdebtandcapitalleaseobligations': 4124800000.0, 'allowancefordoubtfulaccountsreceivablecurrent': 14981000.0, 'finitelivedintangibleassetsnet': 2069001000.0, 'goodwill': 10581048000.0, 'commonstockparorstatedvaluepershare': 0.0001, 'deferredincometaxliabilitiesnet': 46702000.0, 'accruedincometaxesnoncurrent': 644101000.0, 'otherassetsnoncurrent': 186522000.0, 'accruedincometaxescurrent': 35709000.0, 'preferredstocksharesissued': 0.0, 'accumulatedothercomprehensiveincomelossnetoftax': -148130000.0}, {'date': '2017-12-01', 'symbol': 'ADBE', 'period': 'FY', 'liabilities': 6075687000.0, 'additionalpaidincapital': 5082195000.0, 'treasurystockvalue': 6084436000.0, 'accountspayablecurrent': 113538000.0, 'prepaidexpenseandotherassetscurrent': 210071000.0, 'accruedliabilitiescurrent': 993773000.0, 'liabilitiesandstockholdersequity': 14535556000.0, 'liabilitiescurrent': 3527457000.0, 'commonstocksharesauthorized': 900000000.0, 'treasurystockshares': 109572000.0, 'cashandcashequivalentsatcarryingvalue': 2306072000.0, 'retainedearningsaccumulateddeficit': 9573870000.0, 'deferredrevenuecurrent': 2405950000.0, 'commonstockvalue': 61000.0, 'preferredstockvalue': 0.0, 'propertyplantandequipmentnet': 936976000.0, 'commonstocksharesissued': 600834000.0, 'finitelivedintangibleassetsnet': 385658000.0, 'preferredstockparorstatedvaluepershare': 0.0001, 'preferredstocksharesauthorized': 2000000.0, 'commonstocksharesoutstanding': 491262000.0, 'otherliabilitiesnoncurrent': 125188000.0, 'shortterminvestments': 3513702000.0, 'assetscurrent': 7247813000.0, 'deferredtaxliabilitiesnoncurrent': 279941000.0, 'deferredrevenuenoncurrent': 88592000.0, 'stockholdersequity': 8459869000.0, 'accountsreceivablenetcurrent': 1217968000.0, 'longtermdebtandcapitalleaseobligations': 1881421000.0, 'allowancefordoubtfulaccountsreceivablecurrent': 9151000.0, 'assets': 14535556000.0, 'goodwill': 5821561000.0, 'commonstockparorstatedvaluepershare': 0.0001, 'accruedincometaxesnoncurrent': 173088000.0, 'otherassetsnoncurrent': 143548000.0, 'accruedincometaxescurrent': 14196000.0, 'preferredstocksharesissued': 0.0, 'accumulatedothercomprehensiveincomelossnetoftax': -111821000.0}, {'date': '2016-12-02', 'symbol': 'ADBE', 'period': 'FY', 'liabilities': 5282279000.0, 'additionalpaidincapital': 4616331000.0, 'treasurystockvalue': 5132472000.0, 'accountspayablecurrent': 88024000.0, 'prepaidexpenseandotherassetscurrent': 245441000.0, 'accruedliabilitiescurrent': 739630000.0, 'liabilitiesandstockholdersequity': 12707114000.0, 'liabilitiescurrent': 2811635000.0, 'commonstocksharesauthorized': 900000000.0, 'treasurystockshares': 106580000.0, 'retainedearningsaccumulateddeficit': 8114517000.0, 'deferredrevenuecurrent': 1945619000.0, 'commonstockvalue': 61000.0, 'preferredstockvalue': 0.0, 'propertyplantandequipmentnet': 816264000.0, 'commonstocksharesissued': 600834000.0, 'finitelivedintangibleassetsnet': 414405000.0, 'preferredstockparorstatedvaluepershare': 0.0001, 'cashequivalentsatcarryingvalue': 1011315000.0, 'preferredstocksharesauthorized': 2000000.0, 'commonstocksharesoutstanding': 494254000.0, 'otherliabilitiesnoncurrent': 97404000.0, 'shortterminvestments': 3749985000.0, 'assetscurrent': 5839774000.0, 'deferredtaxliabilitiesnoncurrent': 217660000.0, 'deferredrevenuenoncurrent': 69131000.0, 'stockholdersequity': 7424835000.0, 'accountsreceivablenetcurrent': 833033000.0, 'longtermdebtandcapitalleaseobligations': 1902068000.0, 'allowancefordoubtfulaccountsreceivablecurrent': 6214000.0, 'assets': 12707114000.0, 'goodwill': 5406474000.0, 'commonstockparorstatedvaluepershare': 0.0001, 'accruedincometaxesnoncurrent': 184381000.0, 'otherassetsnoncurrent': 149758000.0, 'accruedincometaxescurrent': 38362000.0, 'preferredstocksharesissued': 0.0, 'accumulatedothercomprehensiveincomelossnetoftax': -173602000.0}]\n",
      "[{'date': '2020-01-31', 'symbol': 'CRM', 'period': 'FY', 'contractwithcustomerliabilitycurrent': 10662000000.0, 'liabilitiesandstockholdersequity': 55126000000.0, 'prepaidexpenseandotherassetscurrent': 916000000.0, 'liabilities': 21241000000.0, 'liabilitiescurrent': 14845000000.0, 'commonstocksharesauthorized': 1600000000.0, 'cashandcashequivalentsatcarryingvalue': 4145000000.0, 'retainedearningsaccumulateddeficit': 1861000000.0, 'intangibleassetsnetexcludinggoodwill': 4724000000.0, 'preferredstockvalue': 0.0, 'propertyplantandequipmentnet': 2375000000.0, 'commonstocksharesissued': 893000000.0, 'operatingleaserightofuseasset': 3040000000.0, 'capitalizedcontractcostnetnoncurrent': 1348000000.0, 'preferredstockparorstatedvaluepershare': 0.001, 'preferredstocksharesauthorized': 5000000.0, 'capitalizedcontractcostnetcurrent': 926000000.0, 'additionalpaidincapitalcommonstock': 32116000000.0, 'commonstocksharesoutstanding': 893000000.0, 'otherliabilitiesnoncurrent': 1278000000.0, 'operatingleaseliabilitynoncurrent': 2445000000.0, 'longtermdebtnoncurrent': 2673000000.0, 'commonstockvalue': 1000000.0, 'otherassetsnoncurrent': 579000000.0, 'stockholdersequity': 33885000000.0, 'accountsreceivablenetcurrent': 6174000000.0, 'operatingleaseliabilitycurrent': 750000000.0, 'accountspayableandotheraccruedliabilitiescurrent': 3433000000.0, 'assets': 55126000000.0, 'goodwill': 25134000000.0, 'commonstockparorstatedvaluepershare': 0.001, 'availableforsalesecuritiesdebtsecuritiescurrent': 3802000000.0, 'preferredstocksharesoutstanding': 0.0, 'otherlongterminvestments': 1963000000.0, 'preferredstocksharesissued': 0.0, 'assetscurrent': 15963000000.0, 'accumulatedothercomprehensiveincomelossnetoftax': -93000000.0}, {'date': '2019-01-31', 'symbol': 'CRM', 'period': 'FY', 'contractwithcustomerliabilitycurrent': 8564000000.0, 'liabilitiesandstockholdersequity': 30737000000.0, 'prepaidexpenseandotherassetscurrent': 629000000.0, 'liabilities': 15132000000.0, 'liabilitiescurrent': 11255000000.0, 'commonstocksharesauthorized': 1600000000.0, 'cashandcashequivalentsatcarryingvalue': 2669000000.0, 'capitalizedcomputersoftwarenet': 152000000.0, 'retainedearningsaccumulateddeficit': 1735000000.0, 'intangibleassetsnetexcludinggoodwill': 1923000000.0, 'preferredstockvalue': 0.0, 'propertyplantandequipmentnet': 2051000000.0, 'commonstocksharesissued': 770000000.0, 'accruedliabilitiescurrent': 1356000000.0, 'capitalizedcontractcostnetnoncurrent': 1232000000.0, 'preferredstockparorstatedvaluepershare': 0.001, 'preferredstocksharesauthorized': 5000000000.0, 'additionalpaidincapitalcommonstock': 13927000000.0, 'employeerelatedliabilitiescurrent': 1167000000.0, 'commonstocksharesoutstanding': 770000000.0, 'otherliabilitiesnoncurrent': 704000000.0, 'preferredstocksharesoutstanding': 0.0, 'longtermdebtnoncurrent': 3173000000.0, 'commonstockvalue': 1000000.0, 'capitalizedcontractcostnetcurrent': 788000000.0, 'otherassetsnoncurrent': 543000000.0, 'stockholdersequity': 15605000000.0, 'accountsreceivablenetcurrent': 4924000000.0, 'accountspayablecurrent': 165000000.0, 'assets': 30737000000.0, 'goodwill': 12851000000.0, 'commonstockparorstatedvaluepershare': 0.001, 'allowancefordoubtfulaccountsreceivable': 22000000.0, 'availableforsalesecuritiesdebtsecuritiescurrent': 1673000000.0, 'longtermdebtcurrent': 3000000.0, 'otherlongterminvestments': 1302000000.0, 'preferredstocksharesissued': 0.0, 'assetscurrent': 10683000000.0, 'accumulatedothercomprehensiveincomelossnetoftax': -58000000.0}, {'date': '2018-01-31', 'symbol': 'CRM', 'period': 'FY', 'liabilitiesandstockholdersequity': 21009802000.0, 'deferredrevenuecurrent': 7094705000.0, 'prepaidexpenseandotherassetscurrent': 390378000.0, 'liabilities': 11617439000.0, 'liabilitiescurrent': 10129518000.0, 'commonstocksharesauthorized': 1600000000.0, 'cashandcashequivalentsatcarryingvalue': 2543484000.0, 'capitalizedcomputersoftwarenet': 146065000.0, 'retainedearningsaccumulateddeficit': -337432000.0, 'intangibleassetsnetexcludinggoodwill': 826445000.0, 'preferredstockvalue': 0.0, 'propertyplantandequipmentnet': 1946527000.0, 'commonstocksharesissued': 729853000.0, 'preferredstockparorstatedvaluepershare': 0.001, 'preferredstocksharesauthorized': 5000000.0, 'additionalpaidincapitalcommonstock': 9752340000.0, 'commonstocksharesoutstanding': 707460000.0, 'deferredcommissionnoncurrent': 413375000.0, 'otherliabilitiesnoncurrent': 793140000.0, 'longtermdebtnoncurrent': 694781000.0, 'commonstockvalue': 730000.0, 'otherassetsnoncurrent': 395640000.0, 'stockholdersequity': 9388496000.0, 'temporaryequitycarryingamountattributabletoparent': 3867000.0, 'accountsreceivablenetcurrent': 3917401000.0, 'accountspayableandotheraccruedliabilitiescurrent': 2010096000.0, 'debtinstrumentinterestratestatedpercentage': 0.0375, 'assets': 21009802000.0, 'goodwill': 7314096000.0, 'commonstockparorstatedvaluepershare': 0.001, 'availableforsalesecuritiesdebtsecuritiescurrent': 1978221000.0, 'preferredstocksharesoutstanding': 0.0, 'longtermdebtcurrent': 1024717000.0, 'otherlongterminvestments': 677283000.0, 'preferredstocksharesissued': 0.0, 'assetscurrent': 9290371000.0, 'deferredcommissionscurrent': 460887000.0, 'accumulatedothercomprehensiveincomelossnetoftax': -27142000.0}, {'date': '2017-01-31', 'symbol': 'CRM', 'period': 'FY', 'liabilities': 10084796000.0, 'deferredrevenuecurrent': 5505689000.0, 'prepaidexpenseandotherassetscurrent': 279527000.0, 'liabilitiesandstockholdersequity': 17584923000.0, 'liabilitiescurrent': 7258353000.0, 'commonstocksharesauthorized': 1600000000.0, 'cashandcashequivalentsatcarryingvalue': 1606549000.0, 'capitalizedcomputersoftwarenet': 141700000.0, 'retainedearningsaccumulateddeficit': -464910000.0, 'preferredstockparorstatedvaluepershare': 0.001, 'intangibleassetsnetexcludinggoodwill': 1113374000.0, 'preferredstockvalue': 0.0, 'longtermloansfrombank': 497221000.0, 'propertyplantandequipmentnet': 1787534000.0, 'commonstocksharesissued': 707460000.0, 'otherassetsnoncurrent': 486869000.0, 'preferredstocksharesauthorized': 5000000.0, 'additionalpaidincapitalcommonstock': 8040170000.0, 'commonstocksharesoutstanding': 707460000.0, 'deferredcommissionnoncurrent': 227849000.0, 'otherliabilitiesnoncurrent': 780939000.0, 'allowancefordoubtfulaccountsreceivablecurrent': 12039000.0, 'deferredrevenuenoncurrent': 37113000.0, 'commonstockvalue': 708000.0, 'longtermlineofcredit': 196542000.0, 'stockholdersequity': 7500127000.0, 'accountsreceivablenetcurrent': 3196643000.0, 'accountspayableandotheraccruedliabilitiescurrent': 1752664000.0, 'debtinstrumentinterestratestatedpercentage': 0.0025, 'assets': 17584923000.0, 'goodwill': 7263846000.0, 'commonstockparorstatedvaluepershare': 0.001, 'securedlongtermdebt': 198268000.0, 'availableforsalesecuritiesdebtsecuritiescurrent': 602338000.0, 'convertiblelongtermnotespayable': 1116360000.0, 'preferredstocksharesoutstanding': 0.0, 'otherlongterminvestments': 566953000.0, 'preferredstocksharesissued': 0.0, 'assetscurrent': 5996827000.0, 'deferredcommissionscurrent': 311770000.0, 'accumulatedothercomprehensiveincomelossnetoftax': -75841000.0}, {'date': '2016-01-31', 'symbol': 'CRM', 'period': 'FY', 'liabilities': 7767903000.0, 'deferredrevenuecurrent': 4267667000.0, 'prepaidexpenseandotherassetscurrent': 250594000.0, 'liabilitiesandstockholdersequity': 12770772000.0, 'liabilitiescurrent': 5617005000.0, 'commonstocksharesauthorized': 1600000000.0, 'cashandcashequivalentsatcarryingvalue': 1158363000.0, 'capitalizedcomputersoftwarenet': 384258000.0, 'retainedearningsaccumulateddeficit': -653271000.0, 'preferredstockparorstatedvaluepershare': 0.001, 'preferredstockvalue': 0.0, 'propertyplantandequipmentnet': 1715828000.0, 'commonstocksharesissued': 670929000.0, 'otherassetsnoncurrent': 378762000.0, 'preferredstocksharesauthorized': 5000000.0, 'additionalpaidincapitalcommonstock': 5705386000.0, 'commonstocksharesoutstanding': 670929000.0, 'restrictedcashandinvestmentsnoncurrent': 0.0, 'assetsheldforsalenotpartofdisposalgroupcurrent': 0.0, 'deferredcommissionnoncurrent': 189943000.0, 'otherliabilitiesnoncurrent': 833065000.0, 'allowancefordoubtfulaccountsreceivablecurrent': 10488000.0, 'deferredrevenuenoncurrent': 23886000.0, 'longtermlineofcredit': 0.0, 'commonstockvalue': 671000.0, 'availableforsalesecuritiesdebtsecuritiesnoncurrent': 1383996000.0, 'stockholdersequity': 5002869000.0, 'accountsreceivablenetcurrent': 2496165000.0, 'accountspayableandotheraccruedliabilitiescurrent': 1349338000.0, 'debtinstrumentinterestratestatedpercentage': 0.0075, 'assets': 12770772000.0, 'goodwill': 3849937000.0, 'commonstockparorstatedvaluepershare': 0.001, 'securedlongtermdebt': 198888000.0, 'deferredcommissionscurrent': 259187000.0, 'availableforsalesecuritiesdebtsecuritiescurrent': 183018000.0, 'convertiblelongtermnotespayable': 1095059000.0, 'preferredstocksharesoutstanding': 0.0, 'otherlongterminvestments': 520721000.0, 'preferredstocksharesissued': 0.0, 'assetscurrent': 4347327000.0, 'accumulatedothercomprehensiveincomelossnetoftax': -49917000.0}]\n",
      "[{'date': '2020-07-25', 'symbol': 'CSCO', 'period': 'FY', 'liabilitiesandstockholdersequity': 94853000000.0, 'liabilities': 56933000000.0, 'liabilitiescurrent': 25331000000.0, 'commonstocksharesauthorized': 20000000000.0, 'cashandcashequivalentsatcarryingvalue': 11809000000.0, 'retainedearningsaccumulateddeficit': -2763000000.0, 'intangibleassetsnetexcludinggoodwill': 1576000000.0, 'preferredstockvalue': 0.0, 'propertyplantandequipmentnet': 2453000000.0, 'commonstocksincludingadditionalpaidincapital': 41202000000.0, 'commonstocksharesissued': 4237000000.0, 'preferredstocksharesauthorized': 5000000.0, 'employeerelatedliabilitiescurrent': 3122000000.0, 'commonstocksharesoutstanding': 4237000000.0, 'deferredincometaxassetsnet': 3990000000.0, 'otherliabilitiesnoncurrent': 2147000000.0, 'shortterminvestments': 17610000000.0, 'notesandloansreceivablenetcurrent': 5051000000.0, 'otherliabilitiescurrent': 4741000000.0, 'assetscurrent': 43573000000.0, 'contractwithcustomerliabilitynoncurrent': 9040000000.0, 'longtermdebtnoncurrent': 11578000000.0, 'stockholdersequity': 37920000000.0, 'contractwithcustomerliabilitycurrent': 11406000000.0, 'inventorynet': 1282000000.0, 'accountsreceivablenetcurrent': 5500000000.0, 'accountspayablecurrent': 2218000000.0, 'allowancefordoubtfulaccountsreceivablecurrent': 143000000.0, 'notesandloansreceivablenetnoncurrent': 5714000000.0, 'assets': 94853000000.0, 'goodwill': 33806000000.0, 'debtcurrent': 3005000000.0, 'accruedincometaxesnoncurrent': 8837000000.0, 'otherassetscurrent': 2349000000.0, 'commonstockparorstatedvaluepershare': 0.001, 'preferredstocksharesoutstanding': 0.0, 'otherassetsnoncurrent': 3741000000.0, 'accruedincometaxescurrent': 839000000.0, 'preferredstocksharesissued': 0.0, 'commitmentsandcontingencies': 300000000.0, 'accumulatedothercomprehensiveincomelossnetoftax': -519000000.0}, {'date': '2019-07-27', 'symbol': 'CSCO', 'period': 'FY', 'liabilitiesandstockholdersequity': 97793000000.0, 'liabilities': 64222000000.0, 'liabilitiescurrent': 31712000000.0, 'commonstocksharesauthorized': 20000000000.0, 'cashandcashequivalentsatcarryingvalue': 11750000000.0, 'minorityinterest': 0.0, 'stockholdersequityincludingportionattributabletononcontrollinginterest': 33571000000.0, 'retainedearningsaccumulateddeficit': -5903000000.0, 'intangibleassetsnetexcludinggoodwill': 2201000000.0, 'preferredstockvalue': 0.0, 'propertyplantandequipmentnet': 2789000000.0, 'commonstocksincludingadditionalpaidincapital': 40266000000.0, 'commonstocksharesissued': 4250000000.0, 'preferredstocksharesauthorized': 5000000.0, 'employeerelatedliabilitiescurrent': 3221000000.0, 'commonstocksharesoutstanding': 4250000000.0, 'deferredincometaxassetsnet': 4065000000.0, 'otherliabilitiesnoncurrent': 1309000000.0, 'shortterminvestments': 21663000000.0, 'notesandloansreceivablenetcurrent': 5095000000.0, 'otherliabilitiescurrent': 4424000000.0, 'assetscurrent': 47755000000.0, 'contractwithcustomerliabilitynoncurrent': 7799000000.0, 'longtermdebtnoncurrent': 14475000000.0, 'stockholdersequity': 33571000000.0, 'contractwithcustomerliabilitycurrent': 10668000000.0, 'inventorynet': 1383000000.0, 'accountsreceivablenetcurrent': 5500000000.0, 'accountspayablecurrent': 2059000000.0, 'allowancefordoubtfulaccountsreceivablecurrent': 136000000.0, 'notesandloansreceivablenetnoncurrent': 4958000000.0, 'assets': 97793000000.0, 'goodwill': 33529000000.0, 'debtcurrent': 10191000000.0, 'accruedincometaxesnoncurrent': 8927000000.0, 'otherassetscurrent': 2373000000.0, 'commonstockparorstatedvaluepershare': 0.001, 'preferredstocksharesoutstanding': 0.0, 'otherassetsnoncurrent': 2496000000.0, 'accruedincometaxescurrent': 1149000000.0, 'preferredstocksharesissued': 0.0, 'commitmentsandcontingencies': 326000000.0, 'accumulatedothercomprehensiveincomelossnetoftax': -792000000.0}, {'date': '2018-07-28', 'symbol': 'CSCO', 'period': 'FY', 'liabilitiesandstockholdersequity': '108784000000.000000', 'deferredrevenuecurrent': 11490000000.0, 'liabilities': 65580000000.0, 'liabilitiescurrent': 27035000000.0, 'commonstocksharesauthorized': 20000000000.0, 'cashandcashequivalentsatcarryingvalue': 8934000000.0, 'minorityinterest': 0.0, 'stockholdersequityincludingportionattributabletononcontrollinginterest': 43204000000.0, 'retainedearningsaccumulateddeficit': 1233000000.0, 'intangibleassetsnetexcludinggoodwill': 2552000000.0, 'preferredstockvalue': 0.0, 'propertyplantandequipmentnet': 3006000000.0, 'commonstocksincludingadditionalpaidincapital': 42820000000.0, 'commonstocksharesissued': 4614000000.0, 'availableforsalesecuritiescurrent': 37614000000.0, 'preferredstocksharesauthorized': 5000000.0, 'employeerelatedliabilitiescurrent': 2986000000.0, 'commonstocksharesoutstanding': 4614000000.0, 'deferredincometaxassetsnet': 3219000000.0, 'otherliabilitiesnoncurrent': 1434000000.0, 'notesandloansreceivablenetcurrent': 4949000000.0, 'otherliabilitiescurrent': 4413000000.0, 'assetscurrent': 61837000000.0, 'longtermdebtnoncurrent': 20331000000.0, 'stockholdersequity': 43204000000.0, 'deferredrevenuenoncurrent': 8195000000.0, 'inventorynet': 1846000000.0, 'accountsreceivablenetcurrent': 5554000000.0, 'accountspayablecurrent': 1904000000.0, 'allowancefordoubtfulaccountsreceivablecurrent': 129000000.0, 'notesandloansreceivablenetnoncurrent': 4882000000.0, 'assets': '108784000000.000000', 'goodwill': 31706000000.0, 'debtcurrent': 5238000000.0, 'accruedincometaxesnoncurrent': 8585000000.0, 'otherassetscurrent': 2940000000.0, 'commonstockparorstatedvaluepershare': 0.001, 'preferredstocksharesoutstanding': 0.0, 'otherassetsnoncurrent': 1582000000.0, 'accruedincometaxescurrent': 1004000000.0, 'preferredstocksharesissued': 0.0, 'commitmentsandcontingencies': 223000000.0, 'accumulatedothercomprehensiveincomelossnetoftax': -849000000.0}, {'date': '2017-07-29', 'symbol': 'CSCO', 'period': 'FY', 'liabilitiesandstockholdersequity': '129818000000.000000', 'deferredrevenuecurrent': 10821000000.0, 'liabilities': 63681000000.0, 'liabilitiescurrent': 27583000000.0, 'commonstocksharesauthorized': 20000000000.0, 'cashandcashequivalentsatcarryingvalue': 11708000000.0, 'minorityinterest': 0.0, 'stockholdersequityincludingportionattributabletononcontrollinginterest': 66137000000.0, 'retainedearningsaccumulateddeficit': 20838000000.0, 'intangibleassetsnetexcludinggoodwill': 2539000000.0, 'preferredstockvalue': 0.0, 'propertyplantandequipmentnet': 3322000000.0, 'commonstocksincludingadditionalpaidincapital': 45253000000.0, 'commonstocksharesissued': 4983000000.0, 'availableforsalesecuritiescurrent': 58784000000.0, 'preferredstocksharesauthorized': 5000000.0, 'employeerelatedliabilitiescurrent': 2895000000.0, 'commonstocksharesoutstanding': 4983000000.0, 'deferredincometaxassetsnet': 4239000000.0, 'otherliabilitiesnoncurrent': 1450000000.0, 'notesandloansreceivablenetcurrent': 4856000000.0, 'otherliabilitiescurrent': 4392000000.0, 'assetscurrent': 83703000000.0, 'longtermdebtnoncurrent': 25725000000.0, 'stockholdersequity': 66137000000.0, 'deferredrevenuenoncurrent': 7673000000.0, 'inventorynet': 1616000000.0, 'accountsreceivablenetcurrent': 5146000000.0, 'accountspayablecurrent': 1385000000.0, 'allowancefordoubtfulaccountsreceivablecurrent': 211000000.0, 'notesandloansreceivablenetnoncurrent': 4738000000.0, 'assets': '129818000000.000000', 'goodwill': 29766000000.0, 'debtcurrent': 7992000000.0, 'accruedincometaxesnoncurrent': 1250000000.0, 'otherassetscurrent': 1593000000.0, 'commonstockparorstatedvaluepershare': 0.001, 'preferredstocksharesoutstanding': 0.0, 'otherassetsnoncurrent': 1511000000.0, 'accruedincometaxescurrent': 98000000.0, 'preferredstocksharesissued': 0.0, 'commitmentsandcontingencies': 216000000.0, 'accumulatedothercomprehensiveincomelossnetoftax': 46000000.0}, {'date': '2016-07-30', 'symbol': 'CSCO', 'period': 'FY', 'liabilitiesandstockholdersequity': '121652000000.000000', 'deferredrevenuecurrent': 10155000000.0, 'liabilities': 58067000000.0, 'liabilitiescurrent': 24911000000.0, 'commonstocksharesauthorized': 20000000000.0, 'cashandcashequivalentsatcarryingvalue': 7631000000.0, 'minorityinterest': -1000000.0, 'stockholdersequityincludingportionattributabletononcontrollinginterest': 63585000000.0, 'retainedearningsaccumulateddeficit': 19396000000.0, 'intangibleassetsnetexcludinggoodwill': 2501000000.0, 'preferredstockvalue': 0.0, 'propertyplantandequipmentnet': 3506000000.0, 'commonstocksincludingadditionalpaidincapital': 44516000000.0, 'commonstocksharesissued': 5029000000.0, 'availableforsalesecuritiescurrent': 58125000000.0, 'accruedincometaxesnoncurrent': 925000000.0, 'preferredstocksharesauthorized': 5000000.0, 'employeerelatedliabilitiescurrent': 2951000000.0, 'commonstocksharesoutstanding': 5029000000.0, 'otherliabilitiesnoncurrent': 1431000000.0, 'notesandloansreceivablenetcurrent': 4272000000.0, 'otherliabilitiescurrent': 6072000000.0, 'assetscurrent': 78719000000.0, 'longtermdebtnoncurrent': 24483000000.0, 'preferredstocknoparvalue': 0.0, 'stockholdersequity': 63586000000.0, 'deferredrevenuenoncurrent': 6317000000.0, 'inventorynet': 1217000000.0, 'accountsreceivablenetcurrent': 5847000000.0, 'accountspayablecurrent': 1056000000.0, 'allowancefordoubtfulaccountsreceivablecurrent': 249000000.0, 'assets': '121652000000.000000', 'notesandloansreceivablenetnoncurrent': 4158000000.0, 'goodwill': 26625000000.0, 'commonstockparorstatedvaluepershare': 0.001, 'debtcurrent': 4160000000.0, 'deferredtaxassetsliabilitiesnetnoncurrent': 4299000000.0, 'otherassetscurrent': 1627000000.0, 'preferredstocksharesoutstanding': 0.0, 'otherassetsnoncurrent': 1844000000.0, 'accruedincometaxescurrent': 517000000.0, 'preferredstocksharesissued': 0.0, 'commitmentsandcontingencies': 222000000.0, 'accumulatedothercomprehensiveincomelossnetoftax': -326000000.0}]\n",
      "[{'date': '2020-05-31', 'symbol': 'ORCL', 'period': 'FY', 'liabilitiesandstockholdersequity': '115438000000.000000', 'notespayablecurrent': 2371000000.0, 'liabilitiescurrent': 17200000000.0, 'commonstocksharesauthorized': 11000000000.0, 'cashandcashequivalentsatcarryingvalue': 37239000000.0, 'minorityinterest': 643000000.0, 'stockholdersequityincludingportionattributabletononcontrollinginterest': 12717000000.0, 'retainedearningsaccumulateddeficit': -12696000000.0, 'liabilitiesnoncurrent': 85521000000.0, 'preferredstockvalue': 0.0, 'propertyplantandequipmentnet': 6244000000.0, 'commonstocksincludingadditionalpaidincapital': 26486000000.0, 'longtermnotesandloans': 69226000000.0, 'finitelivedintangibleassetsnet': 3738000000.0, 'preferredstockparorstatedvaluepershare': 0.01, 'preferredstocksharesauthorized': 1000000.0, 'employeerelatedliabilitiescurrent': 1453000000.0, 'commonstocksharesoutstanding': 3067000000.0, 'deferredincometaxassetsnet': 3252000000.0, 'otherliabilitiesnoncurrent': 3832000000.0, 'prepaidexpenseandotherassetscurrent': 3532000000.0, 'otherliabilitiescurrent': 4737000000.0, 'assetscurrent': 52140000000.0, 'contractwithcustomerliabilitycurrent': 8002000000.0, 'stockholdersequity': 12074000000.0, 'accountsreceivablenetcurrent': 5551000000.0, 'accountspayablecurrent': 637000000.0, 'allowancefordoubtfulaccountsreceivablecurrent': 409000000.0, 'assets': '115438000000.000000', 'goodwill': 43769000000.0, 'commonstockparorstatedvaluepershare': 0.01, 'assetsnoncurrent': 63298000000.0, 'availableforsalesecuritiesdebtsecuritiescurrent': 5818000000.0, 'accruedincometaxesnoncurrent': 12463000000.0, 'preferredstocksharesoutstanding': 0.0, 'otherassetsnoncurrent': 6295000000.0, 'commitmentsandcontingencies': 0.0, 'accumulatedothercomprehensiveincomelossnetoftax': -1716000000.0}, {'date': '2019-05-31', 'symbol': 'ORCL', 'period': 'FY', 'liabilitiesandstockholdersequity': '108709000000.000000', 'prepaidexpenseandotherassetscurrent': 3425000000.0, 'liabilitiescurrent': 18630000000.0, 'commonstocksharesauthorized': 11000000000.0, 'cashandcashequivalentsatcarryingvalue': 20514000000.0, 'minorityinterest': 578000000.0, 'stockholdersequityincludingportionattributabletononcontrollinginterest': 22363000000.0, 'retainedearningsaccumulateddeficit': -3496000000.0, 'liabilitiesnoncurrent': 67716000000.0, 'preferredstockvalue': 0.0, 'propertyplantandequipmentnet': 6252000000.0, 'commonstocksincludingadditionalpaidincapital': 26909000000.0, 'longtermnotesandloans': 51673000000.0, 'finitelivedintangibleassetsnet': 5279000000.0, 'preferredstockparorstatedvaluepershare': 0.01, 'preferredstocksharesauthorized': 1000000.0, 'employeerelatedliabilitiescurrent': 1628000000.0, 'commonstocksharesoutstanding': 3359000000.0, 'otherliabilitiesnoncurrent': 2748000000.0, 'otherliabilitiescurrent': 3554000000.0, 'assetscurrent': 46386000000.0, 'availableforsalesecuritiesdebtsecuritiescurrent': 17313000000.0, 'deferredtaxassetsnetnoncurrent': 2696000000.0, 'contractwithcustomerliabilitycurrent': 8374000000.0, 'stockholdersequity': 21785000000.0, 'accountsreceivablenetcurrent': 5134000000.0, 'accountspayablecurrent': 580000000.0, 'allowancefordoubtfulaccountsreceivablecurrent': 371000000.0, 'assets': '108709000000.000000', 'goodwill': 43779000000.0, 'commonstockparorstatedvaluepershare': 0.01, 'assetsnoncurrent': 62323000000.0, 'debtcurrent': 4494000000.0, 'accruedincometaxesnoncurrent': 13295000000.0, 'preferredstocksharesoutstanding': 0.0, 'otherassetsnoncurrent': 4317000000.0, 'commitmentsandcontingencies': 0.0, 'accumulatedothercomprehensiveincomelossnetoftax': -1628000000.0}, {'date': '2018-05-31', 'symbol': 'ORCL', 'period': 'FY', 'liabilitiesandstockholdersequity': '137264000000.000000', 'deferredrevenuecurrent': 8429000000.0, 'prepaidexpenseandotherassetscurrent': 3424000000.0, 'liabilitiescurrent': 19195000000.0, 'commonstocksharesauthorized': 11000000000.0, 'cashandcashequivalentsatcarryingvalue': 21620000000.0, 'minorityinterest': 498000000.0, 'stockholdersequityincludingportionattributabletononcontrollinginterest': 46224000000.0, 'retainedearningsaccumulateddeficit': 18412000000.0, 'liabilitiesnoncurrent': 71845000000.0, 'preferredstockvalue': 0.0, 'propertyplantandequipmentnet': 5897000000.0, 'commonstocksincludingadditionalpaidincapital': 28950000000.0, 'longtermnotesandloans': 56128000000.0, 'availableforsalesecuritiescurrent': 45641000000.0, 'finitelivedintangibleassetsnet': 6670000000.0, 'preferredstockparorstatedvaluepershare': 0.01, 'preferredstocksharesauthorized': 1000000.0, 'employeerelatedliabilitiescurrent': 1789000000.0, 'commonstocksharesoutstanding': 3997000000.0, 'otherliabilitiesnoncurrent': 2295000000.0, 'otherliabilitiescurrent': 3957000000.0, 'assetscurrent': 75964000000.0, 'deferredtaxassetsnetnoncurrent': 1491000000.0, 'stockholdersequity': 45726000000.0, 'accountsreceivablenetcurrent': 5279000000.0, 'accountspayablecurrent': 529000000.0, 'allowancefordoubtfulaccountsreceivablecurrent': 370000000.0, 'assets': '137264000000.000000', 'goodwill': 43755000000.0, 'commonstockparorstatedvaluepershare': 0.01, 'assetsnoncurrent': 61300000000.0, 'debtcurrent': 4491000000.0, 'accruedincometaxesnoncurrent': 13422000000.0, 'preferredstocksharesoutstanding': 0.0, 'otherassetsnoncurrent': 3487000000.0, 'commitmentsandcontingencies': 0.0, 'accumulatedothercomprehensiveincomelossnetoftax': -1636000000.0}, {'date': '2017-05-31', 'symbol': 'ORCL', 'period': 'FY', 'liabilitiesandstockholdersequity': '134991000000.000000', 'deferredrevenuecurrent': 8233000000.0, 'prepaidexpenseandotherassetscurrent': 2837000000.0, 'liabilitiescurrent': 24178000000.0, 'commonstocksharesauthorized': 11000000000.0, 'cashandcashequivalentsatcarryingvalue': 21784000000.0, 'minorityinterest': 386000000.0, 'stockholdersequityincludingportionattributabletononcontrollinginterest': 54246000000.0, 'retainedearningsaccumulateddeficit': 27598000000.0, 'liabilitiesnoncurrent': 56567000000.0, 'preferredstockvalue': 0.0, 'propertyplantandequipmentnet': 5315000000.0, 'commonstocksincludingadditionalpaidincapital': 27065000000.0, 'longtermnotesandloans': 48112000000.0, 'availableforsalesecuritiescurrent': 44294000000.0, 'finitelivedintangibleassetsnet': 7679000000.0, 'preferredstockparorstatedvaluepershare': 0.01, 'preferredstocksharesauthorized': 1000000.0, 'employeerelatedliabilitiescurrent': 1966000000.0, 'commonstocksharesoutstanding': 4137000000.0, 'otherliabilitiesnoncurrent': 2774000000.0, 'otherliabilitiescurrent': 3583000000.0, 'assetscurrent': 74515000000.0, 'deferredtaxassetsnetnoncurrent': 1143000000.0, 'stockholdersequity': 53860000000.0, 'accountsreceivablenetcurrent': 5300000000.0, 'accountspayablecurrent': 599000000.0, 'allowancefordoubtfulaccountsreceivablecurrent': 319000000.0, 'assets': '134991000000.000000', 'goodwill': 43045000000.0, 'commonstockparorstatedvaluepershare': 0.01, 'assetsnoncurrent': 60476000000.0, 'debtcurrent': 9797000000.0, 'accruedincometaxesnoncurrent': 5681000000.0, 'preferredstocksharesoutstanding': 0.0, 'otherassetsnoncurrent': 3294000000.0, 'inventorynet': 300000000.0, 'accumulatedothercomprehensiveincomelossnetoftax': -803000000.0}, {'date': '2016-05-31', 'symbol': 'ORCL', 'period': 'FY', 'liabilitiesandstockholdersequity': '112180000000.000000', 'deferredrevenuecurrent': 7655000000.0, 'liabilitiescurrent': 17208000000.0, 'commonstocksharesauthorized': 11000000000.0, 'cashandcashequivalentsatcarryingvalue': 20152000000.0, 'minorityinterest': 501000000.0, 'stockholdersequityincludingportionattributabletononcontrollinginterest': 47790000000.0, 'retainedearningsaccumulateddeficit': 23888000000.0, 'intangibleassetsnetexcludinggoodwill': 4943000000.0, 'liabilitiesnoncurrent': 47182000000.0, 'preferredstockvalue': 0.0, 'propertyplantandequipmentnet': 4000000000.0, 'commonstocksincludingadditionalpaidincapital': 24217000000.0, 'availableforsalesecuritiescurrent': 35973000000.0, 'preferredstockparorstatedvaluepershare': 0.01, 'longtermnotespayable': 40105000000.0, 'preferredstocksharesauthorized': 1000000.0, 'employeerelatedliabilitiescurrent': 1966000000.0, 'commonstocksharesoutstanding': 4131000000.0, 'otherliabilitiesnoncurrent': 2169000000.0, 'otherliabilitiescurrent': 3333000000.0, 'assetscurrent': 64313000000.0, 'deferredtaxassetsnetnoncurrent': 1291000000.0, 'stockholdersequity': 47289000000.0, 'accountsreceivablenetcurrent': 5385000000.0, 'accountspayablecurrent': 504000000.0, 'allowancefordoubtfulaccountsreceivablecurrent': 327000000.0, 'assets': '112180000000.000000', 'goodwill': 34590000000.0, 'commonstockparorstatedvaluepershare': 0.01, 'assetsnoncurrent': 47867000000.0, 'debtcurrent': 3750000000.0, 'accruedincometaxesnoncurrent': 4908000000.0, 'otherassetscurrent': 2591000000.0, 'preferredstocksharesoutstanding': 0.0, 'otherassetsnoncurrent': 3043000000.0, 'inventorynet': 212000000.0, 'accumulatedothercomprehensiveincomelossnetoftax': -816000000.0}]\n",
      "[{'date': '2019-11-03', 'symbol': 'AVGO', 'period': 'FY', 'liabilitiesandstockholdersequity': 67493000000.0, 'additionalpaidincapital': 25081000000.0, 'liabilities': 42523000000.0, 'liabilitiescurrent': 6899000000.0, 'commonstocksharesauthorized': 2900000000.0, 'cashandcashequivalentsatcarryingvalue': 5055000000.0, 'stockholdersequityincludingportionattributabletononcontrollinginterest': 24941000000.0, 'retainedearningsaccumulateddeficit': 0.0, 'commonstockvalue': 0.0, 'preferredstockvalue': 0.0, 'propertyplantandequipmentnet': 2565000000.0, 'commonstocksharesissued': 397560810.0, 'longtermdebtcurrent': 2787000000.0, 'preferredstockliquidationpreferencevalue': 3737500000.0, 'preferredstocksharesauthorized': 100000000.0, 'employeerelatedliabilitiescurrent': 641000000.0, 'commonstocksharesoutstanding': 397560810.0, 'otherliabilitiesnoncurrent': 5613000000.0, 'otherliabilitiescurrent': 2616000000.0, 'assetscurrent': 9917000000.0, 'longtermdebtnoncurrent': 30011000000.0, 'intangibleassetsnetexcludinggoodwill': 17554000000.0, 'temporaryequitypreferredstockdividendobligation': 29000000.0, 'accountsreceivablenetcurrent': 3259000000.0, 'accountspayablecurrent': 855000000.0, 'assets': 67493000000.0, 'goodwill': 36714000000.0, 'commonstockparorstatedvaluepershare': 0.001, 'otherassetscurrent': 729000000.0, 'preferredstocksharesoutstanding': 3737500.0, 'preferredstockparorstatedvaluepershare': 0.001, 'otherassetsnoncurrent': 743000000.0, 'inventorynet': 874000000.0, 'preferredstocksharesissued': 3737500.0, 'accumulatedothercomprehensiveincomelossnetoftax': -140000000.0}, {'date': '2018-11-04', 'symbol': 'AVGO', 'period': 'FY', 'liabilities': 23467000000.0, 'liabilitiesandstockholdersequity': 50124000000.0, 'liabilitiescurrent': 2338000000.0, 'commonstocksharesauthorized': 2900000000.0, 'cashandcashequivalentsatcarryingvalue': 4292000000.0, 'minorityinterest': 0.0, 'stockholdersequityincludingportionattributabletononcontrollinginterest': 26657000000.0, 'retainedearningsaccumulateddeficit': 3487000000.0, 'preferredstockvalue': 0.0, 'propertyplantandequipmentnet': 2635000000.0, 'commonstocksincludingadditionalpaidincapital': 23285000000.0, 'commonstocksharesissued': 407637618.0, 'longtermdebtcurrent': 0.0, 'preferredstocksharesauthorized': 100000000.0, 'employeerelatedliabilitiescurrent': 715000000.0, 'commonstocksharesoutstanding': 407637618.0, 'otherliabilitiesnoncurrent': 3636000000.0, 'otherliabilitiescurrent': 812000000.0, 'assetscurrent': 9107000000.0, 'longtermdebtnoncurrent': 17493000000.0, 'intangibleassetsnetexcludinggoodwill': 10762000000.0, 'stockholdersequity': 26657000000.0, 'accountsreceivablenetcurrent': 3325000000.0, 'accountspayablecurrent': 811000000.0, 'assets': 50124000000.0, 'goodwill': 26913000000.0, 'commonstockparorstatedvaluepershare': 0.001, 'otherassetscurrent': 366000000.0, 'preferredstocksharesoutstanding': 0.0, 'preferredstockparorstatedvaluepershare': 0.001, 'otherassetsnoncurrent': 707000000.0, 'inventorynet': 1124000000.0, 'preferredstocksharesissued': 0.0, 'accumulatedothercomprehensiveincomelossnetoftax': -115000000.0}, {'date': '2017-10-29', 'symbol': 'AVGO', 'period': 'FY', 'pensionAndOtherPostretirementDefinedBenefitPlansLiabilitiesNoncurrent': 112000000}, {'date': '2016-10-30', 'symbol': 'AVGO', 'period': 'FY', 'pensionAndOtherPostretirementDefinedBenefitPlansLiabilitiesNoncurrent': 531000000}, {'date': '2015-11-01', 'symbol': 'AVGO', 'period': 'FY', 'commonStockSharesOutstanding': 276259120, 'stockholdersEquity': 4714000000}]\n",
      "[{'date': '2020-09-27', 'symbol': 'QCOM', 'period': 'FY', 'liabilitiesandstockholdersequity': 35594000000.0, 'deferredrevenuecurrent': 568000000.0, 'longtermdebt': 15226000000.0, 'liabilities': 29517000000.0, 'liabilitiescurrent': 8672000000.0, 'commonstocksharesauthorized': 6000000000.0, 'cashandcashequivalentsatcarryingvalue': 6707000000.0, 'stockholdersequityincludingportionattributabletononcontrollinginterest': 6077000000.0, 'retainedearningsaccumulateddeficit': 5284000000.0, 'intangibleassetsnetexcludinggoodwill': 1653000000.0, 'preferredstockvalue': 0.0, 'propertyplantandequipmentnet': 3711000000.0, 'commonstocksincludingadditionalpaidincapital': 586000000.0, 'commonstocksharesissued': 1131000000.0, 'accountsandotherreceivablesnetcurrent': 4003000000.0, 'marketablesecuritiescurrent': 4507000000.0, 'preferredstockparorstatedvaluepershare': 0.0001, 'preferredstocksharesauthorized': 8000000.0, 'employeerelatedliabilitiescurrent': 1053000000.0, 'deferredincometaxassetsnet': 1351000000.0, 'otherliabilitiescurrent': 4303000000.0, 'assetscurrent': 18519000000.0, 'otherliabilities': 2986000000.0, 'deferredrevenuenoncurrent': 761000000.0, 'accountspayablecurrent': 2248000000.0, 'assets': 35594000000.0, 'goodwill': 6323000000.0, 'debtcurrent': 500000000.0, 'accruedincometaxesnoncurrent': 1872000000.0, 'otherassetscurrent': 704000000.0, 'commonstockparorstatedvaluepershare': 0.0001, 'preferredstocksharesoutstanding': 0.0, 'otherassetsnoncurrent': 4037000000.0, 'inventorynet': 2598000000.0, 'accumulatedothercomprehensiveincomelossnetoftax': 207000000.0}, {'date': '2019-09-29', 'symbol': 'QCOM', 'period': 'FY', 'liabilitiesandstockholdersequity': 32957000000.0, 'deferredrevenuecurrent': 565000000.0, 'longtermdebt': 13437000000.0, 'liabilities': 28048000000.0, 'liabilitiescurrent': 8935000000.0, 'commonstocksharesauthorized': 6000000000.0, 'cashandcashequivalentsatcarryingvalue': 11839000000.0, 'stockholdersequityincludingportionattributabletononcontrollinginterest': 4909000000.0, 'retainedearningsaccumulateddeficit': 4466000000.0, 'intangibleassetsnetexcludinggoodwill': 2172000000.0, 'preferredstockvalue': 0.0, 'propertyplantandequipmentnet': 3081000000.0, 'commonstocksincludingadditionalpaidincapital': 343000000.0, 'commonstocksharesissued': 1145000000.0, 'accountsandotherreceivablesnetcurrent': 2471000000.0, 'marketablesecuritiescurrent': 421000000.0, 'accruedincometaxesnoncurrent': 2088000000.0, 'preferredstockparorstatedvaluepershare': 0.0001, 'preferredstocksharesauthorized': 8000000.0, 'employeerelatedliabilitiescurrent': 1048000000.0, 'commonstocksharesoutstanding': 1145000000.0, 'debtcurrent': 2496000000.0, 'assetscurrent': 16765000000.0, 'otherliabilities': 2428000000.0, 'deferredrevenuenoncurrent': 1160000000.0, 'accountspayablecurrent': 1368000000.0, 'assets': 32957000000.0, 'goodwill': 6282000000.0, 'commonstockparorstatedvaluepershare': 0.0001, 'otherliabilitiescurrent': 3458000000.0, 'deferredtaxassetsliabilitiesnetnoncurrent': 1196000000.0, 'otherassetscurrent': 634000000.0, 'preferredstocksharesoutstanding': 0.0, 'otherassetsnoncurrent': 3461000000.0, 'inventorynet': 1400000000.0, 'accumulatedothercomprehensiveincomelossnetoftax': 100000000.0}, {'date': '2018-09-30', 'symbol': 'QCOM', 'period': 'FY', 'liabilitiesandstockholdersequity': 32686000000.0, 'deferredrevenuecurrent': 500000000.0, 'longtermdebt': 15365000000.0, 'liabilities': 31758000000.0, 'liabilitiescurrent': 11236000000.0, 'commonstocksharesauthorized': 6000000000.0, 'cashandcashequivalentsatcarryingvalue': 11777000000.0, 'stockholdersequityincludingportionattributabletononcontrollinginterest': 928000000.0, 'retainedearningsaccumulateddeficit': 663000000.0, 'intangibleassetsnetexcludinggoodwill': 2955000000.0, 'preferredstockvalue': 0.0, 'propertyplantandequipmentnet': 2975000000.0, 'commonstocksincludingadditionalpaidincapital': 0.0, 'commonstocksharesissued': 1219000000.0, 'accountsandotherreceivablesnetcurrent': 2904000000.0, 'marketablesecuritiescurrent': 311000000.0, 'accruedincometaxesnoncurrent': 2312000000.0, 'preferredstockparorstatedvaluepershare': 0.0001, 'preferredstocksharesauthorized': 8000000.0, 'employeerelatedliabilitiescurrent': 1081000000.0, 'commonstocksharesoutstanding': 1219000000.0, 'otherliabilitiesnoncurrent': 1225000000.0, 'debtcurrent': 1005000000.0, 'assetscurrent': 17384000000.0, 'deferredrevenuenoncurrent': 1620000000.0, 'accountspayablecurrent': 1825000000.0, 'assets': 32686000000.0, 'goodwill': 6498000000.0, 'commonstockparorstatedvaluepershare': 0.0001, 'otherliabilitiescurrent': 6825000000.0, 'deferredtaxassetsliabilitiesnetnoncurrent': 904000000.0, 'otherassetscurrent': 699000000.0, 'preferredstocksharesoutstanding': 0.0, 'otherassetsnoncurrent': 1935000000.0, 'inventorynet': 1693000000.0, 'marketablesecuritiesnoncurrent': 35000000.0, 'accumulatedothercomprehensiveincomelossnetoftax': 265000000.0}, {'date': '2017-09-24', 'symbol': 'QCOM', 'period': 'FY', 'liabilitiesandstockholdersequity': 65486000000.0, 'deferredrevenuecurrent': 502000000.0, 'longtermdebt': 19398000000.0, 'liabilities': 34740000000.0, 'liabilitiescurrent': 10907000000.0, 'commonstocksharesauthorized': 6000000000.0, 'cashandcashequivalentsatcarryingvalue': 35029000000.0, 'minorityinterest': 0.0, 'stockholdersequityincludingportionattributabletononcontrollinginterest': 30746000000.0, 'retainedearningsaccumulateddeficit': 30088000000.0, 'intangibleassetsnetexcludinggoodwill': 3737000000.0, 'preferredstockvalue': 0.0, 'propertyplantandequipmentnet': 3216000000.0, 'commonstocksincludingadditionalpaidincapital': 274000000.0, 'commonstocksharesissued': 1474000000.0, 'accountsandotherreceivablesnetcurrent': 3632000000.0, 'marketablesecuritiescurrent': 2279000000.0, 'preferredstockparorstatedvaluepershare': 0.0001, 'preferredstocksharesauthorized': 8000000.0, 'employeerelatedliabilitiescurrent': 1183000000.0, 'commonstocksharesoutstanding': 1474000000.0, 'otherliabilitiesnoncurrent': 2432000000.0, 'debtcurrent': 2495000000.0, 'assetscurrent': 43593000000.0, 'deferredrevenuenoncurrent': 2003000000.0, 'stockholdersequity': 30746000000.0, 'commonstockparorstatedvaluepershare': 0.0001, 'accountspayablecurrent': 1971000000.0, 'assets': 65486000000.0, 'goodwill': 6623000000.0, 'deferredtaxassetsliabilitiesnetnoncurrent': 2900000000.0, 'otherliabilitiescurrent': 4756000000.0, 'otherassetscurrent': 618000000.0, 'preferredstocksharesoutstanding': 0.0, 'otherassetsnoncurrent': 4147000000.0, 'inventorynet': 2035000000.0, 'marketablesecuritiesnoncurrent': 1270000000.0, 'accumulatedothercomprehensiveincomelossnetoftax': 384000000.0}, {'date': '2016-09-25', 'symbol': 'QCOM', 'period': 'FY', 'liabilitiesandstockholdersequity': 52359000000.0, 'deferredrevenuecurrent': 509000000.0, 'longtermdebt': 10008000000.0, 'liabilities': 20591000000.0, 'liabilitiescurrent': 7311000000.0, 'commonstocksharesauthorized': 6000000000.0, 'cashandcashequivalentsatcarryingvalue': 5946000000.0, 'minorityinterest': -10000000.0, 'stockholdersequityincludingportionattributabletononcontrollinginterest': 31768000000.0, 'retainedearningsaccumulateddeficit': 30936000000.0, 'intangibleassetsnetexcludinggoodwill': 3500000000.0, 'preferredstockvalue': 0.0, 'propertyplantandequipmentnet': 2306000000.0, 'commonstocksincludingadditionalpaidincapital': 414000000.0, 'commercialpaper': 1749000000.0, 'accountsandotherreceivablesnetcurrent': 2219000000.0, 'marketablesecuritiescurrent': 12702000000.0, 'preferredstockparorstatedvaluepershare': 0.0001, 'preferredstocksharesauthorized': 8000000.0, 'employeerelatedliabilitiescurrent': 934000000.0, 'commonstocksharesoutstanding': 1476000000.0, 'deferredtaxassetsliabilitiesnetcurrent': 0.0, 'otherliabilitiesnoncurrent': 895000000.0, 'otherliabilitiescurrent': 2261000000.0, 'assetscurrent': 22981000000.0, 'deferredrevenuenoncurrent': 2377000000.0, 'commonstocksharesissued': 1476000000.0, 'stockholdersequity': 31778000000.0, 'commonstockparorstatedvaluepershare': 0.0001, 'accountspayablecurrent': 1858000000.0, 'assets': 52359000000.0, 'goodwill': 5679000000.0, 'deferredtaxassetsliabilitiesnetnoncurrent': 2030000000.0, 'otherassetscurrent': 558000000.0, 'preferredstocksharesoutstanding': 0.0, 'otherassetsnoncurrent': 2161000000.0, 'inventorynet': 1556000000.0, 'marketablesecuritiesnoncurrent': 13702000000.0, 'accumulatedothercomprehensiveincomelossnetoftax': 428000000.0}]\n",
      "[{'date': '2020-08-31', 'symbol': 'ACN', 'period': 'FY', 'liabilitiesandstockholdersequity': 37078593000.0, 'additionalpaidincapital': 7167227000.0, 'deferredrevenuecurrent': 3636741000.0, 'commonclassamember': 9336000.0, 'liabilitiescurrent': 12662590000.0, 'commonstocksharesauthorized': 40000.0, 'treasurystockshares': 40000.0, 'cashandcashequivalentsatcarryingvalue': 8415330000.0, 'minorityinterest': 498637000.0, 'stockholdersequityincludingportionattributabletononcontrollinginterest': 17499173000.0, 'retainedearningsaccumulateddeficit': 12375533000.0, 'ordinarysharesmember': 1.0, 'treasurystockvalue': 2565761000.0, 'commonstockvalue': 57000.0, 'liabilitiesnoncurrent': 6916830000.0, 'propertyplantandequipmentnet': 1545568000.0, 'longterminvestments': 324514000.0, 'commonstocksharesissued': 40000.0, 'operatingleaserightofuseasset': 3183346000.0, 'contractwithcustomerassetnetnoncurrent': 43257000.0, 'commonclassxmember': 81000.0, 'salesandexcisetaxpayablecurrent': 662409000.0, 'employeerelatedliabilitiescurrent': 5083950000.0, 'commonstocksharesoutstanding': 527509.0, 'otherliabilitiesnoncurrent': 534421000.0, 'restrictedshareunitsvalue': 1585302000.0, 'shortterminvestments': 94309000.0, 'otherliabilitiescurrent': 712197000.0, 'assetscurrent': 17749756000.0, 'deferredtaxliabilitiesnoncurrent': 179703000.0, 'operatingleaseliabilitynoncurrent': 2667584000.0, 'pensionandotherpostretirementdefinedbenefitplansliabilitiesnoncurrent': 1859444000.0, 'deferredrevenuenoncurrent': 690931000.0, 'stockholdersequity': 17000536000.0, 'deferredtaxassetsnetnoncurrent': 4153146000.0, 'accountspayablecurrent': 1349874000.0, 'deferredcosts': 723168000.0, 'longtermdebtandcapitalleaseobligations': 54052000.0, 'operatingleaseliabilitycurrent': 756057000.0, 'assets': 37078593000.0, 'goodwill': 7709820000.0, 'commonstockparorstatedvaluepershare': 1.0, 'receivablesandcontractassets': 7846892000.0, 'assetsnoncurrent': 19328837000.0, 'debtcurrent': 7820000.0, 'accruedincometaxesnoncurrent': 930695000.0, 'otherassetscurrent': 1393225000.0, 'otherassetsnoncurrent': 1646018000.0, 'accruedincometaxescurrent': 453542000.0, 'accumulatedothercomprehensiveincomelossnetoftax': -1561837000.0}, {'date': '2019-08-31', 'symbol': 'ACN', 'period': 'FY', 'liabilitiesandstockholdersequity': 29789880000.0, 'additionalpaidincapital': 5804448000.0, 'deferredrevenuecurrent': 3188835000.0, 'commonclassamember': 1861725000.0, 'liabilitiescurrent': 11061896000.0, 'commonstocksharesauthorized': 1000000000.0, 'treasurystockshares': 40000.0, 'cashandcashequivalentsatcarryingvalue': 6126853000.0, 'minorityinterest': 418683000.0, 'stockholdersequityincludingportionattributabletononcontrollinginterest': 14827691000.0, 'retainedearningsaccumulateddeficit': 10421538000.0, 'ordinarysharesmember': 1.0, 'treasurystockvalue': 1388376000.0, 'commonstockvalue': 0.0, 'liabilitiesnoncurrent': 3900293000.0, 'propertyplantandequipmentnet': 1391166000.0, 'longterminvestments': 240313000.0, 'commonstocksharesissued': 609404.0, 'contractwithcustomerassetnetnoncurrent': 71002000.0, 'employeerelatedliabilitiescurrent': 4890542000.0, 'commonstocksharesoutstanding': 609404.0, 'otherliabilitiesnoncurrent': 526988000.0, 'restrictedshareunitsvalue': 1411903000.0, 'shortterminvestments': 3313000.0, 'otherliabilitiescurrent': 951450000.0, 'assetscurrent': 15450601000.0, 'deferredtaxliabilitiesnoncurrent': 133232000.0, 'deferredtaxassetsnetnoncurrent': 4349464000.0, 'deferredrevenuenoncurrent': 565224000.0, 'stockholdersequity': 14409008000.0, 'accountspayablecurrent': 1646641000.0, 'deferredcosts': 681492000.0, 'longtermdebtandcapitalleaseobligations': 16247000.0, 'pensionandotherpostretirementdefinedbenefitplansliabilitiesnoncurrent': 1765914000.0, 'assets': 29789880000.0, 'goodwill': 6205550000.0, 'receivablesandcontractassets': 8095071000.0, 'assetsnoncurrent': 14339279000.0, 'debtcurrent': 6411000.0, 'accruedincometaxesnoncurrent': 892688000.0, 'otherassetscurrent': 1225364000.0, 'otherassetsnoncurrent': 1400292000.0, 'accruedincometaxescurrent': 378017000.0, 'accumulatedothercomprehensiveincomelossnetoftax': -1840577000.0}, {'date': '2018-08-31', 'symbol': 'ACN', 'period': 'FY', 'liabilitiesandstockholdersequity': 24449083000.0, 'additionalpaidincapital': 4870764000.0, 'deferredrevenuecurrent': 2837682000.0, 'commonclassamember': 1671072000.0, 'unbilledservicesnetnoncurrent': 23036000.0, 'liabilitiescurrent': 10151751000.0, 'commonstocksharesauthorized': 1000000000.0, 'treasurystockshares': 40000.0, 'cashandcashequivalentsatcarryingvalue': 5061360000.0, 'minorityinterest': 359835000.0, 'stockholdersequityincludingportionattributabletononcontrollinginterest': 10724588000.0, 'retainedearningsaccumulateddeficit': 7952413000.0, 'ordinarysharesmember': 40000.0, 'treasurystockvalue': 2116948000.0, 'commonstockvalue': 0.0, 'liabilitiesnoncurrent': 3572744000.0, 'propertyplantandequipmentnet': 1264020000.0, 'longterminvestments': 215532000.0, 'commonstocksharesissued': 655521.0, 'employeerelatedliabilitiescurrent': 4569172000.0, 'commonstocksharesoutstanding': 655521.0, 'otherliabilitiesnoncurrent': 441723000.0, 'restrictedshareunitsvalue': 1234623000.0, 'shortterminvestments': 3192000.0, 'debtcurrent': 5337000.0, 'assetscurrent': 13585559000.0, 'deferredtaxliabilitiesnoncurrent': 125729000.0, 'commonclassxmember': 1.0, 'deferredtaxassetsnetnoncurrent': 2086807000.0, 'deferredrevenuenoncurrent': 618124000.0, 'unbilledservicesnetcurrent': 2499914000.0, 'stockholdersequity': 10364753000.0, 'accountsreceivablenetcurrent': 4996454000.0, 'accountspayablecurrent': 1348802000.0, 'deferredcosts': 705124000.0, 'longtermdebtandcapitalleaseobligations': 19676000.0, 'pensionandotherpostretirementdefinedbenefitplansliabilitiesnoncurrent': 1410656000.0, 'assets': 24449083000.0, 'goodwill': 5383012000.0, 'assetsnoncurrent': 10863524000.0, 'otherliabilitiescurrent': 892873000.0, 'accruedincometaxesnoncurrent': 956836000.0, 'otherassetscurrent': 1024639000.0, 'otherassetsnoncurrent': 1185993000.0, 'accruedincometaxescurrent': 497885000.0, 'accumulatedothercomprehensiveincomelossnetoftax': -1576171000.0}, {'date': '2017-08-31', 'symbol': 'ACN', 'period': 'FY', 'liabilitiesandstockholdersequity': 22689890000.0, 'additionalpaidincapital': 3516399000.0, 'deferredrevenuecurrent': 2669520000.0, 'commonclassamember': 1498734000.0, 'unbilledservicesnetnoncurrent': 40938000.0, 'liabilitiescurrent': 9824279000.0, 'commonstocksharesauthorized': 1000000000.0, 'treasurystockshares': 40000.0, 'cashandcashequivalentsatcarryingvalue': 4126860000.0, 'minorityinterest': 760723000.0, 'stockholdersequityincludingportionattributabletononcontrollinginterest': 9710200000.0, 'retainedearningsaccumulateddeficit': 7081855000.0, 'ordinarysharesmember': 40000.0, 'treasurystockvalue': 1649090000.0, 'commonstockvalue': 0.0, 'liabilitiesnoncurrent': 3155411000.0, 'propertyplantandequipmentnet': 1140598000.0, 'longterminvestments': 211610000.0, 'commonstocksharesissued': 20531383.0, 'salesandexcisetaxpayablecurrent': 383391000.0, 'employeerelatedliabilitiescurrent': 4060364000.0, 'commonstocksharesoutstanding': 20531383.0, 'otherliabilitiesnoncurrent': 349363000.0, 'restrictedshareunitsvalue': 1095026000.0, 'shortterminvestments': 3011000.0, 'otherliabilitiescurrent': 474547000.0, 'assetscurrent': 12097289000.0, 'deferredtaxliabilitiesnoncurrent': 137098000.0, 'commonclassxmember': 1.0, 'pensionandotherpostretirementdefinedbenefitplansliabilitiesnoncurrent': 1408759000.0, 'deferredrevenuenoncurrent': 663248000.0, 'unbilledservicesnetcurrent': 2316043000.0, 'stockholdersequity': 8949477000.0, 'deferredtaxassetsnetnoncurrent': 2214901000.0, 'accountsreceivablenetcurrent': 4569214000.0, 'accountspayablecurrent': 1525065000.0, 'deferredcosts': 755871000.0, 'longtermdebtandcapitalleaseobligations': 22163000.0, 'assets': 22689890000.0, 'goodwill': 5002352000.0, 'assetsnoncurrent': 10592601000.0, 'debtcurrent': 2907000.0, 'accruedincometaxesnoncurrent': 574780000.0, 'otherassetscurrent': 1082161000.0, 'otherassetsnoncurrent': 1226331000.0, 'accruedincometaxescurrent': 708485000.0, 'accumulatedothercomprehensiveincomelossnetoftax': -1094784000.0}, {'date': '2016-08-31', 'symbol': 'ACN', 'period': 'FY', 'liabilitiesandstockholdersequity': 20609004000.0, 'additionalpaidincapital': 2924729000.0, 'deferredrevenuecurrent': 2364728000.0, 'commonclassamember': 1372179000.0, 'unbilledservicesnetnoncurrent': 68145000.0, 'liabilitiescurrent': 8878924000.0, 'commonstocksharesauthorized': 1000000000.0, 'treasurystockshares': 40000.0, 'cashandcashequivalentsatcarryingvalue': 4905609000.0, 'minorityinterest': 634114000.0, 'stockholdersequityincludingportionattributabletononcontrollinginterest': 8189376000.0, 'retainedearningsaccumulateddeficit': 7879960000.0, 'ordinarysharesmember': 40000.0, 'treasurystockvalue': 2591907000.0, 'commonstockvalue': 0.0, 'liabilitiesnoncurrent': 3540704000.0, 'propertyplantandequipmentnet': 956542000.0, 'longterminvestments': 198633000.0, 'commonstocksharesissued': 21917155.0, 'salesandexcisetaxpayablecurrent': 358359000.0, 'employeerelatedliabilitiescurrent': 4040751000.0, 'commonstocksharesoutstanding': 21917155.0, 'otherliabilitiesnoncurrent': 304917000.0, 'restrictedshareunitsvalue': 1004128000.0, 'shortterminvestments': 2875000.0, 'otherliabilitiescurrent': 468529000.0, 'assetscurrent': 11976222000.0, 'deferredtaxliabilitiesnoncurrent': 111020000.0, 'commonclassxmember': 1.0, 'pensionandotherpostretirementdefinedbenefitplansliabilitiesnoncurrent': 1494789000.0, 'deferredrevenuenoncurrent': 754812000.0, 'unbilledservicesnetcurrent': 2150219000.0, 'stockholdersequity': 7555262000.0, 'deferredtaxassetsnetnoncurrent': 2077312000.0, 'accountsreceivablenetcurrent': 4072180000.0, 'accountspayablecurrent': 1280821000.0, 'deferredcosts': 733219000.0, 'longtermdebtandcapitalleaseobligations': 24457000.0, 'assets': 20609004000.0, 'goodwill': 3609437000.0, 'assetsnoncurrent': 8632782000.0, 'debtcurrent': 2773000.0, 'accruedincometaxesnoncurrent': 850709000.0, 'otherassetscurrent': 845339000.0, 'otherassetsnoncurrent': 989494000.0, 'accruedincometaxescurrent': 362963000.0, 'accumulatedothercomprehensiveincomelossnetoftax': -1661720000.0}]\n",
      "[{'date': '2019-12-31', 'symbol': 'TXN', 'period': 'FY', 'liabilitiesandstockholdersequity': 18018000000.0, 'treasurystockvalue': 34495000000.0, 'accountspayablecurrent': 388000000.0, 'prepaidexpenseandotherassetscurrent': 299000000.0, 'liabilities': 9111000000.0, 'liabilitiescurrent': 2123000000.0, 'commonstocksharesauthorized': 2400000000.0, 'treasurystockshares': 808784381.0, 'cashandcashequivalentsatcarryingvalue': 2437000000.0, 'inventoryworkinprocessnetofreserves': 916000000.0, 'retainedearningsaccumulateddeficit': 39898000000.0, 'commonstockvalue': 1741000000.0, 'additionalpaidincapitalcommonstock': 2110000000.0, 'propertyplantandequipmentnet': 3303000000.0, 'longterminvestments': 300000000.0, 'commonstocksharesissued': 1740815939.0, 'propertyplantandequipmentgross': 5740000000.0, 'longtermdebtcurrent': 500000000.0, 'definedbenefitplanassetsforplanbenefitsnoncurrent': 218000000.0, 'preferredstocksharesauthorized': 10000000.0, 'preferredstockvalue': 0.0, 'employeerelatedliabilitiescurrent': 714000000.0, 'deferredincometaxassetsnet': 197000000.0, 'otherliabilitiesnoncurrent': 1514000000.0, 'shortterminvestments': 2950000000.0, 'otherliabilitiescurrent': 475000000.0, 'assetscurrent': 8761000000.0, 'accumulateddepreciationdepletionandamortizationpropertyplantandequipment': 2437000000.0, 'longtermdebtnoncurrent': 5303000000.0, 'inventoryfinishedgoodsnetofreserves': 909000000.0, 'stockholdersequity': 8907000000.0, 'inventorynet': 2001000000.0, 'accountsreceivablenetcurrent': 1074000000.0, 'finitelivedintangibleassetsnet': 340000000.0, 'allowancefordoubtfulaccountsreceivablecurrent': 8000000.0, 'pensionandotherpostretirementdefinedbenefitplansliabilitiesnoncurrent': 93000000.0, 'assets': 18018000000.0, 'goodwill': 4362000000.0, 'commonstockparorstatedvaluepershare': 1.0, 'deferredincometaxliabilitiesnet': 78000000.0, 'preferredstockparorstatedvaluepershare': 25.0, 'otherassetsnoncurrent': 468000000.0, 'accruedincometaxescurrent': 46000000.0, 'preferredstocksharesissued': 0.0, 'inventoryrawmaterialsnetofreserves': 176000000.0, 'accumulatedothercomprehensiveincomelossnetoftax': -347000000.0, 'capitalizedcomputersoftwarenet': 69000000.0}, {'date': '2018-12-31', 'symbol': 'TXN', 'period': 'FY', 'liabilities': 8143000000.0, 'treasurystockvalue': 32130000000.0, 'accountspayablecurrent': 478000000.0, 'prepaidexpenseandotherassetscurrent': 440000000.0, 'liabilitiesandstockholdersequity': 17137000000.0, 'liabilitiescurrent': 2474000000.0, 'commonstocksharesauthorized': 2400000000.0, 'treasurystockshares': 795665646.0, 'cashandcashequivalentsatcarryingvalue': 2438000000.0, 'capitalizedcomputersoftwarenet': 89000000.0, 'retainedearningsaccumulateddeficit': 37906000000.0, 'commonstockvalue': 1741000000.0, 'additionalpaidincapitalcommonstock': 1950000000.0, 'propertyplantandequipmentnet': 3183000000.0, 'commonstocksharesissued': 1740815939.0, 'propertyplantandequipmentgross': 5425000000.0, 'longtermdebtcurrent': 749000000.0, 'definedbenefitplanassetsforplanbenefitsnoncurrent': 92000000.0, 'preferredstocksharesauthorized': 10000000.0, 'preferredstockvalue': 0.0, 'employeerelatedliabilitiescurrent': 724000000.0, 'otherliabilitiesnoncurrent': 1190000000.0, 'otherliabilitiescurrent': 420000000.0, 'assetscurrent': 8097000000.0, 'inventoryworkinprocessnetofreserves': 1070000000.0, 'accumulateddepreciationdepletionandamortizationpropertyplantandequipment': 2242000000.0, 'deferredtaxliabilitiesnoncurrent': 42000000.0, 'longtermdebtnoncurrent': 4319000000.0, 'inventoryfinishedgoodsnetofreserves': 966000000.0, 'stockholdersequity': 8994000000.0, 'inventorynet': 2217000000.0, 'deferredtaxassetsnetnoncurrent': 295000000.0, 'accountsreceivablenetcurrent': 1207000000.0, 'finitelivedintangibleassetsnet': 628000000.0, 'allowancefordoubtfulaccountsreceivablecurrent': 19000000.0, 'pensionandotherpostretirementdefinedbenefitplansliabilitiesnoncurrent': 118000000.0, 'assets': 17137000000.0, 'goodwill': 4362000000.0, 'commonstockparorstatedvaluepershare': 1.0, 'preferredstockparorstatedvaluepershare': 25.0, 'otherassetsnoncurrent': 140000000.0, 'accruedincometaxescurrent': 103000000.0, 'preferredstocksharesissued': 0.0, 'accumulatedothercomprehensiveincomelossnetoftax': -473000000.0, 'inventoryrawmaterialsnetofreserves': 181000000.0}, {'date': '2017-12-31', 'symbol': 'TXN', 'period': 'FY', 'liabilities': 7305000000.0, 'treasurystockvalue': 27458000000.0, 'accountspayablecurrent': 466000000.0, 'prepaidexpenseandotherassetscurrent': 1030000000.0, 'liabilitiesandstockholdersequity': 17642000000.0, 'liabilitiescurrent': 2258000000.0, 'commonstocksharesauthorized': 2400000000.0, 'treasurystockshares': 757657217.0, 'cashandcashequivalentsatcarryingvalue': 1656000000.0, 'capitalizedcomputersoftwarenet': 110000000.0, 'retainedearningsaccumulateddeficit': 34662000000.0, 'commonstockvalue': 1741000000.0, 'additionalpaidincapitalcommonstock': 1776000000.0, 'propertyplantandequipmentnet': 2664000000.0, 'commonstocksharesissued': 1740815939.0, 'propertyplantandequipmentgross': 4789000000.0, 'longtermdebtcurrent': 500000000.0, 'definedbenefitplanassetsforplanbenefitsnoncurrent': 208000000.0, 'preferredstocksharesauthorized': 10000000.0, 'preferredstockvalue': 0.0, 'employeerelatedliabilitiescurrent': 722000000.0, 'otherliabilitiesnoncurrent': 1303000000.0, 'otherliabilitiescurrent': 442000000.0, 'assetscurrent': 8734000000.0, 'inventoryworkinprocessnetofreserves': 1089000000.0, 'accumulateddepreciationdepletionandamortizationpropertyplantandequipment': 2125000000.0, 'deferredtaxliabilitiesnoncurrent': 78000000.0, 'longtermdebtnoncurrent': 3577000000.0, 'inventoryfinishedgoodsnetofreserves': 742000000.0, 'stockholdersequity': 10337000000.0, 'inventorynet': 1957000000.0, 'deferredtaxassetsnetnoncurrent': 264000000.0, 'accountsreceivablenetcurrent': 1278000000.0, 'finitelivedintangibleassetsnet': 946000000.0, 'allowancefordoubtfulaccountsreceivablecurrent': 8000000.0, 'pensionandotherpostretirementdefinedbenefitplansliabilitiesnoncurrent': 89000000.0, 'assets': 17642000000.0, 'goodwill': 4362000000.0, 'commonstockparorstatedvaluepershare': 1.0, 'preferredstockparorstatedvaluepershare': 25.0, 'otherassetsnoncurrent': 86000000.0, 'accruedincometaxescurrent': 128000000.0, 'preferredstocksharesissued': 0.0, 'accumulatedothercomprehensiveincomelossnetoftax': -384000000.0, 'inventoryrawmaterialsnetofreserves': 126000000.0}, {'date': '2016-12-31', 'symbol': 'TXN', 'period': 'FY', 'liabilities': 5958000000.0, 'treasurystockvalue': 25523000000.0, 'accountspayablecurrent': 396000000.0, 'prepaidexpenseandotherassetscurrent': 910000000.0, 'liabilitiesandstockholdersequity': 16431000000.0, 'liabilitiescurrent': 2264000000.0, 'commonstocksharesauthorized': 2400000000.0, 'treasurystockshares': 744831978.0, 'cashandcashequivalentsatcarryingvalue': 1154000000.0, 'capitalizedcomputersoftwarenet': 52000000.0, 'retainedearningsaccumulateddeficit': 33107000000.0, 'commonstockvalue': 1741000000.0, 'additionalpaidincapitalcommonstock': 1674000000.0, 'propertyplantandequipmentnet': 2512000000.0, 'commonstocksharesissued': 1740815939.0, 'deferredcreditsandotherliabilitiesnoncurrent': 554000000.0, 'longtermdebtcurrent': 631000000.0, 'definedbenefitplanassetsforplanbenefitsnoncurrent': 96000000.0, 'preferredstocksharesauthorized': 10000000.0, 'preferredstockvalue': 0.0, 'employeerelatedliabilitiescurrent': 710000000.0, 'otherliabilitiescurrent': 444000000.0, 'assetscurrent': 7457000000.0, 'inventoryworkinprocessnetofreserves': 954000000.0, 'accumulateddepreciationdepletionandamortizationpropertyplantandequipment': 2411000000.0, 'deferredtaxliabilitiesnoncurrent': 33000000.0, 'longtermdebtnoncurrent': 2978000000.0, 'inventoryfinishedgoodsnetofreserves': 734000000.0, 'stockholdersequity': 10473000000.0, 'inventorynet': 1790000000.0, 'deferredtaxassetsnetnoncurrent': 374000000.0, 'accountsreceivablenetcurrent': 1267000000.0, 'finitelivedintangibleassetsnet': 1264000000.0, 'allowancefordoubtfulaccountsreceivablecurrent': 17000000.0, 'pensionandotherpostretirementdefinedbenefitplansliabilitiesnoncurrent': 129000000.0, 'assets': 16431000000.0, 'goodwill': 4362000000.0, 'commonstockparorstatedvaluepershare': 1.0, 'propertyplantandequipmentgross': 4923000000.0, 'preferredstockparorstatedvaluepershare': 25.0, 'otherassetsnoncurrent': 79000000.0, 'accruedincometaxescurrent': 83000000.0, 'preferredstocksharesissued': 0.0, 'accumulatedothercomprehensiveincomelossnetoftax': -526000000.0, 'inventoryrawmaterialsnetofreserves': 102000000.0}, {'date': '2015-12-31', 'symbol': 'TXN', 'period': 'FY', 'liabilities': 6284000000.0, 'treasurystockvalue': 24068000000.0, 'accountspayablecurrent': 386000000.0, 'prepaidexpenseandotherassetscurrent': 1000000000.0, 'liabilitiesandstockholdersequity': 16230000000.0, 'liabilitiescurrent': 2555000000.0, 'commonstocksharesauthorized': 2400000000.0, 'treasurystockshares': 729547527.0, 'cashandcashequivalentsatcarryingvalue': 1000000000.0, 'capitalizedcomputersoftwarenet': 46000000.0, 'definedbenefitpensionplanliabilitiesnoncurrent': 196000000.0, 'retainedearningsaccumulateddeficit': 31176000000.0, 'commonstockvalue': 1741000000.0, 'additionalpaidincapitalcommonstock': 1629000000.0, 'propertyplantandequipmentnet': 2596000000.0, 'commonstocksharesissued': 1740815939.0, 'deferredcreditsandotherliabilitiesnoncurrent': 376000000.0, 'longtermdebtcurrent': 1000000000.0, 'definedbenefitplanassetsforplanbenefitsnoncurrent': 85000000.0, 'preferredstocksharesauthorized': 10000000.0, 'preferredstockvalue': 0.0, 'employeerelatedliabilitiescurrent': 664000000.0, 'otherliabilitiescurrent': 410000000.0, 'assetscurrent': 7074000000.0, 'inventoryworkinprocessnetofreserves': 846000000.0, 'accumulateddepreciationdepletionandamortizationpropertyplantandequipment': 2869000000.0, 'deferredtaxliabilitiesnoncurrent': 37000000.0, 'longtermdebtnoncurrent': 3120000000.0, 'inventoryfinishedgoodsnetofreserves': 736000000.0, 'stockholdersequity': 9946000000.0, 'inventorynet': 1691000000.0, 'deferredtaxassetsnetnoncurrent': 201000000.0, 'accountsreceivablenetcurrent': 1165000000.0, 'finitelivedintangibleassetsnet': 1583000000.0, 'allowancefordoubtfulaccountsreceivablecurrent': 7000000.0, 'assets': 16230000000.0, 'goodwill': 4362000000.0, 'commonstockparorstatedvaluepershare': 1.0, 'propertyplantandequipmentgross': 5465000000.0, 'preferredstockparorstatedvaluepershare': 25.0, 'otherassetsnoncurrent': 62000000.0, 'accruedincometaxescurrent': 95000000.0, 'preferredstocksharesissued': 0.0, 'accumulatedothercomprehensiveincomelossnetoftax': -532000000.0, 'inventoryrawmaterialsnetofreserves': 109000000.0}]\n",
      "[{'date': '2019-12-31', 'symbol': 'IBM', 'period': 'FY', 'investmentsandothernoncurrentassets': 2074000000.0, 'liabilitiesandstockholdersequity': '152186000000.000000', 'deferredrevenuecurrent': 12026000000.0, 'allowancefordoubtfulotherreceivablescurrent': 33000000.0, 'prepaidexpenseandotherassetscurrent': 2101000000.0, 'liabilities': '131202000000.000000', 'liabilitiescurrent': 37701000000.0, 'commonstocksharesauthorized': 4687500000.0, 'cashandcashequivalentsatcarryingvalue': 8172000000.0, 'minorityinterest': 144000000.0, 'stockholdersequityincludingportionattributabletononcontrollinginterest': 20985000000.0, 'retainedearningsaccumulateddeficit': '162954000000.000000', 'allowancefornotesandloansreceivablecurrent': 188000000.0, 'propertyplantandequipmentnet': 10010000000.0, 'commonstocksincludingadditionalpaidincapital': 55895000000.0, 'commonstocksharesissued': 2237996975.0, 'operatingleaserightofuseasset': 4996000000.0, 'finitelivedintangibleassetsnet': 15235000000.0, 'propertyplantandequipmentgross': 32028000000.0, 'capitalizedcontractcostnetnoncurrent': 2472000000.0, 'definedbenefitplanassetsforplanbenefitsnoncurrent': 6865000000.0, 'capitalizedcontractcostnetcurrent': 1896000000.0, 'treasurystockcommonvalue': '169413000000.000000', 'employeerelatedliabilitiescurrent': 3406000000.0, 'deferredincometaxassetsnet': 5182000000.0, 'otherliabilitiesnoncurrent': 14526000000.0, 'shorttermborrowings': 8797000000.0, 'notesandloansreceivablenetcurrent': 14192000000.0, 'pensionandotherpostretirementdefinedbenefitplansliabilitiesnoncurrent': 17142000000.0, 'assetscurrent': 38420000000.0, 'allowancefornotesandloansreceivablenoncurrent': 33000000.0, 'accumulateddepreciationdepletionandamortizationpropertyplantandequipment': 22018000000.0, 'taxespayablecurrent': 2839000000.0, 'operatingleaseliabilitynoncurrent': 3879000000.0, 'restrictedcash': 141000000.0, 'deferredrevenuenoncurrent': 3851000000.0, 'treasurystockcommonshares': 1351000000.0, 'stockholdersequity': 20841000000.0, 'inventorynet': 1619000000.0, 'accountsreceivablenetcurrent': 7870000000.0, 'longtermdebtandcapitalleaseobligations': 54102000000.0, 'operatingleaseliabilitycurrent': 1380000000.0, 'allowancefordoubtfulaccountsreceivablecurrent': 299000000.0, 'assets': '152186000000.000000', 'notesandloansreceivablenetnoncurrent': 8712000000.0, 'goodwill': 58222000000.0, 'commonstockparorstatedvaluepershare': 0.2, 'accruedliabilitiesandotherliabilitiescurrent': 4357000000.0, 'availableforsalesecuritiesdebtsecuritiescurrent': 696000000.0, 'otherreceivablesnetcurrent': 1733000000.0, 'accountspayablecurrent': 4896000000.0, 'accumulatedothercomprehensiveincomelossnetoftax': -28597000000.0}, {'date': '2018-12-31', 'symbol': 'IBM', 'period': 'FY', 'liabilities': '106452000000.000000', 'allowancefordoubtfulotherreceivablescurrent': 38000000.0, 'prepaidexpenseandotherassetscurrent': 2378000000.0, 'liabilitiesandstockholdersequity': '123382000000.000000', 'liabilitiescurrent': 38227000000.0, 'commonstocksharesauthorized': 4687500000.0, 'cashandcashequivalentsatcarryingvalue': 11379000000.0, 'minorityinterest': 134000000.0, 'stockholdersequityincludingportionattributabletononcontrollinginterest': 16929000000.0, 'retainedearningsaccumulateddeficit': '159206000000.000000', 'debtcurrent': 10207000000.0, 'allowancefornotesandloansreceivablecurrent': 244000000.0, 'propertyplantandequipmentnet': 10792000000.0, 'commonstocksincludingadditionalpaidincapital': 55151000000.0, 'commonstocksharesissued': 2233427058.0, 'availableforsalesecuritiesdebtsecuritiescurrent': 618000000.0, 'finitelivedintangibleassetsnet': 3087000000.0, 'accruedliabilitiesandotherliabilitiescurrent': 3941000000.0, 'capitalizedcontractcostnetnoncurrent': 2676000000.0, 'definedbenefitplanassetsforplanbenefitsnoncurrent': 4666000000.0, 'capitalizedcontractcostnetcurrent': 2300000000.0, 'treasurystockcommonvalue': '168071000000.000000', 'employeerelatedliabilitiescurrent': 3310000000.0, 'deferredincometaxassetsnet': 5216000000.0, 'otherliabilitiesnoncurrent': 12174000000.0, 'notesandloansreceivablenetcurrent': 22388000000.0, 'assetscurrent': 49146000000.0, 'allowancefornotesandloansreceivablenoncurrent': 48000000.0, 'accumulateddepreciationdepletionandamortizationpropertyplantandequipment': 21668000000.0, 'taxespayablecurrent': 3046000000.0, 'contractwithcustomerliabilitynoncurrent': 3445000000.0, 'longtermdebtnoncurrent': 35605000000.0, 'pensionandotherpostretirementdefinedbenefitplansliabilitiesnoncurrent': 17002000000.0, 'restrictedcash': 225000000.0, 'contractwithcustomerliabilitycurrent': 11165000000.0, 'treasurystockcommonshares': 1340947648.0, 'stockholdersequity': 16796000000.0, 'inventorynet': 1682000000.0, 'accountsreceivablenetcurrent': 7432000000.0, 'allowancefordoubtfulaccountsreceivablecurrent': 309000000.0, 'assets': '123382000000.000000', 'notesandloansreceivablenetnoncurrent': 9148000000.0, 'goodwill': 36265000000.0, 'commonstockparorstatedvaluepershare': 0.2, 'propertyplantandequipmentgross': 32460000000.0, 'otherreceivablesnetcurrent': 743000000.0, 'accountspayablecurrent': 6558000000.0, 'accumulatedothercomprehensiveincomelossnetoftax': -29490000000.0}, {'date': '2017-12-31', 'symbol': 'IBM', 'period': 'FY', 'investmentsandothernoncurrentassets': 4919000000.0, 'liabilitiesandstockholdersequity': '125356000000.000000', 'deferredrevenuecurrent': 11552000000.0, 'allowancefordoubtfulotherreceivablescurrent': 36000000.0, 'prepaidexpenseandotherassetscurrent': 3942000000.0, 'liabilities': '107631000000.000000', 'liabilitiescurrent': 37363000000.0, 'commonstocksharesauthorized': 4687500000.0, 'cashandcashequivalentsatcarryingvalue': 11972000000.0, 'minorityinterest': 131000000.0, 'stockholdersequityincludingportionattributabletononcontrollinginterest': 17725000000.0, 'retainedearningsaccumulateddeficit': '153126000000.000000', 'allowancefornotesandloansreceivablecurrent': 261000000.0, 'propertyplantandequipmentnet': 11116000000.0, 'commonstocksincludingadditionalpaidincapital': 54566000000.0, 'commonstocksharesissued': 2229428813.0, 'finitelivedintangibleassetsnet': 3742000000.0, 'propertyplantandequipmentgross': 32331000000.0, 'definedbenefitplanassetsforplanbenefitsnoncurrent': 4643000000.0, 'treasurystockcommonvalue': '163507000000.000000', 'employeerelatedliabilitiescurrent': 3644000000.0, 'deferredincometaxassetsnet': 4862000000.0, 'otherliabilitiesnoncurrent': 9965000000.0, 'marketablesecuritiescurrent': 608000000.0, 'notesandloansreceivablenetcurrent': 21721000000.0, 'pensionandotherpostretirementdefinedbenefitplansliabilitiesnoncurrent': 16720000000.0, 'assetscurrent': 49735000000.0, 'allowancefornotesandloansreceivablenoncurrent': 74000000.0, 'accumulateddepreciationdepletionandamortizationpropertyplantandequipment': 21215000000.0, 'taxespayablecurrent': 4219000000.0, 'longtermdebtnoncurrent': 39837000000.0, 'deferredrevenuenoncurrent': 3746000000.0, 'treasurystockcommonshares': 1307249588.0, 'stockholdersequity': 17594000000.0, 'inventorynet': 1583000000.0, 'accountsreceivablenetcurrent': 8928000000.0, 'allowancefordoubtfulaccountsreceivablecurrent': 297000000.0, 'assets': '125356000000.000000', 'notesandloansreceivablenetnoncurrent': 9550000000.0, 'goodwill': 36788000000.0, 'commonstockparorstatedvaluepershare': 0.2, 'accruedliabilitiesandotherliabilitiescurrent': 4510000000.0, 'debtcurrent': 6987000000.0, 'otherreceivablesnetcurrent': 981000000.0, 'accountspayablecurrent': 6451000000.0, 'accumulatedothercomprehensiveincomelossnetoftax': -26592000000.0}, {'date': '2016-12-31', 'symbol': 'IBM', 'period': 'FY', 'investmentsandothernoncurrentassets': 4585000000.0, 'liabilitiesandstockholdersequity': '117470000000.000000', 'deferredrevenuecurrent': 11035000000.0, 'allowancefordoubtfulotherreceivablescurrent': 48000000.0, 'prepaidexpenseandotherassetscurrent': 4564000000.0, 'liabilities': 99078000000.0, 'liabilitiescurrent': 36275000000.0, 'commonstocksharesauthorized': 4687500000.0, 'cashandcashequivalentsatcarryingvalue': 7826000000.0, 'minorityinterest': 146000000.0, 'stockholdersequityincludingportionattributabletononcontrollinginterest': 18392000000.0, 'retainedearningsaccumulateddeficit': '152759000000.000000', 'allowancefornotesandloansreceivablecurrent': 337000000.0, 'propertyplantandequipmentnet': 10830000000.0, 'commonstocksincludingadditionalpaidincapital': 53935000000.0, 'commonstocksharesissued': 2225116815.0, 'finitelivedintangibleassetsnet': 4688000000.0, 'propertyplantandequipmentgross': 30133000000.0, 'treasurystockcommonvalue': '159050000000.000000', 'employeerelatedliabilitiescurrent': 3577000000.0, 'deferredincometaxassetsnet': 5224000000.0, 'otherliabilitiesnoncurrent': 7477000000.0, 'prepaidpensioncosts': 3034000000.0, 'marketablesecuritiescurrent': 701000000.0, 'notesandloansreceivablenetcurrent': 19006000000.0, 'pensionandotherpostretirementdefinedbenefitplansliabilitiesnoncurrent': 17070000000.0, 'assetscurrent': 43888000000.0, 'allowancefornotesandloansreceivablenoncurrent': 101000000.0, 'accumulateddepreciationdepletionandamortizationpropertyplantandequipment': 19303000000.0, 'taxespayablecurrent': 3235000000.0, 'longtermdebtnoncurrent': 34655000000.0, 'deferredrevenuenoncurrent': 3600000000.0, 'treasurystockcommonshares': 1279249412.0, 'stockholdersequity': 18246000000.0, 'inventorynet': 1553000000.0, 'accountsreceivablenetcurrent': 9182000000.0, 'allowancefordoubtfulaccountsreceivablecurrent': 290000000.0, 'assets': '117470000000.000000', 'notesandloansreceivablenetnoncurrent': 9021000000.0, 'goodwill': 36199000000.0, 'commonstockparorstatedvaluepershare': 0.2, 'accruedliabilitiesandotherliabilitiescurrent': 4705000000.0, 'debtcurrent': 7513000000.0, 'otherreceivablesnetcurrent': 1057000000.0, 'accountspayablecurrent': 6209000000.0, 'accumulatedothercomprehensiveincomelossnetoftax': -29398000000.0}, {'date': '2015-12-31', 'symbol': 'IBM', 'period': 'FY', 'liabilities': 96071000000.0, 'treasurystockvalue': '155518000000.000000', 'allowancefordoubtfulotherreceivablescurrent': 51000000.0, 'prepaidexpenseandotherassetscurrent': 4205000000.0, 'liabilitiesandstockholdersequity': '110495000000.000000', 'liabilitiescurrent': 34269000000.0, 'commonstocksharesauthorized': 4687500000.0, 'treasurystockshares': 1255494724.0, 'cashandcashequivalentsatcarryingvalue': 7686000000.0, 'minorityinterest': 162000000.0, 'stockholdersequityincludingportionattributabletononcontrollinginterest': 14424000000.0, 'deferredrevenuecurrent': 11021000000.0, 'retainedearningsaccumulateddeficit': '146124000000.000000', 'intangibleassetsnetexcludinggoodwill': 3487000000.0, 'pensionandotherpostretirementdefinedbenefitplansliabilitiesnoncurrent': 16504000000.0, 'allowancefornotesandloansreceivablecurrent': 490000000.0, 'propertyplantandequipmentnet': 10727000000.0, 'commonstocksincludingadditionalpaidincapital': 53262000000.0, 'commonstocksharesissued': 2221223449.0, 'marketablesecuritiescurrent': 508000000.0, 'propertyplantandequipmentgross': 29342000000.0, 'otherliabilitiesnoncurrent': 8099000000.0, 'prepaidpensioncosts': 1734000000.0, 'notesandloansreceivablenetcurrent': 19020000000.0, 'debtcurrent': 6461000000.0, 'assetscurrent': 42504000000.0, 'allowancefornotesandloansreceivablenoncurrent': 118000000.0, 'accumulateddepreciationdepletionandamortizationpropertyplantandequipment': 18615000000.0, 'taxespayablecurrent': 2847000000.0, 'longtermdebtnoncurrent': 33428000000.0, 'deferredrevenuenoncurrent': 3771000000.0, 'deferredcompensationliabilitycurrent': 3560000000.0, 'stockholdersequity': 14262000000.0, 'inventorynet': 1551000000.0, 'deferredtaxassetsnetnoncurrent': 4822000000.0, 'accountsreceivablenetcurrent': 8333000000.0, 'allowancefordoubtfulaccountsreceivablecurrent': 367000000.0, 'assets': '110495000000.000000', 'notesandloansreceivablenetnoncurrent': 10013000000.0, 'goodwill': 32021000000.0, 'commonstockparorstatedvaluepershare': 0.2, 'otherliabilitiescurrent': 4353000000.0, 'otherassetsnoncurrent': 5187000000.0, 'otherreceivablesnetcurrent': 1201000000.0, 'accountspayablecurrent': 6028000000.0, 'accumulatedothercomprehensiveincomelossnetoftax': -29607000000.0}]\n",
      "[{'date': '2019-12-28', 'symbol': 'AMD', 'period': 'FY', 'liabilitiesandstockholdersequity': 6028000000.0, 'treasurystockvalue': 53000000.0, 'prepaidexpenseandotherassetscurrent': 233000000.0, 'liabilitiescurrent': 2359000000.0, 'commonstocksharesauthorized': 2250000000.0, 'treasurystockshares': 5000000.0, 'cashandcashequivalentsatcarryingvalue': 1466000000.0, 'retainedearningsaccumulateddeficit': -7095000000.0, 'commonstockvalue': 12000000.0, 'additionalpaidincapitalcommonstock': 9963000000.0, 'accruedliabilitiescurrent': 1084000000.0, 'propertyplantandequipmentnet': 500000000.0, 'commonstocksharesissued': 1175000000.0, 'operatingleaserightofuseasset': 205000000.0, 'marketablesecuritiescurrent': 37000000.0, 'equitymethodinvestments': 58000000.0, 'accountspayablerelatedpartiescurrent': 213000000.0, 'commonstocksharesoutstanding': 1170000000.0, 'otherliabilitiescurrent': 74000000.0, 'otherliabilitiesnoncurrent': 157000000.0, 'operatingleaseliabilitynoncurrent': 199000000.0, 'longtermdebtnoncurrent': 486000000.0, 'relatedpartytransactionprepaidexpensecurrent': 20000000.0, 'stockholdersequity': 2827000000.0, 'accountsreceivablenetcurrent': 1859000000.0, 'accountspayablecurrent': 988000000.0, 'assets': 6028000000.0, 'goodwill': 289000000.0, 'commonstockparorstatedvaluepershare': 0.01, 'debtcurrent': 0.0, 'otherassetsnoncurrent': 379000000.0, 'inventorynet': 982000000.0, 'assetscurrent': 4597000000.0, 'accumulatedothercomprehensiveincomelossnetoftax': 0.0}, {'date': '2018-12-29', 'symbol': 'AMD', 'period': 'FY', 'liabilitiesandstockholdersequity': 4556000000.0, 'treasurystockvalue': 50000000.0, 'liabilitiescurrent': 1984000000.0, 'commonstocksharesauthorized': 2250000000.0, 'treasurystockshares': 5000000.0, 'cashandcashequivalentsatcarryingvalue': 1078000000.0, 'retainedearningsaccumulateddeficit': -7436000000.0, 'commonstockvalue': 10000000.0, 'additionalpaidincapitalcommonstock': 8750000000.0, 'propertyplantandequipmentnet': 348000000.0, 'commonstocksharesissued': 1010000000.0, 'accruedliabilitiescurrent': 763000000.0, 'accountspayablerelatedpartiescurrent': 533000000.0, 'commonstocksharesoutstanding': 1005000000.0, 'marketablesecuritiescurrent': 78000000.0, 'otherliabilitiescurrent': 24000000.0, 'otherliabilitiesnoncurrent': 192000000.0, 'longtermdebtnoncurrent': 1114000000.0, 'relatedpartytransactionprepaidexpensecurrent': 52000000.0, 'prepaidexpensecurrent': 57000000.0, 'linesofcreditcurrent': 136000000.0, 'stockholdersequity': 1266000000.0, 'accountsreceivablenetcurrent': 1235000000.0, 'accountspayablecurrent': 528000000.0, 'assets': 4556000000.0, 'goodwill': 289000000.0, 'commonstockparorstatedvaluepershare': 0.01, 'otherassetscurrent': 195000000.0, 'otherassetsnoncurrent': 321000000.0, 'inventorynet': 845000000.0, 'assetscurrent': 3540000000.0, 'accumulatedothercomprehensiveincomelossnetoftax': -8000000.0}, {'date': '2017-12-30', 'symbol': 'AMD', 'period': 'FY', 'liabilitiesandstockholdersequity': 3540000000.0, 'treasurystockvalue': 108000000.0, 'liabilitiescurrent': 1486000000.0, 'commonstocksharesauthorized': 1500000000.0, 'treasurystockshares': 12000000.0, 'cashandcashequivalentsatcarryingvalue': 1185000000.0, 'retainedearningsaccumulateddeficit': -7760000000.0, 'deferredrevenuecurrent': 22000000.0, 'commonstockvalue': 9000000.0, 'additionalpaidincapitalcommonstock': 8464000000.0, 'propertyplantandequipmentnet': 261000000.0, 'commonstocksharesissued': 979000000.0, 'accruedliabilitiescurrent': 541000000.0, 'equitymethodinvestments': 58000000.0, 'accountspayablerelatedpartiescurrent': 412000000.0, 'commonstocksharesoutstanding': 967000000.0, 'otherliabilitiescurrent': 57000000.0, 'otherliabilitiesnoncurrent': 118000000.0, 'longtermdebtnoncurrent': 1325000000.0, 'relatedpartytransactionprepaidexpensecurrent': 33000000.0, 'prepaidexpensecurrent': 77000000.0, 'linesofcreditcurrent': 70000000.0, 'stockholdersequity': 611000000.0, 'accountsreceivablenetcurrent': 400000000.0, 'accountspayablecurrent': 384000000.0, 'assets': 3540000000.0, 'goodwill': 289000000.0, 'commonstockparorstatedvaluepershare': 0.01, 'otherassetscurrent': 188000000.0, 'otherassetsnoncurrent': 310000000.0, 'inventorynet': 739000000.0, 'assetscurrent': 2622000000.0, 'accumulatedothercomprehensiveincomelossnetoftax': 6000000.0}, {'date': '2016-12-31', 'symbol': 'AMD', 'period': 'FY', 'liabilitiesandstockholdersequity': 3321000000.0, 'treasurystockvalue': 119000000.0, 'liabilitiescurrent': 1346000000.0, 'commonstocksharesauthorized': 1500000000.0, 'treasurystockshares': 14000000.0, 'cashandcashequivalentsatcarryingvalue': 1264000000.0, 'retainedearningsaccumulateddeficit': -7803000000.0, 'deferredrevenuecurrent': 63000000.0, 'commonstockvalue': 9000000.0, 'additionalpaidincapitalcommonstock': 8334000000.0, 'propertyplantandequipmentnet': 164000000.0, 'commonstocksharesissued': 949000000.0, 'accruedliabilitiescurrent': 391000000.0, 'equitymethodinvestments': 59000000.0, 'accountspayablerelatedpartiescurrent': 128000000.0, 'commonstocksharesoutstanding': 935000000.0, 'otherliabilitiescurrent': 69000000.0, 'otherliabilitiesnoncurrent': 124000000.0, 'longtermdebtnoncurrent': 1435000000.0, 'relatedpartytransactionprepaidexpensecurrent': 32000000.0, 'prepaidexpensecurrent': 63000000.0, 'linesofcreditcurrent': 0.0, 'stockholdersequity': 416000000.0, 'accountsreceivablenetcurrent': 311000000.0, 'accountspayablecurrent': 440000000.0, 'assets': 3321000000.0, 'goodwill': 289000000.0, 'commonstockparorstatedvaluepershare': 0.01, 'otherassetscurrent': 109000000.0, 'duetorelatedpartiescurrent': 255000000.0, 'otherassetsnoncurrent': 279000000.0, 'inventorynet': 751000000.0, 'assetscurrent': 2530000000.0, 'accumulatedothercomprehensiveincomelossnetoftax': -5000000.0}, {'date': '2015-12-26', 'symbol': 'AMD', 'period': 'FY', 'liabilitiesandstockholdersequity': 3109000000.0, 'treasurystockvalue': 123000000.0, 'liabilitiescurrent': 1403000000.0, 'commonstocksharesauthorized': 1500000000.0, 'treasurystockshares': 14000000.0, 'cashandcashequivalentsatcarryingvalue': 785000000.0, 'retainedearningsaccumulateddeficit': -7306000000.0, 'deferredrevenuecurrent': 53000000.0, 'commonstockvalue': 8000000.0, 'additionalpaidincapitalcommonstock': 7017000000.0, 'propertyplantandequipmentnet': 188000000.0, 'commonstocksharesissued': 806000000.0, 'accruedliabilitiescurrent': 472000000.0, 'commonstocksharesoutstanding': 792000000.0, 'otherliabilitiescurrent': 124000000.0, 'otherliabilitiesnoncurrent': 86000000.0, 'intangibleassetsnetexcludinggoodwill': 0.0, 'relatedpartytransactionprepaidexpensecurrent': 33000000.0, 'prepaidexpensecurrent': 43000000.0, 'stockholdersequity': -412000000.0, 'accountsreceivablenetcurrent': 533000000.0, 'accountspayablecurrent': 279000000.0, 'longtermdebtandcapitalleaseobligations': 2032000000.0, 'assets': 3109000000.0, 'marketablesecuritiescurrent': 0.0, 'goodwill': 278000000.0, 'commonstockparorstatedvaluepershare': 0.01, 'longtermdebtandcapitalleaseobligationscurrent': 230000000.0, 'otherassetscurrent': 248000000.0, 'duetorelatedpartiescurrent': 245000000.0, 'otherassetsnoncurrent': 323000000.0, 'inventorynet': 678000000.0, 'assetscurrent': 2320000000.0, 'accumulatedothercomprehensiveincomelossnetoftax': -8000000.0}]\n",
      "[{'date': '2019-12-31', 'symbol': 'SQ', 'period': 'FY', 'liabilitiesandstockholdersequity': 4551258000.0, 'additionalpaidincapital': 2223749000.0, 'liabilities': 2836208000.0, 'liabilitiescurrent': 1694085000.0, 'commonstocksharesauthorized': 1000000000.0, 'cashandcashequivalentsatcarryingvalue': 1047118000.0, 'payablestocustomers': 1273135000.0, 'retainedearningsaccumulateddeficit': -510328000.0, 'customerfunds': 676292000.0, 'commonstockvalue': 0.0, 'preferredstockvalue': 0.0, 'propertyplantandequipmentnet': 149194000.0, 'loansreceivableheldforsalenetnotpartofdisposalgroup': 164834000.0, 'operatingleaserightofuseasset': 113148000.0, 'accruedliabilitiescurrent': 128387000.0, 'accruedliabilitiesandotherliabilities': 297841000.0, 'otherassetscurrent': 250409000.0, 'preferredstocksharesauthorized': 100000000.0, 'commonstocksharesoutstanding': 352386562.0, 'otherliabilitiesnoncurrent': 94461000.0, 'longtermdebtnoncurrent': 938832000.0, 'finitelivedintangibleassetsnet': 69079000.0, 'assetscurrent': 3219801000.0, 'settlementliabilitiescurrent': 95834000.0, 'operatingleaseliabilitynoncurrent': 108830000.0, 'commonclassbmember': 10.0, 'availableforsalesecuritiesdebtsecuritiesnoncurrent': 537303000.0, 'stockholdersequity': 1715050000.0, 'operatingleaseliabilitycurrent': 27275000.0, 'assets': 4551258000.0, 'settlementassetscurrent': 588692000.0, 'buildtosuitleaseasset': 0.0, 'goodwill': 266345000.0, 'availableforsalesecuritiesdebtsecuritiescurrent': 492456000.0, 'buildtosuitleaseliability': 0.0, 'commonclassamember': 1.0, 'preferredstocksharesoutstanding': 0.0, 'otherassetsnoncurrent': 196388000.0, 'preferredstocksharesissued': 0.0, 'accumulatedothercomprehensiveincomelossnetoftax': 1629000.0}, {'date': '2018-12-31', 'symbol': 'SQ', 'period': 'FY', 'liabilitiesandstockholdersequity': 3281023000.0, 'additionalpaidincapital': 2012328000.0, 'liabilities': 2160522000.0, 'liabilitiescurrent': 1018541000.0, 'commonstocksharesauthorized': 1000000000.0, 'cashandcashequivalentsatcarryingvalue': 583173000.0, 'payablestocustomers': 749215000.0, 'retainedearningsaccumulateddeficit': -885774000.0, 'customerfunds': 334017000.0, 'commonstockvalue': 0.0, 'preferredstockvalue': 0.0, 'restrictedcashandcashequivalentsatcarryingvalue': 33838000.0, 'propertyplantandequipmentnet': 142402000.0, 'restrictedcashandcashequivalentsnoncurrent': 15836000.0, 'loansreceivableheldforsalenetnotpartofdisposalgroup': 89974000.0, 'accruedliabilitiescurrent': 82354000.0, 'commonclassamember': 0.0, 'preferredstocksharesauthorized': 100000000.0, 'commonstocksharesoutstanding': 323546864.0, 'otherliabilitiesnoncurrent': 93286000.0, 'longtermdebtnoncurrent': 899695000.0, 'finitelivedintangibleassetsnet': 77102000.0, 'otherliabilitiescurrent': 99153000.0, 'assetscurrent': 2111905000.0, 'settlementliabilitiescurrent': 54137000.0, 'commonclassbmember': 0.0, 'losscontingencyaccrualcarryingvaluecurrent': 33682000.0, 'commonstocksharesissued': 323546864.0, 'stockholdersequity': 1120501000.0, 'assets': 3281023000.0, 'settlementassetscurrent': 364946000.0, 'buildtosuitleaseasset': 149000000.0, 'goodwill': 261705000.0, 'availableforsalesecuritiesdebtsecuritiescurrent': 540991000.0, 'availableforsalesecuritiesdebtsecuritiesnoncurrent': 464680000.0, 'buildtosuitleaseliability': 149000000.0, 'otherassetscurrent': 164966000.0, 'preferredstocksharesoutstanding': 0.0, 'otherassetsnoncurrent': 58393000.0, 'preferredstocksharesissued': 0.0, 'accumulatedothercomprehensiveincomelossnetoftax': -6053000.0}, {'date': '2017-12-31', 'symbol': 'SQ', 'period': 'FY', 'liabilitiesandstockholdersequity': 2187270000.0, 'additionalpaidincapital': 1630386000.0, 'liabilities': 1400937000.0, 'liabilitiescurrent': 972827000.0, 'commonstocksharesauthorized': 1000000000.0, 'cashandcashequivalentsatcarryingvalue': 696474000.0, 'payablestocustomers': 733736000.0, 'retainedearningsaccumulateddeficit': -842735000.0, 'customerfunds': 103042000.0, 'commonstockvalue': 0.0, 'preferredstockvalue': 0.0, 'restrictedcashandcashequivalentsatcarryingvalue': 28805000.0, 'propertyplantandequipmentnet': 91496000.0, 'restrictedcashandcashequivalentsnoncurrent': 9802000.0, 'loansreceivableheldforsalenetnotpartofdisposalgroup': 73420000.0, 'accruedliabilitiescurrent': 52280000.0, 'commonclassamember': 0.0, 'preferredstocksharesauthorized': 100000000.0, 'commonstocksharesoutstanding': 280400813.0, 'otherliabilitiesnoncurrent': 69538000.0, 'longtermdebtnoncurrent': 358572000.0, 'finitelivedintangibleassetsnet': 14334000.0, 'otherliabilitiescurrent': 28367000.0, 'assetscurrent': 1778294000.0, 'settlementliabilitiescurrent': 114788000.0, 'commonclassbmember': 0.0, 'availableforsalesecuritiesdebtsecuritiesnoncurrent': 203667000.0, 'commonstocksharesissued': 280400813.0, 'stockholdersequity': 786333000.0, 'accountspayablecurrent': 16763000.0, 'preferredstocksharesoutstanding': 0.0, 'assets': 2187270000.0, 'settlementassetscurrent': 620523000.0, 'goodwill': 58300000.0, 'availableforsalesecuritiesdebtsecuritiescurrent': 169576000.0, 'losscontingencyaccrualcarryingvaluecurrent': 26893000.0, 'otherassetscurrent': 86454000.0, 'otherassetsnoncurrent': 31350000.0, 'preferredstocksharesissued': 0.0, 'accumulatedothercomprehensiveincomelossnetoftax': -1318000.0}, {'date': '2016-12-31', 'symbol': 'SQ', 'period': 'FY', 'merchantcashadvancereceivablenet': 4212000.0, 'liabilitiesandstockholdersequity': 1211362000.0, 'additionalpaidincapital': 1357381000.0, 'liabilities': 635209000.0, 'liabilitiescurrent': 577464000.0, 'commonstocksharesauthorized': 1000000000.0, 'cashandcashequivalentsatcarryingvalue': 452030000.0, 'payablestocustomers': 388058000.0, 'retainedearningsaccumulateddeficit': -779239000.0, 'customerfunds': 43574000.0, 'commonstockvalue': 0.0, 'preferredstockvalue': 0.0, 'propertyplantandequipmentnet': 88328000.0, 'restrictedcashandcashequivalentsnoncurrent': 14584000.0, 'loansreceivableheldforsalenetnotpartofdisposalgroup': 42144000.0, 'accruedliabilitiescurrent': 39543000.0, 'commonclassamember': 0.0, 'preferredstocksharesauthorized': 100000000.0, 'commonstocksharesoutstanding': 198746620.0, 'otherliabilitiesnoncurrent': 57745000.0, 'longtermdebtnoncurrent': 0.0, 'finitelivedintangibleassetsnet': 19292000.0, 'otherliabilitiescurrent': 73623000.0, 'customeradvancesanddepositscurrent': 43574000.0, 'assetscurrent': 1001425000.0, 'restrictedcashandcashequivalentsatcarryingvalue': 22131000.0, 'commonclassbmember': 0.0, 'losscontingencyaccrualcarryingvaluecurrent': 20064000.0, 'commonstocksharesissued': 198746620.0, 'stockholdersequity': 576153000.0, 'accountspayablecurrent': 12602000.0, 'preferredstocksharesoutstanding': 0.0, 'assets': 1211362000.0, 'settlementassetscurrent': 321102000.0, 'goodwill': 57173000.0, 'availableforsalesecuritiesdebtsecuritiescurrent': 59901000.0, 'availableforsalesecuritiesdebtsecuritiesnoncurrent': 27366000.0, 'otherassetscurrent': 56331000.0, 'otherassetsnoncurrent': 3194000.0, 'preferredstocksharesissued': 0.0, 'accumulatedothercomprehensiveincomelossnetoftax': -1989000.0}]\n",
      "[{'date': '2020-07-31', 'symbol': 'INTU', 'period': 'FY', 'contractwithcustomerliabilitycurrent': 652000000.0, 'liabilitiesandstockholdersequity': 10931000000.0, 'treasurystockvalue': 11929000000.0, 'prepaidexpenseandotherassetscurrent': 314000000.0, 'liabilities': 5825000000.0, 'liabilitiescurrent': 3529000000.0, 'commonstocksharesauthorized': 750000000.0, 'cashandcashequivalentsatcarryingvalue': 6442000000.0, 'retainedearningsaccumulateddeficit': 10885000000.0, 'commonstockvalue': 3000000.0, 'additionalpaidincapitalcommonstock': 6179000000.0, 'propertyplantandequipmentnet': 734000000.0, 'operatingleaserightofuseasset': 226000000.0, 'finitelivedintangibleassetsnet': 28000000.0, 'commonstocksharesoutstanding': 261740000.0, 'preferredstockparorstatedvaluepershare': 0.01, 'operatingleaseliabilitynoncurrent': 221000000.0, 'preferredstocksharesauthorized': 1345000.0, 'preferredstockvalue': 0.0, 'employeerelatedliabilitiescurrent': 482000000.0, 'currentliabilitiesbeforecustomerfunddeposits': 3074000000.0, 'deferredincometaxassetsnet': 65000000.0, 'otherliabilitiesnoncurrent': 42000000.0, 'otherliabilitiescurrent': 297000000.0, 'assetscurrent': 7980000000.0, 'incometaxesreceivable': 12000000.0, 'longtermdebtnoncurrent': 2031000000.0, 'currentassetsbeforefundsheldforcustomers': 7525000000.0, 'seriesapreferredstockmember': 145000.0, 'fundsheldforclients': 455000000.0, 'availableforsalesecuritiesdebtsecuritiesnoncurrent': 19000000.0, 'stockholdersequity': 5106000000.0, 'accountsreceivablenetcurrent': 149000000.0, 'accountspayablecurrent': 305000000.0, 'allowancefordoubtfulaccountsreceivablecurrent': 12000000.0, 'assets': 10931000000.0, 'contractwithcustomerrefundliability': 455000000.0, 'goodwill': 1654000000.0, 'commonstockparorstatedvaluepershare': 0.01, 'availableforsalesecuritiesdebtsecuritiescurrent': 608000000.0, 'deferredincometaxliabilitiesnet': 2000000.0, 'debtcurrent': 1338000000.0, 'preferredstocksharesoutstanding': 0.0, 'otherassetsnoncurrent': 225000000.0, 'preferredstocksharesissued': 0.0, 'seriesbpreferredstockmember': 250000.0, 'accumulatedothercomprehensiveincomelossnetoftax': -32000000.0}, {'date': '2019-07-31', 'symbol': 'INTU', 'period': 'FY', 'contractwithcustomerliabilitycurrent': 619000000.0, 'liabilitiesandstockholdersequity': 6283000000.0, 'treasurystockvalue': 11611000000.0, 'longtermdebt': 386000000.0, 'prepaidexpenseandotherassetscurrent': 266000000.0, 'liabilities': 2534000000.0, 'liabilitiescurrent': 1966000000.0, 'commonstocksharesauthorized': 750000000.0, 'cashandcashequivalentsatcarryingvalue': 2116000000.0, 'retainedearningsaccumulateddeficit': 9621000000.0, 'commonstockvalue': 3000000.0, 'additionalpaidincapitalcommonstock': 5772000000.0, 'propertyplantandequipmentnet': 780000000.0, 'finitelivedintangibleassetsnet': 54000000.0, 'commonstocksharesoutstanding': 260180000.0, 'preferredstockparorstatedvaluepershare': 0.01, 'preferredstocksharesauthorized': 1345000.0, 'preferredstockvalue': 0.0, 'employeerelatedliabilitiescurrent': 385000000.0, 'currentliabilitiesbeforecustomerfunddeposits': 1530000000.0, 'otherliabilitiesnoncurrent': 145000000.0, 'otherliabilitiescurrent': 202000000.0, 'assetscurrent': 3594000000.0, 'incometaxesreceivable': 65000000.0, 'currentassetsbeforefundsheldforcustomers': 3158000000.0, 'seriesapreferredstockmember': 145000.0, 'fundsheldforclients': 436000000.0, 'availableforsalesecuritiesdebtsecuritiesnoncurrent': 13000000.0, 'stockholdersequity': 3749000000.0, 'accountsreceivablenetcurrent': 87000000.0, 'accountspayablecurrent': 274000000.0, 'allowancefordoubtfulaccountsreceivablecurrent': 3000000.0, 'assets': 6283000000.0, 'contractwithcustomerrefundliability': 436000000.0, 'goodwill': 1655000000.0, 'commonstockparorstatedvaluepershare': 0.01, 'availableforsalesecuritiesdebtsecuritiescurrent': 624000000.0, 'deferredincometaxliabilitiesnet': 37000000.0, 'debtcurrent': 50000000.0, 'preferredstocksharesoutstanding': 0.0, 'otherassetsnoncurrent': 187000000.0, 'preferredstocksharesissued': 0.0, 'seriesbpreferredstockmember': 250000.0, 'accumulatedothercomprehensiveincomelossnetoftax': -36000000.0}, {'date': '2018-07-31', 'symbol': 'INTU', 'period': 'FY', 'otherliabilitiescurrent': 191000000.0, 'liabilitiesandstockholdersequity': 5178000000.0, 'treasurystockvalue': 11050000000.0, 'longtermdebt': 388000000.0, 'prepaidexpenseandotherassetscurrent': 184000000.0, 'liabilities': 2824000000.0, 'liabilitiescurrent': 2116000000.0, 'commonstocksharesauthorized': 750000000.0, 'cashandcashequivalentsatcarryingvalue': 1464000000.0, 'retainedearningsaccumulateddeficit': 8101000000.0, 'deferredrevenuecurrent': 961000000.0, 'commonstockvalue': 3000000.0, 'additionalpaidincapitalcommonstock': 5335000000.0, 'propertyplantandequipmentnet': 812000000.0, 'finitelivedintangibleassetsnet': 61000000.0, 'commonstocksharesoutstanding': 258616000.0, 'preferredstockparorstatedvaluepershare': 0.01, 'preferredstocksharesauthorized': 1345000.0, 'preferredstockvalue': 0.0, 'employeerelatedliabilitiescurrent': 369000000.0, 'currentliabilitiesbeforecustomerfunddeposits': 1749000000.0, 'deferredincometaxassetsnet': 87000000.0, 'otherliabilitiesnoncurrent': 123000000.0, 'debtcurrent': 50000000.0, 'assetscurrent': 2404000000.0, 'deferredrevenuenoncurrent': 197000000.0, 'incometaxesreceivable': 39000000.0, 'currentassetsbeforefundsheldforcustomers': 2037000000.0, 'seriesapreferredstockmember': 145000.0, 'fundsheldforclients': 367000000.0, 'availableforsalesecuritiesdebtsecuritiesnoncurrent': 13000000.0, 'stockholdersequity': 2354000000.0, 'accountsreceivablenetcurrent': 98000000.0, 'accountspayablecurrent': 178000000.0, 'allowancefordoubtfulaccountsreceivablecurrent': 5000000.0, 'assets': 5178000000.0, 'goodwill': 1611000000.0, 'commonstockparorstatedvaluepershare': 0.01, 'availableforsalesecuritiesdebtsecuritiescurrent': 252000000.0, 'customerdepositscurrent': 367000000.0, 'preferredstocksharesoutstanding': 0.0, 'otherassetsnoncurrent': 190000000.0, 'preferredstocksharesissued': 0.0, 'seriesbpreferredstockmember': 250000.0, 'accumulatedothercomprehensiveincomelossnetoftax': -35000000.0}, {'date': '2017-07-31', 'symbol': 'INTU', 'period': 'FY', 'otherliabilitiescurrent': 178000000.0, 'liabilitiesandstockholdersequity': 4068000000.0, 'treasurystockvalue': 10778000000.0, 'longtermdebt': 438000000.0, 'prepaidexpenseandotherassetscurrent': 100000000.0, 'liabilities': 2714000000.0, 'liabilitiescurrent': 1944000000.0, 'commonstocksharesauthorized': 750000000.0, 'cashandcashequivalentsatcarryingvalue': 529000000.0, 'retainedearningsaccumulateddeficit': 7297000000.0, 'deferredrevenuecurrent': 887000000.0, 'commonstockvalue': 3000000.0, 'additionalpaidincapitalcommonstock': 4854000000.0, 'propertyplantandequipmentnet': 1030000000.0, 'finitelivedintangibleassetsnet': 22000000.0, 'commonstocksharesoutstanding': 255668000.0, 'preferredstockparorstatedvaluepershare': 0.01, 'preferredstocksharesauthorized': 1345000.0, 'preferredstockvalue': 0.0, 'employeerelatedliabilitiescurrent': 300000000.0, 'currentliabilitiesbeforecustomerfunddeposits': 1572000000.0, 'deferredincometaxassetsnet': 132000000.0, 'otherliabilitiesnoncurrent': 130000000.0, 'debtcurrent': 50000000.0, 'assetscurrent': 1415000000.0, 'deferredrevenuenoncurrent': 202000000.0, 'incometaxesreceivable': 63000000.0, 'currentassetsbeforefundsheldforcustomers': 1043000000.0, 'seriesapreferredstockmember': 145000.0, 'fundsheldforclients': 372000000.0, 'availableforsalesecuritiesdebtsecuritiesnoncurrent': 31000000.0, 'stockholdersequity': 1354000000.0, 'accountsreceivablenetcurrent': 103000000.0, 'accountspayablecurrent': 157000000.0, 'allowancefordoubtfulaccountsreceivablecurrent': 46000000.0, 'assets': 4068000000.0, 'goodwill': 1295000000.0, 'commonstockparorstatedvaluepershare': 0.01, 'availableforsalesecuritiesdebtsecuritiescurrent': 248000000.0, 'customerdepositscurrent': 372000000.0, 'preferredstocksharesoutstanding': 0.0, 'otherassetsnoncurrent': 143000000.0, 'preferredstocksharesissued': 0.0, 'seriesbpreferredstockmember': 250000.0, 'accumulatedothercomprehensiveincomelossnetoftax': -22000000.0}, {'date': '2016-07-31', 'symbol': 'INTU', 'period': 'FY', 'otherliabilitiescurrent': 161000000.0, 'liabilitiesandstockholdersequity': 4250000000.0, 'treasurystockvalue': 9939000000.0, 'liabilitiesofdisposalgroupincludingdiscontinuedoperationcurrent': 0.0, 'longtermdebt': 488000000.0, 'prepaidexpenseandotherassetscurrent': 102000000.0, 'liabilities': 3089000000.0, 'liabilitiescurrent': 2251000000.0, 'commonstocksharesauthorized': 750000000.0, 'assetsofdisposalgroupincludingdiscontinuedoperationcurrent': 0.0, 'retainedearningsaccumulateddeficit': 6687000000.0, 'deferredrevenuecurrent': 801000000.0, 'commonstockvalue': 3000000.0, 'additionalpaidincapitalcommonstock': 4442000000.0, 'propertyplantandequipmentnet': 1031000000.0, 'finitelivedintangibleassetsnet': 44000000.0, 'commonstocksharesoutstanding': 257853000.0, 'preferredstockparorstatedvaluepershare': 0.01, 'deferredtaxassetsnetcurrent': 0.0, 'preferredstocksharesauthorized': 1345000.0, 'preferredstockvalue': 0.0, 'employeerelatedliabilitiescurrent': 289000000.0, 'currentliabilitiesbeforecustomerfunddeposits': 1947000000.0, 'otherliabilitiesnoncurrent': 146000000.0, 'debtcurrent': 512000000.0, 'assetscurrent': 1614000000.0, 'deferredrevenuenoncurrent': 204000000.0, 'incometaxesreceivable': 20000000.0, 'currentassetsbeforefundsheldforcustomers': 1310000000.0, 'seriesapreferredstockmember': 145000.0, 'liabilitiesofdisposalgroupincludingdiscontinuedoperationnoncurrent': 0.0, 'fundsheldforclients': 304000000.0, 'availableforsalesecuritiesdebtsecuritiesnoncurrent': 28000000.0, 'stockholdersequity': 1161000000.0, 'accountsreceivablenetcurrent': 108000000.0, 'accountspayablecurrent': 184000000.0, 'allowancefordoubtfulaccountsreceivablecurrent': 51000000.0, 'assets': 4250000000.0, 'goodwill': 1282000000.0, 'deferredtaxassetsliabilitiesnetnoncurrent': 139000000.0, 'availableforsalesecuritiesdebtsecuritiescurrent': 442000000.0, 'cashandcashequivalentsatcarryingvalue': 638000000.0, 'customerdepositscurrent': 304000000.0, 'commonstockparorstatedvaluepershare': 0.01, 'disposalgroupincludingdiscontinuedoperationassetsnoncurrent': 0.0, 'otherassetsnoncurrent': 112000000.0, 'seriesbpreferredstockmember': 250000.0, 'accumulatedothercomprehensiveincomelossnetoftax': -32000000.0}]\n",
      "[{'date': '2019-12-31', 'symbol': 'NOW', 'period': 'FY', 'liabilitiesandstockholdersequity': 6022430000.0, 'accountspayablecurrent': 52960000.0, 'prepaidexpenseandotherassetscurrent': 125488000.0, 'liabilities': 3894489000.0, 'liabilitiescurrent': 2752785000.0, 'commonstocksharesauthorized': 600000000.0, 'cashandcashequivalentsatcarryingvalue': 775778000.0, 'retainedearningsaccumulateddeficit': -352244000.0, 'intangibleassetsnetexcludinggoodwill': 143850000.0, 'commonstockvalue': 189000.0, 'preferredstockvalue': 0.0, 'propertyplantandequipmentnet': 468085000.0, 'commonstocksharesissued': 189461000.0, 'operatingleaserightofuseasset': 402428000.0, 'contractwithcustomerassetnetnoncurrent': 333448000.0, 'accruedliabilitiescurrent': 461403000.0, 'preferredstockparorstatedvaluepershare': 0.001, 'preferredstocksharesauthorized': 10000000.0, 'commonstocksharesoutstanding': 189500000.0, 'deferredincometaxassetsnet': 599633000.0, 'otherliabilitiesnoncurrent': 23464000.0, 'assetscurrent': 2826901000.0, 'operatingleaseliabilitynoncurrent': 383221000.0, 'contractwithcustomerliabilitynoncurrent': 40038000.0, 'contractwithcustomerliabilitycurrent': 2185754000.0, 'availableforsalesecuritiesdebtsecuritiesnoncurrent': 1013332000.0, 'stockholdersequity': 2127941000.0, 'accountsreceivablenetcurrent': 835279000.0, 'assets': 6022430000.0, 'goodwill': 156756000.0, 'commonstockparorstatedvaluepershare': 0.001, 'availableforsalesecuritiesdebtsecuritiescurrent': 915317000.0, 'contractwithcustomerassetnetcurrent': 175039000.0, 'additionalpaidincapitalcommonstock': 2454741000.0, 'convertiblelongtermnotespayable': 694981000.0, 'preferredstocksharesoutstanding': 0.0, 'otherassetsnoncurrent': 77997000.0, 'preferredstocksharesissued': 0.0, 'accumulatedothercomprehensiveincomelossnetoftax': 25255000.0, 'convertiblenotespayablecurrent': 52668000.0}, {'date': '2018-12-31', 'symbol': 'NOW', 'period': 'FY', 'liabilitiesandstockholdersequity': 3879140000.0, 'accountspayablecurrent': 30733000.0, 'prepaidexpenseandotherassetscurrent': 132071000.0, 'liabilities': 2767941000.0, 'liabilitiescurrent': 2012573000.0, 'commonstocksharesauthorized': 600000000.0, 'cashandcashequivalentsatcarryingvalue': 566204000.0, 'retainedearningsaccumulateddeficit': -978780000.0, 'intangibleassetsnetexcludinggoodwill': 100582000.0, 'commonstockvalue': 180000.0, 'preferredstockvalue': 0.0, 'propertyplantandequipmentnet': 347216000.0, 'commonstocksharesissued': 180175355.0, 'contractwithcustomerassetnetnoncurrent': 282490000.0, 'accruedliabilitiescurrent': 330246000.0, 'preferredstockparorstatedvaluepershare': 0.001, 'preferredstocksharesauthorized': 10000000.0, 'commonstocksharesoutstanding': 180175355.0, 'otherliabilitiesnoncurrent': 55064000.0, 'assetscurrent': 2344693000.0, 'contractwithcustomerliabilitynoncurrent': 38597000.0, 'contractwithcustomerliabilitycurrent': 1651594000.0, 'availableforsalesecuritiesdebtsecuritiesnoncurrent': 581856000.0, 'stockholdersequity': 1111199000.0, 'accountsreceivablenetcurrent': 574810000.0, 'assets': 3879140000.0, 'goodwill': 148845000.0, 'commonstockparorstatedvaluepershare': 0.001, 'availableforsalesecuritiesdebtsecuritiescurrent': 931718000.0, 'contractwithcustomerassetnetcurrent': 139890000.0, 'additionalpaidincapitalcommonstock': 2093834000.0, 'convertiblelongtermnotespayable': 661707000.0, 'preferredstocksharesoutstanding': 0.0, 'otherassetsnoncurrent': 73458000.0, 'preferredstocksharesissued': 0.0, 'accumulatedothercomprehensiveincomelossnetoftax': -4035000.0, 'convertiblenotespayablecurrent': 0.0}, {'date': '2017-12-31', 'symbol': 'NOW', 'period': 'FY', 'accountsReceivableNetCurrent': 434895000, 'deferredCostsCurrent': 118690000, 'prepaidExpenseAndOtherAssetsCurrent': 77681000, 'deferredCosts': 85530000, 'otherAssetsNoncurrent': 49600000, 'accruedLiabilitiesCurrent': 244605000, 'deferredRevenueCurrent': 1280499000, 'deferredRevenueNoncurrent': 39884000, 'otherLiabilitiesNoncurrent': 43239000, 'accumulatedOtherComprehensiveIncomeLossNetOfTax': -889000, 'retainedEarningsAccumulatedDeficit': -1146520000}, {'date': '2016-12-31', 'symbol': 'NOW', 'period': 'FY', 'liabilitiesandstockholdersequity': 2033767000.0, 'deferredrevenuecurrent': 861782000.0, 'accountspayablecurrent': 38080000.0, 'prepaidexpenseandotherassetscurrent': 43636000.0, 'liabilities': 1646806000.0, 'liabilitiescurrent': 1071498000.0, 'commonstocksharesauthorized': 600000000.0, 'cashandcashequivalentsatcarryingvalue': 401238000.0, 'retainedearningsaccumulateddeficit': -997390000.0, 'intangibleassetsnetexcludinggoodwill': 65854000.0, 'commonstockvalue': 167000.0, 'preferredstockvalue': 0.0, 'propertyplantandequipmentnet': 181620000.0, 'commonstocksharesissued': 167430773.0, 'availableforsalesecuritiescurrent': 498124000.0, 'accruedliabilitiescurrent': 171636000.0, 'preferredstockparorstatedvaluepershare': 0.001, 'preferredstocksharesauthorized': 10000000.0, 'commonstocksharesoutstanding': 167430773.0, 'otherliabilitiesnoncurrent': 34177000.0, 'deferredrevenuenoncurrent': 33319000.0, 'deferredcostscurrent': 76780000.0, 'stockholdersequity': 386961000.0, 'accountsreceivablenetcurrent': 322757000.0, 'deferredcosts': 61990000.0, 'assets': 2033767000.0, 'goodwill': 82534000.0, 'commonstockparorstatedvaluepershare': 0.001, 'assetscurrent': 1342535000.0, 'additionalpaidincapitalcommonstock': 1405317000.0, 'convertiblelongtermnotespayable': 507812000.0, 'preferredstocksharesoutstanding': 0.0, 'otherassetsnoncurrent': 36576000.0, 'preferredstocksharesissued': 0.0, 'availableforsalesecuritiesnoncurrent': 262658000.0, 'accumulatedothercomprehensiveincomelossnetoftax': -21133000.0}]\n"
     ]
    }
   ],
   "source": [
    "#companies = ['AAPL', 'MSFT', 'NVDA', 'INTC', , 'ADBE', 'CRM', 'CSCO', 'ORCL', 'AVGO', 'QCOM', 'ACN', 'TXN', 'SAP', 'SHOP', 'SNE', 'IBM', 'AMD', 'SQ', 'INTU', 'NOW']\n",
    "companies = ['AAPL', 'MSFT', 'NVDA', 'INTC', 'ADBE', 'CRM', 'CSCO', 'ORCL', 'AVGO', 'QCOM', 'ACN', 'TXN', 'IBM', 'AMD', 'SQ', 'INTU', 'NOW']\n",
    "\n",
    "assets=[]\n",
    "liabilites=[]\n",
    "equity=[]\n",
    "demo= 'ad8b4c1b2449b65c51bf2661a03a737e'\n",
    "\n",
    "import requests\n",
    "\n",
    "Balance_Sheet_All=[]\n",
    "for company in companies: #https://fmpcloud.io/api/v3/balance-sheet-statement-as-reported/AAPL?limit=10&apikey=31853220bc5708a36155ca7f0481a5e0\n",
    "  \n",
    "    Balance_Sheet = requests.get(f\"https://fmpcloud.io/api/v3/balance-sheet-statement-as-reported/{company}?limit=10&apikey={demo}\")\n",
    "\n",
    "    Balance_Sheet = Balance_Sheet.json()\n",
    "    \n",
    "    print(Balance_Sheet)\n",
    "    asset_i = float(Balance_Sheet[0]['assets'])\n",
    "    assets.append(asset_i)\n",
    "    \n",
    "    liabilities_i = float(Balance_Sheet[0]['liabilitiescurrent'])\n",
    "    liabilities.append(liabilities_i)\n",
    "    \n",
    "    equity_i = float(Balance_Sheet[0]['liabilitiesandstockholdersequity']) - float(Balance_Sheet[0]['liabilitiescurrent'])\n",
    "    equity.append(equity_i)\n",
    "\n",
    "    \n",
    "   "
   ]
  },
  {
   "cell_type": "code",
   "execution_count": 99,
   "id": "aboriginal-vegetarian",
   "metadata": {},
   "outputs": [
    {
     "data": {
      "application/vnd.plotly.v1+json": {
       "config": {
        "plotlyServerURL": "https://plot.ly"
       },
       "data": [
        {
         "name": "Assets",
         "type": "bar",
         "x": [
          "AAPL",
          "MSFT",
          "NVDA",
          "INTC",
          "ADBE",
          "CRM",
          "CSCO",
          "ORCL",
          "AVGO",
          "QCOM",
          "ACN",
          "TXN",
          "IBM",
          "AMD",
          "SQ",
          "INTU",
          "NOW"
         ],
         "y": [
          323888000000,
          301311000000,
          17315000000,
          136524000000,
          24284000000,
          55126000000,
          94853000000,
          115438000000,
          67493000000,
          35594000000,
          37078593000,
          18018000000,
          152186000000,
          6028000000,
          4551258000,
          10931000000,
          6022430000
         ]
        },
        {
         "name": "Liabilities",
         "type": "bar",
         "x": [
          "AAPL",
          "MSFT",
          "NVDA",
          "INTC",
          "ADBE",
          "CRM",
          "CSCO",
          "ORCL",
          "AVGO",
          "QCOM",
          "ACN",
          "TXN",
          "IBM",
          "AMD",
          "SQ",
          "INTU",
          "NOW"
         ],
         "y": [
          "105392000000.000000",
          72310000000,
          1784000000,
          22310000000,
          105392000000,
          72310000000,
          1784000000,
          22310000000,
          5512000000,
          14845000000,
          25331000000,
          17200000000,
          6899000000,
          8672000000,
          12662590000,
          2123000000,
          986900000,
          37701000000,
          2359000000,
          1694085000,
          3529000000,
          2752785000,
          105392000000,
          72310000000,
          1784000000,
          22310000000,
          5512000000,
          14845000000,
          25331000000,
          17200000000,
          6899000000,
          105392000000,
          105392000000,
          72310000000,
          1784000000,
          22310000000,
          5512000000,
          14845000000,
          25331000000,
          17200000000,
          6899000000,
          8672000000,
          12662590000,
          2123000000,
          37701000000,
          2359000000,
          1694085000,
          3529000000,
          2752785000
         ]
        },
        {
         "name": "Equity",
         "type": "bar",
         "x": [
          "AAPL",
          "MSFT",
          "NVDA",
          "INTC",
          "ADBE",
          "CRM",
          "CSCO",
          "ORCL",
          "AVGO",
          "QCOM",
          "ACN",
          "TXN",
          "IBM",
          "AMD",
          "SQ",
          "INTU",
          "NOW"
         ],
         "y": [
          218496000000,
          229001000000,
          15531000000,
          114214000000,
          18772000000,
          40281000000,
          69522000000,
          98238000000,
          60594000000,
          26922000000,
          24416003000,
          15895000000,
          114485000000,
          3669000000,
          2857173000,
          7402000000,
          3269645000
         ]
        }
       ],
       "layout": {
        "autosize": true,
        "barmode": "stack",
        "template": {
         "data": {
          "bar": [
           {
            "error_x": {
             "color": "#2a3f5f"
            },
            "error_y": {
             "color": "#2a3f5f"
            },
            "marker": {
             "line": {
              "color": "#E5ECF6",
              "width": 0.5
             }
            },
            "type": "bar"
           }
          ],
          "barpolar": [
           {
            "marker": {
             "line": {
              "color": "#E5ECF6",
              "width": 0.5
             }
            },
            "type": "barpolar"
           }
          ],
          "carpet": [
           {
            "aaxis": {
             "endlinecolor": "#2a3f5f",
             "gridcolor": "white",
             "linecolor": "white",
             "minorgridcolor": "white",
             "startlinecolor": "#2a3f5f"
            },
            "baxis": {
             "endlinecolor": "#2a3f5f",
             "gridcolor": "white",
             "linecolor": "white",
             "minorgridcolor": "white",
             "startlinecolor": "#2a3f5f"
            },
            "type": "carpet"
           }
          ],
          "choropleth": [
           {
            "colorbar": {
             "outlinewidth": 0,
             "ticks": ""
            },
            "type": "choropleth"
           }
          ],
          "contour": [
           {
            "colorbar": {
             "outlinewidth": 0,
             "ticks": ""
            },
            "colorscale": [
             [
              0,
              "#0d0887"
             ],
             [
              0.1111111111111111,
              "#46039f"
             ],
             [
              0.2222222222222222,
              "#7201a8"
             ],
             [
              0.3333333333333333,
              "#9c179e"
             ],
             [
              0.4444444444444444,
              "#bd3786"
             ],
             [
              0.5555555555555556,
              "#d8576b"
             ],
             [
              0.6666666666666666,
              "#ed7953"
             ],
             [
              0.7777777777777778,
              "#fb9f3a"
             ],
             [
              0.8888888888888888,
              "#fdca26"
             ],
             [
              1,
              "#f0f921"
             ]
            ],
            "type": "contour"
           }
          ],
          "contourcarpet": [
           {
            "colorbar": {
             "outlinewidth": 0,
             "ticks": ""
            },
            "type": "contourcarpet"
           }
          ],
          "heatmap": [
           {
            "colorbar": {
             "outlinewidth": 0,
             "ticks": ""
            },
            "colorscale": [
             [
              0,
              "#0d0887"
             ],
             [
              0.1111111111111111,
              "#46039f"
             ],
             [
              0.2222222222222222,
              "#7201a8"
             ],
             [
              0.3333333333333333,
              "#9c179e"
             ],
             [
              0.4444444444444444,
              "#bd3786"
             ],
             [
              0.5555555555555556,
              "#d8576b"
             ],
             [
              0.6666666666666666,
              "#ed7953"
             ],
             [
              0.7777777777777778,
              "#fb9f3a"
             ],
             [
              0.8888888888888888,
              "#fdca26"
             ],
             [
              1,
              "#f0f921"
             ]
            ],
            "type": "heatmap"
           }
          ],
          "heatmapgl": [
           {
            "colorbar": {
             "outlinewidth": 0,
             "ticks": ""
            },
            "colorscale": [
             [
              0,
              "#0d0887"
             ],
             [
              0.1111111111111111,
              "#46039f"
             ],
             [
              0.2222222222222222,
              "#7201a8"
             ],
             [
              0.3333333333333333,
              "#9c179e"
             ],
             [
              0.4444444444444444,
              "#bd3786"
             ],
             [
              0.5555555555555556,
              "#d8576b"
             ],
             [
              0.6666666666666666,
              "#ed7953"
             ],
             [
              0.7777777777777778,
              "#fb9f3a"
             ],
             [
              0.8888888888888888,
              "#fdca26"
             ],
             [
              1,
              "#f0f921"
             ]
            ],
            "type": "heatmapgl"
           }
          ],
          "histogram": [
           {
            "marker": {
             "colorbar": {
              "outlinewidth": 0,
              "ticks": ""
             }
            },
            "type": "histogram"
           }
          ],
          "histogram2d": [
           {
            "colorbar": {
             "outlinewidth": 0,
             "ticks": ""
            },
            "colorscale": [
             [
              0,
              "#0d0887"
             ],
             [
              0.1111111111111111,
              "#46039f"
             ],
             [
              0.2222222222222222,
              "#7201a8"
             ],
             [
              0.3333333333333333,
              "#9c179e"
             ],
             [
              0.4444444444444444,
              "#bd3786"
             ],
             [
              0.5555555555555556,
              "#d8576b"
             ],
             [
              0.6666666666666666,
              "#ed7953"
             ],
             [
              0.7777777777777778,
              "#fb9f3a"
             ],
             [
              0.8888888888888888,
              "#fdca26"
             ],
             [
              1,
              "#f0f921"
             ]
            ],
            "type": "histogram2d"
           }
          ],
          "histogram2dcontour": [
           {
            "colorbar": {
             "outlinewidth": 0,
             "ticks": ""
            },
            "colorscale": [
             [
              0,
              "#0d0887"
             ],
             [
              0.1111111111111111,
              "#46039f"
             ],
             [
              0.2222222222222222,
              "#7201a8"
             ],
             [
              0.3333333333333333,
              "#9c179e"
             ],
             [
              0.4444444444444444,
              "#bd3786"
             ],
             [
              0.5555555555555556,
              "#d8576b"
             ],
             [
              0.6666666666666666,
              "#ed7953"
             ],
             [
              0.7777777777777778,
              "#fb9f3a"
             ],
             [
              0.8888888888888888,
              "#fdca26"
             ],
             [
              1,
              "#f0f921"
             ]
            ],
            "type": "histogram2dcontour"
           }
          ],
          "mesh3d": [
           {
            "colorbar": {
             "outlinewidth": 0,
             "ticks": ""
            },
            "type": "mesh3d"
           }
          ],
          "parcoords": [
           {
            "line": {
             "colorbar": {
              "outlinewidth": 0,
              "ticks": ""
             }
            },
            "type": "parcoords"
           }
          ],
          "pie": [
           {
            "automargin": true,
            "type": "pie"
           }
          ],
          "scatter": [
           {
            "marker": {
             "colorbar": {
              "outlinewidth": 0,
              "ticks": ""
             }
            },
            "type": "scatter"
           }
          ],
          "scatter3d": [
           {
            "line": {
             "colorbar": {
              "outlinewidth": 0,
              "ticks": ""
             }
            },
            "marker": {
             "colorbar": {
              "outlinewidth": 0,
              "ticks": ""
             }
            },
            "type": "scatter3d"
           }
          ],
          "scattercarpet": [
           {
            "marker": {
             "colorbar": {
              "outlinewidth": 0,
              "ticks": ""
             }
            },
            "type": "scattercarpet"
           }
          ],
          "scattergeo": [
           {
            "marker": {
             "colorbar": {
              "outlinewidth": 0,
              "ticks": ""
             }
            },
            "type": "scattergeo"
           }
          ],
          "scattergl": [
           {
            "marker": {
             "colorbar": {
              "outlinewidth": 0,
              "ticks": ""
             }
            },
            "type": "scattergl"
           }
          ],
          "scattermapbox": [
           {
            "marker": {
             "colorbar": {
              "outlinewidth": 0,
              "ticks": ""
             }
            },
            "type": "scattermapbox"
           }
          ],
          "scatterpolar": [
           {
            "marker": {
             "colorbar": {
              "outlinewidth": 0,
              "ticks": ""
             }
            },
            "type": "scatterpolar"
           }
          ],
          "scatterpolargl": [
           {
            "marker": {
             "colorbar": {
              "outlinewidth": 0,
              "ticks": ""
             }
            },
            "type": "scatterpolargl"
           }
          ],
          "scatterternary": [
           {
            "marker": {
             "colorbar": {
              "outlinewidth": 0,
              "ticks": ""
             }
            },
            "type": "scatterternary"
           }
          ],
          "surface": [
           {
            "colorbar": {
             "outlinewidth": 0,
             "ticks": ""
            },
            "colorscale": [
             [
              0,
              "#0d0887"
             ],
             [
              0.1111111111111111,
              "#46039f"
             ],
             [
              0.2222222222222222,
              "#7201a8"
             ],
             [
              0.3333333333333333,
              "#9c179e"
             ],
             [
              0.4444444444444444,
              "#bd3786"
             ],
             [
              0.5555555555555556,
              "#d8576b"
             ],
             [
              0.6666666666666666,
              "#ed7953"
             ],
             [
              0.7777777777777778,
              "#fb9f3a"
             ],
             [
              0.8888888888888888,
              "#fdca26"
             ],
             [
              1,
              "#f0f921"
             ]
            ],
            "type": "surface"
           }
          ],
          "table": [
           {
            "cells": {
             "fill": {
              "color": "#EBF0F8"
             },
             "line": {
              "color": "white"
             }
            },
            "header": {
             "fill": {
              "color": "#C8D4E3"
             },
             "line": {
              "color": "white"
             }
            },
            "type": "table"
           }
          ]
         },
         "layout": {
          "annotationdefaults": {
           "arrowcolor": "#2a3f5f",
           "arrowhead": 0,
           "arrowwidth": 1
          },
          "autotypenumbers": "strict",
          "coloraxis": {
           "colorbar": {
            "outlinewidth": 0,
            "ticks": ""
           }
          },
          "colorscale": {
           "diverging": [
            [
             0,
             "#8e0152"
            ],
            [
             0.1,
             "#c51b7d"
            ],
            [
             0.2,
             "#de77ae"
            ],
            [
             0.3,
             "#f1b6da"
            ],
            [
             0.4,
             "#fde0ef"
            ],
            [
             0.5,
             "#f7f7f7"
            ],
            [
             0.6,
             "#e6f5d0"
            ],
            [
             0.7,
             "#b8e186"
            ],
            [
             0.8,
             "#7fbc41"
            ],
            [
             0.9,
             "#4d9221"
            ],
            [
             1,
             "#276419"
            ]
           ],
           "sequential": [
            [
             0,
             "#0d0887"
            ],
            [
             0.1111111111111111,
             "#46039f"
            ],
            [
             0.2222222222222222,
             "#7201a8"
            ],
            [
             0.3333333333333333,
             "#9c179e"
            ],
            [
             0.4444444444444444,
             "#bd3786"
            ],
            [
             0.5555555555555556,
             "#d8576b"
            ],
            [
             0.6666666666666666,
             "#ed7953"
            ],
            [
             0.7777777777777778,
             "#fb9f3a"
            ],
            [
             0.8888888888888888,
             "#fdca26"
            ],
            [
             1,
             "#f0f921"
            ]
           ],
           "sequentialminus": [
            [
             0,
             "#0d0887"
            ],
            [
             0.1111111111111111,
             "#46039f"
            ],
            [
             0.2222222222222222,
             "#7201a8"
            ],
            [
             0.3333333333333333,
             "#9c179e"
            ],
            [
             0.4444444444444444,
             "#bd3786"
            ],
            [
             0.5555555555555556,
             "#d8576b"
            ],
            [
             0.6666666666666666,
             "#ed7953"
            ],
            [
             0.7777777777777778,
             "#fb9f3a"
            ],
            [
             0.8888888888888888,
             "#fdca26"
            ],
            [
             1,
             "#f0f921"
            ]
           ]
          },
          "colorway": [
           "#636efa",
           "#EF553B",
           "#00cc96",
           "#ab63fa",
           "#FFA15A",
           "#19d3f3",
           "#FF6692",
           "#B6E880",
           "#FF97FF",
           "#FECB52"
          ],
          "font": {
           "color": "#2a3f5f"
          },
          "geo": {
           "bgcolor": "white",
           "lakecolor": "white",
           "landcolor": "#E5ECF6",
           "showlakes": true,
           "showland": true,
           "subunitcolor": "white"
          },
          "hoverlabel": {
           "align": "left"
          },
          "hovermode": "closest",
          "mapbox": {
           "style": "light"
          },
          "paper_bgcolor": "white",
          "plot_bgcolor": "#E5ECF6",
          "polar": {
           "angularaxis": {
            "gridcolor": "white",
            "linecolor": "white",
            "ticks": ""
           },
           "bgcolor": "#E5ECF6",
           "radialaxis": {
            "gridcolor": "white",
            "linecolor": "white",
            "ticks": ""
           }
          },
          "scene": {
           "xaxis": {
            "backgroundcolor": "#E5ECF6",
            "gridcolor": "white",
            "gridwidth": 2,
            "linecolor": "white",
            "showbackground": true,
            "ticks": "",
            "zerolinecolor": "white"
           },
           "yaxis": {
            "backgroundcolor": "#E5ECF6",
            "gridcolor": "white",
            "gridwidth": 2,
            "linecolor": "white",
            "showbackground": true,
            "ticks": "",
            "zerolinecolor": "white"
           },
           "zaxis": {
            "backgroundcolor": "#E5ECF6",
            "gridcolor": "white",
            "gridwidth": 2,
            "linecolor": "white",
            "showbackground": true,
            "ticks": "",
            "zerolinecolor": "white"
           }
          },
          "shapedefaults": {
           "line": {
            "color": "#2a3f5f"
           }
          },
          "ternary": {
           "aaxis": {
            "gridcolor": "white",
            "linecolor": "white",
            "ticks": ""
           },
           "baxis": {
            "gridcolor": "white",
            "linecolor": "white",
            "ticks": ""
           },
           "bgcolor": "#E5ECF6",
           "caxis": {
            "gridcolor": "white",
            "linecolor": "white",
            "ticks": ""
           }
          },
          "title": {
           "x": 0.05
          },
          "xaxis": {
           "automargin": true,
           "gridcolor": "white",
           "linecolor": "white",
           "ticks": "",
           "title": {
            "standoff": 15
           },
           "zerolinecolor": "white",
           "zerolinewidth": 2
          },
          "yaxis": {
           "automargin": true,
           "gridcolor": "white",
           "linecolor": "white",
           "ticks": "",
           "title": {
            "standoff": 15
           },
           "zerolinecolor": "white",
           "zerolinewidth": 2
          }
         }
        },
        "title": {
         "text": "Balance Sheet Latest Quarter"
        },
        "xaxis": {
         "autorange": true,
         "range": [
          -0.5,
          16.5
         ],
         "type": "category"
        },
        "yaxis": {
         "autorange": true,
         "range": [
          0,
          681869473684.2106
         ],
         "type": "linear"
        }
       }
      },
      "image/png": "[encoded data removed]",
      "text/html": [
       "<div>                            <div id=\"a0f4b83d-c39a-455e-a9ae-0c27e1bfb649\" class=\"plotly-graph-div\" style=\"height:525px; width:100%;\"></div>            <script type=\"text/javascript\">                require([\"plotly\"], function(Plotly) {                    window.PLOTLYENV=window.PLOTLYENV || {};                                    if (document.getElementById(\"a0f4b83d-c39a-455e-a9ae-0c27e1bfb649\")) {                    Plotly.newPlot(                        \"a0f4b83d-c39a-455e-a9ae-0c27e1bfb649\",                        [{\"name\": \"Assets\", \"type\": \"bar\", \"x\": [\"AAPL\", \"MSFT\", \"NVDA\", \"INTC\", \"ADBE\", \"CRM\", \"CSCO\", \"ORCL\", \"AVGO\", \"QCOM\", \"ACN\", \"TXN\", \"IBM\", \"AMD\", \"SQ\", \"INTU\", \"NOW\"], \"y\": [323888000000.0, 301311000000.0, 17315000000.0, 136524000000.0, 24284000000.0, 55126000000.0, 94853000000.0, 115438000000.0, 67493000000.0, 35594000000.0, 37078593000.0, 18018000000.0, 152186000000.0, 6028000000.0, 4551258000.0, 10931000000.0, 6022430000.0]}, {\"name\": \"Liabilities\", \"type\": \"bar\", \"x\": [\"AAPL\", \"MSFT\", \"NVDA\", \"INTC\", \"ADBE\", \"CRM\", \"CSCO\", \"ORCL\", \"AVGO\", \"QCOM\", \"ACN\", \"TXN\", \"IBM\", \"AMD\", \"SQ\", \"INTU\", \"NOW\"], \"y\": [\"105392000000.000000\", 72310000000.0, 1784000000.0, 22310000000.0, 105392000000.0, 72310000000.0, 1784000000.0, 22310000000.0, 5512000000.0, 14845000000.0, 25331000000.0, 17200000000.0, 6899000000.0, 8672000000.0, 12662590000.0, 2123000000.0, 986900000.0, 37701000000.0, 2359000000.0, 1694085000.0, 3529000000.0, 2752785000.0, 105392000000.0, 72310000000.0, 1784000000.0, 22310000000.0, 5512000000.0, 14845000000.0, 25331000000.0, 17200000000.0, 6899000000.0, 105392000000.0, 105392000000.0, 72310000000.0, 1784000000.0, 22310000000.0, 5512000000.0, 14845000000.0, 25331000000.0, 17200000000.0, 6899000000.0, 8672000000.0, 12662590000.0, 2123000000.0, 37701000000.0, 2359000000.0, 1694085000.0, 3529000000.0, 2752785000.0]}, {\"name\": \"Equity\", \"type\": \"bar\", \"x\": [\"AAPL\", \"MSFT\", \"NVDA\", \"INTC\", \"ADBE\", \"CRM\", \"CSCO\", \"ORCL\", \"AVGO\", \"QCOM\", \"ACN\", \"TXN\", \"IBM\", \"AMD\", \"SQ\", \"INTU\", \"NOW\"], \"y\": [218496000000.0, 229001000000.0, 15531000000.0, 114214000000.0, 18772000000.0, 40281000000.0, 69522000000.0, 98238000000.0, 60594000000.0, 26922000000.0, 24416003000.0, 15895000000.0, 114485000000.0, 3669000000.0, 2857173000.0, 7402000000.0, 3269645000.0]}],                        {\"barmode\": \"stack\", \"template\": {\"data\": {\"bar\": [{\"error_x\": {\"color\": \"#2a3f5f\"}, \"error_y\": {\"color\": \"#2a3f5f\"}, \"marker\": {\"line\": {\"color\": \"#E5ECF6\", \"width\": 0.5}}, \"type\": \"bar\"}], \"barpolar\": [{\"marker\": {\"line\": {\"color\": \"#E5ECF6\", \"width\": 0.5}}, \"type\": \"barpolar\"}], \"carpet\": [{\"aaxis\": {\"endlinecolor\": \"#2a3f5f\", \"gridcolor\": \"white\", \"linecolor\": \"white\", \"minorgridcolor\": \"white\", \"startlinecolor\": \"#2a3f5f\"}, \"baxis\": {\"endlinecolor\": \"#2a3f5f\", \"gridcolor\": \"white\", \"linecolor\": \"white\", \"minorgridcolor\": \"white\", \"startlinecolor\": \"#2a3f5f\"}, \"type\": \"carpet\"}], \"choropleth\": [{\"colorbar\": {\"outlinewidth\": 0, \"ticks\": \"\"}, \"type\": \"choropleth\"}], \"contour\": [{\"colorbar\": {\"outlinewidth\": 0, \"ticks\": \"\"}, \"colorscale\": [[0.0, \"#0d0887\"], [0.1111111111111111, \"#46039f\"], [0.2222222222222222, \"#7201a8\"], [0.3333333333333333, \"#9c179e\"], [0.4444444444444444, \"#bd3786\"], [0.5555555555555556, \"#d8576b\"], [0.6666666666666666, \"#ed7953\"], [0.7777777777777778, \"#fb9f3a\"], [0.8888888888888888, \"#fdca26\"], [1.0, \"#f0f921\"]], \"type\": \"contour\"}], \"contourcarpet\": [{\"colorbar\": {\"outlinewidth\": 0, \"ticks\": \"\"}, \"type\": \"contourcarpet\"}], \"heatmap\": [{\"colorbar\": {\"outlinewidth\": 0, \"ticks\": \"\"}, \"colorscale\": [[0.0, \"#0d0887\"], [0.1111111111111111, \"#46039f\"], [0.2222222222222222, \"#7201a8\"], [0.3333333333333333, \"#9c179e\"], [0.4444444444444444, \"#bd3786\"], [0.5555555555555556, \"#d8576b\"], [0.6666666666666666, \"#ed7953\"], [0.7777777777777778, \"#fb9f3a\"], [0.8888888888888888, \"#fdca26\"], [1.0, \"#f0f921\"]], \"type\": \"heatmap\"}], \"heatmapgl\": [{\"colorbar\": {\"outlinewidth\": 0, \"ticks\": \"\"}, \"colorscale\": [[0.0, \"#0d0887\"], [0.1111111111111111, \"#46039f\"], [0.2222222222222222, \"#7201a8\"], [0.3333333333333333, \"#9c179e\"], [0.4444444444444444, \"#bd3786\"], [0.5555555555555556, \"#d8576b\"], [0.6666666666666666, \"#ed7953\"], [0.7777777777777778, \"#fb9f3a\"], [0.8888888888888888, \"#fdca26\"], [1.0, \"#f0f921\"]], \"type\": \"heatmapgl\"}], \"histogram\": [{\"marker\": {\"colorbar\": {\"outlinewidth\": 0, \"ticks\": \"\"}}, \"type\": \"histogram\"}], \"histogram2d\": [{\"colorbar\": {\"outlinewidth\": 0, \"ticks\": \"\"}, \"colorscale\": [[0.0, \"#0d0887\"], [0.1111111111111111, \"#46039f\"], [0.2222222222222222, \"#7201a8\"], [0.3333333333333333, \"#9c179e\"], [0.4444444444444444, \"#bd3786\"], [0.5555555555555556, \"#d8576b\"], [0.6666666666666666, \"#ed7953\"], [0.7777777777777778, \"#fb9f3a\"], [0.8888888888888888, \"#fdca26\"], [1.0, \"#f0f921\"]], \"type\": \"histogram2d\"}], \"histogram2dcontour\": [{\"colorbar\": {\"outlinewidth\": 0, \"ticks\": \"\"}, \"colorscale\": [[0.0, \"#0d0887\"], [0.1111111111111111, \"#46039f\"], [0.2222222222222222, \"#7201a8\"], [0.3333333333333333, \"#9c179e\"], [0.4444444444444444, \"#bd3786\"], [0.5555555555555556, \"#d8576b\"], [0.6666666666666666, \"#ed7953\"], [0.7777777777777778, \"#fb9f3a\"], [0.8888888888888888, \"#fdca26\"], [1.0, \"#f0f921\"]], \"type\": \"histogram2dcontour\"}], \"mesh3d\": [{\"colorbar\": {\"outlinewidth\": 0, \"ticks\": \"\"}, \"type\": \"mesh3d\"}], \"parcoords\": [{\"line\": {\"colorbar\": {\"outlinewidth\": 0, \"ticks\": \"\"}}, \"type\": \"parcoords\"}], \"pie\": [{\"automargin\": true, \"type\": \"pie\"}], \"scatter\": [{\"marker\": {\"colorbar\": {\"outlinewidth\": 0, \"ticks\": \"\"}}, \"type\": \"scatter\"}], \"scatter3d\": [{\"line\": {\"colorbar\": {\"outlinewidth\": 0, \"ticks\": \"\"}}, \"marker\": {\"colorbar\": {\"outlinewidth\": 0, \"ticks\": \"\"}}, \"type\": \"scatter3d\"}], \"scattercarpet\": [{\"marker\": {\"colorbar\": {\"outlinewidth\": 0, \"ticks\": \"\"}}, \"type\": \"scattercarpet\"}], \"scattergeo\": [{\"marker\": {\"colorbar\": {\"outlinewidth\": 0, \"ticks\": \"\"}}, \"type\": \"scattergeo\"}], \"scattergl\": [{\"marker\": {\"colorbar\": {\"outlinewidth\": 0, \"ticks\": \"\"}}, \"type\": \"scattergl\"}], \"scattermapbox\": [{\"marker\": {\"colorbar\": {\"outlinewidth\": 0, \"ticks\": \"\"}}, \"type\": \"scattermapbox\"}], \"scatterpolar\": [{\"marker\": {\"colorbar\": {\"outlinewidth\": 0, \"ticks\": \"\"}}, \"type\": \"scatterpolar\"}], \"scatterpolargl\": [{\"marker\": {\"colorbar\": {\"outlinewidth\": 0, \"ticks\": \"\"}}, \"type\": \"scatterpolargl\"}], \"scatterternary\": [{\"marker\": {\"colorbar\": {\"outlinewidth\": 0, \"ticks\": \"\"}}, \"type\": \"scatterternary\"}], \"surface\": [{\"colorbar\": {\"outlinewidth\": 0, \"ticks\": \"\"}, \"colorscale\": [[0.0, \"#0d0887\"], [0.1111111111111111, \"#46039f\"], [0.2222222222222222, \"#7201a8\"], [0.3333333333333333, \"#9c179e\"], [0.4444444444444444, \"#bd3786\"], [0.5555555555555556, \"#d8576b\"], [0.6666666666666666, \"#ed7953\"], [0.7777777777777778, \"#fb9f3a\"], [0.8888888888888888, \"#fdca26\"], [1.0, \"#f0f921\"]], \"type\": \"surface\"}], \"table\": [{\"cells\": {\"fill\": {\"color\": \"#EBF0F8\"}, \"line\": {\"color\": \"white\"}}, \"header\": {\"fill\": {\"color\": \"#C8D4E3\"}, \"line\": {\"color\": \"white\"}}, \"type\": \"table\"}]}, \"layout\": {\"annotationdefaults\": {\"arrowcolor\": \"#2a3f5f\", \"arrowhead\": 0, \"arrowwidth\": 1}, \"autotypenumbers\": \"strict\", \"coloraxis\": {\"colorbar\": {\"outlinewidth\": 0, \"ticks\": \"\"}}, \"colorscale\": {\"diverging\": [[0, \"#8e0152\"], [0.1, \"#c51b7d\"], [0.2, \"#de77ae\"], [0.3, \"#f1b6da\"], [0.4, \"#fde0ef\"], [0.5, \"#f7f7f7\"], [0.6, \"#e6f5d0\"], [0.7, \"#b8e186\"], [0.8, \"#7fbc41\"], [0.9, \"#4d9221\"], [1, \"#276419\"]], \"sequential\": [[0.0, \"#0d0887\"], [0.1111111111111111, \"#46039f\"], [0.2222222222222222, \"#7201a8\"], [0.3333333333333333, \"#9c179e\"], [0.4444444444444444, \"#bd3786\"], [0.5555555555555556, \"#d8576b\"], [0.6666666666666666, \"#ed7953\"], [0.7777777777777778, \"#fb9f3a\"], [0.8888888888888888, \"#fdca26\"], [1.0, \"#f0f921\"]], \"sequentialminus\": [[0.0, \"#0d0887\"], [0.1111111111111111, \"#46039f\"], [0.2222222222222222, \"#7201a8\"], [0.3333333333333333, \"#9c179e\"], [0.4444444444444444, \"#bd3786\"], [0.5555555555555556, \"#d8576b\"], [0.6666666666666666, \"#ed7953\"], [0.7777777777777778, \"#fb9f3a\"], [0.8888888888888888, \"#fdca26\"], [1.0, \"#f0f921\"]]}, \"colorway\": [\"#636efa\", \"#EF553B\", \"#00cc96\", \"#ab63fa\", \"#FFA15A\", \"#19d3f3\", \"#FF6692\", \"#B6E880\", \"#FF97FF\", \"#FECB52\"], \"font\": {\"color\": \"#2a3f5f\"}, \"geo\": {\"bgcolor\": \"white\", \"lakecolor\": \"white\", \"landcolor\": \"#E5ECF6\", \"showlakes\": true, \"showland\": true, \"subunitcolor\": \"white\"}, \"hoverlabel\": {\"align\": \"left\"}, \"hovermode\": \"closest\", \"mapbox\": {\"style\": \"light\"}, \"paper_bgcolor\": \"white\", \"plot_bgcolor\": \"#E5ECF6\", \"polar\": {\"angularaxis\": {\"gridcolor\": \"white\", \"linecolor\": \"white\", \"ticks\": \"\"}, \"bgcolor\": \"#E5ECF6\", \"radialaxis\": {\"gridcolor\": \"white\", \"linecolor\": \"white\", \"ticks\": \"\"}}, \"scene\": {\"xaxis\": {\"backgroundcolor\": \"#E5ECF6\", \"gridcolor\": \"white\", \"gridwidth\": 2, \"linecolor\": \"white\", \"showbackground\": true, \"ticks\": \"\", \"zerolinecolor\": \"white\"}, \"yaxis\": {\"backgroundcolor\": \"#E5ECF6\", \"gridcolor\": \"white\", \"gridwidth\": 2, \"linecolor\": \"white\", \"showbackground\": true, \"ticks\": \"\", \"zerolinecolor\": \"white\"}, \"zaxis\": {\"backgroundcolor\": \"#E5ECF6\", \"gridcolor\": \"white\", \"gridwidth\": 2, \"linecolor\": \"white\", \"showbackground\": true, \"ticks\": \"\", \"zerolinecolor\": \"white\"}}, \"shapedefaults\": {\"line\": {\"color\": \"#2a3f5f\"}}, \"ternary\": {\"aaxis\": {\"gridcolor\": \"white\", \"linecolor\": \"white\", \"ticks\": \"\"}, \"baxis\": {\"gridcolor\": \"white\", \"linecolor\": \"white\", \"ticks\": \"\"}, \"bgcolor\": \"#E5ECF6\", \"caxis\": {\"gridcolor\": \"white\", \"linecolor\": \"white\", \"ticks\": \"\"}}, \"title\": {\"x\": 0.05}, \"xaxis\": {\"automargin\": true, \"gridcolor\": \"white\", \"linecolor\": \"white\", \"ticks\": \"\", \"title\": {\"standoff\": 15}, \"zerolinecolor\": \"white\", \"zerolinewidth\": 2}, \"yaxis\": {\"automargin\": true, \"gridcolor\": \"white\", \"linecolor\": \"white\", \"ticks\": \"\", \"title\": {\"standoff\": 15}, \"zerolinecolor\": \"white\", \"zerolinewidth\": 2}}}, \"title\": {\"text\": \"Balance Sheet Latest Quarter\"}},                        {\"responsive\": true}                    ).then(function(){\n",
       "                            \n",
       "var gd = document.getElementById('a0f4b83d-c39a-455e-a9ae-0c27e1bfb649');\n",
       "var x = new MutationObserver(function (mutations, observer) {{\n",
       "        var display = window.getComputedStyle(gd).display;\n",
       "        if (!display || display === 'none') {{\n",
       "            console.log([gd, 'removed!']);\n",
       "            Plotly.purge(gd);\n",
       "            observer.disconnect();\n",
       "        }}\n",
       "}});\n",
       "\n",
       "// Listen for the removal of the full notebook cells\n",
       "var notebookContainer = gd.closest('#notebook-container');\n",
       "if (notebookContainer) {{\n",
       "    x.observe(notebookContainer, {childList: true});\n",
       "}}\n",
       "\n",
       "// Listen for the clearing of the current output cell\n",
       "var outputEl = gd.closest('.output');\n",
       "if (outputEl) {{\n",
       "    x.observe(outputEl, {childList: true});\n",
       "}}\n",
       "\n",
       "                        })                };                });            </script>        </div>"
      ]
     },
     "metadata": {},
     "output_type": "display_data"
    }
   ],
   "source": [
    "import plotly.graph_objects as go\n",
    "\n",
    "firms = companies\n",
    "#companies contains our list of firms e.g. ['ABBV', 'AGN'..]\n",
    "\n",
    "fig = go.Figure(data=[\n",
    "    go.Bar(name='Assets', x=companies, y=assets),\n",
    "    go.Bar(name='Liabilities', x=companies, y=liabilities),\n",
    "    go.Bar(name='Equity', x=companies, y=equity)\n",
    "])\n",
    "\n",
    "fig.update_layout(barmode='stack', title = 'Balance Sheet Latest Quarter')\n",
    "fig.show()"
   ]
  },
  {
   "cell_type": "code",
   "execution_count": null,
   "id": "marked-royal",
   "metadata": {},
   "outputs": [],
   "source": []
  }
 ],
 "metadata": {
  "kernelspec": {
   "display_name": "Python [conda env:pyvizenv] *",
   "language": "python",
   "name": "conda-env-pyvizenv-py"
  },
  "language_info": {
   "codemirror_mode": {
    "name": "ipython",
    "version": 3
   },
   "file_extension": ".py",
   "mimetype": "text/x-python",
   "name": "python",
   "nbconvert_exporter": "python",
   "pygments_lexer": "ipython3",
   "version": "3.8.5"
  }
 },
 "nbformat": 4,
 "nbformat_minor": 5
}
