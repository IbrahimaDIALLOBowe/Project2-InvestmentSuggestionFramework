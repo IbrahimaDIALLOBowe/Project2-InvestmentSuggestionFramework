{
 "cells": [
  {
   "cell_type": "markdown",
   "metadata": {
    "id": "VAdeBs_7i2V5"
   },
   "source": [
    "## Companies valuation (valuation computation, balance sheet driven)(math)"
   ]
  },
  {
   "cell_type": "code",
   "execution_count": 27,
   "metadata": {
    "colab": {
     "base_uri": "https://localhost:8080/"
    },
    "id": "Td8mN2cD64Op",
    "outputId": "5a7ddf68-2563-4752-e1e5-c7d227665426"
   },
   "outputs": [
    {
     "name": "stdout",
     "output_type": "stream",
     "text": [
      "['AAPL', 'MSF.BR', 'MSFT', 'TSM', 'NVDA', 'INTC', 'INCO.BR', 'ASML', 'ADBE', 'CRM', 'CSCO', 'CIS.BR', 'SHOP.TO', 'ASML.AS', 'AVGO', 'QCOM', 'ORCL', 'ACN', 'TXN', 'SAP', 'SHOP', 'SNE', 'IBMA.BR', 'IBM', 'AMD', 'SQ', 'UBER', 'NOW', 'INTU']\n"
     ]
    }
   ],
   "source": [
    "import requests \n",
    "import pandas as pd\n",
    "\n",
    "import requests\n",
    "\n",
    "demo= '31853220bc5708a36155ca7f0481a5e0'\n",
    "\n",
    "companies = requests.get(f'https://fmpcloud.io/api/v3/stock-screener?sector=technology&marketCapMoreThan=100000000000&limit=100&apikey={demo}')\n",
    "companies = companies.json()\n",
    "technological_companies = []\n",
    "\n",
    "for item in companies:\n",
    "  technological_companies.append(item['symbol'])\n",
    "\n",
    "print(technological_companies)"
   ]
  },
  {
   "cell_type": "code",
   "execution_count": null,
   "metadata": {
    "id": "gDibpT3UABWD"
   },
   "outputs": [],
   "source": []
  },
  {
   "cell_type": "code",
   "execution_count": 28,
   "metadata": {
    "colab": {
     "base_uri": "https://localhost:8080/"
    },
    "id": "SqnG9SuKi2WV",
    "outputId": "49e44e75-9e4f-4e87-bdc4-760228dbaa2a"
   },
   "outputs": [
    {
     "name": "stdout",
     "output_type": "stream",
     "text": [
      "{'AAPL': {'revenue': 274515000000, 'Gross_Profit_ratio': 0.382332477278109, 'price_to_sales': 8.227987601528072, 'Market_Capit': 2258706016433.479}, 'MSFT': {'revenue': 143015000000, 'Gross_Profit_ratio': 0.6778100199279796, 'price_to_sales': 11.552554487291543, 'Market_Capit': 1652188580000}, 'TSM': {'revenue': 1069988800000, 'Gross_Profit_ratio': 0.46047388533412686, 'price_to_sales': 0.5778900129421916, 'Market_Capit': 618335841480}, 'NVDA': {'revenue': 10918000000, 'Gross_Profit_ratio': 0.619894, 'price_to_sales': 31.03453196556146, 'Market_Capit': 338835020000}, 'INTC': {'revenue': 71965000000, 'Gross_Profit_ratio': 0.5855624261793928, 'price_to_sales': 3.378302647120128, 'Market_Capit': 243119550000}, 'ADBE': {'revenue': 11171297000, 'Gross_Profit_ratio': 0.8502662672024565, 'price_to_sales': 20.493972186040708, 'Market_Capit': 228944250000}, 'CRM': {'revenue': 17098000000, 'Gross_Profit_ratio': 0.752310211720669, 'price_to_sales': 11.982162826061527, 'Market_Capit': 204871020000}, 'CSCO': {'revenue': 49301000000, 'Gross_Profit_ratio': 0.642644, 'price_to_sales': 3.9029050120687208, 'Market_Capit': 192417120000}, 'ASML.AS': {'revenue': 11820000000, 'Gross_Profit_ratio': 0.44668358714043993, 'price_to_sales': 14.982321914585448, 'Market_Capit': 177091045030.4}, 'AVGO': {'revenue': 23888000000, 'Gross_Profit_ratio': 0.5658070997990623, 'price_to_sales': 7.970973710649699, 'Market_Capit': 190410620000}, 'QCOM': {'revenue': 23531000000, 'Gross_Profit_ratio': 0.606689048489227, 'price_to_sales': 7.619794313883813, 'Market_Capit': 179301380000}, 'ORCL': {'revenue': 39068000000, 'Gross_Profit_ratio': 0.7968158083341865, 'price_to_sales': 4.935507832497184, 'Market_Capit': 192820420000}, 'ACN': {'revenue': 44327039000, 'Gross_Profit_ratio': 0.315296, 'price_to_sales': 3.7573844725969625, 'Market_Capit': 166553728054.8}, 'TXN': {'revenue': 14383000000, 'Gross_Profit_ratio': 0.6371410693179448, 'price_to_sales': 11.07139609260933, 'Market_Capit': 159239890000}, 'SAP': {'revenue': 27553000000, 'Gross_Profit_ratio': 0.6968025260407216, 'price_to_sales': 5.484368308351177, 'Market_Capit': 151110800000}, 'SHOP': {'revenue': 1578173000, 'Gross_Profit_ratio': 0.548509574045431, 'price_to_sales': 94.96262533307818, 'Market_Capit': 149867451309.78}, 'SNE': {'revenue': 8665687000000, 'Gross_Profit_ratio': 0.2772418389909536, 'price_to_sales': 0.014981380796467724, 'Market_Capit': 129823956810}, 'IBM': {'revenue': 77147000000, 'Gross_Profit_ratio': 0.47296719250262487, 'price_to_sales': 1.476211855289253, 'Market_Capit': 113885316000}, 'AMD': {'revenue': 6731000000, 'Gross_Profit_ratio': 0.426088, 'price_to_sales': 16.73065814886347, 'Market_Capit': 112614060000}, 'SQ': {'revenue': 4713500000, 'Gross_Profit_ratio': 0.4009090909090909, 'price_to_sales': 23.911083797602632, 'Market_Capit': 112704893480}, 'UBER': {'revenue': 14147000000, 'Gross_Profit_ratio': 0.32777267265144555, 'price_to_sales': 7.368963214815862, 'Market_Capit': 104248722600}, 'NOW': {'revenue': 3460437000, 'Gross_Profit_ratio': 0.769784856652498, 'price_to_sales': 30.433411245458306, 'Market_Capit': 105312902310}, 'INTU': {'revenue': 7679000000, 'Gross_Profit_ratio': 0.8205495507227504, 'price_to_sales': 12.594660763120197, 'Market_Capit': 96714400000}}\n"
     ]
    }
   ],
   "source": [
    "pricetosales = {}\n",
    "for item in technological_companies:\n",
    "    try:\n",
    "      #annual income statement since we need anual sales\n",
    "      IS = requests.get(f'https://fmpcloud.io/api/v3/income-statement/{item}?apikey={demo}')\n",
    "      IS = IS.json()\n",
    "      #print(IS)\n",
    "      Revenue = IS[0]['revenue']\n",
    "      grossprofitratip = IS[0]['grossProfitRatio']\n",
    "      #most recent market capitliazation\n",
    "      MarketCapit = requests.get(f'https://fmpcloud.io/api/v3/market-capitalization/{item}?apikey={demo}')\n",
    "      MarketCapit = MarketCapit.json()\n",
    "      MarketCapit = MarketCapit[0]['marketCap']\n",
    "\n",
    "      #Price to sales\n",
    "      p_to_sales = MarketCapit/Revenue\n",
    "\n",
    "      pricetosales[item] = {}\n",
    "      pricetosales[item]['revenue'] = Revenue\n",
    "      pricetosales[item]['Gross_Profit_ratio'] = grossprofitratip\n",
    "      pricetosales[item]['price_to_sales'] = p_to_sales\n",
    "      pricetosales[item]['Market_Capit'] = MarketCapit\n",
    "    except:\n",
    "      pass\n",
    "print(pricetosales)"
   ]
  },
  {
   "cell_type": "code",
   "execution_count": 29,
   "metadata": {},
   "outputs": [],
   "source": [
    "#Converting Japanese Yen (JPY) equals to US Dollar \n",
    "pricetosales[\"SNE\"][\"revenue\"]=pricetosales[\"SNE\"][\"revenue\"]/100"
   ]
  },
  {
   "cell_type": "code",
   "execution_count": 30,
   "metadata": {},
   "outputs": [
    {
     "data": {
      "text/plain": [
       "{'revenue': 86656870000.0,\n",
       " 'Gross_Profit_ratio': 0.2772418389909536,\n",
       " 'price_to_sales': 0.014981380796467724,\n",
       " 'Market_Capit': 129823956810}"
      ]
     },
     "execution_count": 30,
     "metadata": {},
     "output_type": "execute_result"
    }
   ],
   "source": [
    "pricetosales[\"SNE\"]"
   ]
  },
  {
   "cell_type": "code",
   "execution_count": 31,
   "metadata": {},
   "outputs": [],
   "source": [
    "#Converting New Taiwan dollar (twd) US Dollar\n",
    "pricetosales[\"TSM\"][\"revenue\"]=pricetosales[\"TSM\"][\"revenue\"]/28"
   ]
  },
  {
   "cell_type": "code",
   "execution_count": 32,
   "metadata": {},
   "outputs": [
    {
     "data": {
      "text/plain": [
       "{'revenue': 38213885714.28571,\n",
       " 'Gross_Profit_ratio': 0.46047388533412686,\n",
       " 'price_to_sales': 0.5778900129421916,\n",
       " 'Market_Capit': 618335841480}"
      ]
     },
     "execution_count": 32,
     "metadata": {},
     "output_type": "execute_result"
    }
   ],
   "source": [
    "pricetosales[\"TSM\"]"
   ]
  },
  {
   "cell_type": "code",
   "execution_count": 33,
   "metadata": {},
   "outputs": [],
   "source": [
    "#IS"
   ]
  },
  {
   "cell_type": "code",
   "execution_count": 34,
   "metadata": {
    "id": "e1BOZwfM-scA"
   },
   "outputs": [],
   "source": [
    "price_to_sales_df = pd.DataFrame.from_dict(pricetosales, orient='index')\n"
   ]
  },
  {
   "cell_type": "code",
   "execution_count": 35,
   "metadata": {
    "id": "0NL6QtJb-vZZ"
   },
   "outputs": [],
   "source": [
    "price_to_sales_df['ps_average_sector'] = price_to_sales_df['price_to_sales'].mean()\n",
    "price_to_sales_df['pscompany_vs_averagesector'] = price_to_sales_df['price_to_sales'] - price_to_sales_df['ps_average_sector']\n",
    "price_to_sales_df['price_as_per_average_industryPS'] = price_to_sales_df['ps_average_sector'] * price_to_sales_df['revenue']\n",
    "price_to_sales_df['price_difference'] = price_to_sales_df['price_as_per_average_industryPS'] - price_to_sales_df['Market_Capit']"
   ]
  },
  {
   "cell_type": "code",
   "execution_count": 36,
   "metadata": {
    "colab": {
     "base_uri": "https://localhost:8080/",
     "height": 782
    },
    "id": "A5qqvbyl-2Ra",
    "outputId": "4674c919-6a66-4dc5-9361-f2f0cab33411"
   },
   "outputs": [
    {
     "data": {
      "text/html": [
       "<div>\n",
       "<style scoped>\n",
       "    .dataframe tbody tr th:only-of-type {\n",
       "        vertical-align: middle;\n",
       "    }\n",
       "\n",
       "    .dataframe tbody tr th {\n",
       "        vertical-align: top;\n",
       "    }\n",
       "\n",
       "    .dataframe thead th {\n",
       "        text-align: right;\n",
       "    }\n",
       "</style>\n",
       "<table border=\"1\" class=\"dataframe\">\n",
       "  <thead>\n",
       "    <tr style=\"text-align: right;\">\n",
       "      <th></th>\n",
       "      <th>revenue</th>\n",
       "      <th>Gross_Profit_ratio</th>\n",
       "      <th>price_to_sales</th>\n",
       "      <th>Market_Capit</th>\n",
       "      <th>ps_average_sector</th>\n",
       "      <th>pscompany_vs_averagesector</th>\n",
       "      <th>price_as_per_average_industryPS</th>\n",
       "      <th>price_difference</th>\n",
       "    </tr>\n",
       "  </thead>\n",
       "  <tbody>\n",
       "    <tr>\n",
       "      <th>AAPL</th>\n",
       "      <td>2.745150e+11</td>\n",
       "      <td>0.382332</td>\n",
       "      <td>8.227988</td>\n",
       "      <td>2.258706e+12</td>\n",
       "      <td>14.541941</td>\n",
       "      <td>-6.313954</td>\n",
       "      <td>3.991981e+12</td>\n",
       "      <td>1.733275e+12</td>\n",
       "    </tr>\n",
       "    <tr>\n",
       "      <th>MSFT</th>\n",
       "      <td>1.430150e+11</td>\n",
       "      <td>0.677810</td>\n",
       "      <td>11.552554</td>\n",
       "      <td>1.652189e+12</td>\n",
       "      <td>14.541941</td>\n",
       "      <td>-2.989387</td>\n",
       "      <td>2.079716e+12</td>\n",
       "      <td>4.275272e+11</td>\n",
       "    </tr>\n",
       "    <tr>\n",
       "      <th>TSM</th>\n",
       "      <td>3.821389e+10</td>\n",
       "      <td>0.460474</td>\n",
       "      <td>0.577890</td>\n",
       "      <td>6.183358e+11</td>\n",
       "      <td>14.541941</td>\n",
       "      <td>-13.964051</td>\n",
       "      <td>5.557041e+11</td>\n",
       "      <td>-6.263176e+10</td>\n",
       "    </tr>\n",
       "    <tr>\n",
       "      <th>NVDA</th>\n",
       "      <td>1.091800e+10</td>\n",
       "      <td>0.619894</td>\n",
       "      <td>31.034532</td>\n",
       "      <td>3.388350e+11</td>\n",
       "      <td>14.541941</td>\n",
       "      <td>16.492591</td>\n",
       "      <td>1.587689e+11</td>\n",
       "      <td>-1.800661e+11</td>\n",
       "    </tr>\n",
       "    <tr>\n",
       "      <th>INTC</th>\n",
       "      <td>7.196500e+10</td>\n",
       "      <td>0.585562</td>\n",
       "      <td>3.378303</td>\n",
       "      <td>2.431196e+11</td>\n",
       "      <td>14.541941</td>\n",
       "      <td>-11.163639</td>\n",
       "      <td>1.046511e+12</td>\n",
       "      <td>8.033913e+11</td>\n",
       "    </tr>\n",
       "    <tr>\n",
       "      <th>ADBE</th>\n",
       "      <td>1.117130e+10</td>\n",
       "      <td>0.850266</td>\n",
       "      <td>20.493972</td>\n",
       "      <td>2.289442e+11</td>\n",
       "      <td>14.541941</td>\n",
       "      <td>5.952031</td>\n",
       "      <td>1.624523e+11</td>\n",
       "      <td>-6.649191e+10</td>\n",
       "    </tr>\n",
       "    <tr>\n",
       "      <th>CRM</th>\n",
       "      <td>1.709800e+10</td>\n",
       "      <td>0.752310</td>\n",
       "      <td>11.982163</td>\n",
       "      <td>2.048710e+11</td>\n",
       "      <td>14.541941</td>\n",
       "      <td>-2.559778</td>\n",
       "      <td>2.486381e+11</td>\n",
       "      <td>4.376709e+10</td>\n",
       "    </tr>\n",
       "    <tr>\n",
       "      <th>CSCO</th>\n",
       "      <td>4.930100e+10</td>\n",
       "      <td>0.642644</td>\n",
       "      <td>3.902905</td>\n",
       "      <td>1.924171e+11</td>\n",
       "      <td>14.541941</td>\n",
       "      <td>-10.639036</td>\n",
       "      <td>7.169322e+11</td>\n",
       "      <td>5.245151e+11</td>\n",
       "    </tr>\n",
       "    <tr>\n",
       "      <th>ASML.AS</th>\n",
       "      <td>1.182000e+10</td>\n",
       "      <td>0.446684</td>\n",
       "      <td>14.982322</td>\n",
       "      <td>1.770910e+11</td>\n",
       "      <td>14.541941</td>\n",
       "      <td>0.440381</td>\n",
       "      <td>1.718857e+11</td>\n",
       "      <td>-5.205299e+09</td>\n",
       "    </tr>\n",
       "    <tr>\n",
       "      <th>AVGO</th>\n",
       "      <td>2.388800e+10</td>\n",
       "      <td>0.565807</td>\n",
       "      <td>7.970974</td>\n",
       "      <td>1.904106e+11</td>\n",
       "      <td>14.541941</td>\n",
       "      <td>-6.570968</td>\n",
       "      <td>3.473779e+11</td>\n",
       "      <td>1.569673e+11</td>\n",
       "    </tr>\n",
       "    <tr>\n",
       "      <th>QCOM</th>\n",
       "      <td>2.353100e+10</td>\n",
       "      <td>0.606689</td>\n",
       "      <td>7.619794</td>\n",
       "      <td>1.793014e+11</td>\n",
       "      <td>14.541941</td>\n",
       "      <td>-6.922147</td>\n",
       "      <td>3.421864e+11</td>\n",
       "      <td>1.628850e+11</td>\n",
       "    </tr>\n",
       "    <tr>\n",
       "      <th>ORCL</th>\n",
       "      <td>3.906800e+10</td>\n",
       "      <td>0.796816</td>\n",
       "      <td>4.935508</td>\n",
       "      <td>1.928204e+11</td>\n",
       "      <td>14.541941</td>\n",
       "      <td>-9.606433</td>\n",
       "      <td>5.681246e+11</td>\n",
       "      <td>3.753041e+11</td>\n",
       "    </tr>\n",
       "    <tr>\n",
       "      <th>ACN</th>\n",
       "      <td>4.432704e+10</td>\n",
       "      <td>0.315296</td>\n",
       "      <td>3.757384</td>\n",
       "      <td>1.665537e+11</td>\n",
       "      <td>14.541941</td>\n",
       "      <td>-10.784557</td>\n",
       "      <td>6.446012e+11</td>\n",
       "      <td>4.780475e+11</td>\n",
       "    </tr>\n",
       "    <tr>\n",
       "      <th>TXN</th>\n",
       "      <td>1.438300e+10</td>\n",
       "      <td>0.637141</td>\n",
       "      <td>11.071396</td>\n",
       "      <td>1.592399e+11</td>\n",
       "      <td>14.541941</td>\n",
       "      <td>-3.470545</td>\n",
       "      <td>2.091567e+11</td>\n",
       "      <td>4.991685e+10</td>\n",
       "    </tr>\n",
       "    <tr>\n",
       "      <th>SAP</th>\n",
       "      <td>2.755300e+10</td>\n",
       "      <td>0.696803</td>\n",
       "      <td>5.484368</td>\n",
       "      <td>1.511108e+11</td>\n",
       "      <td>14.541941</td>\n",
       "      <td>-9.057573</td>\n",
       "      <td>4.006741e+11</td>\n",
       "      <td>2.495633e+11</td>\n",
       "    </tr>\n",
       "    <tr>\n",
       "      <th>SHOP</th>\n",
       "      <td>1.578173e+09</td>\n",
       "      <td>0.548510</td>\n",
       "      <td>94.962625</td>\n",
       "      <td>1.498675e+11</td>\n",
       "      <td>14.541941</td>\n",
       "      <td>80.420684</td>\n",
       "      <td>2.294970e+10</td>\n",
       "      <td>-1.269178e+11</td>\n",
       "    </tr>\n",
       "    <tr>\n",
       "      <th>SNE</th>\n",
       "      <td>8.665687e+10</td>\n",
       "      <td>0.277242</td>\n",
       "      <td>0.014981</td>\n",
       "      <td>1.298240e+11</td>\n",
       "      <td>14.541941</td>\n",
       "      <td>-14.526960</td>\n",
       "      <td>1.260159e+12</td>\n",
       "      <td>1.130335e+12</td>\n",
       "    </tr>\n",
       "    <tr>\n",
       "      <th>IBM</th>\n",
       "      <td>7.714700e+10</td>\n",
       "      <td>0.472967</td>\n",
       "      <td>1.476212</td>\n",
       "      <td>1.138853e+11</td>\n",
       "      <td>14.541941</td>\n",
       "      <td>-13.065729</td>\n",
       "      <td>1.121867e+12</td>\n",
       "      <td>1.007982e+12</td>\n",
       "    </tr>\n",
       "    <tr>\n",
       "      <th>AMD</th>\n",
       "      <td>6.731000e+09</td>\n",
       "      <td>0.426088</td>\n",
       "      <td>16.730658</td>\n",
       "      <td>1.126141e+11</td>\n",
       "      <td>14.541941</td>\n",
       "      <td>2.188717</td>\n",
       "      <td>9.788181e+10</td>\n",
       "      <td>-1.473225e+10</td>\n",
       "    </tr>\n",
       "    <tr>\n",
       "      <th>SQ</th>\n",
       "      <td>4.713500e+09</td>\n",
       "      <td>0.400909</td>\n",
       "      <td>23.911084</td>\n",
       "      <td>1.127049e+11</td>\n",
       "      <td>14.541941</td>\n",
       "      <td>9.369143</td>\n",
       "      <td>6.854344e+10</td>\n",
       "      <td>-4.416145e+10</td>\n",
       "    </tr>\n",
       "    <tr>\n",
       "      <th>UBER</th>\n",
       "      <td>1.414700e+10</td>\n",
       "      <td>0.327773</td>\n",
       "      <td>7.368963</td>\n",
       "      <td>1.042487e+11</td>\n",
       "      <td>14.541941</td>\n",
       "      <td>-7.172978</td>\n",
       "      <td>2.057248e+11</td>\n",
       "      <td>1.014761e+11</td>\n",
       "    </tr>\n",
       "    <tr>\n",
       "      <th>NOW</th>\n",
       "      <td>3.460437e+09</td>\n",
       "      <td>0.769785</td>\n",
       "      <td>30.433411</td>\n",
       "      <td>1.053129e+11</td>\n",
       "      <td>14.541941</td>\n",
       "      <td>15.891470</td>\n",
       "      <td>5.032147e+10</td>\n",
       "      <td>-5.499143e+10</td>\n",
       "    </tr>\n",
       "    <tr>\n",
       "      <th>INTU</th>\n",
       "      <td>7.679000e+09</td>\n",
       "      <td>0.820550</td>\n",
       "      <td>12.594661</td>\n",
       "      <td>9.671440e+10</td>\n",
       "      <td>14.541941</td>\n",
       "      <td>-1.947281</td>\n",
       "      <td>1.116676e+11</td>\n",
       "      <td>1.495317e+10</td>\n",
       "    </tr>\n",
       "  </tbody>\n",
       "</table>\n",
       "</div>"
      ],
      "text/plain": [
       "              revenue  Gross_Profit_ratio  price_to_sales  Market_Capit  \\\n",
       "AAPL     2.745150e+11            0.382332        8.227988  2.258706e+12   \n",
       "MSFT     1.430150e+11            0.677810       11.552554  1.652189e+12   \n",
       "TSM      3.821389e+10            0.460474        0.577890  6.183358e+11   \n",
       "NVDA     1.091800e+10            0.619894       31.034532  3.388350e+11   \n",
       "INTC     7.196500e+10            0.585562        3.378303  2.431196e+11   \n",
       "ADBE     1.117130e+10            0.850266       20.493972  2.289442e+11   \n",
       "CRM      1.709800e+10            0.752310       11.982163  2.048710e+11   \n",
       "CSCO     4.930100e+10            0.642644        3.902905  1.924171e+11   \n",
       "ASML.AS  1.182000e+10            0.446684       14.982322  1.770910e+11   \n",
       "AVGO     2.388800e+10            0.565807        7.970974  1.904106e+11   \n",
       "QCOM     2.353100e+10            0.606689        7.619794  1.793014e+11   \n",
       "ORCL     3.906800e+10            0.796816        4.935508  1.928204e+11   \n",
       "ACN      4.432704e+10            0.315296        3.757384  1.665537e+11   \n",
       "TXN      1.438300e+10            0.637141       11.071396  1.592399e+11   \n",
       "SAP      2.755300e+10            0.696803        5.484368  1.511108e+11   \n",
       "SHOP     1.578173e+09            0.548510       94.962625  1.498675e+11   \n",
       "SNE      8.665687e+10            0.277242        0.014981  1.298240e+11   \n",
       "IBM      7.714700e+10            0.472967        1.476212  1.138853e+11   \n",
       "AMD      6.731000e+09            0.426088       16.730658  1.126141e+11   \n",
       "SQ       4.713500e+09            0.400909       23.911084  1.127049e+11   \n",
       "UBER     1.414700e+10            0.327773        7.368963  1.042487e+11   \n",
       "NOW      3.460437e+09            0.769785       30.433411  1.053129e+11   \n",
       "INTU     7.679000e+09            0.820550       12.594661  9.671440e+10   \n",
       "\n",
       "         ps_average_sector  pscompany_vs_averagesector  \\\n",
       "AAPL             14.541941                   -6.313954   \n",
       "MSFT             14.541941                   -2.989387   \n",
       "TSM              14.541941                  -13.964051   \n",
       "NVDA             14.541941                   16.492591   \n",
       "INTC             14.541941                  -11.163639   \n",
       "ADBE             14.541941                    5.952031   \n",
       "CRM              14.541941                   -2.559778   \n",
       "CSCO             14.541941                  -10.639036   \n",
       "ASML.AS          14.541941                    0.440381   \n",
       "AVGO             14.541941                   -6.570968   \n",
       "QCOM             14.541941                   -6.922147   \n",
       "ORCL             14.541941                   -9.606433   \n",
       "ACN              14.541941                  -10.784557   \n",
       "TXN              14.541941                   -3.470545   \n",
       "SAP              14.541941                   -9.057573   \n",
       "SHOP             14.541941                   80.420684   \n",
       "SNE              14.541941                  -14.526960   \n",
       "IBM              14.541941                  -13.065729   \n",
       "AMD              14.541941                    2.188717   \n",
       "SQ               14.541941                    9.369143   \n",
       "UBER             14.541941                   -7.172978   \n",
       "NOW              14.541941                   15.891470   \n",
       "INTU             14.541941                   -1.947281   \n",
       "\n",
       "         price_as_per_average_industryPS  price_difference  \n",
       "AAPL                        3.991981e+12      1.733275e+12  \n",
       "MSFT                        2.079716e+12      4.275272e+11  \n",
       "TSM                         5.557041e+11     -6.263176e+10  \n",
       "NVDA                        1.587689e+11     -1.800661e+11  \n",
       "INTC                        1.046511e+12      8.033913e+11  \n",
       "ADBE                        1.624523e+11     -6.649191e+10  \n",
       "CRM                         2.486381e+11      4.376709e+10  \n",
       "CSCO                        7.169322e+11      5.245151e+11  \n",
       "ASML.AS                     1.718857e+11     -5.205299e+09  \n",
       "AVGO                        3.473779e+11      1.569673e+11  \n",
       "QCOM                        3.421864e+11      1.628850e+11  \n",
       "ORCL                        5.681246e+11      3.753041e+11  \n",
       "ACN                         6.446012e+11      4.780475e+11  \n",
       "TXN                         2.091567e+11      4.991685e+10  \n",
       "SAP                         4.006741e+11      2.495633e+11  \n",
       "SHOP                        2.294970e+10     -1.269178e+11  \n",
       "SNE                         1.260159e+12      1.130335e+12  \n",
       "IBM                         1.121867e+12      1.007982e+12  \n",
       "AMD                         9.788181e+10     -1.473225e+10  \n",
       "SQ                          6.854344e+10     -4.416145e+10  \n",
       "UBER                        2.057248e+11      1.014761e+11  \n",
       "NOW                         5.032147e+10     -5.499143e+10  \n",
       "INTU                        1.116676e+11      1.495317e+10  "
      ]
     },
     "execution_count": 36,
     "metadata": {},
     "output_type": "execute_result"
    }
   ],
   "source": [
    "price_to_sales_df"
   ]
  },
  {
   "cell_type": "code",
   "execution_count": 37,
   "metadata": {},
   "outputs": [
    {
     "data": {
      "text/plain": [
       "<AxesSubplot:>"
      ]
     },
     "execution_count": 37,
     "metadata": {},
     "output_type": "execute_result"
    },
    {
     "data": {
      "image/png": "[encoded data removed]",
      "text/plain": [
       "<Figure size 432x288 with 1 Axes>"
      ]
     },
     "metadata": {
      "needs_background": "light"
     },
     "output_type": "display_data"
    }
   ],
   "source": [
    "price_to_sales_df.revenue.plot(rot=45, xticks=[0, 1, 2, 3, 4, 5, 6, 7, 8, 9, 10, 11, 12, 13, 14, 15, 16, 17, 18, 19, 20, 21, 22,])\n",
    "\n",
    "\n",
    "#Do do if we want plot\n",
    "\n",
    "##Made a list of number like this:\n",
    "#loc = [0, 1, 2, 3, 4, 5, 6, 7, 8, 9, 10, 11, 12, 13, 14, 15, 16, 17, 18, 19, 20, 21, 22,]\n",
    "\n",
    "#and then put that into the plot,\n",
    "#price_to_sales_df.revenue.plot(rot=45, xticks=loc)"
   ]
  },
  {
   "cell_type": "code",
   "execution_count": 38,
   "metadata": {},
   "outputs": [
    {
     "data": {
      "text/plain": [
       "['AAPL',\n",
       " 'MSFT',\n",
       " 'TSM',\n",
       " 'NVDA',\n",
       " 'INTC',\n",
       " 'ADBE',\n",
       " 'CRM',\n",
       " 'CSCO',\n",
       " 'ASML.AS',\n",
       " 'AVGO',\n",
       " 'QCOM',\n",
       " 'ORCL',\n",
       " 'ACN',\n",
       " 'TXN',\n",
       " 'SAP',\n",
       " 'SHOP',\n",
       " 'SNE',\n",
       " 'IBM',\n",
       " 'AMD',\n",
       " 'SQ',\n",
       " 'UBER',\n",
       " 'NOW',\n",
       " 'INTU']"
      ]
     },
     "execution_count": 38,
     "metadata": {},
     "output_type": "execute_result"
    }
   ],
   "source": [
    "price_to_sales_df.index.tolist()"
   ]
  }
 ],
 "metadata": {
  "colab": {
   "name": "Company_valuation.ipynb",
   "provenance": []
  },
  "kernelspec": {
   "display_name": "Python [conda env:pyvizenv] *",
   "language": "python",
   "name": "conda-env-pyvizenv-py"
  },
  "language_info": {
   "codemirror_mode": {
    "name": "ipython",
    "version": 3
   },
   "file_extension": ".py",
   "mimetype": "text/x-python",
   "name": "python",
   "nbconvert_exporter": "python",
   "pygments_lexer": "ipython3",
   "version": "3.8.5"
  }
 },
 "nbformat": 4,
 "nbformat_minor": 4
}
