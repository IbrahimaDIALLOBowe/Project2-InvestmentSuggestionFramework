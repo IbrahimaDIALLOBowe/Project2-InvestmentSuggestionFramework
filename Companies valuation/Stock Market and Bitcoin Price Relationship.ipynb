{
 "cells": [
  {
   "cell_type": "code",
   "execution_count": 21,
   "metadata": {},
   "outputs": [
    {
     "name": "stdout",
     "output_type": "stream",
     "text": [
      "              sp500\n",
      "DATE               \n",
      "2011-01-18  1295.02\n",
      "2011-01-19  1281.92\n",
      "2011-01-20  1280.26\n",
      "2011-01-21  1283.35\n",
      "2011-01-24  1290.84\n",
      "...             ...\n",
      "2020-02-04  3297.59\n",
      "2020-02-05  3334.69\n",
      "2020-02-06  3345.78\n",
      "2020-02-07  3327.71\n",
      "2020-02-10  3352.09\n",
      "\n",
      "[2365 rows x 1 columns]\n"
     ]
    }
   ],
   "source": [
    "import pandas_datareader.data as web\n",
    "import datetime\n",
    "\n",
    "#pd.core.common.is_list_like = pd.api.types.is_list_like\n",
    "\n",
    "start = datetime.datetime(2010, 1, 1)\n",
    "end = datetime.datetime(2020, 2, 10)\n",
    "\n",
    "SP500 = web.DataReader(['sp500'], 'fred', start, end)\n",
    "print(SP500)"
   ]
  },
  {
   "cell_type": "code",
   "execution_count": 22,
   "metadata": {},
   "outputs": [],
   "source": [
    "import requests\n",
    "\n",
    "#BTCUSD contains a dictionary\n",
    "demo = 'bc9e7aacc595f1ec44ac3d9a653b66a8'\n",
    "BTCUSD = requests.get(f'https://financialmodelingprep.com/api/v3/historical-price-full/crypto/BTCUSD?apikey={demo}')\n",
    "\n",
    "BTCUSD = BTCUSD.json()\n",
    "BTCUSD = BTCUSD['historical']"
   ]
  },
  {
   "cell_type": "code",
   "execution_count": 23,
   "metadata": {},
   "outputs": [],
   "source": [
    "#BTCUSD"
   ]
  },
  {
   "cell_type": "code",
   "execution_count": 24,
   "metadata": {},
   "outputs": [
    {
     "data": {
      "text/html": [
       "<div>\n",
       "<style scoped>\n",
       "    .dataframe tbody tr th:only-of-type {\n",
       "        vertical-align: middle;\n",
       "    }\n",
       "\n",
       "    .dataframe tbody tr th {\n",
       "        vertical-align: top;\n",
       "    }\n",
       "\n",
       "    .dataframe thead th {\n",
       "        text-align: right;\n",
       "    }\n",
       "</style>\n",
       "<table border=\"1\" class=\"dataframe\">\n",
       "  <thead>\n",
       "    <tr style=\"text-align: right;\">\n",
       "      <th></th>\n",
       "      <th>BTC</th>\n",
       "    </tr>\n",
       "    <tr>\n",
       "      <th>date</th>\n",
       "      <th></th>\n",
       "    </tr>\n",
       "  </thead>\n",
       "  <tbody>\n",
       "    <tr>\n",
       "      <th>2021-01-16</th>\n",
       "      <td>36572.937500</td>\n",
       "    </tr>\n",
       "    <tr>\n",
       "      <th>2021-01-15</th>\n",
       "      <td>36825.367188</td>\n",
       "    </tr>\n",
       "    <tr>\n",
       "      <th>2021-01-14</th>\n",
       "      <td>39187.328125</td>\n",
       "    </tr>\n",
       "    <tr>\n",
       "      <th>2021-01-13</th>\n",
       "      <td>37316.359375</td>\n",
       "    </tr>\n",
       "    <tr>\n",
       "      <th>2021-01-12</th>\n",
       "      <td>33922.960938</td>\n",
       "    </tr>\n",
       "    <tr>\n",
       "      <th>...</th>\n",
       "      <td>...</td>\n",
       "    </tr>\n",
       "    <tr>\n",
       "      <th>2016-01-20</th>\n",
       "      <td>420.230011</td>\n",
       "    </tr>\n",
       "    <tr>\n",
       "      <th>2016-01-19</th>\n",
       "      <td>380.148987</td>\n",
       "    </tr>\n",
       "    <tr>\n",
       "      <th>2016-01-18</th>\n",
       "      <td>387.167999</td>\n",
       "    </tr>\n",
       "    <tr>\n",
       "      <th>2016-01-17</th>\n",
       "      <td>382.299011</td>\n",
       "    </tr>\n",
       "    <tr>\n",
       "      <th>2016-01-16</th>\n",
       "      <td>387.536011</td>\n",
       "    </tr>\n",
       "  </tbody>\n",
       "</table>\n",
       "<p>1828 rows × 1 columns</p>\n",
       "</div>"
      ],
      "text/plain": [
       "                     BTC\n",
       "date                    \n",
       "2021-01-16  36572.937500\n",
       "2021-01-15  36825.367188\n",
       "2021-01-14  39187.328125\n",
       "2021-01-13  37316.359375\n",
       "2021-01-12  33922.960938\n",
       "...                  ...\n",
       "2016-01-20    420.230011\n",
       "2016-01-19    380.148987\n",
       "2016-01-18    387.167999\n",
       "2016-01-17    382.299011\n",
       "2016-01-16    387.536011\n",
       "\n",
       "[1828 rows x 1 columns]"
      ]
     },
     "execution_count": 24,
     "metadata": {},
     "output_type": "execute_result"
    }
   ],
   "source": [
    "import pandas as pd\n",
    "\n",
    "BTC = pd.DataFrame.from_dict(BTCUSD)\n",
    "BTC.set_index('date',inplace=True)\n",
    "#Keep only the close column\n",
    "BTC = BTC[['close']]\n",
    "#Rename the column name to BTC\n",
    "BTC.columns = ['BTC']\n",
    "BTC"
   ]
  },
  {
   "cell_type": "code",
   "execution_count": 25,
   "metadata": {},
   "outputs": [
    {
     "name": "stdout",
     "output_type": "stream",
     "text": [
      "                    BTC    sp500\n",
      "2016-01-19   380.148987  1881.33\n",
      "2016-01-20   420.230011  1859.33\n",
      "2016-01-21   410.261993  1868.99\n",
      "2016-01-22   382.492004  1906.90\n",
      "2016-01-25   391.726013  1877.08\n",
      "...                 ...      ...\n",
      "2020-02-04  9180.962891  3297.59\n",
      "2020-02-05  9613.423828  3334.69\n",
      "2020-02-06  9729.801758  3345.78\n",
      "2020-02-07  9795.943359  3327.71\n",
      "2020-02-10  9856.611328  3352.09\n",
      "\n",
      "[1023 rows x 2 columns]\n"
     ]
    }
   ],
   "source": [
    "SP500BTC = BTC.merge(SP500, how='inner',right_index = True, left_index=True)\n",
    "\n",
    "#Drop NA since we have nan values for weekends. S&P500 only trades business days\n",
    "SP500BTC.dropna(inplace=True)\n",
    "\n",
    "print(SP500BTC)"
   ]
  },
  {
   "cell_type": "code",
   "execution_count": 26,
   "metadata": {},
   "outputs": [
    {
     "name": "stdout",
     "output_type": "stream",
     "text": [
      "            BTC     sp500\n",
      "BTC    1.000000  0.786298\n",
      "sp500  0.786298  1.000000\n"
     ]
    }
   ],
   "source": [
    "correlation = SP500BTC.corr()\n",
    "print(correlation)"
   ]
  },
  {
   "cell_type": "markdown",
   "metadata": {},
   "source": [
    "By looking into our results, we see that we have a strong and positive correlation of 0.78 between the price of Bitcoin and S&P 500"
   ]
  },
  {
   "cell_type": "code",
   "execution_count": 28,
   "metadata": {},
   "outputs": [
    {
     "data": {
      "image/png": "[encoded data removed]",
      "text/plain": [
       "<Figure size 432x288 with 2 Axes>"
      ]
     },
     "metadata": {
      "needs_background": "light"
     },
     "output_type": "display_data"
    }
   ],
   "source": [
    "import statsmodels.api as sm\n",
    "import matplotlib.pyplot as plt\n",
    "\n",
    "sm.graphics.plot_corr(correlation,xnames=list(correlation.columns))\n",
    "plt.show()"
   ]
  },
  {
   "cell_type": "markdown",
   "metadata": {},
   "source": [
    "Correlation Matrix Bitcoin and S&P 500\n",
    "\n",
    "The red colour of the graph means that the relationship is strong and positive"
   ]
  },
  {
   "cell_type": "code",
   "execution_count": 33,
   "metadata": {},
   "outputs": [
    {
     "name": "stdout",
     "output_type": "stream",
     "text": [
      "            BTC     sp500\n",
      "BTC    1.000000  0.505376\n",
      "sp500  0.505376  1.000000\n"
     ]
    }
   ],
   "source": [
    "SP500BTC_2020 = SP500BTC.loc[\"01-2020\":\"06-2020\"]\n",
    "correlation = SP500BTC_2020.corr()\n",
    "print(correlation)"
   ]
  },
  {
   "cell_type": "code",
   "execution_count": null,
   "metadata": {},
   "outputs": [],
   "source": []
  },
  {
   "cell_type": "code",
   "execution_count": 30,
   "metadata": {},
   "outputs": [
    {
     "name": "stdout",
     "output_type": "stream",
     "text": [
      "                    BTC    sp500\n",
      "2020-01-02  6985.470215  3257.85\n",
      "2020-01-03  7344.884277  3234.85\n",
      "2020-01-06  7769.219238  3246.28\n",
      "2020-01-07  8163.692383  3237.18\n",
      "2020-01-08  8079.862793  3253.05\n",
      "2020-01-09  7879.071289  3274.70\n",
      "2020-01-10  8166.554199  3265.35\n",
      "2020-01-13  8144.194336  3288.13\n",
      "2020-01-14  8827.764648  3283.15\n",
      "2020-01-15  8807.010742  3289.29\n",
      "2020-01-16  8723.786133  3316.81\n",
      "2020-01-17  8929.038086  3329.62\n",
      "2020-01-21  8745.894531  3320.79\n",
      "2020-01-22  8680.875977  3321.75\n",
      "2020-01-23  8406.515625  3325.54\n",
      "2020-01-24  8445.434570  3295.47\n",
      "2020-01-27  8909.819336  3243.63\n",
      "2020-01-28  9358.589844  3276.24\n",
      "2020-01-29  9316.629883  3273.40\n",
      "2020-01-30  9508.993164  3283.66\n",
      "2020-01-31  9350.529297  3225.52\n",
      "2020-02-03  9293.521484  3248.92\n",
      "2020-02-04  9180.962891  3297.59\n",
      "2020-02-05  9613.423828  3334.69\n",
      "2020-02-06  9729.801758  3345.78\n",
      "2020-02-07  9795.943359  3327.71\n",
      "2020-02-10  9856.611328  3352.09\n"
     ]
    }
   ],
   "source": [
    "print(SP500BTC_2020)"
   ]
  },
  {
   "cell_type": "code",
   "execution_count": null,
   "metadata": {},
   "outputs": [],
   "source": []
  }
 ],
 "metadata": {
  "kernelspec": {
   "display_name": "Python [conda env:pyvizenv] *",
   "language": "python",
   "name": "conda-env-pyvizenv-py"
  },
  "language_info": {
   "codemirror_mode": {
    "name": "ipython",
    "version": 3
   },
   "file_extension": ".py",
   "mimetype": "text/x-python",
   "name": "python",
   "nbconvert_exporter": "python",
   "pygments_lexer": "ipython3",
   "version": "3.8.5"
  }
 },
 "nbformat": 4,
 "nbformat_minor": 4
}
