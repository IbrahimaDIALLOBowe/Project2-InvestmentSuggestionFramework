{
 "cells": [
  {
   "cell_type": "markdown",
   "id": "atmospheric-teacher",
   "metadata": {},
   "source": [
    "# Calculating Cost of Equity \n",
    "\n",
    "## Is the Dividend Discount Model a Good Approach to Calculate Cost of Equity?"
   ]
  },
  {
   "cell_type": "code",
   "execution_count": 1,
   "id": "spatial-delight",
   "metadata": {},
   "outputs": [
    {
     "name": "stdout",
     "output_type": "stream",
     "text": [
      "0.25708437162926895\n"
     ]
    }
   ],
   "source": [
    "import pandas as pd\n",
    "import requests\n",
    "\n",
    "demo = 'ad8b4c1b2449b65c51bf2661a03a737e'\n",
    "\n",
    "def cost_of_equity(stock):\n",
    "    IS = requests.get(f'https://financialmodelingprep.com/api/v3/financials/income-statement/{stock}?apikey={demo}')\n",
    "    IS = IS.json()\n",
    "    dividend = IS['financials']\n",
    "    Dtoday = float(dividend[0]['Dividend per Share'])\n",
    "\n",
    "\n",
    "    #get dividend growht from previous 3 year dividends\n",
    "    Div_2y = float(IS['financials'][1]['Dividend per Share'])\n",
    "    Div_3y = float(IS['financials'][2]['Dividend per Share'])\n",
    "    Div_4y = float(IS['financials'][3]['Dividend per Share'])\n",
    "    dividend_growth = ( Div_2y - Div_4y)/Div_4y\n",
    "\n",
    "    #price of the stock\n",
    "    ccompany_info = requests.get(f\"https://financialmodelingprep.com/api/v3/company/profile/{stock}?apikey={demo}\")\n",
    "    ccompany_info = ccompany_info.json()\n",
    "    price =  float(ccompany_info['profile']['price'])\n",
    "\n",
    "    #calculate cost of equity\n",
    "    ke = (Dtoday*(1+dividend_growth)/price) + dividend_growth\n",
    "\n",
    "    print(ke)\n",
    "\n",
    "cost_of_equity('AAPL')"
   ]
  },
  {
   "cell_type": "code",
   "execution_count": 2,
   "id": "artistic-broadway",
   "metadata": {},
   "outputs": [
    {
     "ename": "IndentationError",
     "evalue": "unexpected indent (<ipython-input-2-e0f110a7c1c4>, line 2)",
     "output_type": "error",
     "traceback": [
      "\u001b[1;36m  File \u001b[1;32m\"<ipython-input-2-e0f110a7c1c4>\"\u001b[1;36m, line \u001b[1;32m2\u001b[0m\n\u001b[1;33m    dividend_growth = dividend_growth / 2\u001b[0m\n\u001b[1;37m    ^\u001b[0m\n\u001b[1;31mIndentationError\u001b[0m\u001b[1;31m:\u001b[0m unexpected indent\n"
     ]
    }
   ],
   "source": [
    " #what if we reduce the dividend growth\n",
    "    dividend_growth = dividend_growth / 2\n",
    "\n",
    "    ke_lower_growth = (Dtoday*(1+dividend_growth)/price) + dividend_growth\n",
    "    print(ke_lower_growth)"
   ]
  },
  {
   "cell_type": "code",
   "execution_count": null,
   "id": "administrative-lancaster",
   "metadata": {},
   "outputs": [],
   "source": []
  },
  {
   "cell_type": "code",
   "execution_count": null,
   "id": "outstanding-tourist",
   "metadata": {},
   "outputs": [],
   "source": []
  }
 ],
 "metadata": {
  "kernelspec": {
   "display_name": "Python [conda env:pyvizenv] *",
   "language": "python",
   "name": "conda-env-pyvizenv-py"
  },
  "language_info": {
   "codemirror_mode": {
    "name": "ipython",
    "version": 3
   },
   "file_extension": ".py",
   "mimetype": "text/x-python",
   "name": "python",
   "nbconvert_exporter": "python",
   "pygments_lexer": "ipython3",
   "version": "3.8.5"
  }
 },
 "nbformat": 4,
 "nbformat_minor": 5
}
