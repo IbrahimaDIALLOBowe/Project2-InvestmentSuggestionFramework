{
 "cells": [
  {
   "cell_type": "markdown",
   "metadata": {},
   "source": [
    "# This program optimizes a stock portfolio automatically"
   ]
  },
  {
   "cell_type": "code",
   "execution_count": 1,
   "metadata": {},
   "outputs": [],
   "source": [
    "# Import the python libraries \n",
    "import pandas as pd\n",
    "import numpy as np\n",
    "import requests\n",
    "import math\n",
    "import pandas_datareader as web\n",
    "from sklearn.preprocessing import MinMaxScaler\n",
    "from keras.models import Sequential\n",
    "from keras.layers import Dense, LSTM\n",
    "import matplotlib.pyplot as plt\n",
    "plt.style.use('fivethirtyeight')\n",
    "from sklearn.model_selection import train_test_split"
   ]
  },
  {
   "cell_type": "markdown",
   "metadata": {},
   "source": [
    "## Real State"
   ]
  },
  {
   "cell_type": "code",
   "execution_count": 2,
   "metadata": {},
   "outputs": [
    {
     "output_type": "execute_result",
     "data": {
      "text/plain": "Attributes NYSE_Adj_Close                                                \\\nSymbols               ARE         AMT       AIV         AVB         BXP   \nDate                                                                      \n2016-01-04      77.068512   87.649292  3.343637  152.965378  107.119522   \n2016-01-05      78.132286   89.380524  3.428810  156.486481  109.758713   \n2016-01-06      77.604713   89.063278  3.390018  155.318420  109.741447   \n2016-01-07      75.036072   86.842606  3.370622  154.607468  107.792252   \n2016-01-08      74.006874   85.410469  3.306533  151.865036  104.773590   \n...                   ...         ...       ...         ...         ...   \n2021-01-11     164.770004  214.919998  4.820000  157.380005   89.589996   \n2021-01-12     164.009995  214.910004  4.780000  157.380005   91.459999   \n2021-01-13     168.899994  216.460007  4.880000  159.190002   92.089996   \n2021-01-14     167.669998  214.990005  4.920000  160.490005   94.550003   \n2021-01-15     168.369995  219.889999  4.890000  164.000000   95.150002   \n\nAttributes                                                            ...  \\\nSymbols          CBRE         CCI         DLR        DRE        EQIX  ...   \nDate                                                                  ...   \n2016-01-04  34.090000   71.082344   63.949455  17.590481  268.626740  ...   \n2016-01-05  34.389999   72.539116   64.024963  17.826033  275.277191  ...   \n2016-01-06  32.910000   71.931442   64.620842  17.573656  280.466766  ...   \n2016-01-07  31.070000   70.141708   64.436203  17.077320  275.168304  ...   \n2016-01-08  30.719999   69.159416   64.654419  16.715590  281.065674  ...   \n...               ...         ...         ...        ...         ...  ...   \n2021-01-11  62.240002  153.059998  131.270004  38.340000  682.390015  ...   \n2021-01-12  63.040001  150.460007  131.509995  38.160000  676.530029  ...   \n2021-01-13  61.810001  152.690002  133.149994  38.639999  690.119995  ...   \n2021-01-14  62.259998  154.759995  133.449997  38.580002  689.669983  ...   \n2021-01-15  63.520000  157.250000  136.479996  38.900002  707.760010  ...   \n\nAttributes     Volume                                                          \\\nSymbols           PSA           O        REG       SBAC        UDR        VTR   \nDate                                                                            \n2016-01-04  1220900.0   2030700.0   553400.0  1191200.0  1655700.0  2820900.0   \n2016-01-05   776000.0   1944200.0   452700.0   906900.0  1052300.0  2014300.0   \n2016-01-06   589800.0   1769000.0   572200.0   504000.0  1234500.0  2960300.0   \n2016-01-07   633700.0   2146000.0   897900.0   725100.0  1973900.0  2580500.0   \n2016-01-08   600600.0   1581900.0   717100.0  1005000.0  2275100.0  3097700.0   \n...               ...         ...        ...        ...        ...        ...   \n2021-01-11   738900.0   2556000.0  1206400.0   961100.0  1485600.0  1513000.0   \n2021-01-12   690200.0  11817100.0   747700.0   691900.0  2524600.0  2159100.0   \n2021-01-13   785400.0   4278400.0  1310000.0   729700.0  1291600.0  1203100.0   \n2021-01-14   773100.0   2916500.0  1060400.0   531800.0  2074900.0  1017500.0   \n2021-01-15  1864200.0   3256500.0  1592000.0   538800.0  1972200.0  2581800.0   \n\nAttributes                                          \nSymbols           VNO       WELL         WY SPGSLG  \nDate                                                \n2016-01-04   838562.0  2434100.0  3556800.0    NaN  \n2016-01-05   706574.0  3346500.0  2722800.0    NaN  \n2016-01-06   964860.0  2591900.0  4843200.0    NaN  \n2016-01-07  1397563.0  4418400.0  4917400.0    NaN  \n2016-01-08   839428.0  2299100.0  5022600.0    NaN  \n...               ...        ...        ...    ...  \n2021-01-11  2061400.0  1748200.0  4554100.0    NaN  \n2021-01-12  1372200.0  2285700.0  3958200.0    NaN  \n2021-01-13  1360400.0  1596900.0  4096600.0    NaN  \n2021-01-14  2163100.0  1319700.0  3286800.0    NaN  \n2021-01-15  2547100.0  2649000.0  2511500.0    NaN  \n\n[1269 rows x 180 columns]",
      "text/html": "<div>\n<style scoped>\n    .dataframe tbody tr th:only-of-type {\n        vertical-align: middle;\n    }\n\n    .dataframe tbody tr th {\n        vertical-align: top;\n    }\n\n    .dataframe thead tr th {\n        text-align: left;\n    }\n\n    .dataframe thead tr:last-of-type th {\n        text-align: right;\n    }\n</style>\n<table border=\"1\" class=\"dataframe\">\n  <thead>\n    <tr>\n      <th>Attributes</th>\n      <th colspan=\"10\" halign=\"left\">NYSE_Adj_Close</th>\n      <th>...</th>\n      <th colspan=\"10\" halign=\"left\">Volume</th>\n    </tr>\n    <tr>\n      <th>Symbols</th>\n      <th>ARE</th>\n      <th>AMT</th>\n      <th>AIV</th>\n      <th>AVB</th>\n      <th>BXP</th>\n      <th>CBRE</th>\n      <th>CCI</th>\n      <th>DLR</th>\n      <th>DRE</th>\n      <th>EQIX</th>\n      <th>...</th>\n      <th>PSA</th>\n      <th>O</th>\n      <th>REG</th>\n      <th>SBAC</th>\n      <th>UDR</th>\n      <th>VTR</th>\n      <th>VNO</th>\n      <th>WELL</th>\n      <th>WY</th>\n      <th>SPGSLG</th>\n    </tr>\n    <tr>\n      <th>Date</th>\n      <th></th>\n      <th></th>\n      <th></th>\n      <th></th>\n      <th></th>\n      <th></th>\n      <th></th>\n      <th></th>\n      <th></th>\n      <th></th>\n      <th></th>\n      <th></th>\n      <th></th>\n      <th></th>\n      <th></th>\n      <th></th>\n      <th></th>\n      <th></th>\n      <th></th>\n      <th></th>\n      <th></th>\n    </tr>\n  </thead>\n  <tbody>\n    <tr>\n      <th>2016-01-04</th>\n      <td>77.068512</td>\n      <td>87.649292</td>\n      <td>3.343637</td>\n      <td>152.965378</td>\n      <td>107.119522</td>\n      <td>34.090000</td>\n      <td>71.082344</td>\n      <td>63.949455</td>\n      <td>17.590481</td>\n      <td>268.626740</td>\n      <td>...</td>\n      <td>1220900.0</td>\n      <td>2030700.0</td>\n      <td>553400.0</td>\n      <td>1191200.0</td>\n      <td>1655700.0</td>\n      <td>2820900.0</td>\n      <td>838562.0</td>\n      <td>2434100.0</td>\n      <td>3556800.0</td>\n      <td>NaN</td>\n    </tr>\n    <tr>\n      <th>2016-01-05</th>\n      <td>78.132286</td>\n      <td>89.380524</td>\n      <td>3.428810</td>\n      <td>156.486481</td>\n      <td>109.758713</td>\n      <td>34.389999</td>\n      <td>72.539116</td>\n      <td>64.024963</td>\n      <td>17.826033</td>\n      <td>275.277191</td>\n      <td>...</td>\n      <td>776000.0</td>\n      <td>1944200.0</td>\n      <td>452700.0</td>\n      <td>906900.0</td>\n      <td>1052300.0</td>\n      <td>2014300.0</td>\n      <td>706574.0</td>\n      <td>3346500.0</td>\n      <td>2722800.0</td>\n      <td>NaN</td>\n    </tr>\n    <tr>\n      <th>2016-01-06</th>\n      <td>77.604713</td>\n      <td>89.063278</td>\n      <td>3.390018</td>\n      <td>155.318420</td>\n      <td>109.741447</td>\n      <td>32.910000</td>\n      <td>71.931442</td>\n      <td>64.620842</td>\n      <td>17.573656</td>\n      <td>280.466766</td>\n      <td>...</td>\n      <td>589800.0</td>\n      <td>1769000.0</td>\n      <td>572200.0</td>\n      <td>504000.0</td>\n      <td>1234500.0</td>\n      <td>2960300.0</td>\n      <td>964860.0</td>\n      <td>2591900.0</td>\n      <td>4843200.0</td>\n      <td>NaN</td>\n    </tr>\n    <tr>\n      <th>2016-01-07</th>\n      <td>75.036072</td>\n      <td>86.842606</td>\n      <td>3.370622</td>\n      <td>154.607468</td>\n      <td>107.792252</td>\n      <td>31.070000</td>\n      <td>70.141708</td>\n      <td>64.436203</td>\n      <td>17.077320</td>\n      <td>275.168304</td>\n      <td>...</td>\n      <td>633700.0</td>\n      <td>2146000.0</td>\n      <td>897900.0</td>\n      <td>725100.0</td>\n      <td>1973900.0</td>\n      <td>2580500.0</td>\n      <td>1397563.0</td>\n      <td>4418400.0</td>\n      <td>4917400.0</td>\n      <td>NaN</td>\n    </tr>\n    <tr>\n      <th>2016-01-08</th>\n      <td>74.006874</td>\n      <td>85.410469</td>\n      <td>3.306533</td>\n      <td>151.865036</td>\n      <td>104.773590</td>\n      <td>30.719999</td>\n      <td>69.159416</td>\n      <td>64.654419</td>\n      <td>16.715590</td>\n      <td>281.065674</td>\n      <td>...</td>\n      <td>600600.0</td>\n      <td>1581900.0</td>\n      <td>717100.0</td>\n      <td>1005000.0</td>\n      <td>2275100.0</td>\n      <td>3097700.0</td>\n      <td>839428.0</td>\n      <td>2299100.0</td>\n      <td>5022600.0</td>\n      <td>NaN</td>\n    </tr>\n    <tr>\n      <th>...</th>\n      <td>...</td>\n      <td>...</td>\n      <td>...</td>\n      <td>...</td>\n      <td>...</td>\n      <td>...</td>\n      <td>...</td>\n      <td>...</td>\n      <td>...</td>\n      <td>...</td>\n      <td>...</td>\n      <td>...</td>\n      <td>...</td>\n      <td>...</td>\n      <td>...</td>\n      <td>...</td>\n      <td>...</td>\n      <td>...</td>\n      <td>...</td>\n      <td>...</td>\n      <td>...</td>\n    </tr>\n    <tr>\n      <th>2021-01-11</th>\n      <td>164.770004</td>\n      <td>214.919998</td>\n      <td>4.820000</td>\n      <td>157.380005</td>\n      <td>89.589996</td>\n      <td>62.240002</td>\n      <td>153.059998</td>\n      <td>131.270004</td>\n      <td>38.340000</td>\n      <td>682.390015</td>\n      <td>...</td>\n      <td>738900.0</td>\n      <td>2556000.0</td>\n      <td>1206400.0</td>\n      <td>961100.0</td>\n      <td>1485600.0</td>\n      <td>1513000.0</td>\n      <td>2061400.0</td>\n      <td>1748200.0</td>\n      <td>4554100.0</td>\n      <td>NaN</td>\n    </tr>\n    <tr>\n      <th>2021-01-12</th>\n      <td>164.009995</td>\n      <td>214.910004</td>\n      <td>4.780000</td>\n      <td>157.380005</td>\n      <td>91.459999</td>\n      <td>63.040001</td>\n      <td>150.460007</td>\n      <td>131.509995</td>\n      <td>38.160000</td>\n      <td>676.530029</td>\n      <td>...</td>\n      <td>690200.0</td>\n      <td>11817100.0</td>\n      <td>747700.0</td>\n      <td>691900.0</td>\n      <td>2524600.0</td>\n      <td>2159100.0</td>\n      <td>1372200.0</td>\n      <td>2285700.0</td>\n      <td>3958200.0</td>\n      <td>NaN</td>\n    </tr>\n    <tr>\n      <th>2021-01-13</th>\n      <td>168.899994</td>\n      <td>216.460007</td>\n      <td>4.880000</td>\n      <td>159.190002</td>\n      <td>92.089996</td>\n      <td>61.810001</td>\n      <td>152.690002</td>\n      <td>133.149994</td>\n      <td>38.639999</td>\n      <td>690.119995</td>\n      <td>...</td>\n      <td>785400.0</td>\n      <td>4278400.0</td>\n      <td>1310000.0</td>\n      <td>729700.0</td>\n      <td>1291600.0</td>\n      <td>1203100.0</td>\n      <td>1360400.0</td>\n      <td>1596900.0</td>\n      <td>4096600.0</td>\n      <td>NaN</td>\n    </tr>\n    <tr>\n      <th>2021-01-14</th>\n      <td>167.669998</td>\n      <td>214.990005</td>\n      <td>4.920000</td>\n      <td>160.490005</td>\n      <td>94.550003</td>\n      <td>62.259998</td>\n      <td>154.759995</td>\n      <td>133.449997</td>\n      <td>38.580002</td>\n      <td>689.669983</td>\n      <td>...</td>\n      <td>773100.0</td>\n      <td>2916500.0</td>\n      <td>1060400.0</td>\n      <td>531800.0</td>\n      <td>2074900.0</td>\n      <td>1017500.0</td>\n      <td>2163100.0</td>\n      <td>1319700.0</td>\n      <td>3286800.0</td>\n      <td>NaN</td>\n    </tr>\n    <tr>\n      <th>2021-01-15</th>\n      <td>168.369995</td>\n      <td>219.889999</td>\n      <td>4.890000</td>\n      <td>164.000000</td>\n      <td>95.150002</td>\n      <td>63.520000</td>\n      <td>157.250000</td>\n      <td>136.479996</td>\n      <td>38.900002</td>\n      <td>707.760010</td>\n      <td>...</td>\n      <td>1864200.0</td>\n      <td>3256500.0</td>\n      <td>1592000.0</td>\n      <td>538800.0</td>\n      <td>1972200.0</td>\n      <td>2581800.0</td>\n      <td>2547100.0</td>\n      <td>2649000.0</td>\n      <td>2511500.0</td>\n      <td>NaN</td>\n    </tr>\n  </tbody>\n</table>\n<p>1269 rows × 180 columns</p>\n</div>"
     },
     "metadata": {},
     "execution_count": 2
    }
   ],
   "source": [
    "# Get the Real State Stock data using yahoo source\n",
    "df = web.DataReader(['ARE', 'AMT', 'AIV', 'AVB', 'BXP', 'CBRE', 'CCI', 'DLR', 'DRE', 'EQIX', 'EQR', 'ESS', 'EXR', 'FRT', 'PEAK', 'HST', 'IRM', 'KIM', 'MAA', 'PLD', 'PSA', 'O', 'REG', 'SBAC', 'SPG' 'SLG', 'UDR', 'VTR', 'VNO', 'WELL', 'WY'], data_source='yahoo', start='2016-01-01', end='2021-01-15')\n",
    "df\n",
    "# Rename Adj Close to Adj_Close\n",
    "df = df.rename(columns={\n",
    "    \"Adj Close\": \"NYSE_Adj_Close\"\n",
    "})\n",
    "df"
   ]
  },
  {
   "cell_type": "code",
   "execution_count": 3,
   "metadata": {},
   "outputs": [],
   "source": [
    "df = df.copy()"
   ]
  },
  {
   "cell_type": "code",
   "execution_count": 4,
   "metadata": {},
   "outputs": [
    {
     "output_type": "execute_result",
     "data": {
      "text/plain": "Symbols            ARE         AMT       AIV         AVB         BXP  \\\nDate                                                                   \n2016-01-04   77.068512   87.649292  3.343637  152.965378  107.119522   \n2016-01-05   78.132286   89.380524  3.428810  156.486481  109.758713   \n2016-01-06   77.604713   89.063278  3.390018  155.318420  109.741447   \n2016-01-07   75.036072   86.842606  3.370622  154.607468  107.792252   \n2016-01-08   74.006874   85.410469  3.306533  151.865036  104.773590   \n...                ...         ...       ...         ...         ...   \n2021-01-11  164.770004  214.919998  4.820000  157.380005   89.589996   \n2021-01-12  164.009995  214.910004  4.780000  157.380005   91.459999   \n2021-01-13  168.899994  216.460007  4.880000  159.190002   92.089996   \n2021-01-14  167.669998  214.990005  4.920000  160.490005   94.550003   \n2021-01-15  168.369995  219.889999  4.890000  164.000000   95.150002   \n\nSymbols          CBRE         CCI         DLR        DRE        EQIX  ...  \\\nDate                                                                  ...   \n2016-01-04  34.090000   71.082344   63.949455  17.590481  268.626740  ...   \n2016-01-05  34.389999   72.539116   64.024963  17.826033  275.277191  ...   \n2016-01-06  32.910000   71.931442   64.620842  17.573656  280.466766  ...   \n2016-01-07  31.070000   70.141708   64.436203  17.077320  275.168304  ...   \n2016-01-08  30.719999   69.159416   64.654419  16.715590  281.065674  ...   \n...               ...         ...         ...        ...         ...  ...   \n2021-01-11  62.240002  153.059998  131.270004  38.340000  682.390015  ...   \n2021-01-12  63.040001  150.460007  131.509995  38.160000  676.530029  ...   \n2021-01-13  61.810001  152.690002  133.149994  38.639999  690.119995  ...   \n2021-01-14  62.259998  154.759995  133.449997  38.580002  689.669983  ...   \n2021-01-15  63.520000  157.250000  136.479996  38.900002  707.760010  ...   \n\nSymbols            PSA          O        REG        SBAC        UDR  \\\nDate                                                                  \n2016-01-04  203.908585  41.298069  56.187164  104.787628  30.995798   \n2016-01-05  209.666153  42.193741  57.285286  106.164856  31.389849   \n2016-01-06  209.999908  42.443886  57.618053  105.193855  31.163475   \n2016-01-07  207.813721  41.709599  57.085629  101.646767  30.807007   \n2016-01-08  206.295044  41.289993  56.594807  100.705498  30.401541   \n...                ...        ...        ...         ...        ...   \n2021-01-11  221.250000  59.419998  44.020000  260.359985  37.049999   \n2021-01-12  222.240005  57.810001  44.750000  261.209991  37.529999   \n2021-01-13  224.789993  57.779999  46.369999  265.420013  38.250000   \n2021-01-14  221.229996  57.830002  47.060001  264.119995  38.730000   \n2021-01-15  224.389999  58.650002  47.070000  269.100006  39.419998   \n\nSymbols           VTR        VNO       WELL         WY  SPGSLG  \nDate                                                            \n2016-01-04  43.688343  63.767166  53.365490  24.703295     NaN  \n2016-01-05  44.458313  64.609413  54.692017  24.761265     NaN  \n2016-01-06  44.050220  64.304909  54.574982  24.214693     NaN  \n2016-01-07  43.280251  63.669952  53.014355  23.320307     NaN  \n2016-01-08  43.318752  62.296387  53.131386  23.104990     NaN  \n...               ...        ...        ...        ...     ...  \n2021-01-11  46.200001  35.270000  61.180000  33.099998     NaN  \n2021-01-12  46.700001  35.910000  61.090000  32.709999     NaN  \n2021-01-13  48.099998  36.590000  63.810001  32.160000     NaN  \n2021-01-14  48.470001  37.919998  63.560001  32.669998     NaN  \n2021-01-15  48.980000  38.560001  64.250000  32.520000     NaN  \n\n[1269 rows x 30 columns]",
      "text/html": "<div>\n<style scoped>\n    .dataframe tbody tr th:only-of-type {\n        vertical-align: middle;\n    }\n\n    .dataframe tbody tr th {\n        vertical-align: top;\n    }\n\n    .dataframe thead th {\n        text-align: right;\n    }\n</style>\n<table border=\"1\" class=\"dataframe\">\n  <thead>\n    <tr style=\"text-align: right;\">\n      <th>Symbols</th>\n      <th>ARE</th>\n      <th>AMT</th>\n      <th>AIV</th>\n      <th>AVB</th>\n      <th>BXP</th>\n      <th>CBRE</th>\n      <th>CCI</th>\n      <th>DLR</th>\n      <th>DRE</th>\n      <th>EQIX</th>\n      <th>...</th>\n      <th>PSA</th>\n      <th>O</th>\n      <th>REG</th>\n      <th>SBAC</th>\n      <th>UDR</th>\n      <th>VTR</th>\n      <th>VNO</th>\n      <th>WELL</th>\n      <th>WY</th>\n      <th>SPGSLG</th>\n    </tr>\n    <tr>\n      <th>Date</th>\n      <th></th>\n      <th></th>\n      <th></th>\n      <th></th>\n      <th></th>\n      <th></th>\n      <th></th>\n      <th></th>\n      <th></th>\n      <th></th>\n      <th></th>\n      <th></th>\n      <th></th>\n      <th></th>\n      <th></th>\n      <th></th>\n      <th></th>\n      <th></th>\n      <th></th>\n      <th></th>\n      <th></th>\n    </tr>\n  </thead>\n  <tbody>\n    <tr>\n      <th>2016-01-04</th>\n      <td>77.068512</td>\n      <td>87.649292</td>\n      <td>3.343637</td>\n      <td>152.965378</td>\n      <td>107.119522</td>\n      <td>34.090000</td>\n      <td>71.082344</td>\n      <td>63.949455</td>\n      <td>17.590481</td>\n      <td>268.626740</td>\n      <td>...</td>\n      <td>203.908585</td>\n      <td>41.298069</td>\n      <td>56.187164</td>\n      <td>104.787628</td>\n      <td>30.995798</td>\n      <td>43.688343</td>\n      <td>63.767166</td>\n      <td>53.365490</td>\n      <td>24.703295</td>\n      <td>NaN</td>\n    </tr>\n    <tr>\n      <th>2016-01-05</th>\n      <td>78.132286</td>\n      <td>89.380524</td>\n      <td>3.428810</td>\n      <td>156.486481</td>\n      <td>109.758713</td>\n      <td>34.389999</td>\n      <td>72.539116</td>\n      <td>64.024963</td>\n      <td>17.826033</td>\n      <td>275.277191</td>\n      <td>...</td>\n      <td>209.666153</td>\n      <td>42.193741</td>\n      <td>57.285286</td>\n      <td>106.164856</td>\n      <td>31.389849</td>\n      <td>44.458313</td>\n      <td>64.609413</td>\n      <td>54.692017</td>\n      <td>24.761265</td>\n      <td>NaN</td>\n    </tr>\n    <tr>\n      <th>2016-01-06</th>\n      <td>77.604713</td>\n      <td>89.063278</td>\n      <td>3.390018</td>\n      <td>155.318420</td>\n      <td>109.741447</td>\n      <td>32.910000</td>\n      <td>71.931442</td>\n      <td>64.620842</td>\n      <td>17.573656</td>\n      <td>280.466766</td>\n      <td>...</td>\n      <td>209.999908</td>\n      <td>42.443886</td>\n      <td>57.618053</td>\n      <td>105.193855</td>\n      <td>31.163475</td>\n      <td>44.050220</td>\n      <td>64.304909</td>\n      <td>54.574982</td>\n      <td>24.214693</td>\n      <td>NaN</td>\n    </tr>\n    <tr>\n      <th>2016-01-07</th>\n      <td>75.036072</td>\n      <td>86.842606</td>\n      <td>3.370622</td>\n      <td>154.607468</td>\n      <td>107.792252</td>\n      <td>31.070000</td>\n      <td>70.141708</td>\n      <td>64.436203</td>\n      <td>17.077320</td>\n      <td>275.168304</td>\n      <td>...</td>\n      <td>207.813721</td>\n      <td>41.709599</td>\n      <td>57.085629</td>\n      <td>101.646767</td>\n      <td>30.807007</td>\n      <td>43.280251</td>\n      <td>63.669952</td>\n      <td>53.014355</td>\n      <td>23.320307</td>\n      <td>NaN</td>\n    </tr>\n    <tr>\n      <th>2016-01-08</th>\n      <td>74.006874</td>\n      <td>85.410469</td>\n      <td>3.306533</td>\n      <td>151.865036</td>\n      <td>104.773590</td>\n      <td>30.719999</td>\n      <td>69.159416</td>\n      <td>64.654419</td>\n      <td>16.715590</td>\n      <td>281.065674</td>\n      <td>...</td>\n      <td>206.295044</td>\n      <td>41.289993</td>\n      <td>56.594807</td>\n      <td>100.705498</td>\n      <td>30.401541</td>\n      <td>43.318752</td>\n      <td>62.296387</td>\n      <td>53.131386</td>\n      <td>23.104990</td>\n      <td>NaN</td>\n    </tr>\n    <tr>\n      <th>...</th>\n      <td>...</td>\n      <td>...</td>\n      <td>...</td>\n      <td>...</td>\n      <td>...</td>\n      <td>...</td>\n      <td>...</td>\n      <td>...</td>\n      <td>...</td>\n      <td>...</td>\n      <td>...</td>\n      <td>...</td>\n      <td>...</td>\n      <td>...</td>\n      <td>...</td>\n      <td>...</td>\n      <td>...</td>\n      <td>...</td>\n      <td>...</td>\n      <td>...</td>\n      <td>...</td>\n    </tr>\n    <tr>\n      <th>2021-01-11</th>\n      <td>164.770004</td>\n      <td>214.919998</td>\n      <td>4.820000</td>\n      <td>157.380005</td>\n      <td>89.589996</td>\n      <td>62.240002</td>\n      <td>153.059998</td>\n      <td>131.270004</td>\n      <td>38.340000</td>\n      <td>682.390015</td>\n      <td>...</td>\n      <td>221.250000</td>\n      <td>59.419998</td>\n      <td>44.020000</td>\n      <td>260.359985</td>\n      <td>37.049999</td>\n      <td>46.200001</td>\n      <td>35.270000</td>\n      <td>61.180000</td>\n      <td>33.099998</td>\n      <td>NaN</td>\n    </tr>\n    <tr>\n      <th>2021-01-12</th>\n      <td>164.009995</td>\n      <td>214.910004</td>\n      <td>4.780000</td>\n      <td>157.380005</td>\n      <td>91.459999</td>\n      <td>63.040001</td>\n      <td>150.460007</td>\n      <td>131.509995</td>\n      <td>38.160000</td>\n      <td>676.530029</td>\n      <td>...</td>\n      <td>222.240005</td>\n      <td>57.810001</td>\n      <td>44.750000</td>\n      <td>261.209991</td>\n      <td>37.529999</td>\n      <td>46.700001</td>\n      <td>35.910000</td>\n      <td>61.090000</td>\n      <td>32.709999</td>\n      <td>NaN</td>\n    </tr>\n    <tr>\n      <th>2021-01-13</th>\n      <td>168.899994</td>\n      <td>216.460007</td>\n      <td>4.880000</td>\n      <td>159.190002</td>\n      <td>92.089996</td>\n      <td>61.810001</td>\n      <td>152.690002</td>\n      <td>133.149994</td>\n      <td>38.639999</td>\n      <td>690.119995</td>\n      <td>...</td>\n      <td>224.789993</td>\n      <td>57.779999</td>\n      <td>46.369999</td>\n      <td>265.420013</td>\n      <td>38.250000</td>\n      <td>48.099998</td>\n      <td>36.590000</td>\n      <td>63.810001</td>\n      <td>32.160000</td>\n      <td>NaN</td>\n    </tr>\n    <tr>\n      <th>2021-01-14</th>\n      <td>167.669998</td>\n      <td>214.990005</td>\n      <td>4.920000</td>\n      <td>160.490005</td>\n      <td>94.550003</td>\n      <td>62.259998</td>\n      <td>154.759995</td>\n      <td>133.449997</td>\n      <td>38.580002</td>\n      <td>689.669983</td>\n      <td>...</td>\n      <td>221.229996</td>\n      <td>57.830002</td>\n      <td>47.060001</td>\n      <td>264.119995</td>\n      <td>38.730000</td>\n      <td>48.470001</td>\n      <td>37.919998</td>\n      <td>63.560001</td>\n      <td>32.669998</td>\n      <td>NaN</td>\n    </tr>\n    <tr>\n      <th>2021-01-15</th>\n      <td>168.369995</td>\n      <td>219.889999</td>\n      <td>4.890000</td>\n      <td>164.000000</td>\n      <td>95.150002</td>\n      <td>63.520000</td>\n      <td>157.250000</td>\n      <td>136.479996</td>\n      <td>38.900002</td>\n      <td>707.760010</td>\n      <td>...</td>\n      <td>224.389999</td>\n      <td>58.650002</td>\n      <td>47.070000</td>\n      <td>269.100006</td>\n      <td>39.419998</td>\n      <td>48.980000</td>\n      <td>38.560001</td>\n      <td>64.250000</td>\n      <td>32.520000</td>\n      <td>NaN</td>\n    </tr>\n  </tbody>\n</table>\n<p>1269 rows × 30 columns</p>\n</div>"
     },
     "metadata": {},
     "execution_count": 4
    }
   ],
   "source": [
    "# Pick all Stocks NYSE_Adj_Close\n",
    "NYSE_Close_df = df[\"NYSE_Adj_Close\"]\n",
    "NYSE_Close_df"
   ]
  },
  {
   "cell_type": "code",
   "execution_count": 5,
   "metadata": {},
   "outputs": [],
   "source": [
    "#NYSE_Close_df.to_csv(index=False)"
   ]
  },
  {
   "cell_type": "code",
   "execution_count": 6,
   "metadata": {},
   "outputs": [],
   "source": [
    "#compression_opts = dict(method='zip',\n",
    "#                        archive_name='out2.csv')  \n",
    "#NYSE_Close_df.to_csv('out.zip', index=False,\n",
    "#          compression=compression_opts)"
   ]
  },
  {
   "cell_type": "code",
   "execution_count": 7,
   "metadata": {},
   "outputs": [
    {
     "output_type": "execute_result",
     "data": {
      "text/plain": "               ARE     AMT   AIV     AVB     BXP   CBRE     CCI     DLR  \\\n2016-01-04   77.07   87.65  3.34  152.97  107.12  34.09   71.08   63.95   \n2016-01-05   78.13   89.38  3.43  156.49  109.76  34.39   72.54   64.02   \n2016-01-06   77.60   89.06  3.39  155.32  109.74  32.91   71.93   64.62   \n2016-01-07   75.04   86.84  3.37  154.61  107.79  31.07   70.14   64.44   \n2016-01-08   74.01   85.41  3.31  151.87  104.77  30.72   69.16   64.65   \n...            ...     ...   ...     ...     ...    ...     ...     ...   \n2021-01-11  164.77  214.92  4.82  157.38   89.59  62.24  153.06  131.27   \n2021-01-12  164.01  214.91  4.78  157.38   91.46  63.04  150.46  131.51   \n2021-01-13  168.90  216.46  4.88  159.19   92.09  61.81  152.69  133.15   \n2021-01-14  167.67  214.99  4.92  160.49   94.55  62.26  154.76  133.45   \n2021-01-15  168.37  219.89  4.89  164.00   95.15  63.52  157.25  136.48   \n\n              DRE    EQIX  ...    PLD     PSA      O    REG    SBAC    UDR  \\\n2016-01-04  17.59  268.63  ...  36.18  203.91  41.30  56.19  104.79  31.00   \n2016-01-05  17.83  275.28  ...  36.94  209.67  42.19  57.29  106.16  31.39   \n2016-01-06  17.57  280.47  ...  36.74  210.00  42.44  57.62  105.19  31.16   \n2016-01-07  17.08  275.17  ...  35.78  207.81  41.71  57.09  101.65  30.81   \n2016-01-08  16.72  281.07  ...  35.46  206.30  41.29  56.59  100.71  30.40   \n...           ...     ...  ...    ...     ...    ...    ...     ...    ...   \n2021-01-11  38.34  682.39  ...  94.66  221.25  59.42  44.02  260.36  37.05   \n2021-01-12  38.16  676.53  ...  94.71  222.24  57.81  44.75  261.21  37.53   \n2021-01-13  38.64  690.12  ...  95.41  224.79  57.78  46.37  265.42  38.25   \n2021-01-14  38.58  689.67  ...  95.50  221.23  57.83  47.06  264.12  38.73   \n2021-01-15  38.90  707.76  ...  97.68  224.39  58.65  47.07  269.10  39.42   \n\n              VTR    VNO   WELL     WY  \n2016-01-04  43.69  63.77  53.37  24.70  \n2016-01-05  44.46  64.61  54.69  24.76  \n2016-01-06  44.05  64.30  54.57  24.21  \n2016-01-07  43.28  63.67  53.01  23.32  \n2016-01-08  43.32  62.30  53.13  23.10  \n...           ...    ...    ...    ...  \n2021-01-11  46.20  35.27  61.18  33.10  \n2021-01-12  46.70  35.91  61.09  32.71  \n2021-01-13  48.10  36.59  63.81  32.16  \n2021-01-14  48.47  37.92  63.56  32.67  \n2021-01-15  48.98  38.56  64.25  32.52  \n\n[1269 rows x 29 columns]",
      "text/html": "<div>\n<style scoped>\n    .dataframe tbody tr th:only-of-type {\n        vertical-align: middle;\n    }\n\n    .dataframe tbody tr th {\n        vertical-align: top;\n    }\n\n    .dataframe thead th {\n        text-align: right;\n    }\n</style>\n<table border=\"1\" class=\"dataframe\">\n  <thead>\n    <tr style=\"text-align: right;\">\n      <th></th>\n      <th>ARE</th>\n      <th>AMT</th>\n      <th>AIV</th>\n      <th>AVB</th>\n      <th>BXP</th>\n      <th>CBRE</th>\n      <th>CCI</th>\n      <th>DLR</th>\n      <th>DRE</th>\n      <th>EQIX</th>\n      <th>...</th>\n      <th>PLD</th>\n      <th>PSA</th>\n      <th>O</th>\n      <th>REG</th>\n      <th>SBAC</th>\n      <th>UDR</th>\n      <th>VTR</th>\n      <th>VNO</th>\n      <th>WELL</th>\n      <th>WY</th>\n    </tr>\n  </thead>\n  <tbody>\n    <tr>\n      <th>2016-01-04</th>\n      <td>77.07</td>\n      <td>87.65</td>\n      <td>3.34</td>\n      <td>152.97</td>\n      <td>107.12</td>\n      <td>34.09</td>\n      <td>71.08</td>\n      <td>63.95</td>\n      <td>17.59</td>\n      <td>268.63</td>\n      <td>...</td>\n      <td>36.18</td>\n      <td>203.91</td>\n      <td>41.30</td>\n      <td>56.19</td>\n      <td>104.79</td>\n      <td>31.00</td>\n      <td>43.69</td>\n      <td>63.77</td>\n      <td>53.37</td>\n      <td>24.70</td>\n    </tr>\n    <tr>\n      <th>2016-01-05</th>\n      <td>78.13</td>\n      <td>89.38</td>\n      <td>3.43</td>\n      <td>156.49</td>\n      <td>109.76</td>\n      <td>34.39</td>\n      <td>72.54</td>\n      <td>64.02</td>\n      <td>17.83</td>\n      <td>275.28</td>\n      <td>...</td>\n      <td>36.94</td>\n      <td>209.67</td>\n      <td>42.19</td>\n      <td>57.29</td>\n      <td>106.16</td>\n      <td>31.39</td>\n      <td>44.46</td>\n      <td>64.61</td>\n      <td>54.69</td>\n      <td>24.76</td>\n    </tr>\n    <tr>\n      <th>2016-01-06</th>\n      <td>77.60</td>\n      <td>89.06</td>\n      <td>3.39</td>\n      <td>155.32</td>\n      <td>109.74</td>\n      <td>32.91</td>\n      <td>71.93</td>\n      <td>64.62</td>\n      <td>17.57</td>\n      <td>280.47</td>\n      <td>...</td>\n      <td>36.74</td>\n      <td>210.00</td>\n      <td>42.44</td>\n      <td>57.62</td>\n      <td>105.19</td>\n      <td>31.16</td>\n      <td>44.05</td>\n      <td>64.30</td>\n      <td>54.57</td>\n      <td>24.21</td>\n    </tr>\n    <tr>\n      <th>2016-01-07</th>\n      <td>75.04</td>\n      <td>86.84</td>\n      <td>3.37</td>\n      <td>154.61</td>\n      <td>107.79</td>\n      <td>31.07</td>\n      <td>70.14</td>\n      <td>64.44</td>\n      <td>17.08</td>\n      <td>275.17</td>\n      <td>...</td>\n      <td>35.78</td>\n      <td>207.81</td>\n      <td>41.71</td>\n      <td>57.09</td>\n      <td>101.65</td>\n      <td>30.81</td>\n      <td>43.28</td>\n      <td>63.67</td>\n      <td>53.01</td>\n      <td>23.32</td>\n    </tr>\n    <tr>\n      <th>2016-01-08</th>\n      <td>74.01</td>\n      <td>85.41</td>\n      <td>3.31</td>\n      <td>151.87</td>\n      <td>104.77</td>\n      <td>30.72</td>\n      <td>69.16</td>\n      <td>64.65</td>\n      <td>16.72</td>\n      <td>281.07</td>\n      <td>...</td>\n      <td>35.46</td>\n      <td>206.30</td>\n      <td>41.29</td>\n      <td>56.59</td>\n      <td>100.71</td>\n      <td>30.40</td>\n      <td>43.32</td>\n      <td>62.30</td>\n      <td>53.13</td>\n      <td>23.10</td>\n    </tr>\n    <tr>\n      <th>...</th>\n      <td>...</td>\n      <td>...</td>\n      <td>...</td>\n      <td>...</td>\n      <td>...</td>\n      <td>...</td>\n      <td>...</td>\n      <td>...</td>\n      <td>...</td>\n      <td>...</td>\n      <td>...</td>\n      <td>...</td>\n      <td>...</td>\n      <td>...</td>\n      <td>...</td>\n      <td>...</td>\n      <td>...</td>\n      <td>...</td>\n      <td>...</td>\n      <td>...</td>\n      <td>...</td>\n    </tr>\n    <tr>\n      <th>2021-01-11</th>\n      <td>164.77</td>\n      <td>214.92</td>\n      <td>4.82</td>\n      <td>157.38</td>\n      <td>89.59</td>\n      <td>62.24</td>\n      <td>153.06</td>\n      <td>131.27</td>\n      <td>38.34</td>\n      <td>682.39</td>\n      <td>...</td>\n      <td>94.66</td>\n      <td>221.25</td>\n      <td>59.42</td>\n      <td>44.02</td>\n      <td>260.36</td>\n      <td>37.05</td>\n      <td>46.20</td>\n      <td>35.27</td>\n      <td>61.18</td>\n      <td>33.10</td>\n    </tr>\n    <tr>\n      <th>2021-01-12</th>\n      <td>164.01</td>\n      <td>214.91</td>\n      <td>4.78</td>\n      <td>157.38</td>\n      <td>91.46</td>\n      <td>63.04</td>\n      <td>150.46</td>\n      <td>131.51</td>\n      <td>38.16</td>\n      <td>676.53</td>\n      <td>...</td>\n      <td>94.71</td>\n      <td>222.24</td>\n      <td>57.81</td>\n      <td>44.75</td>\n      <td>261.21</td>\n      <td>37.53</td>\n      <td>46.70</td>\n      <td>35.91</td>\n      <td>61.09</td>\n      <td>32.71</td>\n    </tr>\n    <tr>\n      <th>2021-01-13</th>\n      <td>168.90</td>\n      <td>216.46</td>\n      <td>4.88</td>\n      <td>159.19</td>\n      <td>92.09</td>\n      <td>61.81</td>\n      <td>152.69</td>\n      <td>133.15</td>\n      <td>38.64</td>\n      <td>690.12</td>\n      <td>...</td>\n      <td>95.41</td>\n      <td>224.79</td>\n      <td>57.78</td>\n      <td>46.37</td>\n      <td>265.42</td>\n      <td>38.25</td>\n      <td>48.10</td>\n      <td>36.59</td>\n      <td>63.81</td>\n      <td>32.16</td>\n    </tr>\n    <tr>\n      <th>2021-01-14</th>\n      <td>167.67</td>\n      <td>214.99</td>\n      <td>4.92</td>\n      <td>160.49</td>\n      <td>94.55</td>\n      <td>62.26</td>\n      <td>154.76</td>\n      <td>133.45</td>\n      <td>38.58</td>\n      <td>689.67</td>\n      <td>...</td>\n      <td>95.50</td>\n      <td>221.23</td>\n      <td>57.83</td>\n      <td>47.06</td>\n      <td>264.12</td>\n      <td>38.73</td>\n      <td>48.47</td>\n      <td>37.92</td>\n      <td>63.56</td>\n      <td>32.67</td>\n    </tr>\n    <tr>\n      <th>2021-01-15</th>\n      <td>168.37</td>\n      <td>219.89</td>\n      <td>4.89</td>\n      <td>164.00</td>\n      <td>95.15</td>\n      <td>63.52</td>\n      <td>157.25</td>\n      <td>136.48</td>\n      <td>38.90</td>\n      <td>707.76</td>\n      <td>...</td>\n      <td>97.68</td>\n      <td>224.39</td>\n      <td>58.65</td>\n      <td>47.07</td>\n      <td>269.10</td>\n      <td>39.42</td>\n      <td>48.98</td>\n      <td>38.56</td>\n      <td>64.25</td>\n      <td>32.52</td>\n    </tr>\n  </tbody>\n</table>\n<p>1269 rows × 29 columns</p>\n</div>"
     },
     "metadata": {},
     "execution_count": 7
    }
   ],
   "source": [
    "real_state_stocks = pd.read_csv('..//Resources/Real_State_Stocks_Update.csv')\n",
    "# Reset the date as the index\n",
    "real_state_stocks = real_state_stocks.set_index(pd.DatetimeIndex(real_state_stocks['Date'].values))\n",
    "#Remove the Date column\n",
    "real_state_stocks.drop(columns=['Date'], axis=1, inplace=True)\n",
    "real_state_stocks"
   ]
  },
  {
   "cell_type": "code",
   "execution_count": 8,
   "metadata": {},
   "outputs": [],
   "source": [
    "# Get the assets /tickers\n",
    "assets = real_state_stocks.columns"
   ]
  },
  {
   "cell_type": "code",
   "execution_count": 9,
   "metadata": {},
   "outputs": [],
   "source": [
    "# Optimize the portfolio\n",
    "from pypfopt.efficient_frontier import EfficientFrontier\n",
    "from pypfopt import risk_models\n",
    "from pypfopt import expected_returns"
   ]
  },
  {
   "cell_type": "code",
   "execution_count": 10,
   "metadata": {},
   "outputs": [],
   "source": [
    "# Calculate the expected annualized returns and the annualized sample covariance matrix of the daily asset returns\n",
    "mu = expected_returns.mean_historical_return(real_state_stocks)\n",
    "S = risk_models.sample_cov(real_state_stocks)"
   ]
  },
  {
   "cell_type": "code",
   "execution_count": 11,
   "metadata": {},
   "outputs": [
    {
     "output_type": "stream",
     "name": "stdout",
     "text": "OrderedDict([('ARE', 0.0), ('AMT', 0.13039), ('AIV', 0.0), ('AVB', 0.0), ('BXP', 0.0), ('CBRE', 0.0), ('CCI', 0.0), ('DLR', 0.0), ('DRE', 0.0), ('EQIX', 0.33022), ('EQR', 0.0), ('ESS', 0.0), ('EXR', 0.0), ('FRT', 0.0), ('PEAK', 0.0), ('HST', 0.0), ('IRM', 0.0), ('KIM', 0.0), ('MAA', 0.0), ('PLD', 0.36294), ('PSA', 0.0), ('O', 0.0), ('REG', 0.0), ('SBAC', 0.17644), ('UDR', 0.0), ('VTR', 0.0), ('VNO', 0.0), ('WELL', 0.0), ('WY', 0.0)])\nExpected annual return: 21.2%\nAnnual volatility: 23.4%\nSharpe Ratio: 0.82\n"
    },
    {
     "output_type": "execute_result",
     "data": {
      "text/plain": "(0.2118362404019915, 0.2341726479864794, 0.8192085713318137)"
     },
     "metadata": {},
     "execution_count": 11
    }
   ],
   "source": [
    "# Optimize for the miximal Shrpe ratio \n",
    "ef = EfficientFrontier(mu, S) # Creates the Efficient Frontier Object\n",
    "weights = ef.max_sharpe()\n",
    "\n",
    "cleaned_weights = ef.clean_weights()\n",
    "print(cleaned_weights)\n",
    "ef.portfolio_performance(verbose=True)"
   ]
  },
  {
   "cell_type": "code",
   "execution_count": 12,
   "metadata": {},
   "outputs": [
    {
     "output_type": "stream",
     "name": "stdout",
     "text": "Discrete allocation: {'AMT': 3, 'EQIX': 2, 'PLD': 18, 'SBAC': 4}\nFunds Remaining: $ 90.17000000000007\n"
    }
   ],
   "source": [
    "# Get the descret allocation of each share per stock\n",
    "from pypfopt.discrete_allocation import DiscreteAllocation, get_latest_prices\n",
    "\n",
    "portfolio_val = 5000\n",
    "latest_prices = get_latest_prices(real_state_stocks)\n",
    "weights = cleaned_weights\n",
    "da = DiscreteAllocation(weights, latest_prices, total_portfolio_value=portfolio_val)\n",
    "allocation, leftover = da.lp_portfolio()\n",
    "print(\"Discrete allocation:\", allocation)\n",
    "print(\"Funds Remaining: $\", leftover)"
   ]
  },
  {
   "cell_type": "markdown",
   "metadata": {},
   "source": [
    "## Communication Services"
   ]
  },
  {
   "cell_type": "code",
   "execution_count": 17,
   "metadata": {},
   "outputs": [
    {
     "output_type": "execute_result",
     "data": {
      "text/plain": "Attributes NYSE2_Adj_Close                                                   \\\nSymbols               ATVI        GOOGL         GOOG          T        CHTR   \nDate                                                                          \n2016-01-04       36.365803   759.440002   741.840027  25.432276  177.529999   \n2016-01-05       35.901806   761.530029   742.580017  25.609972  175.169998   \n2016-01-06       35.563477   759.330017   743.619995  25.572432  174.309998   \n2016-01-07       35.060810   741.000000   726.390015  25.159489  173.630005   \n2016-01-08       34.519478   730.909973   714.469971  25.182014  174.889999   \n...                    ...          ...          ...        ...         ...   \n2021-01-11       90.910004  1756.290039  1766.719971  28.870001  641.130005   \n2021-01-12       89.250000  1737.430054  1746.550049  28.750000  621.489990   \n2021-01-13       89.769997  1747.250000  1754.400024  28.610001  618.010010   \n2021-01-14       89.989998  1730.920044  1740.180054  29.290001  623.090027   \n2021-01-15       90.690002  1727.619995  1736.189941  29.170000  628.909973   \n\nAttributes                                                          ...  \\\nSymbols         CMCSA      DISCA      DISCK       DISH          EA  ...   \nDate                                                                ...   \n2016-01-04  25.244812  26.410000  25.160000  57.290001   66.012039  ...   \n2016-01-05  25.249348  26.469999  25.270000  57.349998   64.853584  ...   \n2016-01-06  25.054256  26.280001  25.100000  56.060001   63.595261  ...   \n2016-01-07  24.777483  25.480000  24.320000  54.860001   62.376881  ...   \n2016-01-08  24.804712  26.010000  25.000000  53.810001   63.045990  ...   \n...               ...        ...        ...        ...         ...  ...   \n2021-01-11  51.520000  35.130001  30.590000  32.730000  141.220001  ...   \n2021-01-12  50.009998  35.299999  30.570000  33.040001  139.059998  ...   \n2021-01-13  50.160000  36.689999  31.750000  32.380001  136.339996  ...   \n2021-01-14  49.580002  37.250000  32.509998  33.529999  138.940002  ...   \n2021-01-15  48.689999  36.759998  32.349998  33.119999  139.000000  ...   \n\nAttributes      Volume                                               \\\nSymbols           NFLX       NWSA       TMUS       TTWO         DIS   \nDate                                                                  \n2016-01-04  20794800.0  3980000.0  4614200.0  1251700.0  12531500.0   \n2016-01-05  17664600.0  4867700.0  5553600.0  1558800.0  16212900.0   \n2016-01-06  33045700.0  3682000.0  7243800.0   718600.0  13934500.0   \n2016-01-07  33636700.0  3197100.0  8091300.0  1373000.0  14680200.0   \n2016-01-08  18067100.0  4502000.0  3512900.0  1442400.0  10691600.0   \n...                ...        ...        ...        ...         ...   \n2021-01-11   3812700.0  1465900.0  3084200.0   840600.0   6464100.0   \n2021-01-12   5990400.0  1906000.0  5374600.0  1596700.0   8349800.0   \n2021-01-13   5032100.0  2430000.0  2917300.0  1281400.0   6839500.0   \n2021-01-14   4177400.0  1938500.0  6359700.0  1407800.0   8951200.0   \n2021-01-15   5890200.0  2016500.0  4736000.0  1688200.0  12228500.0   \n\nAttributes                                                 \nSymbols           TWTR          VZ        VIAC CTL NWSOMC  \nDate                                                       \n2016-01-04  15325000.0  17821600.0         NaN NaN    NaN  \n2016-01-05  17077700.0  15632800.0         NaN NaN    NaN  \n2016-01-06  14033600.0  19082700.0         NaN NaN    NaN  \n2016-01-07  20759800.0  19277600.0         NaN NaN    NaN  \n2016-01-08  21832300.0  16594800.0         NaN NaN    NaN  \n...                ...         ...         ...  ..    ...  \n2021-01-11  61647600.0  15701500.0   7253200.0 NaN    NaN  \n2021-01-12  26288500.0  22699300.0  12478200.0 NaN    NaN  \n2021-01-13  19097200.0  16985400.0  14475000.0 NaN    NaN  \n2021-01-14  29748700.0  18341100.0  29667700.0 NaN    NaN  \n2021-01-15  25688200.0  15765900.0  11512600.0 NaN    NaN  \n\n[1269 rows x 150 columns]",
      "text/html": "<div>\n<style scoped>\n    .dataframe tbody tr th:only-of-type {\n        vertical-align: middle;\n    }\n\n    .dataframe tbody tr th {\n        vertical-align: top;\n    }\n\n    .dataframe thead tr th {\n        text-align: left;\n    }\n\n    .dataframe thead tr:last-of-type th {\n        text-align: right;\n    }\n</style>\n<table border=\"1\" class=\"dataframe\">\n  <thead>\n    <tr>\n      <th>Attributes</th>\n      <th colspan=\"10\" halign=\"left\">NYSE2_Adj_Close</th>\n      <th>...</th>\n      <th colspan=\"10\" halign=\"left\">Volume</th>\n    </tr>\n    <tr>\n      <th>Symbols</th>\n      <th>ATVI</th>\n      <th>GOOGL</th>\n      <th>GOOG</th>\n      <th>T</th>\n      <th>CHTR</th>\n      <th>CMCSA</th>\n      <th>DISCA</th>\n      <th>DISCK</th>\n      <th>DISH</th>\n      <th>EA</th>\n      <th>...</th>\n      <th>NFLX</th>\n      <th>NWSA</th>\n      <th>TMUS</th>\n      <th>TTWO</th>\n      <th>DIS</th>\n      <th>TWTR</th>\n      <th>VZ</th>\n      <th>VIAC</th>\n      <th>CTL</th>\n      <th>NWSOMC</th>\n    </tr>\n    <tr>\n      <th>Date</th>\n      <th></th>\n      <th></th>\n      <th></th>\n      <th></th>\n      <th></th>\n      <th></th>\n      <th></th>\n      <th></th>\n      <th></th>\n      <th></th>\n      <th></th>\n      <th></th>\n      <th></th>\n      <th></th>\n      <th></th>\n      <th></th>\n      <th></th>\n      <th></th>\n      <th></th>\n      <th></th>\n      <th></th>\n    </tr>\n  </thead>\n  <tbody>\n    <tr>\n      <th>2016-01-04</th>\n      <td>36.365803</td>\n      <td>759.440002</td>\n      <td>741.840027</td>\n      <td>25.432276</td>\n      <td>177.529999</td>\n      <td>25.244812</td>\n      <td>26.410000</td>\n      <td>25.160000</td>\n      <td>57.290001</td>\n      <td>66.012039</td>\n      <td>...</td>\n      <td>20794800.0</td>\n      <td>3980000.0</td>\n      <td>4614200.0</td>\n      <td>1251700.0</td>\n      <td>12531500.0</td>\n      <td>15325000.0</td>\n      <td>17821600.0</td>\n      <td>NaN</td>\n      <td>NaN</td>\n      <td>NaN</td>\n    </tr>\n    <tr>\n      <th>2016-01-05</th>\n      <td>35.901806</td>\n      <td>761.530029</td>\n      <td>742.580017</td>\n      <td>25.609972</td>\n      <td>175.169998</td>\n      <td>25.249348</td>\n      <td>26.469999</td>\n      <td>25.270000</td>\n      <td>57.349998</td>\n      <td>64.853584</td>\n      <td>...</td>\n      <td>17664600.0</td>\n      <td>4867700.0</td>\n      <td>5553600.0</td>\n      <td>1558800.0</td>\n      <td>16212900.0</td>\n      <td>17077700.0</td>\n      <td>15632800.0</td>\n      <td>NaN</td>\n      <td>NaN</td>\n      <td>NaN</td>\n    </tr>\n    <tr>\n      <th>2016-01-06</th>\n      <td>35.563477</td>\n      <td>759.330017</td>\n      <td>743.619995</td>\n      <td>25.572432</td>\n      <td>174.309998</td>\n      <td>25.054256</td>\n      <td>26.280001</td>\n      <td>25.100000</td>\n      <td>56.060001</td>\n      <td>63.595261</td>\n      <td>...</td>\n      <td>33045700.0</td>\n      <td>3682000.0</td>\n      <td>7243800.0</td>\n      <td>718600.0</td>\n      <td>13934500.0</td>\n      <td>14033600.0</td>\n      <td>19082700.0</td>\n      <td>NaN</td>\n      <td>NaN</td>\n      <td>NaN</td>\n    </tr>\n    <tr>\n      <th>2016-01-07</th>\n      <td>35.060810</td>\n      <td>741.000000</td>\n      <td>726.390015</td>\n      <td>25.159489</td>\n      <td>173.630005</td>\n      <td>24.777483</td>\n      <td>25.480000</td>\n      <td>24.320000</td>\n      <td>54.860001</td>\n      <td>62.376881</td>\n      <td>...</td>\n      <td>33636700.0</td>\n      <td>3197100.0</td>\n      <td>8091300.0</td>\n      <td>1373000.0</td>\n      <td>14680200.0</td>\n      <td>20759800.0</td>\n      <td>19277600.0</td>\n      <td>NaN</td>\n      <td>NaN</td>\n      <td>NaN</td>\n    </tr>\n    <tr>\n      <th>2016-01-08</th>\n      <td>34.519478</td>\n      <td>730.909973</td>\n      <td>714.469971</td>\n      <td>25.182014</td>\n      <td>174.889999</td>\n      <td>24.804712</td>\n      <td>26.010000</td>\n      <td>25.000000</td>\n      <td>53.810001</td>\n      <td>63.045990</td>\n      <td>...</td>\n      <td>18067100.0</td>\n      <td>4502000.0</td>\n      <td>3512900.0</td>\n      <td>1442400.0</td>\n      <td>10691600.0</td>\n      <td>21832300.0</td>\n      <td>16594800.0</td>\n      <td>NaN</td>\n      <td>NaN</td>\n      <td>NaN</td>\n    </tr>\n    <tr>\n      <th>...</th>\n      <td>...</td>\n      <td>...</td>\n      <td>...</td>\n      <td>...</td>\n      <td>...</td>\n      <td>...</td>\n      <td>...</td>\n      <td>...</td>\n      <td>...</td>\n      <td>...</td>\n      <td>...</td>\n      <td>...</td>\n      <td>...</td>\n      <td>...</td>\n      <td>...</td>\n      <td>...</td>\n      <td>...</td>\n      <td>...</td>\n      <td>...</td>\n      <td>...</td>\n      <td>...</td>\n    </tr>\n    <tr>\n      <th>2021-01-11</th>\n      <td>90.910004</td>\n      <td>1756.290039</td>\n      <td>1766.719971</td>\n      <td>28.870001</td>\n      <td>641.130005</td>\n      <td>51.520000</td>\n      <td>35.130001</td>\n      <td>30.590000</td>\n      <td>32.730000</td>\n      <td>141.220001</td>\n      <td>...</td>\n      <td>3812700.0</td>\n      <td>1465900.0</td>\n      <td>3084200.0</td>\n      <td>840600.0</td>\n      <td>6464100.0</td>\n      <td>61647600.0</td>\n      <td>15701500.0</td>\n      <td>7253200.0</td>\n      <td>NaN</td>\n      <td>NaN</td>\n    </tr>\n    <tr>\n      <th>2021-01-12</th>\n      <td>89.250000</td>\n      <td>1737.430054</td>\n      <td>1746.550049</td>\n      <td>28.750000</td>\n      <td>621.489990</td>\n      <td>50.009998</td>\n      <td>35.299999</td>\n      <td>30.570000</td>\n      <td>33.040001</td>\n      <td>139.059998</td>\n      <td>...</td>\n      <td>5990400.0</td>\n      <td>1906000.0</td>\n      <td>5374600.0</td>\n      <td>1596700.0</td>\n      <td>8349800.0</td>\n      <td>26288500.0</td>\n      <td>22699300.0</td>\n      <td>12478200.0</td>\n      <td>NaN</td>\n      <td>NaN</td>\n    </tr>\n    <tr>\n      <th>2021-01-13</th>\n      <td>89.769997</td>\n      <td>1747.250000</td>\n      <td>1754.400024</td>\n      <td>28.610001</td>\n      <td>618.010010</td>\n      <td>50.160000</td>\n      <td>36.689999</td>\n      <td>31.750000</td>\n      <td>32.380001</td>\n      <td>136.339996</td>\n      <td>...</td>\n      <td>5032100.0</td>\n      <td>2430000.0</td>\n      <td>2917300.0</td>\n      <td>1281400.0</td>\n      <td>6839500.0</td>\n      <td>19097200.0</td>\n      <td>16985400.0</td>\n      <td>14475000.0</td>\n      <td>NaN</td>\n      <td>NaN</td>\n    </tr>\n    <tr>\n      <th>2021-01-14</th>\n      <td>89.989998</td>\n      <td>1730.920044</td>\n      <td>1740.180054</td>\n      <td>29.290001</td>\n      <td>623.090027</td>\n      <td>49.580002</td>\n      <td>37.250000</td>\n      <td>32.509998</td>\n      <td>33.529999</td>\n      <td>138.940002</td>\n      <td>...</td>\n      <td>4177400.0</td>\n      <td>1938500.0</td>\n      <td>6359700.0</td>\n      <td>1407800.0</td>\n      <td>8951200.0</td>\n      <td>29748700.0</td>\n      <td>18341100.0</td>\n      <td>29667700.0</td>\n      <td>NaN</td>\n      <td>NaN</td>\n    </tr>\n    <tr>\n      <th>2021-01-15</th>\n      <td>90.690002</td>\n      <td>1727.619995</td>\n      <td>1736.189941</td>\n      <td>29.170000</td>\n      <td>628.909973</td>\n      <td>48.689999</td>\n      <td>36.759998</td>\n      <td>32.349998</td>\n      <td>33.119999</td>\n      <td>139.000000</td>\n      <td>...</td>\n      <td>5890200.0</td>\n      <td>2016500.0</td>\n      <td>4736000.0</td>\n      <td>1688200.0</td>\n      <td>12228500.0</td>\n      <td>25688200.0</td>\n      <td>15765900.0</td>\n      <td>11512600.0</td>\n      <td>NaN</td>\n      <td>NaN</td>\n    </tr>\n  </tbody>\n</table>\n<p>1269 rows × 150 columns</p>\n</div>"
     },
     "metadata": {},
     "execution_count": 17
    }
   ],
   "source": [
    "# Get the Communication Services Stock data using yahoo source\n",
    "df_2 = web.DataReader(['ATVI', 'GOOGL', 'GOOG', 'T', 'CTL', 'CHTR', 'CMCSA', 'DISCA', 'DISCK','DISH', 'EA', 'FB', 'FOXA', 'FOX', 'IPG', 'LYV', 'NFLX', 'NWSA', 'NWS' 'OMC', 'TMUS', 'TTWO', 'DIS', 'TWTR', 'VZ', 'VIAC'], data_source='yahoo', start='2016-01-01', end='2021-01-15')\n",
    "# Rename Adj Close to Adj_Close\n",
    "df_2 = df_2.rename(columns={\n",
    "    \"Adj Close\": \"NYSE2_Adj_Close\"\n",
    "})\n",
    "df_2"
   ]
  },
  {
   "cell_type": "code",
   "execution_count": 18,
   "metadata": {},
   "outputs": [],
   "source": [
    "df_2 = df_2.copy()"
   ]
  },
  {
   "cell_type": "code",
   "execution_count": 20,
   "metadata": {},
   "outputs": [
    {
     "output_type": "execute_result",
     "data": {
      "text/plain": "Symbols          ATVI        GOOGL         GOOG          T        CHTR  \\\nDate                                                                     \n2016-01-04  36.365803   759.440002   741.840027  25.432276  177.529999   \n2016-01-05  35.901806   761.530029   742.580017  25.609972  175.169998   \n2016-01-06  35.563477   759.330017   743.619995  25.572432  174.309998   \n2016-01-07  35.060810   741.000000   726.390015  25.159489  173.630005   \n2016-01-08  34.519478   730.909973   714.469971  25.182014  174.889999   \n...               ...          ...          ...        ...         ...   \n2021-01-11  90.910004  1756.290039  1766.719971  28.870001  641.130005   \n2021-01-12  89.250000  1737.430054  1746.550049  28.750000  621.489990   \n2021-01-13  89.769997  1747.250000  1754.400024  28.610001  618.010010   \n2021-01-14  89.989998  1730.920044  1740.180054  29.290001  623.090027   \n2021-01-15  90.690002  1727.619995  1736.189941  29.170000  628.909973   \n\nSymbols         CMCSA      DISCA      DISCK       DISH          EA  ...  \\\nDate                                                                ...   \n2016-01-04  25.244812  26.410000  25.160000  57.290001   66.012039  ...   \n2016-01-05  25.249348  26.469999  25.270000  57.349998   64.853584  ...   \n2016-01-06  25.054256  26.280001  25.100000  56.060001   63.595261  ...   \n2016-01-07  24.777483  25.480000  24.320000  54.860001   62.376881  ...   \n2016-01-08  24.804712  26.010000  25.000000  53.810001   63.045990  ...   \n...               ...        ...        ...        ...         ...  ...   \n2021-01-11  51.520000  35.130001  30.590000  32.730000  141.220001  ...   \n2021-01-12  50.009998  35.299999  30.570000  33.040001  139.059998  ...   \n2021-01-13  50.160000  36.689999  31.750000  32.380001  136.339996  ...   \n2021-01-14  49.580002  37.250000  32.509998  33.529999  138.940002  ...   \n2021-01-15  48.689999  36.759998  32.349998  33.119999  139.000000  ...   \n\nSymbols           NFLX       NWSA        TMUS        TTWO         DIS  \\\nDate                                                                    \n2016-01-04  109.959999  12.225597   38.950001   34.169998   97.155785   \n2016-01-05  107.660004  11.818386   40.220001   34.750000   95.193428   \n2016-01-06  117.680000  11.762856   40.049999   34.009998   94.683952   \n2016-01-07  114.559998  11.494468   40.509998   32.419998   93.872604   \n2016-01-08  111.389999  11.642544   39.880001   32.340000   93.636742   \n...                ...        ...         ...         ...         ...   \n2021-01-11  499.100006  18.660000  132.929993  206.539993  179.089996   \n2021-01-12  494.250000  18.400000  128.690002  199.149994  175.990005   \n2021-01-13  507.790009  18.280001  128.500000  199.500000  176.119995   \n2021-01-14  500.859985  18.690001  124.690002  195.470001  173.429993   \n2021-01-15  497.980011  18.700001  127.279999  196.279999  171.440002   \n\nSymbols          TWTR         VZ       VIAC  CTL  NWSOMC  \nDate                                                      \n2016-01-04  22.559999  36.341522        NaN  NaN     NaN  \n2016-01-05  21.920000  36.840652        NaN  NaN     NaN  \n2016-01-06  21.389999  36.507820        NaN  NaN     NaN  \n2016-01-07  20.260000  36.307316        NaN  NaN     NaN  \n2016-01-08  19.980000  35.954430        NaN  NaN     NaN  \n...               ...        ...        ...  ...     ...  \n2021-01-11  48.180000  57.459999  41.060001  NaN     NaN  \n2021-01-12  47.040001  57.259998  41.779999  NaN     NaN  \n2021-01-13  47.220001  57.060001  43.119999  NaN     NaN  \n2021-01-14  45.790001  57.040001  46.000000  NaN     NaN  \n2021-01-15  45.180000  57.380001  45.299999  NaN     NaN  \n\n[1269 rows x 25 columns]",
      "text/html": "<div>\n<style scoped>\n    .dataframe tbody tr th:only-of-type {\n        vertical-align: middle;\n    }\n\n    .dataframe tbody tr th {\n        vertical-align: top;\n    }\n\n    .dataframe thead th {\n        text-align: right;\n    }\n</style>\n<table border=\"1\" class=\"dataframe\">\n  <thead>\n    <tr style=\"text-align: right;\">\n      <th>Symbols</th>\n      <th>ATVI</th>\n      <th>GOOGL</th>\n      <th>GOOG</th>\n      <th>T</th>\n      <th>CHTR</th>\n      <th>CMCSA</th>\n      <th>DISCA</th>\n      <th>DISCK</th>\n      <th>DISH</th>\n      <th>EA</th>\n      <th>...</th>\n      <th>NFLX</th>\n      <th>NWSA</th>\n      <th>TMUS</th>\n      <th>TTWO</th>\n      <th>DIS</th>\n      <th>TWTR</th>\n      <th>VZ</th>\n      <th>VIAC</th>\n      <th>CTL</th>\n      <th>NWSOMC</th>\n    </tr>\n    <tr>\n      <th>Date</th>\n      <th></th>\n      <th></th>\n      <th></th>\n      <th></th>\n      <th></th>\n      <th></th>\n      <th></th>\n      <th></th>\n      <th></th>\n      <th></th>\n      <th></th>\n      <th></th>\n      <th></th>\n      <th></th>\n      <th></th>\n      <th></th>\n      <th></th>\n      <th></th>\n      <th></th>\n      <th></th>\n      <th></th>\n    </tr>\n  </thead>\n  <tbody>\n    <tr>\n      <th>2016-01-04</th>\n      <td>36.365803</td>\n      <td>759.440002</td>\n      <td>741.840027</td>\n      <td>25.432276</td>\n      <td>177.529999</td>\n      <td>25.244812</td>\n      <td>26.410000</td>\n      <td>25.160000</td>\n      <td>57.290001</td>\n      <td>66.012039</td>\n      <td>...</td>\n      <td>109.959999</td>\n      <td>12.225597</td>\n      <td>38.950001</td>\n      <td>34.169998</td>\n      <td>97.155785</td>\n      <td>22.559999</td>\n      <td>36.341522</td>\n      <td>NaN</td>\n      <td>NaN</td>\n      <td>NaN</td>\n    </tr>\n    <tr>\n      <th>2016-01-05</th>\n      <td>35.901806</td>\n      <td>761.530029</td>\n      <td>742.580017</td>\n      <td>25.609972</td>\n      <td>175.169998</td>\n      <td>25.249348</td>\n      <td>26.469999</td>\n      <td>25.270000</td>\n      <td>57.349998</td>\n      <td>64.853584</td>\n      <td>...</td>\n      <td>107.660004</td>\n      <td>11.818386</td>\n      <td>40.220001</td>\n      <td>34.750000</td>\n      <td>95.193428</td>\n      <td>21.920000</td>\n      <td>36.840652</td>\n      <td>NaN</td>\n      <td>NaN</td>\n      <td>NaN</td>\n    </tr>\n    <tr>\n      <th>2016-01-06</th>\n      <td>35.563477</td>\n      <td>759.330017</td>\n      <td>743.619995</td>\n      <td>25.572432</td>\n      <td>174.309998</td>\n      <td>25.054256</td>\n      <td>26.280001</td>\n      <td>25.100000</td>\n      <td>56.060001</td>\n      <td>63.595261</td>\n      <td>...</td>\n      <td>117.680000</td>\n      <td>11.762856</td>\n      <td>40.049999</td>\n      <td>34.009998</td>\n      <td>94.683952</td>\n      <td>21.389999</td>\n      <td>36.507820</td>\n      <td>NaN</td>\n      <td>NaN</td>\n      <td>NaN</td>\n    </tr>\n    <tr>\n      <th>2016-01-07</th>\n      <td>35.060810</td>\n      <td>741.000000</td>\n      <td>726.390015</td>\n      <td>25.159489</td>\n      <td>173.630005</td>\n      <td>24.777483</td>\n      <td>25.480000</td>\n      <td>24.320000</td>\n      <td>54.860001</td>\n      <td>62.376881</td>\n      <td>...</td>\n      <td>114.559998</td>\n      <td>11.494468</td>\n      <td>40.509998</td>\n      <td>32.419998</td>\n      <td>93.872604</td>\n      <td>20.260000</td>\n      <td>36.307316</td>\n      <td>NaN</td>\n      <td>NaN</td>\n      <td>NaN</td>\n    </tr>\n    <tr>\n      <th>2016-01-08</th>\n      <td>34.519478</td>\n      <td>730.909973</td>\n      <td>714.469971</td>\n      <td>25.182014</td>\n      <td>174.889999</td>\n      <td>24.804712</td>\n      <td>26.010000</td>\n      <td>25.000000</td>\n      <td>53.810001</td>\n      <td>63.045990</td>\n      <td>...</td>\n      <td>111.389999</td>\n      <td>11.642544</td>\n      <td>39.880001</td>\n      <td>32.340000</td>\n      <td>93.636742</td>\n      <td>19.980000</td>\n      <td>35.954430</td>\n      <td>NaN</td>\n      <td>NaN</td>\n      <td>NaN</td>\n    </tr>\n    <tr>\n      <th>...</th>\n      <td>...</td>\n      <td>...</td>\n      <td>...</td>\n      <td>...</td>\n      <td>...</td>\n      <td>...</td>\n      <td>...</td>\n      <td>...</td>\n      <td>...</td>\n      <td>...</td>\n      <td>...</td>\n      <td>...</td>\n      <td>...</td>\n      <td>...</td>\n      <td>...</td>\n      <td>...</td>\n      <td>...</td>\n      <td>...</td>\n      <td>...</td>\n      <td>...</td>\n      <td>...</td>\n    </tr>\n    <tr>\n      <th>2021-01-11</th>\n      <td>90.910004</td>\n      <td>1756.290039</td>\n      <td>1766.719971</td>\n      <td>28.870001</td>\n      <td>641.130005</td>\n      <td>51.520000</td>\n      <td>35.130001</td>\n      <td>30.590000</td>\n      <td>32.730000</td>\n      <td>141.220001</td>\n      <td>...</td>\n      <td>499.100006</td>\n      <td>18.660000</td>\n      <td>132.929993</td>\n      <td>206.539993</td>\n      <td>179.089996</td>\n      <td>48.180000</td>\n      <td>57.459999</td>\n      <td>41.060001</td>\n      <td>NaN</td>\n      <td>NaN</td>\n    </tr>\n    <tr>\n      <th>2021-01-12</th>\n      <td>89.250000</td>\n      <td>1737.430054</td>\n      <td>1746.550049</td>\n      <td>28.750000</td>\n      <td>621.489990</td>\n      <td>50.009998</td>\n      <td>35.299999</td>\n      <td>30.570000</td>\n      <td>33.040001</td>\n      <td>139.059998</td>\n      <td>...</td>\n      <td>494.250000</td>\n      <td>18.400000</td>\n      <td>128.690002</td>\n      <td>199.149994</td>\n      <td>175.990005</td>\n      <td>47.040001</td>\n      <td>57.259998</td>\n      <td>41.779999</td>\n      <td>NaN</td>\n      <td>NaN</td>\n    </tr>\n    <tr>\n      <th>2021-01-13</th>\n      <td>89.769997</td>\n      <td>1747.250000</td>\n      <td>1754.400024</td>\n      <td>28.610001</td>\n      <td>618.010010</td>\n      <td>50.160000</td>\n      <td>36.689999</td>\n      <td>31.750000</td>\n      <td>32.380001</td>\n      <td>136.339996</td>\n      <td>...</td>\n      <td>507.790009</td>\n      <td>18.280001</td>\n      <td>128.500000</td>\n      <td>199.500000</td>\n      <td>176.119995</td>\n      <td>47.220001</td>\n      <td>57.060001</td>\n      <td>43.119999</td>\n      <td>NaN</td>\n      <td>NaN</td>\n    </tr>\n    <tr>\n      <th>2021-01-14</th>\n      <td>89.989998</td>\n      <td>1730.920044</td>\n      <td>1740.180054</td>\n      <td>29.290001</td>\n      <td>623.090027</td>\n      <td>49.580002</td>\n      <td>37.250000</td>\n      <td>32.509998</td>\n      <td>33.529999</td>\n      <td>138.940002</td>\n      <td>...</td>\n      <td>500.859985</td>\n      <td>18.690001</td>\n      <td>124.690002</td>\n      <td>195.470001</td>\n      <td>173.429993</td>\n      <td>45.790001</td>\n      <td>57.040001</td>\n      <td>46.000000</td>\n      <td>NaN</td>\n      <td>NaN</td>\n    </tr>\n    <tr>\n      <th>2021-01-15</th>\n      <td>90.690002</td>\n      <td>1727.619995</td>\n      <td>1736.189941</td>\n      <td>29.170000</td>\n      <td>628.909973</td>\n      <td>48.689999</td>\n      <td>36.759998</td>\n      <td>32.349998</td>\n      <td>33.119999</td>\n      <td>139.000000</td>\n      <td>...</td>\n      <td>497.980011</td>\n      <td>18.700001</td>\n      <td>127.279999</td>\n      <td>196.279999</td>\n      <td>171.440002</td>\n      <td>45.180000</td>\n      <td>57.380001</td>\n      <td>45.299999</td>\n      <td>NaN</td>\n      <td>NaN</td>\n    </tr>\n  </tbody>\n</table>\n<p>1269 rows × 25 columns</p>\n</div>"
     },
     "metadata": {},
     "execution_count": 20
    }
   ],
   "source": [
    "# Pick all Stocks NYSE2_Adj_Close\n",
    "NYSE2_Close_df = df_2[\"NYSE2_Adj_Close\"]\n",
    "NYSE2_Close_df"
   ]
  },
  {
   "cell_type": "code",
   "execution_count": null,
   "metadata": {},
   "outputs": [],
   "source": [
    "#NYSE2_Close_df.to_csv(index=False)"
   ]
  },
  {
   "cell_type": "code",
   "execution_count": 21,
   "metadata": {},
   "outputs": [],
   "source": [
    "#compression_opts = dict(method='zip',\n",
    "#                        archive_name='out2.csv')  \n",
    "#NYSE2_Close_df.to_csv('out.zip', index=False,\n",
    "#          compression=compression_opts)"
   ]
  },
  {
   "cell_type": "code",
   "execution_count": 22,
   "metadata": {},
   "outputs": [
    {
     "output_type": "execute_result",
     "data": {
      "text/plain": "             ATVI    GOOGL     GOOG      T    CHTR  CMCSA  DISCA  DISCK  \\\n2016-01-04  36.37   759.44   741.84  25.43  177.53  25.24  26.41  25.16   \n2016-01-05  35.90   761.53   742.58  25.61  175.17  25.25  26.47  25.27   \n2016-01-06  35.56   759.33   743.62  25.57  174.31  25.05  26.28  25.10   \n2016-01-07  35.06   741.00   726.39  25.16  173.63  24.78  25.48  24.32   \n2016-01-08  34.52   730.91   714.47  25.18  174.89  24.80  26.01  25.00   \n...           ...      ...      ...    ...     ...    ...    ...    ...   \n2021-01-11  90.91  1756.29  1766.72  28.87  641.13  51.52  35.13  30.59   \n2021-01-12  89.25  1737.43  1746.55  28.75  621.49  50.01  35.30  30.57   \n2021-01-13  89.77  1747.25  1754.40  28.61  618.01  50.16  36.69  31.75   \n2021-01-14  89.99  1730.92  1740.18  29.29  623.09  49.58  37.25  32.51   \n2021-01-15  90.69  1727.62  1736.19  29.17  628.91  48.69  36.76  32.35   \n\n             DISH      EA  ...    IPG    LYV    NFLX   NWSA    TMUS    TTWO  \\\n2016-01-04  57.29   66.01  ...  18.88  23.97  109.96  12.23   38.95   34.17   \n2016-01-05  57.35   64.85  ...  19.24  23.91  107.66  11.82   40.22   34.75   \n2016-01-06  56.06   63.60  ...  18.92  23.77  117.68  11.76   40.05   34.01   \n2016-01-07  54.86   62.38  ...  18.33  23.11  114.56  11.49   40.51   32.42   \n2016-01-08  53.81   63.05  ...  18.24  22.81  111.39  11.64   39.88   32.34   \n...           ...     ...  ...    ...    ...     ...    ...     ...     ...   \n2021-01-11  32.73  141.22  ...  24.42  72.24  499.10  18.66  132.93  206.54   \n2021-01-12  33.04  139.06  ...  24.55  73.37  494.25  18.40  128.69  199.15   \n2021-01-13  32.38  136.34  ...  24.44  73.32  507.79  18.28  128.50  199.50   \n2021-01-14  33.53  138.94  ...  24.93  73.33  500.86  18.69  124.69  195.47   \n2021-01-15  33.12  139.00  ...  24.94  71.57  497.98  18.70  127.28  196.28   \n\n               DIS   TWTR     VZ   VIAC  \n2016-01-04   97.16  22.56  36.34    NaN  \n2016-01-05   95.19  21.92  36.84    NaN  \n2016-01-06   94.68  21.39  36.51    NaN  \n2016-01-07   93.87  20.26  36.31    NaN  \n2016-01-08   93.64  19.98  35.95    NaN  \n...            ...    ...    ...    ...  \n2021-01-11  179.09  48.18  57.46  41.06  \n2021-01-12  175.99  47.04  57.26  41.78  \n2021-01-13  176.12  47.22  57.06  43.12  \n2021-01-14  173.43  45.79  57.04  46.00  \n2021-01-15  171.44  45.18  57.38  45.30  \n\n[1269 rows x 23 columns]",
      "text/html": "<div>\n<style scoped>\n    .dataframe tbody tr th:only-of-type {\n        vertical-align: middle;\n    }\n\n    .dataframe tbody tr th {\n        vertical-align: top;\n    }\n\n    .dataframe thead th {\n        text-align: right;\n    }\n</style>\n<table border=\"1\" class=\"dataframe\">\n  <thead>\n    <tr style=\"text-align: right;\">\n      <th></th>\n      <th>ATVI</th>\n      <th>GOOGL</th>\n      <th>GOOG</th>\n      <th>T</th>\n      <th>CHTR</th>\n      <th>CMCSA</th>\n      <th>DISCA</th>\n      <th>DISCK</th>\n      <th>DISH</th>\n      <th>EA</th>\n      <th>...</th>\n      <th>IPG</th>\n      <th>LYV</th>\n      <th>NFLX</th>\n      <th>NWSA</th>\n      <th>TMUS</th>\n      <th>TTWO</th>\n      <th>DIS</th>\n      <th>TWTR</th>\n      <th>VZ</th>\n      <th>VIAC</th>\n    </tr>\n  </thead>\n  <tbody>\n    <tr>\n      <th>2016-01-04</th>\n      <td>36.37</td>\n      <td>759.44</td>\n      <td>741.84</td>\n      <td>25.43</td>\n      <td>177.53</td>\n      <td>25.24</td>\n      <td>26.41</td>\n      <td>25.16</td>\n      <td>57.29</td>\n      <td>66.01</td>\n      <td>...</td>\n      <td>18.88</td>\n      <td>23.97</td>\n      <td>109.96</td>\n      <td>12.23</td>\n      <td>38.95</td>\n      <td>34.17</td>\n      <td>97.16</td>\n      <td>22.56</td>\n      <td>36.34</td>\n      <td>NaN</td>\n    </tr>\n    <tr>\n      <th>2016-01-05</th>\n      <td>35.90</td>\n      <td>761.53</td>\n      <td>742.58</td>\n      <td>25.61</td>\n      <td>175.17</td>\n      <td>25.25</td>\n      <td>26.47</td>\n      <td>25.27</td>\n      <td>57.35</td>\n      <td>64.85</td>\n      <td>...</td>\n      <td>19.24</td>\n      <td>23.91</td>\n      <td>107.66</td>\n      <td>11.82</td>\n      <td>40.22</td>\n      <td>34.75</td>\n      <td>95.19</td>\n      <td>21.92</td>\n      <td>36.84</td>\n      <td>NaN</td>\n    </tr>\n    <tr>\n      <th>2016-01-06</th>\n      <td>35.56</td>\n      <td>759.33</td>\n      <td>743.62</td>\n      <td>25.57</td>\n      <td>174.31</td>\n      <td>25.05</td>\n      <td>26.28</td>\n      <td>25.10</td>\n      <td>56.06</td>\n      <td>63.60</td>\n      <td>...</td>\n      <td>18.92</td>\n      <td>23.77</td>\n      <td>117.68</td>\n      <td>11.76</td>\n      <td>40.05</td>\n      <td>34.01</td>\n      <td>94.68</td>\n      <td>21.39</td>\n      <td>36.51</td>\n      <td>NaN</td>\n    </tr>\n    <tr>\n      <th>2016-01-07</th>\n      <td>35.06</td>\n      <td>741.00</td>\n      <td>726.39</td>\n      <td>25.16</td>\n      <td>173.63</td>\n      <td>24.78</td>\n      <td>25.48</td>\n      <td>24.32</td>\n      <td>54.86</td>\n      <td>62.38</td>\n      <td>...</td>\n      <td>18.33</td>\n      <td>23.11</td>\n      <td>114.56</td>\n      <td>11.49</td>\n      <td>40.51</td>\n      <td>32.42</td>\n      <td>93.87</td>\n      <td>20.26</td>\n      <td>36.31</td>\n      <td>NaN</td>\n    </tr>\n    <tr>\n      <th>2016-01-08</th>\n      <td>34.52</td>\n      <td>730.91</td>\n      <td>714.47</td>\n      <td>25.18</td>\n      <td>174.89</td>\n      <td>24.80</td>\n      <td>26.01</td>\n      <td>25.00</td>\n      <td>53.81</td>\n      <td>63.05</td>\n      <td>...</td>\n      <td>18.24</td>\n      <td>22.81</td>\n      <td>111.39</td>\n      <td>11.64</td>\n      <td>39.88</td>\n      <td>32.34</td>\n      <td>93.64</td>\n      <td>19.98</td>\n      <td>35.95</td>\n      <td>NaN</td>\n    </tr>\n    <tr>\n      <th>...</th>\n      <td>...</td>\n      <td>...</td>\n      <td>...</td>\n      <td>...</td>\n      <td>...</td>\n      <td>...</td>\n      <td>...</td>\n      <td>...</td>\n      <td>...</td>\n      <td>...</td>\n      <td>...</td>\n      <td>...</td>\n      <td>...</td>\n      <td>...</td>\n      <td>...</td>\n      <td>...</td>\n      <td>...</td>\n      <td>...</td>\n      <td>...</td>\n      <td>...</td>\n      <td>...</td>\n    </tr>\n    <tr>\n      <th>2021-01-11</th>\n      <td>90.91</td>\n      <td>1756.29</td>\n      <td>1766.72</td>\n      <td>28.87</td>\n      <td>641.13</td>\n      <td>51.52</td>\n      <td>35.13</td>\n      <td>30.59</td>\n      <td>32.73</td>\n      <td>141.22</td>\n      <td>...</td>\n      <td>24.42</td>\n      <td>72.24</td>\n      <td>499.10</td>\n      <td>18.66</td>\n      <td>132.93</td>\n      <td>206.54</td>\n      <td>179.09</td>\n      <td>48.18</td>\n      <td>57.46</td>\n      <td>41.06</td>\n    </tr>\n    <tr>\n      <th>2021-01-12</th>\n      <td>89.25</td>\n      <td>1737.43</td>\n      <td>1746.55</td>\n      <td>28.75</td>\n      <td>621.49</td>\n      <td>50.01</td>\n      <td>35.30</td>\n      <td>30.57</td>\n      <td>33.04</td>\n      <td>139.06</td>\n      <td>...</td>\n      <td>24.55</td>\n      <td>73.37</td>\n      <td>494.25</td>\n      <td>18.40</td>\n      <td>128.69</td>\n      <td>199.15</td>\n      <td>175.99</td>\n      <td>47.04</td>\n      <td>57.26</td>\n      <td>41.78</td>\n    </tr>\n    <tr>\n      <th>2021-01-13</th>\n      <td>89.77</td>\n      <td>1747.25</td>\n      <td>1754.40</td>\n      <td>28.61</td>\n      <td>618.01</td>\n      <td>50.16</td>\n      <td>36.69</td>\n      <td>31.75</td>\n      <td>32.38</td>\n      <td>136.34</td>\n      <td>...</td>\n      <td>24.44</td>\n      <td>73.32</td>\n      <td>507.79</td>\n      <td>18.28</td>\n      <td>128.50</td>\n      <td>199.50</td>\n      <td>176.12</td>\n      <td>47.22</td>\n      <td>57.06</td>\n      <td>43.12</td>\n    </tr>\n    <tr>\n      <th>2021-01-14</th>\n      <td>89.99</td>\n      <td>1730.92</td>\n      <td>1740.18</td>\n      <td>29.29</td>\n      <td>623.09</td>\n      <td>49.58</td>\n      <td>37.25</td>\n      <td>32.51</td>\n      <td>33.53</td>\n      <td>138.94</td>\n      <td>...</td>\n      <td>24.93</td>\n      <td>73.33</td>\n      <td>500.86</td>\n      <td>18.69</td>\n      <td>124.69</td>\n      <td>195.47</td>\n      <td>173.43</td>\n      <td>45.79</td>\n      <td>57.04</td>\n      <td>46.00</td>\n    </tr>\n    <tr>\n      <th>2021-01-15</th>\n      <td>90.69</td>\n      <td>1727.62</td>\n      <td>1736.19</td>\n      <td>29.17</td>\n      <td>628.91</td>\n      <td>48.69</td>\n      <td>36.76</td>\n      <td>32.35</td>\n      <td>33.12</td>\n      <td>139.00</td>\n      <td>...</td>\n      <td>24.94</td>\n      <td>71.57</td>\n      <td>497.98</td>\n      <td>18.70</td>\n      <td>127.28</td>\n      <td>196.28</td>\n      <td>171.44</td>\n      <td>45.18</td>\n      <td>57.38</td>\n      <td>45.30</td>\n    </tr>\n  </tbody>\n</table>\n<p>1269 rows × 23 columns</p>\n</div>"
     },
     "metadata": {},
     "execution_count": 22
    }
   ],
   "source": [
    "comm_srvc_stocks = pd.read_csv('..//Resources/Communication_Services.csv')\n",
    "# Reset the date as the index\n",
    "comm_srvc_stocks = comm_srvc_stocks.set_index(pd.DatetimeIndex(comm_srvc_stocks['Date'].values))\n",
    "#Remove the Date column\n",
    "comm_srvc_stocks.drop(columns=['Date'], axis=1, inplace=True)\n",
    "comm_srvc_stocks"
   ]
  },
  {
   "cell_type": "code",
   "execution_count": 23,
   "metadata": {},
   "outputs": [],
   "source": [
    "# Get the assets /tickers\n",
    "assets_1 = comm_srvc_stocks.columns"
   ]
  },
  {
   "cell_type": "code",
   "execution_count": 24,
   "metadata": {},
   "outputs": [],
   "source": [
    "# Calculate the expected annualized returns and the annualized sample covariance matrix of the daily asset returns\n",
    "mu_1 = expected_returns.mean_historical_return(comm_srvc_stocks)\n",
    "S_1 = risk_models.sample_cov(comm_srvc_stocks)"
   ]
  },
  {
   "cell_type": "code",
   "execution_count": 25,
   "metadata": {},
   "outputs": [
    {
     "output_type": "stream",
     "name": "stdout",
     "text": "OrderedDict([('ATVI', 0.0), ('GOOGL', 0.0), ('GOOG', 0.0), ('T', 0.0), ('CHTR', 0.30288), ('CMCSA', 0.0), ('DISCA', 0.0), ('DISCK', 0.0), ('DISH', 0.0), ('EA', 0.0), ('FB', 0.0), ('FOXA', 0.0), ('FOX', 0.0), ('IPG', 0.0), ('LYV', 0.01896), ('NFLX', 0.10736), ('NWSA', 0.0), ('TMUS', 0.18807), ('TTWO', 0.38273), ('DIS', 0.0), ('TWTR', 0.0), ('VZ', 0.0), ('VIAC', 0.0)])\nExpected annual return: 33.8%\nAnnual volatility: 24.1%\nSharpe Ratio: 1.32\n"
    },
    {
     "output_type": "execute_result",
     "data": {
      "text/plain": "(0.33764762109272584, 0.24052084566338774, 1.3206656587981487)"
     },
     "metadata": {},
     "execution_count": 25
    }
   ],
   "source": [
    "# Optimize for the miximal Shrpe ratio \n",
    "ef_1 = EfficientFrontier(mu_1, S_1) # Creates the Efficient Frontier Object\n",
    "weights_1 = ef_1.max_sharpe()\n",
    "\n",
    "cleaned_weights_1 = ef_1.clean_weights()\n",
    "print(cleaned_weights_1)\n",
    "ef_1.portfolio_performance(verbose=True)"
   ]
  },
  {
   "cell_type": "code",
   "execution_count": 27,
   "metadata": {},
   "outputs": [
    {
     "output_type": "stream",
     "name": "stdout",
     "text": "Discrete allocation: {'CHTR': 2, 'LYV': 2, 'NFLX': 1, 'TMUS': 8, 'TTWO': 10}\nFunds Remaining: $ 120.02000000000044\n"
    }
   ],
   "source": [
    "# Get the descret allocation of each share per stock\n",
    "from pypfopt.discrete_allocation import DiscreteAllocation, get_latest_prices\n",
    "\n",
    "portfolio_val_1 = 5000\n",
    "latest_prices_1 = get_latest_prices(comm_srvc_stocks)\n",
    "weights_1 = cleaned_weights_1\n",
    "da_1 = DiscreteAllocation(weights_1, latest_prices_1, total_portfolio_value=portfolio_val_1)\n",
    "allocation, leftover = da_1.lp_portfolio()\n",
    "print(\"Discrete allocation:\", allocation)\n",
    "print(\"Funds Remaining: $\", leftover)"
   ]
  },
  {
   "cell_type": "code",
   "execution_count": null,
   "metadata": {},
   "outputs": [],
   "source": []
  }
 ],
 "metadata": {
  "kernelspec": {
   "display_name": "pyvizenv",
   "language": "python",
   "name": "pyvizenv"
  },
  "language_info": {
   "codemirror_mode": {
    "name": "ipython",
    "version": 3
   },
   "file_extension": ".py",
   "mimetype": "text/x-python",
   "name": "python",
   "nbconvert_exporter": "python",
   "pygments_lexer": "ipython3",
   "version": "3.8.2-final"
  }
 },
 "nbformat": 4,
 "nbformat_minor": 4
}