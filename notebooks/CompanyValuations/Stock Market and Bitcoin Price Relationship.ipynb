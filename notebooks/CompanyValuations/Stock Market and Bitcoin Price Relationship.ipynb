{
 "cells": [
  {
   "cell_type": "code",
   "execution_count": 1,
   "metadata": {},
   "outputs": [
    {
     "data": {
      "text/html": [
       "<div>\n",
       "<style scoped>\n",
       "    .dataframe tbody tr th:only-of-type {\n",
       "        vertical-align: middle;\n",
       "    }\n",
       "\n",
       "    .dataframe tbody tr th {\n",
       "        vertical-align: top;\n",
       "    }\n",
       "\n",
       "    .dataframe thead th {\n",
       "        text-align: right;\n",
       "    }\n",
       "</style>\n",
       "<table border=\"1\" class=\"dataframe\">\n",
       "  <thead>\n",
       "    <tr style=\"text-align: right;\">\n",
       "      <th></th>\n",
       "      <th>sp500</th>\n",
       "    </tr>\n",
       "    <tr>\n",
       "      <th>DATE</th>\n",
       "      <th></th>\n",
       "    </tr>\n",
       "  </thead>\n",
       "  <tbody>\n",
       "    <tr>\n",
       "      <th>2011-01-27</th>\n",
       "      <td>1299.54</td>\n",
       "    </tr>\n",
       "    <tr>\n",
       "      <th>2011-01-28</th>\n",
       "      <td>1276.34</td>\n",
       "    </tr>\n",
       "    <tr>\n",
       "      <th>2011-01-31</th>\n",
       "      <td>1286.12</td>\n",
       "    </tr>\n",
       "    <tr>\n",
       "      <th>2011-02-01</th>\n",
       "      <td>1307.59</td>\n",
       "    </tr>\n",
       "    <tr>\n",
       "      <th>2011-02-02</th>\n",
       "      <td>1304.03</td>\n",
       "    </tr>\n",
       "    <tr>\n",
       "      <th>...</th>\n",
       "      <td>...</td>\n",
       "    </tr>\n",
       "    <tr>\n",
       "      <th>2021-01-20</th>\n",
       "      <td>3851.85</td>\n",
       "    </tr>\n",
       "    <tr>\n",
       "      <th>2021-01-21</th>\n",
       "      <td>3853.07</td>\n",
       "    </tr>\n",
       "    <tr>\n",
       "      <th>2021-01-22</th>\n",
       "      <td>3841.47</td>\n",
       "    </tr>\n",
       "    <tr>\n",
       "      <th>2021-01-25</th>\n",
       "      <td>3855.36</td>\n",
       "    </tr>\n",
       "    <tr>\n",
       "      <th>2021-01-26</th>\n",
       "      <td>3849.62</td>\n",
       "    </tr>\n",
       "  </tbody>\n",
       "</table>\n",
       "<p>2609 rows × 1 columns</p>\n",
       "</div>"
      ],
      "text/plain": [
       "              sp500\n",
       "DATE               \n",
       "2011-01-27  1299.54\n",
       "2011-01-28  1276.34\n",
       "2011-01-31  1286.12\n",
       "2011-02-01  1307.59\n",
       "2011-02-02  1304.03\n",
       "...             ...\n",
       "2021-01-20  3851.85\n",
       "2021-01-21  3853.07\n",
       "2021-01-22  3841.47\n",
       "2021-01-25  3855.36\n",
       "2021-01-26  3849.62\n",
       "\n",
       "[2609 rows x 1 columns]"
      ]
     },
     "execution_count": 1,
     "metadata": {},
     "output_type": "execute_result"
    }
   ],
   "source": [
    "import pandas_datareader.data as web\n",
    "import datetime\n",
    "\n",
    "\n",
    "start = datetime.datetime(2010, 1, 12)\n",
    "end = datetime.datetime(2021, 1, 27)\n",
    "\n",
    "SP500 = web.DataReader(['sp500'], 'fred', start, end)\n",
    "SP500\n"
   ]
  },
  {
   "cell_type": "code",
   "execution_count": 2,
   "metadata": {},
   "outputs": [],
   "source": [
    "import requests\n",
    "\n",
    "#BTCUSD contains a dictionary\n",
    "demo = 'bc9e7aacc595f1ec44ac3d9a653b66a8'\n",
    "BTCUSD = requests.get(f'https://financialmodelingprep.com/api/v3/historical-price-full/crypto/BTCUSD?apikey={demo}')\n",
    "\n",
    "BTCUSD = BTCUSD.json()\n",
    "BTCUSD = BTCUSD['historical']"
   ]
  },
  {
   "cell_type": "code",
   "execution_count": 3,
   "metadata": {},
   "outputs": [],
   "source": [
    "#BTCUSD"
   ]
  },
  {
   "cell_type": "code",
   "execution_count": 4,
   "metadata": {},
   "outputs": [
    {
     "data": {
      "text/html": [
       "<div>\n",
       "<style scoped>\n",
       "    .dataframe tbody tr th:only-of-type {\n",
       "        vertical-align: middle;\n",
       "    }\n",
       "\n",
       "    .dataframe tbody tr th {\n",
       "        vertical-align: top;\n",
       "    }\n",
       "\n",
       "    .dataframe thead th {\n",
       "        text-align: right;\n",
       "    }\n",
       "</style>\n",
       "<table border=\"1\" class=\"dataframe\">\n",
       "  <thead>\n",
       "    <tr style=\"text-align: right;\">\n",
       "      <th></th>\n",
       "      <th>BTC</th>\n",
       "    </tr>\n",
       "    <tr>\n",
       "      <th>date</th>\n",
       "      <th></th>\n",
       "    </tr>\n",
       "  </thead>\n",
       "  <tbody>\n",
       "    <tr>\n",
       "      <th>2021-01-27</th>\n",
       "      <td>31924.662109</td>\n",
       "    </tr>\n",
       "    <tr>\n",
       "      <th>2021-01-26</th>\n",
       "      <td>32063.058594</td>\n",
       "    </tr>\n",
       "    <tr>\n",
       "      <th>2021-01-25</th>\n",
       "      <td>33424.339844</td>\n",
       "    </tr>\n",
       "    <tr>\n",
       "      <th>2021-01-24</th>\n",
       "      <td>32859.300781</td>\n",
       "    </tr>\n",
       "    <tr>\n",
       "      <th>2021-01-23</th>\n",
       "      <td>32606.126953</td>\n",
       "    </tr>\n",
       "    <tr>\n",
       "      <th>...</th>\n",
       "      <td>...</td>\n",
       "    </tr>\n",
       "    <tr>\n",
       "      <th>2016-01-31</th>\n",
       "      <td>368.766998</td>\n",
       "    </tr>\n",
       "    <tr>\n",
       "      <th>2016-01-30</th>\n",
       "      <td>378.255005</td>\n",
       "    </tr>\n",
       "    <tr>\n",
       "      <th>2016-01-29</th>\n",
       "      <td>379.473999</td>\n",
       "    </tr>\n",
       "    <tr>\n",
       "      <th>2016-01-28</th>\n",
       "      <td>380.289001</td>\n",
       "    </tr>\n",
       "    <tr>\n",
       "      <th>2016-01-27</th>\n",
       "      <td>394.971985</td>\n",
       "    </tr>\n",
       "  </tbody>\n",
       "</table>\n",
       "<p>1828 rows × 1 columns</p>\n",
       "</div>"
      ],
      "text/plain": [
       "                     BTC\n",
       "date                    \n",
       "2021-01-27  31924.662109\n",
       "2021-01-26  32063.058594\n",
       "2021-01-25  33424.339844\n",
       "2021-01-24  32859.300781\n",
       "2021-01-23  32606.126953\n",
       "...                  ...\n",
       "2016-01-31    368.766998\n",
       "2016-01-30    378.255005\n",
       "2016-01-29    379.473999\n",
       "2016-01-28    380.289001\n",
       "2016-01-27    394.971985\n",
       "\n",
       "[1828 rows x 1 columns]"
      ]
     },
     "execution_count": 4,
     "metadata": {},
     "output_type": "execute_result"
    }
   ],
   "source": [
    "import pandas as pd\n",
    "\n",
    "BTC = pd.DataFrame.from_dict(BTCUSD)\n",
    "BTC.set_index('date',inplace=True)\n",
    "#Keep only the close column\n",
    "BTC = BTC[['close']]\n",
    "#Rename the column name to BTC\n",
    "BTC.columns = ['BTC']\n",
    "BTC"
   ]
  },
  {
   "cell_type": "code",
   "execution_count": 5,
   "metadata": {},
   "outputs": [
    {
     "data": {
      "text/html": [
       "<div>\n",
       "<style scoped>\n",
       "    .dataframe tbody tr th:only-of-type {\n",
       "        vertical-align: middle;\n",
       "    }\n",
       "\n",
       "    .dataframe tbody tr th {\n",
       "        vertical-align: top;\n",
       "    }\n",
       "\n",
       "    .dataframe thead th {\n",
       "        text-align: right;\n",
       "    }\n",
       "</style>\n",
       "<table border=\"1\" class=\"dataframe\">\n",
       "  <thead>\n",
       "    <tr style=\"text-align: right;\">\n",
       "      <th></th>\n",
       "      <th>BTC</th>\n",
       "      <th>sp500</th>\n",
       "    </tr>\n",
       "  </thead>\n",
       "  <tbody>\n",
       "    <tr>\n",
       "      <th>2021-01-26</th>\n",
       "      <td>32063.058594</td>\n",
       "      <td>3849.62</td>\n",
       "    </tr>\n",
       "    <tr>\n",
       "      <th>2021-01-25</th>\n",
       "      <td>33424.339844</td>\n",
       "      <td>3855.36</td>\n",
       "    </tr>\n",
       "    <tr>\n",
       "      <th>2021-01-22</th>\n",
       "      <td>30926.146484</td>\n",
       "      <td>3841.47</td>\n",
       "    </tr>\n",
       "    <tr>\n",
       "      <th>2021-01-21</th>\n",
       "      <td>34299.191406</td>\n",
       "      <td>3853.07</td>\n",
       "    </tr>\n",
       "    <tr>\n",
       "      <th>2021-01-20</th>\n",
       "      <td>35294.812500</td>\n",
       "      <td>3851.85</td>\n",
       "    </tr>\n",
       "    <tr>\n",
       "      <th>...</th>\n",
       "      <td>...</td>\n",
       "      <td>...</td>\n",
       "    </tr>\n",
       "    <tr>\n",
       "      <th>2016-02-02</th>\n",
       "      <td>374.447998</td>\n",
       "      <td>1903.03</td>\n",
       "    </tr>\n",
       "    <tr>\n",
       "      <th>2016-02-01</th>\n",
       "      <td>373.056000</td>\n",
       "      <td>1939.38</td>\n",
       "    </tr>\n",
       "    <tr>\n",
       "      <th>2016-01-29</th>\n",
       "      <td>379.473999</td>\n",
       "      <td>1940.24</td>\n",
       "    </tr>\n",
       "    <tr>\n",
       "      <th>2016-01-28</th>\n",
       "      <td>380.289001</td>\n",
       "      <td>1893.36</td>\n",
       "    </tr>\n",
       "    <tr>\n",
       "      <th>2016-01-27</th>\n",
       "      <td>394.971985</td>\n",
       "      <td>1882.95</td>\n",
       "    </tr>\n",
       "  </tbody>\n",
       "</table>\n",
       "<p>1305 rows × 2 columns</p>\n",
       "</div>"
      ],
      "text/plain": [
       "                     BTC    sp500\n",
       "2021-01-26  32063.058594  3849.62\n",
       "2021-01-25  33424.339844  3855.36\n",
       "2021-01-22  30926.146484  3841.47\n",
       "2021-01-21  34299.191406  3853.07\n",
       "2021-01-20  35294.812500  3851.85\n",
       "...                  ...      ...\n",
       "2016-02-02    374.447998  1903.03\n",
       "2016-02-01    373.056000  1939.38\n",
       "2016-01-29    379.473999  1940.24\n",
       "2016-01-28    380.289001  1893.36\n",
       "2016-01-27    394.971985  1882.95\n",
       "\n",
       "[1305 rows x 2 columns]"
      ]
     },
     "execution_count": 5,
     "metadata": {},
     "output_type": "execute_result"
    }
   ],
   "source": [
    "dates_str_list = BTC.index\n",
    "dates_list = [pd.Timestamp(date_str) for date_str in dates_str_list]\n",
    "\n",
    "# BTC.join(SP500, how=\"inner\")\n",
    "# SP500[\"2016-01\":\"2016-02\"]\n",
    "df = pd.concat([BTC, SP500], axis=\"columns\", join=\"inner\")\n",
    "df\n"
   ]
  },
  {
   "cell_type": "code",
   "execution_count": 6,
   "metadata": {},
   "outputs": [
    {
     "name": "stdout",
     "output_type": "stream",
     "text": [
      "                     BTC    sp500\n",
      "2021-01-26  32063.058594  3849.62\n",
      "2021-01-25  33424.339844  3855.36\n",
      "2021-01-22  30926.146484  3841.47\n",
      "2021-01-21  34299.191406  3853.07\n",
      "2021-01-20  35294.812500  3851.85\n",
      "...                  ...      ...\n",
      "2016-02-02    374.447998  1903.03\n",
      "2016-02-01    373.056000  1939.38\n",
      "2016-01-29    379.473999  1940.24\n",
      "2016-01-28    380.289001  1893.36\n",
      "2016-01-27    394.971985  1882.95\n",
      "\n",
      "[1259 rows x 2 columns]\n"
     ]
    }
   ],
   "source": [
    "SP500BTC = BTC.merge(SP500, how='inner',right_index = True, left_index=True)\n",
    "\n",
    "#Drop NA since we have nan values for weekends. S&P500 only trades business days\n",
    "SP500BTC.dropna(inplace=True)\n",
    "\n",
    "print(SP500BTC)"
   ]
  },
  {
   "cell_type": "code",
   "execution_count": 7,
   "metadata": {},
   "outputs": [
    {
     "name": "stdout",
     "output_type": "stream",
     "text": [
      "            BTC     sp500\n",
      "BTC    1.000000  0.829514\n",
      "sp500  0.829514  1.000000\n"
     ]
    }
   ],
   "source": [
    "correlation = SP500BTC.corr()\n",
    "print(correlation)"
   ]
  },
  {
   "cell_type": "markdown",
   "metadata": {},
   "source": [
    "By looking into our results, we see that we have a strong and positive correlation of 0.82 between the price of Bitcoin and S&P 500"
   ]
  },
  {
   "cell_type": "code",
   "execution_count": 8,
   "metadata": {},
   "outputs": [
    {
     "data": {
      "image/png": "[encoded data removed]",
      "text/plain": [
       "<Figure size 432x288 with 2 Axes>"
      ]
     },
     "metadata": {
      "needs_background": "light"
     },
     "output_type": "display_data"
    }
   ],
   "source": [
    "import statsmodels.api as sm\n",
    "import matplotlib.pyplot as plt\n",
    "\n",
    "sm.graphics.plot_corr(correlation,xnames=list(correlation.columns))\n",
    "plt.show()"
   ]
  },
  {
   "cell_type": "markdown",
   "metadata": {},
   "source": [
    "Correlation Matrix Bitcoin and S&P 500\n",
    "\n",
    "The red colour of the graph means that the relationship is strong and positive"
   ]
  },
  {
   "cell_type": "code",
   "execution_count": null,
   "metadata": {},
   "outputs": [],
   "source": []
  },
  {
   "cell_type": "code",
   "execution_count": null,
   "metadata": {},
   "outputs": [],
   "source": []
  }
 ],
 "metadata": {
  "kernelspec": {
   "display_name": "pyvizenv",
   "language": "python",
   "name": "pyvizenv"
  },
  "language_info": {
   "codemirror_mode": {
    "name": "ipython",
    "version": 3
   },
   "file_extension": ".py",
   "mimetype": "text/x-python",
   "name": "python",
   "nbconvert_exporter": "python",
   "pygments_lexer": "ipython3",
   "version": "3.8.5"
  }
 },
 "nbformat": 4,
 "nbformat_minor": 4
}
